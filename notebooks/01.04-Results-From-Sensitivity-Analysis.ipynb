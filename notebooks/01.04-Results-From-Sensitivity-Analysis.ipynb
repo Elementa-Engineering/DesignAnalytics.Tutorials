{
 "cells": [
  {
   "cell_type": "markdown",
   "id": "1fdb4670",
   "metadata": {},
   "source": [
    "<!--NAVIGATION-->\n",
    "< [Results From Parametric Analysis](01.03-Results-From-Parametric-Analysis.ipynb) | [Contents](Index.ipynb) | [Introduction to EnergyPlus Models Scripting](02.00-Introduction-to-EnergyPlus-Models-Scripting.ipynb) >"
   ]
  },
  {
   "cell_type": "markdown",
   "id": "be6be1d0",
   "metadata": {},
   "source": [
    "# Results From Sensitivity Analysis"
   ]
  },
  {
   "cell_type": "code",
   "execution_count": 1,
   "id": "a30d16ad",
   "metadata": {
    "ExecuteTime": {
     "end_time": "2024-02-02T16:21:25.554040Z",
     "start_time": "2024-02-02T16:21:24.184394Z"
    }
   },
   "outputs": [
    {
     "data": {
      "text/plain": "User(username='s.letellierduchesne', email='sam@cabonsignal.com', full_name='Samuel Letellier-Duchesne', disabled=None, valid_until=datetime.datetime(2025, 1, 29, 15, 28, 26))"
     },
     "execution_count": 1,
     "metadata": {},
     "output_type": "execute_result"
    }
   ],
   "source": [
    "import os\n",
    "from surrogate_schema import APIClient\n",
    "\n",
    "%load_ext dotenv\n",
    "%dotenv\n",
    "\n",
    "# typical block to authenticate to the API\n",
    "client = APIClient(api_url=\"http://localhost:8080\")\n",
    "client.whoami()  # shows that you are properly authenticated"
   ]
  },
  {
   "cell_type": "code",
   "execution_count": 2,
   "id": "0c7f1c60",
   "metadata": {
    "ExecuteTime": {
     "end_time": "2024-02-02T16:21:25.556852Z",
     "start_time": "2024-02-02T16:21:25.553955Z"
    }
   },
   "outputs": [],
   "source": [
    "from surrogate_schema import BuildingAnalysis"
   ]
  },
  {
   "cell_type": "code",
   "execution_count": 3,
   "id": "def50391",
   "metadata": {
    "ExecuteTime": {
     "end_time": "2024-02-02T16:21:25.715598Z",
     "start_time": "2024-02-02T16:21:25.556517Z"
    }
   },
   "outputs": [],
   "source": [
    "analysis = BuildingAnalysis.parse_file(\"data/analysis.json\")"
   ]
  },
  {
   "cell_type": "code",
   "execution_count": 4,
   "id": "86d0256e",
   "metadata": {
    "ExecuteTime": {
     "end_time": "2024-02-02T16:21:26.647959Z",
     "start_time": "2024-02-02T16:21:25.717017Z"
    }
   },
   "outputs": [
    {
     "data": {
      "text/plain": "    Variable  WINU  WWR Recommended Baseline  EUI_kBtu_per_sqft  \\\nRUN                                                               \n2       WINU  0.14  0.5          no       no         500.516211   \n7       WINU  0.30  0.5          no       no         500.516211   \n12      WINU  0.40  0.5          no      yes         500.516211   \n17      WINU  0.50  0.5          no       no         500.516211   \n22      WINU  0.80  0.5          no       no         500.516211   \n10       WWR  0.40  0.1          no       no         507.116450   \n11       WWR  0.40  0.3          no       no         502.072281   \n12       WWR  0.40  0.5          no      yes         500.516211   \n13       WWR  0.40  0.7          no       no         501.403510   \n14       WWR  0.40  0.9          no       no         503.893284   \n\n     TEDI_kBtu_per_sqft  CEDI_kBtu_per_sqft  EDI_kBtu_per_sqft  \\\nRUN                                                              \n2             54.386635          251.606950         305.993585   \n7             54.386635          251.606950         305.993585   \n12            54.386635          251.606950         305.993585   \n17            54.386635          251.606950         305.993585   \n22            54.386635          251.606950         305.993585   \n10            51.454628          251.859594         303.314222   \n11            52.925274          250.851297         303.776571   \n12            54.386635          251.606950         305.993585   \n13            55.980618          253.585861         309.566479   \n14            57.651239          256.338263         313.989502   \n\n     sensible_peak_cooling_W_per_sqft  sensible_peak_heating_W_per_sqft  \\\nRUN                                                                       \n2                            8.827118                          0.500928   \n7                            8.827118                          0.500928   \n12                           8.827118                          0.500928   \n17                           8.827118                          0.500928   \n22                           8.827118                          0.500928   \n10                           7.683743                          0.125843   \n11                           8.253850                          0.315003   \n12                           8.827118                          0.500928   \n13                           9.383575                          0.644472   \n14                           9.920742                          0.776184   \n\n    time_of_peak_cooling time_of_peak_heating  peak_heating_W_per_sqft  \\\nRUN                                                                      \n2           02-OCT-13:50         02-DEC-06:00                 5.778187   \n7           02-OCT-13:50         02-DEC-06:00                 5.778187   \n12          02-OCT-13:50         02-DEC-06:00                 5.778187   \n17          02-OCT-13:50         02-DEC-06:00                 5.778187   \n22          02-OCT-13:50         02-DEC-06:00                 5.778187   \n10          02-OCT-13:40         02-DEC-06:00                 4.974553   \n11          02-OCT-13:40         02-DEC-06:00                 5.374192   \n12          02-OCT-13:50         02-DEC-06:00                 5.778187   \n13          02-OCT-13:50         02-DEC-06:00                 6.051573   \n14          02-OCT-14:00         02-DEC-06:00                 6.273102   \n\n     peak_cooling_W_per_sqft  \nRUN                           \n2                  12.520751  \n7                  12.520751  \n12                 12.520751  \n17                 12.520751  \n22                 12.520751  \n10                 11.668987  \n11                 12.149128  \n12                 12.520751  \n13                 13.365056  \n14                 14.161457  ",
      "text/html": "<div>\n<style scoped>\n    .dataframe tbody tr th:only-of-type {\n        vertical-align: middle;\n    }\n\n    .dataframe tbody tr th {\n        vertical-align: top;\n    }\n\n    .dataframe thead th {\n        text-align: right;\n    }\n</style>\n<table border=\"1\" class=\"dataframe\">\n  <thead>\n    <tr style=\"text-align: right;\">\n      <th></th>\n      <th>Variable</th>\n      <th>WINU</th>\n      <th>WWR</th>\n      <th>Recommended</th>\n      <th>Baseline</th>\n      <th>EUI_kBtu_per_sqft</th>\n      <th>TEDI_kBtu_per_sqft</th>\n      <th>CEDI_kBtu_per_sqft</th>\n      <th>EDI_kBtu_per_sqft</th>\n      <th>sensible_peak_cooling_W_per_sqft</th>\n      <th>sensible_peak_heating_W_per_sqft</th>\n      <th>time_of_peak_cooling</th>\n      <th>time_of_peak_heating</th>\n      <th>peak_heating_W_per_sqft</th>\n      <th>peak_cooling_W_per_sqft</th>\n    </tr>\n    <tr>\n      <th>RUN</th>\n      <th></th>\n      <th></th>\n      <th></th>\n      <th></th>\n      <th></th>\n      <th></th>\n      <th></th>\n      <th></th>\n      <th></th>\n      <th></th>\n      <th></th>\n      <th></th>\n      <th></th>\n      <th></th>\n      <th></th>\n    </tr>\n  </thead>\n  <tbody>\n    <tr>\n      <th>2</th>\n      <td>WINU</td>\n      <td>0.14</td>\n      <td>0.5</td>\n      <td>no</td>\n      <td>no</td>\n      <td>500.516211</td>\n      <td>54.386635</td>\n      <td>251.606950</td>\n      <td>305.993585</td>\n      <td>8.827118</td>\n      <td>0.500928</td>\n      <td>02-OCT-13:50</td>\n      <td>02-DEC-06:00</td>\n      <td>5.778187</td>\n      <td>12.520751</td>\n    </tr>\n    <tr>\n      <th>7</th>\n      <td>WINU</td>\n      <td>0.30</td>\n      <td>0.5</td>\n      <td>no</td>\n      <td>no</td>\n      <td>500.516211</td>\n      <td>54.386635</td>\n      <td>251.606950</td>\n      <td>305.993585</td>\n      <td>8.827118</td>\n      <td>0.500928</td>\n      <td>02-OCT-13:50</td>\n      <td>02-DEC-06:00</td>\n      <td>5.778187</td>\n      <td>12.520751</td>\n    </tr>\n    <tr>\n      <th>12</th>\n      <td>WINU</td>\n      <td>0.40</td>\n      <td>0.5</td>\n      <td>no</td>\n      <td>yes</td>\n      <td>500.516211</td>\n      <td>54.386635</td>\n      <td>251.606950</td>\n      <td>305.993585</td>\n      <td>8.827118</td>\n      <td>0.500928</td>\n      <td>02-OCT-13:50</td>\n      <td>02-DEC-06:00</td>\n      <td>5.778187</td>\n      <td>12.520751</td>\n    </tr>\n    <tr>\n      <th>17</th>\n      <td>WINU</td>\n      <td>0.50</td>\n      <td>0.5</td>\n      <td>no</td>\n      <td>no</td>\n      <td>500.516211</td>\n      <td>54.386635</td>\n      <td>251.606950</td>\n      <td>305.993585</td>\n      <td>8.827118</td>\n      <td>0.500928</td>\n      <td>02-OCT-13:50</td>\n      <td>02-DEC-06:00</td>\n      <td>5.778187</td>\n      <td>12.520751</td>\n    </tr>\n    <tr>\n      <th>22</th>\n      <td>WINU</td>\n      <td>0.80</td>\n      <td>0.5</td>\n      <td>no</td>\n      <td>no</td>\n      <td>500.516211</td>\n      <td>54.386635</td>\n      <td>251.606950</td>\n      <td>305.993585</td>\n      <td>8.827118</td>\n      <td>0.500928</td>\n      <td>02-OCT-13:50</td>\n      <td>02-DEC-06:00</td>\n      <td>5.778187</td>\n      <td>12.520751</td>\n    </tr>\n    <tr>\n      <th>10</th>\n      <td>WWR</td>\n      <td>0.40</td>\n      <td>0.1</td>\n      <td>no</td>\n      <td>no</td>\n      <td>507.116450</td>\n      <td>51.454628</td>\n      <td>251.859594</td>\n      <td>303.314222</td>\n      <td>7.683743</td>\n      <td>0.125843</td>\n      <td>02-OCT-13:40</td>\n      <td>02-DEC-06:00</td>\n      <td>4.974553</td>\n      <td>11.668987</td>\n    </tr>\n    <tr>\n      <th>11</th>\n      <td>WWR</td>\n      <td>0.40</td>\n      <td>0.3</td>\n      <td>no</td>\n      <td>no</td>\n      <td>502.072281</td>\n      <td>52.925274</td>\n      <td>250.851297</td>\n      <td>303.776571</td>\n      <td>8.253850</td>\n      <td>0.315003</td>\n      <td>02-OCT-13:40</td>\n      <td>02-DEC-06:00</td>\n      <td>5.374192</td>\n      <td>12.149128</td>\n    </tr>\n    <tr>\n      <th>12</th>\n      <td>WWR</td>\n      <td>0.40</td>\n      <td>0.5</td>\n      <td>no</td>\n      <td>yes</td>\n      <td>500.516211</td>\n      <td>54.386635</td>\n      <td>251.606950</td>\n      <td>305.993585</td>\n      <td>8.827118</td>\n      <td>0.500928</td>\n      <td>02-OCT-13:50</td>\n      <td>02-DEC-06:00</td>\n      <td>5.778187</td>\n      <td>12.520751</td>\n    </tr>\n    <tr>\n      <th>13</th>\n      <td>WWR</td>\n      <td>0.40</td>\n      <td>0.7</td>\n      <td>no</td>\n      <td>no</td>\n      <td>501.403510</td>\n      <td>55.980618</td>\n      <td>253.585861</td>\n      <td>309.566479</td>\n      <td>9.383575</td>\n      <td>0.644472</td>\n      <td>02-OCT-13:50</td>\n      <td>02-DEC-06:00</td>\n      <td>6.051573</td>\n      <td>13.365056</td>\n    </tr>\n    <tr>\n      <th>14</th>\n      <td>WWR</td>\n      <td>0.40</td>\n      <td>0.9</td>\n      <td>no</td>\n      <td>no</td>\n      <td>503.893284</td>\n      <td>57.651239</td>\n      <td>256.338263</td>\n      <td>313.989502</td>\n      <td>9.920742</td>\n      <td>0.776184</td>\n      <td>02-OCT-14:00</td>\n      <td>02-DEC-06:00</td>\n      <td>6.273102</td>\n      <td>14.161457</td>\n    </tr>\n  </tbody>\n</table>\n</div>"
     },
     "execution_count": 4,
     "metadata": {},
     "output_type": "execute_result"
    }
   ],
   "source": [
    "df = analysis.get_sensitivity_results().to_df()\n",
    "df"
   ]
  },
  {
   "cell_type": "code",
   "execution_count": 5,
   "id": "0e0d5ddc",
   "metadata": {
    "ExecuteTime": {
     "end_time": "2024-02-02T16:21:26.652230Z",
     "start_time": "2024-02-02T16:21:26.650737Z"
    }
   },
   "outputs": [],
   "source": [
    "METRICS = [\n",
    "    \"EUI_kBtu_per_sqft\",\n",
    "    \"TEDI_kBtu_per_sqft\",\n",
    "    \"CEDI_kBtu_per_sqft\",\n",
    "    \"EDI_kBtu_per_sqft\",\n",
    "]\n",
    "\n",
    "nb_vars = df.Variable.unique().size\n",
    "\n",
    "\n",
    "def plot_func(metric):\n",
    "    import matplotlib.pyplot as plt\n",
    "\n",
    "    fig, axes = plt.subplots(\n",
    "        nrows=nb_vars // 3 or 1, ncols=min(nb_vars, 3), sharey=True\n",
    "    )\n",
    "    axes = axes.ravel()\n",
    "    ylim = (df[metric].values.min(), df[metric].values.max())\n",
    "    for i, (var, data) in enumerate(df.groupby(\"Variable\")):\n",
    "        data.drop_duplicates(inplace=True)\n",
    "        if var == \"WINU\":\n",
    "            data[var] = 1 / data[var]\n",
    "        # plot the lineplot first\n",
    "        ax = data.plot(\n",
    "            x=var,  # plot var a x axis\n",
    "            y=metric,  # plot metric a y axis\n",
    "            color=\"#1f77b4\",\n",
    "            label=var,\n",
    "            ax=axes[i],\n",
    "        )\n",
    "        # List of colors c for markers\n",
    "        c = (\n",
    "            data[[var, \"Baseline\"]]\n",
    "            .set_index(\"Baseline\")\n",
    "            .apply(lambda x: \"#b4d6e8\" if x.name == \"no\" else \"#1f77b4\", axis=1)\n",
    "            .tolist()\n",
    "        )\n",
    "        # Plot markers with scatter plot, second\n",
    "        data.plot.scatter(\n",
    "            x=var,\n",
    "            y=metric,\n",
    "            c=c,\n",
    "            marker=\"o\",\n",
    "            s=50,\n",
    "            edgecolors=\"#1f77b4\",\n",
    "            ax=axes[i],\n",
    "        )\n",
    "        # Plot the horizontal line of the baseline\n",
    "        for h in data.loc[data[\"Baseline\"] == \"yes\", metric]:\n",
    "            ax.axhline(h, c=\"#eaeaea\", zorder=-1)\n",
    "        ax.set_ylabel(metric)  # set ylabel"
   ]
  },
  {
   "cell_type": "code",
   "execution_count": 6,
   "id": "757c3f6f",
   "metadata": {
    "scrolled": false,
    "ExecuteTime": {
     "end_time": "2024-02-02T16:21:26.885225Z",
     "start_time": "2024-02-02T16:21:26.653344Z"
    }
   },
   "outputs": [
    {
     "data": {
      "text/plain": "interactive(children=(Dropdown(description='metric', options=('EUI_kBtu_per_sqft', 'TEDI_kBtu_per_sqft', 'CEDI…",
      "application/vnd.jupyter.widget-view+json": {
       "version_major": 2,
       "version_minor": 0,
       "model_id": "2ee489f75a914a5898c145407b164d67"
      }
     },
     "metadata": {},
     "output_type": "display_data"
    },
    {
     "data": {
      "text/plain": "<function __main__.plot_func(metric)>"
     },
     "execution_count": 6,
     "metadata": {},
     "output_type": "execute_result"
    }
   ],
   "source": [
    "%matplotlib inline\n",
    "\n",
    "from ipywidgets import interact\n",
    "import ipywidgets as widgets\n",
    "\n",
    "interact(\n",
    "    plot_func,\n",
    "    metric=widgets.Dropdown(\n",
    "        options=METRICS,\n",
    "        index=0,\n",
    "    ),\n",
    ")"
   ]
  },
  {
   "cell_type": "markdown",
   "id": "caad24e6",
   "metadata": {},
   "source": [
    "<!--NAVIGATION-->\n",
    "< [Results From Parametric Analysis](01.03-Results-From-Parametric-Analysis.ipynb) | [Contents](Index.ipynb) | [Introduction to EnergyPlus Models Scripting](02.00-Introduction-to-EnergyPlus-Models-Scripting.ipynb) >"
   ]
  }
 ],
 "metadata": {
  "kernelspec": {
   "display_name": "Python 3 (ipykernel)",
   "language": "python",
   "name": "python3"
  },
  "language_info": {
   "codemirror_mode": {
    "name": "ipython",
    "version": 3
   },
   "file_extension": ".py",
   "mimetype": "text/x-python",
   "name": "python",
   "nbconvert_exporter": "python",
   "pygments_lexer": "ipython3",
   "version": "3.9.7"
  },
  "toc": {
   "base_numbering": 1,
   "nav_menu": {},
   "number_sections": true,
   "sideBar": true,
   "skip_h1_title": true,
   "title_cell": "Table of Contents",
   "title_sidebar": "Contents",
   "toc_cell": false,
   "toc_position": {},
   "toc_section_display": true,
   "toc_window_display": false
  }
 },
 "nbformat": 4,
 "nbformat_minor": 5
}
