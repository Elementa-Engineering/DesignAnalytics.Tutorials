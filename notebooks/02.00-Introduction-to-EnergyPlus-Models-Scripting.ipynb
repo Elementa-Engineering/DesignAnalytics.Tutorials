{
 "cells": [
  {
   "cell_type": "markdown",
   "id": "63a31013",
   "metadata": {},
   "source": [
    "<!--NAVIGATION-->\n",
    "< [Actual Meterological Data](01.05-Weather Data.ipynb) | [Contents](Index.ipynb) | [EnergyPlus Scripting Using Archetypal](02.01-EnergyPlus-Scripting-Using-Archetypal.ipynb) >"
   ]
  },
  {
   "cell_type": "markdown",
   "id": "b253766e",
   "metadata": {},
   "source": [
    "# Introduction to EnergyPlus Models Scripting"
   ]
  },
  {
   "cell_type": "markdown",
   "id": "4614ff6e",
   "metadata": {},
   "source": [
    "This chapter outlines thechniques for effectively parse, edit, simulate and retreive results of EnergyPlus models"
   ]
  },
  {
   "cell_type": "code",
   "execution_count": null,
   "id": "f65c35ea",
   "metadata": {
    "ExecuteTime": {
     "end_time": "2024-02-02T16:21:33.725630Z",
     "start_time": "2024-02-02T16:21:33.710967Z"
    }
   },
   "outputs": [],
   "source": []
  },
  {
   "cell_type": "markdown",
   "id": "432801b0",
   "metadata": {},
   "source": [
    "<!--NAVIGATION-->\n",
    "< [Actual Meterological Data](01.05-Weather Data.ipynb) | [Contents](Index.ipynb) | [EnergyPlus Scripting Using Archetypal](02.01-EnergyPlus-Scripting-Using-Archetypal.ipynb) >"
   ]
  }
 ],
 "metadata": {
  "kernelspec": {
   "display_name": "Python 3 (ipykernel)",
   "language": "python",
   "name": "python3"
  },
  "language_info": {
   "codemirror_mode": {
    "name": "ipython",
    "version": 3
   },
   "file_extension": ".py",
   "mimetype": "text/x-python",
   "name": "python",
   "nbconvert_exporter": "python",
   "pygments_lexer": "ipython3",
   "version": "3.9.6"
  },
  "toc": {
   "base_numbering": 1,
   "nav_menu": {},
   "number_sections": true,
   "sideBar": true,
   "skip_h1_title": true,
   "title_cell": "Table of Contents",
   "title_sidebar": "Contents",
   "toc_cell": false,
   "toc_position": {},
   "toc_section_display": true,
   "toc_window_display": true
  }
 },
 "nbformat": 4,
 "nbformat_minor": 5
}
