{
 "cells": [
  {
   "cell_type": "markdown",
   "id": "4908f572",
   "metadata": {},
   "source": [
    "<!--NAVIGATION-->\n",
    "< [Making a Sensitivity Analysis](01.05-Sensitivity-Analysis.ipynb) | [Contents](Index.ipynb) | [Introduction to EnergyPlus Models Scripting](02.00-Introduction-to-EnergyPlus-Models-Scripting.ipynb) >"
   ]
  },
  {
   "cell_type": "markdown",
   "id": "ba0bd7d3ff50fd22",
   "metadata": {},
   "source": [
    "# Actual Meterological Data\n",
    "\n",
    "This chapter discusses how to obtain actual meteorological data for a location. The data is used to calculate the solar radiation on a tilted surface, which is required for the calculation of the solar energy potential of a location.\n",
    "\n",
    "First, we need to install the `diyepw` package, which is a Python package that provides access to the `AMY` database. The `AMY` database contains actual meteorological data for many locations around the world. The `diyepw` package allows us to download the data for a specific location and time period.\n"
   ]
  },
  {
   "cell_type": "code",
   "execution_count": 1,
   "id": "a9df079a05b6ef87",
   "metadata": {
    "execution": {
     "iopub.execute_input": "2025-07-15T19:12:22.285644Z",
     "iopub.status.busy": "2025-07-15T19:12:22.285085Z",
     "iopub.status.idle": "2025-07-15T19:12:26.536479Z",
     "shell.execute_reply": "2025-07-15T19:12:26.535993Z"
    }
   },
   "outputs": [
    {
     "name": "stdout",
     "output_type": "stream",
     "text": [
      "Requirement already satisfied: diyepw in /Users/samueld/PycharmProjects/surrogate-api/.venv/lib/python3.9/site-packages (1.3.1)\r\n"
     ]
    },
    {
     "name": "stdout",
     "output_type": "stream",
     "text": [
      "Requirement already satisfied: click<9.0.0,>=8.0.1 in /Users/samueld/PycharmProjects/surrogate-api/.venv/lib/python3.9/site-packages (from diyepw) (8.1.7)\r\n",
      "Requirement already satisfied: numpy<3.0.0,>=2.0.0 in /Users/samueld/PycharmProjects/surrogate-api/.venv/lib/python3.9/site-packages (from diyepw) (2.0.2)\r\n",
      "Requirement already satisfied: pandas<3.0.0,>=2.2.0 in /Users/samueld/PycharmProjects/surrogate-api/.venv/lib/python3.9/site-packages (from diyepw) (2.2.2)\r\n",
      "Requirement already satisfied: pvlib<1.0.0,>=0.13.0 in /Users/samueld/PycharmProjects/surrogate-api/.venv/lib/python3.9/site-packages (from diyepw) (0.13.0)\r\n",
      "Requirement already satisfied: xarray<2026.0.0,>=2024.0.0 in /Users/samueld/PycharmProjects/surrogate-api/.venv/lib/python3.9/site-packages (from diyepw) (2024.7.0)\r\n",
      "Requirement already satisfied: importlib_resources<7.0.0,>=6.0.0 in /Users/samueld/PycharmProjects/surrogate-api/.venv/lib/python3.9/site-packages (from diyepw) (6.4.0)\r\n"
     ]
    },
    {
     "name": "stdout",
     "output_type": "stream",
     "text": [
      "Requirement already satisfied: zipp>=3.1.0 in /Users/samueld/PycharmProjects/surrogate-api/.venv/lib/python3.9/site-packages (from importlib_resources<7.0.0,>=6.0.0->diyepw) (3.19.2)\r\n"
     ]
    },
    {
     "name": "stdout",
     "output_type": "stream",
     "text": [
      "Requirement already satisfied: python-dateutil>=2.8.2 in /Users/samueld/PycharmProjects/surrogate-api/.venv/lib/python3.9/site-packages (from pandas<3.0.0,>=2.2.0->diyepw) (2.9.0.post0)\r\n",
      "Requirement already satisfied: pytz>=2020.1 in /Users/samueld/PycharmProjects/surrogate-api/.venv/lib/python3.9/site-packages (from pandas<3.0.0,>=2.2.0->diyepw) (2024.1)\r\n",
      "Requirement already satisfied: tzdata>=2022.7 in /Users/samueld/PycharmProjects/surrogate-api/.venv/lib/python3.9/site-packages (from pandas<3.0.0,>=2.2.0->diyepw) (2024.1)\r\n",
      "Requirement already satisfied: requests in /Users/samueld/PycharmProjects/surrogate-api/.venv/lib/python3.9/site-packages (from pvlib<1.0.0,>=0.13.0->diyepw) (2.32.3)\r\n",
      "Requirement already satisfied: scipy>=1.6.0 in /Users/samueld/PycharmProjects/surrogate-api/.venv/lib/python3.9/site-packages (from pvlib<1.0.0,>=0.13.0->diyepw) (1.13.1)\r\n",
      "Requirement already satisfied: h5py in /Users/samueld/PycharmProjects/surrogate-api/.venv/lib/python3.9/site-packages (from pvlib<1.0.0,>=0.13.0->diyepw) (3.14.0)\r\n"
     ]
    },
    {
     "name": "stdout",
     "output_type": "stream",
     "text": [
      "Requirement already satisfied: packaging>=23.1 in /Users/samueld/PycharmProjects/surrogate-api/.venv/lib/python3.9/site-packages (from xarray<2026.0.0,>=2024.0.0->diyepw) (24.1)\r\n",
      "Requirement already satisfied: six>=1.5 in /Users/samueld/PycharmProjects/surrogate-api/.venv/lib/python3.9/site-packages (from python-dateutil>=2.8.2->pandas<3.0.0,>=2.2.0->diyepw) (1.16.0)\r\n",
      "Requirement already satisfied: charset-normalizer<4,>=2 in /Users/samueld/PycharmProjects/surrogate-api/.venv/lib/python3.9/site-packages (from requests->pvlib<1.0.0,>=0.13.0->diyepw) (3.3.2)\r\n",
      "Requirement already satisfied: idna<4,>=2.5 in /Users/samueld/PycharmProjects/surrogate-api/.venv/lib/python3.9/site-packages (from requests->pvlib<1.0.0,>=0.13.0->diyepw) (3.7)\r\n",
      "Requirement already satisfied: urllib3<3,>=1.21.1 in /Users/samueld/PycharmProjects/surrogate-api/.venv/lib/python3.9/site-packages (from requests->pvlib<1.0.0,>=0.13.0->diyepw) (1.26.18)\r\n",
      "Requirement already satisfied: certifi>=2017.4.17 in /Users/samueld/PycharmProjects/surrogate-api/.venv/lib/python3.9/site-packages (from requests->pvlib<1.0.0,>=0.13.0->diyepw) (2024.6.2)\r\n"
     ]
    },
    {
     "name": "stdout",
     "output_type": "stream",
     "text": [
      "\r\n",
      "\u001b[1m[\u001b[0m\u001b[34;49mnotice\u001b[0m\u001b[1;39;49m]\u001b[0m\u001b[39;49m A new release of pip is available: \u001b[0m\u001b[31;49m23.2.1\u001b[0m\u001b[39;49m -> \u001b[0m\u001b[32;49m25.1.1\u001b[0m\r\n",
      "\u001b[1m[\u001b[0m\u001b[34;49mnotice\u001b[0m\u001b[1;39;49m]\u001b[0m\u001b[39;49m To update, run: \u001b[0m\u001b[32;49mpip install --upgrade pip\u001b[0m\r\n"
     ]
    }
   ],
   "source": [
    "!pip install -U diyepw"
   ]
  },
  {
   "cell_type": "code",
   "execution_count": 2,
   "id": "3e179f9471e0a6f5",
   "metadata": {
    "execution": {
     "iopub.execute_input": "2025-07-15T19:12:26.539030Z",
     "iopub.status.busy": "2025-07-15T19:12:26.538740Z",
     "iopub.status.idle": "2025-07-15T19:12:28.265783Z",
     "shell.execute_reply": "2025-07-15T19:12:28.265495Z"
    }
   },
   "outputs": [
    {
     "name": "stdout",
     "output_type": "stream",
     "text": [
      "2025-07-15 15:12:26,764 Creating AMY EPW for year 2022 and WMO 724940...\n"
     ]
    },
    {
     "name": "stdout",
     "output_type": "stream",
     "text": [
      "2025-07-15 15:12:26,765 No amy_epw_dir was specified - generated AMY EPWs will be stored in /var/folders/yy/_h_yktf92xq9vs2s8lf4v3k80000gn/T/tmp3sl2q7at\n"
     ]
    },
    {
     "name": "stdout",
     "output_type": "stream",
     "text": [
      "2025-07-15 15:12:26,765 No amy_dir was specified - downloaded AMY files will be stored in the default location at /Users/samueld/PycharmProjects/surrogate-api/.venv/lib/python3.9/site-packages/diyepw/data/noaa_isd_lite_files\n"
     ]
    },
    {
     "name": "stdout",
     "output_type": "stream",
     "text": [
      "2025-07-15 15:12:26,792 TMY EPW file (/Users/samueld/PycharmProjects/surrogate-api/.venv/lib/python3.9/site-packages/diyepw/data/tmy_epw_files/USA_CA_San.Francisco.Intl.AP.724940_TMY3.epw) already exists, won't download again.\n"
     ]
    },
    {
     "name": "stdout",
     "output_type": "stream",
     "text": [
      "2025-07-15 15:12:27,513 Creating AMY EPW for year 2022 and WMO 725300...\n"
     ]
    },
    {
     "name": "stdout",
     "output_type": "stream",
     "text": [
      "2025-07-15 15:12:27,513 No amy_epw_dir was specified - generated AMY EPWs will be stored in /var/folders/yy/_h_yktf92xq9vs2s8lf4v3k80000gn/T/tmp3sl2q7at\n"
     ]
    },
    {
     "name": "stdout",
     "output_type": "stream",
     "text": [
      "2025-07-15 15:12:27,514 No amy_dir was specified - downloaded AMY files will be stored in the default location at /Users/samueld/PycharmProjects/surrogate-api/.venv/lib/python3.9/site-packages/diyepw/data/noaa_isd_lite_files\n"
     ]
    },
    {
     "name": "stdout",
     "output_type": "stream",
     "text": [
      "2025-07-15 15:12:27,542 TMY EPW file (/Users/samueld/PycharmProjects/surrogate-api/.venv/lib/python3.9/site-packages/diyepw/data/tmy_epw_files/USA_IL_Chicago.OHare.Intl.AP.725300_TMY3.epw) already exists, won't download again.\n"
     ]
    },
    {
     "data": {
      "text/plain": [
       "{2022: {724940: ['/var/folders/yy/_h_yktf92xq9vs2s8lf4v3k80000gn/T/tmp3sl2q7at/USA_CA_San-Francisco-Intl-AP.724940_AMY_2022.epw'],\n",
       "  725300: ['/var/folders/yy/_h_yktf92xq9vs2s8lf4v3k80000gn/T/tmp3sl2q7at/USA_IL_Chicago-OHare-Intl-AP.725300_AMY_2022.epw']}}"
      ]
     },
     "execution_count": 2,
     "metadata": {},
     "output_type": "execute_result"
    }
   ],
   "source": [
    "import diyepw\n",
    "\n",
    "diyepw.create_amy_epw_files_for_years_and_wmos(\n",
    "    [2022],\n",
    "    [724940, 725300],\n",
    "    max_records_to_interpolate=10,\n",
    "    max_records_to_impute=25,\n",
    "    max_missing_amy_rows=5,\n",
    "    allow_downloads=True,\n",
    ")"
   ]
  },
  {
   "cell_type": "markdown",
   "id": "a6c88b01",
   "metadata": {},
   "source": [
    "<!--NAVIGATION-->\n",
    "< [Making a Sensitivity Analysis](01.05-Sensitivity-Analysis.ipynb) | [Contents](Index.ipynb) | [Introduction to EnergyPlus Models Scripting](02.00-Introduction-to-EnergyPlus-Models-Scripting.ipynb) >"
   ]
  }
 ],
 "metadata": {
  "kernelspec": {
   "display_name": "Python 3",
   "language": "python",
   "name": "python3"
  },
  "language_info": {
   "codemirror_mode": {
    "name": "ipython",
    "version": 3
   },
   "file_extension": ".py",
   "mimetype": "text/x-python",
   "name": "python",
   "nbconvert_exporter": "python",
   "pygments_lexer": "ipython3",
   "version": "3.9.6"
  }
 },
 "nbformat": 4,
 "nbformat_minor": 5
}
