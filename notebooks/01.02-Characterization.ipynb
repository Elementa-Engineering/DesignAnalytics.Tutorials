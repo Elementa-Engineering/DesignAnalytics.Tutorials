{
 "cells": [
  {
   "cell_type": "markdown",
   "id": "2e3c1fba",
   "metadata": {},
   "source": [
    "<!--NAVIGATION-->\n",
    "< [Design Spaces](01.01-Design-Space-Basics.ipynb) | [Contents](Index.ipynb) | [Results From Parametric Analysis](01.03-Results-From-Parametric-Analysis.ipynb) >"
   ]
  },
  {
   "cell_type": "markdown",
   "id": "736aab82",
   "metadata": {},
   "source": [
    "# Characterization"
   ]
  },
  {
   "cell_type": "code",
   "execution_count": 1,
   "id": "67d00f7d",
   "metadata": {
    "execution": {
     "iopub.execute_input": "2025-07-15T18:57:33.690311Z",
     "iopub.status.busy": "2025-07-15T18:57:33.683926Z",
     "iopub.status.idle": "2025-07-15T18:57:33.711256Z",
     "shell.execute_reply": "2025-07-15T18:57:33.710137Z"
    }
   },
   "outputs": [],
   "source": [
    "%load_ext dotenv\n",
    "%dotenv"
   ]
  },
  {
   "cell_type": "code",
   "execution_count": 2,
   "id": "46bfab01",
   "metadata": {
    "execution": {
     "iopub.execute_input": "2025-07-15T18:57:33.715440Z",
     "iopub.status.busy": "2025-07-15T18:57:33.714960Z",
     "iopub.status.idle": "2025-07-15T18:57:40.515616Z",
     "shell.execute_reply": "2025-07-15T18:57:40.514990Z"
    }
   },
   "outputs": [
    {
     "data": {
      "text/plain": [
       "User(username='s.letellierduchesne', email='sam@cabonsignal.com', full_name='Samuel Letellier-Duchesne', disabled=None, valid_until=datetime.datetime(2026, 7, 15, 16, 39, 23))"
      ]
     },
     "execution_count": 2,
     "metadata": {},
     "output_type": "execute_result"
    }
   ],
   "source": [
    "from surrogate_schema import APIClient\n",
    "\n",
    "client = APIClient()\n",
    "client.whoami()"
   ]
  },
  {
   "cell_type": "code",
   "execution_count": 3,
   "id": "325994e4",
   "metadata": {
    "execution": {
     "iopub.execute_input": "2025-07-15T18:57:40.519483Z",
     "iopub.status.busy": "2025-07-15T18:57:40.519040Z",
     "iopub.status.idle": "2025-07-15T18:57:40.523781Z",
     "shell.execute_reply": "2025-07-15T18:57:40.523185Z"
    }
   },
   "outputs": [],
   "source": [
    "from surrogate_schema import Characterization\n",
    "\n",
    "analysis = Characterization(\n",
    "    company=\"Elementa\",\n",
    "    project=\"Carbon Forecasting Tool\",\n",
    "    local_epw=\"data/USA_CA_Chino.AP.722899_TMYx.epw\",\n",
    "    local_seed_model=\"data/seed_file_V960.idf\",\n",
    ")"
   ]
  },
  {
   "cell_type": "code",
   "execution_count": 4,
   "id": "5280ba00",
   "metadata": {
    "execution": {
     "iopub.execute_input": "2025-07-15T18:57:40.528413Z",
     "iopub.status.busy": "2025-07-15T18:57:40.528087Z",
     "iopub.status.idle": "2025-07-15T18:57:42.621258Z",
     "shell.execute_reply": "2025-07-15T18:57:42.620594Z"
    }
   },
   "outputs": [
    {
     "data": {
      "text/plain": [
       "CharacterizationJob(jobName='Carbon_Forecasting_Tool_characterization', jobQueue='dev', arrayProperties=None, tags={}, propagateTags=True, parameters=CharacterizationParams(log_level=<LogLevel.INFO: 'INFO'>, characterization_id=UUID('95df15ff-829b-4f6d-8c65-8470db8a4219'), seed_model_s3_path=Url('s3://surrogate-api/characterization/95df15ff-829b-4f6d-8c65-8470db8a4219/seed_file_V960.idf'), epw_s3_path=Url('s3://surrogate-api/characterization/95df15ff-829b-4f6d-8c65-8470db8a4219/USA_CA_Chino.AP.722899_TMYx.epw'), idd_s3_path=None), containerOverrides=ContainerOverrides(command=['--log-level', 'Ref::log_level', 'characterization', '--characterization-id', 'Ref::characterization_id', '--seed-model-s3-path', 'Ref::seed_model_s3_path', '--epw-s3-path', 'Ref::epw_s3_path'], resourceRequirements=[ResourceRequirement(type='MEMORY', value='4096')]), jobDefinition=<JobDefinitions.energyplus_9_6_0: 'energyplus-9-6-0'>)"
      ]
     },
     "execution_count": 4,
     "metadata": {},
     "output_type": "execute_result"
    }
   ],
   "source": [
    "analysis.prepare_job()"
   ]
  },
  {
   "cell_type": "code",
   "execution_count": 5,
   "id": "0b369fd3",
   "metadata": {},
   "outputs": [
    {
     "data": {
      "text/plain": [
       "'--log-level INFO characterization --characterization-id 95df15ff-829b-4f6d-8c65-8470db8a4219 --seed-model-s3-path s3://surrogate-api/characterization/95df15ff-829b-4f6d-8c65-8470db8a4219/seed_file_V960.idf --epw-s3-path s3://surrogate-api/characterization/95df15ff-829b-4f6d-8c65-8470db8a4219/USA_CA_Chino.AP.722899_TMYx.epw'"
      ]
     },
     "execution_count": 5,
     "metadata": {},
     "output_type": "execute_result"
    }
   ],
   "source": [
    "analysis.job[0].print_command()"
   ]
  },
  {
   "cell_type": "code",
   "execution_count": null,
   "id": "1c067731",
   "metadata": {
    "execution": {
     "iopub.execute_input": "2025-07-15T18:57:42.624661Z",
     "iopub.status.busy": "2025-07-15T18:57:42.624352Z",
     "iopub.status.idle": "2025-07-15T18:57:43.034324Z",
     "shell.execute_reply": "2025-07-15T18:57:43.033636Z"
    }
   },
   "outputs": [],
   "source": [
    "analysis.submit_job()"
   ]
  },
  {
   "cell_type": "code",
   "execution_count": null,
   "id": "a733cf0a",
   "metadata": {
    "execution": {
     "iopub.execute_input": "2025-07-15T18:57:43.037983Z",
     "iopub.status.busy": "2025-07-15T18:57:43.037663Z",
     "iopub.status.idle": "2025-07-15T19:03:13.852142Z",
     "shell.execute_reply": "2025-07-15T19:03:13.851295Z"
    }
   },
   "outputs": [],
   "source": [
    "analysis.track_status()"
   ]
  },
  {
   "cell_type": "code",
   "execution_count": null,
   "id": "fa692b12",
   "metadata": {
    "execution": {
     "iopub.execute_input": "2025-07-15T19:03:13.856848Z",
     "iopub.status.busy": "2025-07-15T19:03:13.856550Z",
     "iopub.status.idle": "2025-07-15T19:03:14.056509Z",
     "shell.execute_reply": "2025-07-15T19:03:14.056099Z"
    }
   },
   "outputs": [],
   "source": [
    "analysis.get_results()"
   ]
  },
  {
   "cell_type": "code",
   "execution_count": null,
   "id": "e94c623d",
   "metadata": {
    "execution": {
     "iopub.execute_input": "2025-07-15T19:03:14.058618Z",
     "iopub.status.busy": "2025-07-15T19:03:14.058360Z",
     "iopub.status.idle": "2025-07-15T19:03:14.349042Z",
     "shell.execute_reply": "2025-07-15T19:03:14.348756Z"
    }
   },
   "outputs": [],
   "source": [
    "fig = analysis.plot_sankey(analysis.get_results())"
   ]
  },
  {
   "cell_type": "markdown",
   "id": "269b1d97",
   "metadata": {},
   "source": [
    "<!--NAVIGATION-->\n",
    "< [Design Spaces](01.01-Design-Space-Basics.ipynb) | [Contents](Index.ipynb) | [Results From Parametric Analysis](01.03-Results-From-Parametric-Analysis.ipynb) >"
   ]
  }
 ],
 "metadata": {
  "kernelspec": {
   "display_name": ".venv",
   "language": "python",
   "name": "python3"
  },
  "language_info": {
   "codemirror_mode": {
    "name": "ipython",
    "version": 3
   },
   "file_extension": ".py",
   "mimetype": "text/x-python",
   "name": "python",
   "nbconvert_exporter": "python",
   "pygments_lexer": "ipython3",
   "version": "3.9.6"
  },
  "toc": {
   "base_numbering": 1,
   "nav_menu": {},
   "number_sections": true,
   "sideBar": true,
   "skip_h1_title": true,
   "title_cell": "Table of Contents",
   "title_sidebar": "Contents",
   "toc_cell": false,
   "toc_position": {},
   "toc_section_display": true,
   "toc_window_display": false
  },
  "widgets": {
   "application/vnd.jupyter.widget-state+json": {
    "state": {
     "103714d439a9469ebc947a1374b4abd7": {
      "model_module": "@jupyter-widgets/base",
      "model_module_version": "2.0.0",
      "model_name": "LayoutModel",
      "state": {
       "_model_module": "@jupyter-widgets/base",
       "_model_module_version": "2.0.0",
       "_model_name": "LayoutModel",
       "_view_count": null,
       "_view_module": "@jupyter-widgets/base",
       "_view_module_version": "2.0.0",
       "_view_name": "LayoutView",
       "align_content": null,
       "align_items": null,
       "align_self": null,
       "border_bottom": null,
       "border_left": null,
       "border_right": null,
       "border_top": null,
       "bottom": null,
       "display": null,
       "flex": null,
       "flex_flow": null,
       "grid_area": null,
       "grid_auto_columns": null,
       "grid_auto_flow": null,
       "grid_auto_rows": null,
       "grid_column": null,
       "grid_gap": null,
       "grid_row": null,
       "grid_template_areas": null,
       "grid_template_columns": null,
       "grid_template_rows": null,
       "height": null,
       "justify_content": null,
       "justify_items": null,
       "left": null,
       "margin": null,
       "max_height": null,
       "max_width": null,
       "min_height": null,
       "min_width": null,
       "object_fit": null,
       "object_position": null,
       "order": null,
       "overflow": null,
       "padding": null,
       "right": null,
       "top": null,
       "visibility": null,
       "width": null
      }
     },
     "501ce13219e844b4b3dd2b6e4805e69c": {
      "model_module": "@jupyter-widgets/base",
      "model_module_version": "2.0.0",
      "model_name": "LayoutModel",
      "state": {
       "_model_module": "@jupyter-widgets/base",
       "_model_module_version": "2.0.0",
       "_model_name": "LayoutModel",
       "_view_count": null,
       "_view_module": "@jupyter-widgets/base",
       "_view_module_version": "2.0.0",
       "_view_name": "LayoutView",
       "align_content": null,
       "align_items": null,
       "align_self": null,
       "border_bottom": null,
       "border_left": null,
       "border_right": null,
       "border_top": null,
       "bottom": null,
       "display": null,
       "flex": null,
       "flex_flow": null,
       "grid_area": null,
       "grid_auto_columns": null,
       "grid_auto_flow": null,
       "grid_auto_rows": null,
       "grid_column": null,
       "grid_gap": null,
       "grid_row": null,
       "grid_template_areas": null,
       "grid_template_columns": null,
       "grid_template_rows": null,
       "height": null,
       "justify_content": null,
       "justify_items": null,
       "left": null,
       "margin": null,
       "max_height": null,
       "max_width": null,
       "min_height": null,
       "min_width": null,
       "object_fit": null,
       "object_position": null,
       "order": null,
       "overflow": null,
       "padding": null,
       "right": null,
       "top": null,
       "visibility": null,
       "width": null
      }
     },
     "668e4246e6864baa87553b9d29351dd0": {
      "model_module": "@jupyter-widgets/controls",
      "model_module_version": "2.0.0",
      "model_name": "HTMLStyleModel",
      "state": {
       "_model_module": "@jupyter-widgets/controls",
       "_model_module_version": "2.0.0",
       "_model_name": "HTMLStyleModel",
       "_view_count": null,
       "_view_module": "@jupyter-widgets/base",
       "_view_module_version": "2.0.0",
       "_view_name": "StyleView",
       "background": null,
       "description_width": "",
       "font_size": null,
       "text_color": null
      }
     },
     "80d80b1a3acb4a55bb3547282c49edc0": {
      "model_module": "@jupyter-widgets/controls",
      "model_module_version": "2.0.0",
      "model_name": "HBoxModel",
      "state": {
       "_dom_classes": [],
       "_model_module": "@jupyter-widgets/controls",
       "_model_module_version": "2.0.0",
       "_model_name": "HBoxModel",
       "_view_count": null,
       "_view_module": "@jupyter-widgets/controls",
       "_view_module_version": "2.0.0",
       "_view_name": "HBoxView",
       "box_style": "",
       "children": [
        "IPY_MODEL_d9534ae98d1b4da1b2741a0a469ad90b",
        "IPY_MODEL_920e197a236f4a3989f5cf600d08bc28",
        "IPY_MODEL_e34dae2afb234ccca3a9526cf3c361a7"
       ],
       "layout": "IPY_MODEL_501ce13219e844b4b3dd2b6e4805e69c",
       "tabbable": null,
       "tooltip": null
      }
     },
     "920e197a236f4a3989f5cf600d08bc28": {
      "model_module": "@jupyter-widgets/controls",
      "model_module_version": "2.0.0",
      "model_name": "FloatProgressModel",
      "state": {
       "_dom_classes": [],
       "_model_module": "@jupyter-widgets/controls",
       "_model_module_version": "2.0.0",
       "_model_name": "FloatProgressModel",
       "_view_count": null,
       "_view_module": "@jupyter-widgets/controls",
       "_view_module_version": "2.0.0",
       "_view_name": "ProgressView",
       "bar_style": "success",
       "description": "",
       "description_allow_html": false,
       "layout": "IPY_MODEL_b50b84973185417fab44e77f86a939e5",
       "max": 1,
       "min": 0,
       "orientation": "horizontal",
       "style": "IPY_MODEL_dd8c1cea035344bb8af78b4c37c2739c",
       "tabbable": null,
       "tooltip": null,
       "value": 1
      }
     },
     "b50b84973185417fab44e77f86a939e5": {
      "model_module": "@jupyter-widgets/base",
      "model_module_version": "2.0.0",
      "model_name": "LayoutModel",
      "state": {
       "_model_module": "@jupyter-widgets/base",
       "_model_module_version": "2.0.0",
       "_model_name": "LayoutModel",
       "_view_count": null,
       "_view_module": "@jupyter-widgets/base",
       "_view_module_version": "2.0.0",
       "_view_name": "LayoutView",
       "align_content": null,
       "align_items": null,
       "align_self": null,
       "border_bottom": null,
       "border_left": null,
       "border_right": null,
       "border_top": null,
       "bottom": null,
       "display": null,
       "flex": null,
       "flex_flow": null,
       "grid_area": null,
       "grid_auto_columns": null,
       "grid_auto_flow": null,
       "grid_auto_rows": null,
       "grid_column": null,
       "grid_gap": null,
       "grid_row": null,
       "grid_template_areas": null,
       "grid_template_columns": null,
       "grid_template_rows": null,
       "height": null,
       "justify_content": null,
       "justify_items": null,
       "left": null,
       "margin": null,
       "max_height": null,
       "max_width": null,
       "min_height": null,
       "min_width": null,
       "object_fit": null,
       "object_position": null,
       "order": null,
       "overflow": null,
       "padding": null,
       "right": null,
       "top": null,
       "visibility": null,
       "width": "20px"
      }
     },
     "bc22eda3c9274fc289461a65995c1503": {
      "model_module": "@jupyter-widgets/controls",
      "model_module_version": "2.0.0",
      "model_name": "HTMLStyleModel",
      "state": {
       "_model_module": "@jupyter-widgets/controls",
       "_model_module_version": "2.0.0",
       "_model_name": "HTMLStyleModel",
       "_view_count": null,
       "_view_module": "@jupyter-widgets/base",
       "_view_module_version": "2.0.0",
       "_view_name": "StyleView",
       "background": null,
       "description_width": "",
       "font_size": null,
       "text_color": null
      }
     },
     "d9534ae98d1b4da1b2741a0a469ad90b": {
      "model_module": "@jupyter-widgets/controls",
      "model_module_version": "2.0.0",
      "model_name": "HTMLModel",
      "state": {
       "_dom_classes": [],
       "_model_module": "@jupyter-widgets/controls",
       "_model_module_version": "2.0.0",
       "_model_name": "HTMLModel",
       "_view_count": null,
       "_view_module": "@jupyter-widgets/controls",
       "_view_module_version": "2.0.0",
       "_view_name": "HTMLView",
       "description": "",
       "description_allow_html": false,
       "layout": "IPY_MODEL_fee4abcf55664fce89e0d541e7b948c3",
       "placeholder": "​",
       "style": "IPY_MODEL_bc22eda3c9274fc289461a65995c1503",
       "tabbable": null,
       "tooltip": null,
       "value": "320 s SUBMITTED=0 PENDING=0 RUNNABLE=0 STARTING=0 RUNNING=0 SUCCEEDED=1 FAILED=0: 100%"
      }
     },
     "dd8c1cea035344bb8af78b4c37c2739c": {
      "model_module": "@jupyter-widgets/controls",
      "model_module_version": "2.0.0",
      "model_name": "ProgressStyleModel",
      "state": {
       "_model_module": "@jupyter-widgets/controls",
       "_model_module_version": "2.0.0",
       "_model_name": "ProgressStyleModel",
       "_view_count": null,
       "_view_module": "@jupyter-widgets/base",
       "_view_module_version": "2.0.0",
       "_view_name": "StyleView",
       "bar_color": null,
       "description_width": ""
      }
     },
     "e34dae2afb234ccca3a9526cf3c361a7": {
      "model_module": "@jupyter-widgets/controls",
      "model_module_version": "2.0.0",
      "model_name": "HTMLModel",
      "state": {
       "_dom_classes": [],
       "_model_module": "@jupyter-widgets/controls",
       "_model_module_version": "2.0.0",
       "_model_name": "HTMLModel",
       "_view_count": null,
       "_view_module": "@jupyter-widgets/controls",
       "_view_module_version": "2.0.0",
       "_view_name": "HTMLView",
       "description": "",
       "description_allow_html": false,
       "layout": "IPY_MODEL_103714d439a9469ebc947a1374b4abd7",
       "placeholder": "​",
       "style": "IPY_MODEL_668e4246e6864baa87553b9d29351dd0",
       "tabbable": null,
       "tooltip": null,
       "value": " 1/1 [05:30&lt;00:00, 330.87s/it]"
      }
     },
     "fee4abcf55664fce89e0d541e7b948c3": {
      "model_module": "@jupyter-widgets/base",
      "model_module_version": "2.0.0",
      "model_name": "LayoutModel",
      "state": {
       "_model_module": "@jupyter-widgets/base",
       "_model_module_version": "2.0.0",
       "_model_name": "LayoutModel",
       "_view_count": null,
       "_view_module": "@jupyter-widgets/base",
       "_view_module_version": "2.0.0",
       "_view_name": "LayoutView",
       "align_content": null,
       "align_items": null,
       "align_self": null,
       "border_bottom": null,
       "border_left": null,
       "border_right": null,
       "border_top": null,
       "bottom": null,
       "display": null,
       "flex": null,
       "flex_flow": null,
       "grid_area": null,
       "grid_auto_columns": null,
       "grid_auto_flow": null,
       "grid_auto_rows": null,
       "grid_column": null,
       "grid_gap": null,
       "grid_row": null,
       "grid_template_areas": null,
       "grid_template_columns": null,
       "grid_template_rows": null,
       "height": null,
       "justify_content": null,
       "justify_items": null,
       "left": null,
       "margin": null,
       "max_height": null,
       "max_width": null,
       "min_height": null,
       "min_width": null,
       "object_fit": null,
       "object_position": null,
       "order": null,
       "overflow": null,
       "padding": null,
       "right": null,
       "top": null,
       "visibility": null,
       "width": null
      }
     }
    },
    "version_major": 2,
    "version_minor": 0
   }
  }
 },
 "nbformat": 4,
 "nbformat_minor": 5
}
