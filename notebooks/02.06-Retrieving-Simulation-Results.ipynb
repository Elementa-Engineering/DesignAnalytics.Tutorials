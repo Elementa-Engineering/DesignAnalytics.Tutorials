{
 "cells": [
  {
   "cell_type": "markdown",
   "id": "f8b58029",
   "metadata": {},
   "source": [
    "<!--NAVIGATION-->\n",
    "< [Simulating a Model](02.05-Simulating-a-Model.ipynb) | [Contents](Index.ipynb) |"
   ]
  },
  {
   "cell_type": "markdown",
   "id": "9ff2286f",
   "metadata": {
    "pycharm": {
     "name": "#%% md\n"
    }
   },
   "source": [
    "# Retrieving Simulation Results"
   ]
  },
  {
   "cell_type": "code",
   "execution_count": null,
   "id": "2aadd4ce",
   "metadata": {},
   "outputs": [],
   "source": []
  },
  {
   "cell_type": "markdown",
   "id": "b3a480f6",
   "metadata": {},
   "source": [
    "<!--NAVIGATION-->\n",
    "< [Simulating a Model](02.05-Simulating-a-Model.ipynb) | [Contents](Index.ipynb) |"
   ]
  }
 ],
 "metadata": {
  "kernelspec": {
   "display_name": "Python 3 (ipykernel)",
   "language": "python",
   "name": "python3"
  },
  "language_info": {
   "codemirror_mode": {
    "name": "ipython",
    "version": 3
   },
   "file_extension": ".py",
   "mimetype": "text/x-python",
   "name": "python",
   "nbconvert_exporter": "python",
   "pygments_lexer": "ipython3",
   "version": "3.9.7"
  },
  "toc": {
   "base_numbering": 1,
   "nav_menu": {},
   "number_sections": true,
   "sideBar": true,
   "skip_h1_title": true,
   "title_cell": "Table of Contents",
   "title_sidebar": "Contents",
   "toc_cell": false,
   "toc_position": {
    "height": "calc(100% - 180px)",
    "left": "10px",
    "top": "150px",
    "width": "302px"
   },
   "toc_section_display": false,
   "toc_window_display": true
  }
 },
 "nbformat": 4,
 "nbformat_minor": 5
}
