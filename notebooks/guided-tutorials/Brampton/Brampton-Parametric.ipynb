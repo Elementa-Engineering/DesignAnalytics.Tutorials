{
 "cells": [
  {
   "cell_type": "code",
   "execution_count": 1,
   "id": "9219ad69",
   "metadata": {
    "ExecuteTime": {
     "end_time": "2024-09-11T22:51:05.181313Z",
     "start_time": "2024-09-11T22:51:03.755449Z"
    }
   },
   "outputs": [],
   "source": [
    "from surrogate_schema import Space"
   ]
  },
  {
   "cell_type": "markdown",
   "id": "b67fee91",
   "metadata": {},
   "source": [
    "## First, authenticate to the API\n",
    "\n",
    "All things Characteriazation, Sensitivity and Parametric analysis require that this Software Developement Kit (SDK) be authenticated to the API:"
   ]
  },
  {
   "cell_type": "code",
   "execution_count": 4,
   "id": "95670e22",
   "metadata": {
    "ExecuteTime": {
     "end_time": "2024-09-12T01:27:31.889859Z",
     "start_time": "2024-09-12T01:27:31.605324Z"
    }
   },
   "outputs": [
    {
     "data": {
      "text/plain": [
       "User(username='s.letellierduchesne', email='sam@cabonsignal.com', full_name='Samuel Letellier-Duchesne', disabled=None, valid_until=datetime.datetime(2025, 1, 29, 20, 28, 26))"
      ]
     },
     "execution_count": 4,
     "metadata": {},
     "output_type": "execute_result"
    }
   ],
   "source": [
    "from surrogate_schema import APIClient\n",
    "\n",
    "%load_ext dotenv\n",
    "%dotenv\n",
    "\n",
    "# typical block to authenticate to the API\n",
    "client = APIClient(api_url=\"https://api.elementa.nyc\")\n",
    "client.whoami()  # shows that you are properly authenticated"
   ]
  },
  {
   "cell_type": "markdown",
   "id": "5c74d840",
   "metadata": {},
   "source": [
    "Next, we list the possible weather files"
   ]
  },
  {
   "cell_type": "markdown",
   "id": "f3825ebf",
   "metadata": {},
   "source": [
    "# Create the design space\n",
    "\n",
    "The design space is create below"
   ]
  },
  {
   "cell_type": "code",
   "execution_count": 3,
   "id": "fdf3419c",
   "metadata": {
    "ExecuteTime": {
     "end_time": "2024-09-11T22:51:26.986614Z",
     "start_time": "2024-09-11T22:51:26.982853Z"
    }
   },
   "outputs": [
    {
     "data": {
      "text/plain": [
       "{'WWR': 0.4,\n",
       " 'WINU': 0.38,\n",
       " 'WINSHGC': 0.4,\n",
       " 'ROOFR': 35,\n",
       " 'WALLR': 20,\n",
       " 'INFIL': 0.07}"
      ]
     },
     "execution_count": 3,
     "metadata": {},
     "output_type": "execute_result"
    }
   ],
   "source": [
    "{\n",
    "    \"WWR\": 0.4,\n",
    "    \"WINU\": 0.38,\n",
    "    \"WINSHGC\": 0.4,\n",
    "    \"ROOFR\": 35,\n",
    "    \"WALLR\": 20,\n",
    "    \"INFIL\": 0.07,\n",
    "}"
   ]
  },
  {
   "cell_type": "code",
   "execution_count": 4,
   "id": "ea114fa1",
   "metadata": {
    "ExecuteTime": {
     "end_time": "2024-09-11T22:51:27.896053Z",
     "start_time": "2024-09-11T22:51:27.583962Z"
    }
   },
   "outputs": [
    {
     "data": {
      "image/svg+xml": "<?xml version=\"1.0\" encoding=\"utf-8\" standalone=\"no\"?>\n<!DOCTYPE svg PUBLIC \"-//W3C//DTD SVG 1.1//EN\"\n  \"http://www.w3.org/Graphics/SVG/1.1/DTD/svg11.dtd\">\n<svg xmlns:xlink=\"http://www.w3.org/1999/xlink\" width=\"576pt\" height=\"302.4pt\" viewBox=\"0 0 576 302.4\" xmlns=\"http://www.w3.org/2000/svg\" version=\"1.1\">\n <metadata>\n  <rdf:RDF xmlns:dc=\"http://purl.org/dc/elements/1.1/\" xmlns:cc=\"http://creativecommons.org/ns#\" xmlns:rdf=\"http://www.w3.org/1999/02/22-rdf-syntax-ns#\">\n   <cc:Work>\n    <dc:type rdf:resource=\"http://purl.org/dc/dcmitype/StillImage\"/>\n    <dc:date>2024-09-11T18:51:27.864538</dc:date>\n    <dc:format>image/svg+xml</dc:format>\n    <dc:creator>\n     <cc:Agent>\n      <dc:title>Matplotlib v3.9.0, https://matplotlib.org/</dc:title>\n     </cc:Agent>\n    </dc:creator>\n   </cc:Work>\n  </rdf:RDF>\n </metadata>\n <defs>\n  <style type=\"text/css\">*{stroke-linejoin: round; stroke-linecap: butt}</style>\n </defs>\n <g id=\"figure_1\">\n  <g id=\"patch_1\">\n   <path d=\"M 0 302.4 \nL 576 302.4 \nL 576 0 \nL 0 0 \nz\n\" style=\"fill: #ffffff\"/>\n  </g>\n  <g id=\"axes_1\">\n   <g id=\"patch_2\">\n    <path d=\"M 189.07 26.832 \nL 565.2 26.832 \nL 565.2 10.8 \nL 189.07 10.8 \nz\n\" style=\"fill: #ffffff\"/>\n   </g>\n   <g id=\"matplotlib.axis_1\">\n    <g id=\"xtick_1\"/>\n    <g id=\"xtick_2\"/>\n    <g id=\"xtick_3\"/>\n    <g id=\"xtick_4\"/>\n    <g id=\"xtick_5\"/>\n   </g>\n   <g id=\"matplotlib.axis_2\">\n    <g id=\"ytick_1\">\n     <g id=\"line2d_1\">\n      <path d=\"M 189.07 21.488 \nL 565.2 21.488 \n\" clip-path=\"url(#p9b1da51655)\" style=\"fill: none; stroke: #222222; stroke-opacity: 0.2; stroke-width: 0.8; stroke-linecap: square\"/>\n     </g>\n     <g id=\"text_1\">\n      <!-- Window-to-Wall Ratio -->\n      <g transform=\"translate(75.823125 25.287219) scale(0.1 -0.1)\">\n       <defs>\n        <path id=\"DejaVuSans-57\" d=\"M 213 4666 \nL 850 4666 \nL 1831 722 \nL 2809 4666 \nL 3519 4666 \nL 4500 722 \nL 5478 4666 \nL 6119 4666 \nL 4947 0 \nL 4153 0 \nL 3169 4050 \nL 2175 0 \nL 1381 0 \nL 213 4666 \nz\n\" transform=\"scale(0.015625)\"/>\n        <path id=\"DejaVuSans-69\" d=\"M 603 3500 \nL 1178 3500 \nL 1178 0 \nL 603 0 \nL 603 3500 \nz\nM 603 4863 \nL 1178 4863 \nL 1178 4134 \nL 603 4134 \nL 603 4863 \nz\n\" transform=\"scale(0.015625)\"/>\n        <path id=\"DejaVuSans-6e\" d=\"M 3513 2113 \nL 3513 0 \nL 2938 0 \nL 2938 2094 \nQ 2938 2591 2744 2837 \nQ 2550 3084 2163 3084 \nQ 1697 3084 1428 2787 \nQ 1159 2491 1159 1978 \nL 1159 0 \nL 581 0 \nL 581 3500 \nL 1159 3500 \nL 1159 2956 \nQ 1366 3272 1645 3428 \nQ 1925 3584 2291 3584 \nQ 2894 3584 3203 3211 \nQ 3513 2838 3513 2113 \nz\n\" transform=\"scale(0.015625)\"/>\n        <path id=\"DejaVuSans-64\" d=\"M 2906 2969 \nL 2906 4863 \nL 3481 4863 \nL 3481 0 \nL 2906 0 \nL 2906 525 \nQ 2725 213 2448 61 \nQ 2172 -91 1784 -91 \nQ 1150 -91 751 415 \nQ 353 922 353 1747 \nQ 353 2572 751 3078 \nQ 1150 3584 1784 3584 \nQ 2172 3584 2448 3432 \nQ 2725 3281 2906 2969 \nz\nM 947 1747 \nQ 947 1113 1208 752 \nQ 1469 391 1925 391 \nQ 2381 391 2643 752 \nQ 2906 1113 2906 1747 \nQ 2906 2381 2643 2742 \nQ 2381 3103 1925 3103 \nQ 1469 3103 1208 2742 \nQ 947 2381 947 1747 \nz\n\" transform=\"scale(0.015625)\"/>\n        <path id=\"DejaVuSans-6f\" d=\"M 1959 3097 \nQ 1497 3097 1228 2736 \nQ 959 2375 959 1747 \nQ 959 1119 1226 758 \nQ 1494 397 1959 397 \nQ 2419 397 2687 759 \nQ 2956 1122 2956 1747 \nQ 2956 2369 2687 2733 \nQ 2419 3097 1959 3097 \nz\nM 1959 3584 \nQ 2709 3584 3137 3096 \nQ 3566 2609 3566 1747 \nQ 3566 888 3137 398 \nQ 2709 -91 1959 -91 \nQ 1206 -91 779 398 \nQ 353 888 353 1747 \nQ 353 2609 779 3096 \nQ 1206 3584 1959 3584 \nz\n\" transform=\"scale(0.015625)\"/>\n        <path id=\"DejaVuSans-77\" d=\"M 269 3500 \nL 844 3500 \nL 1563 769 \nL 2278 3500 \nL 2956 3500 \nL 3675 769 \nL 4391 3500 \nL 4966 3500 \nL 4050 0 \nL 3372 0 \nL 2619 2869 \nL 1863 0 \nL 1184 0 \nL 269 3500 \nz\n\" transform=\"scale(0.015625)\"/>\n        <path id=\"DejaVuSans-2d\" d=\"M 313 2009 \nL 1997 2009 \nL 1997 1497 \nL 313 1497 \nL 313 2009 \nz\n\" transform=\"scale(0.015625)\"/>\n        <path id=\"DejaVuSans-74\" d=\"M 1172 4494 \nL 1172 3500 \nL 2356 3500 \nL 2356 3053 \nL 1172 3053 \nL 1172 1153 \nQ 1172 725 1289 603 \nQ 1406 481 1766 481 \nL 2356 481 \nL 2356 0 \nL 1766 0 \nQ 1100 0 847 248 \nQ 594 497 594 1153 \nL 594 3053 \nL 172 3053 \nL 172 3500 \nL 594 3500 \nL 594 4494 \nL 1172 4494 \nz\n\" transform=\"scale(0.015625)\"/>\n        <path id=\"DejaVuSans-61\" d=\"M 2194 1759 \nQ 1497 1759 1228 1600 \nQ 959 1441 959 1056 \nQ 959 750 1161 570 \nQ 1363 391 1709 391 \nQ 2188 391 2477 730 \nQ 2766 1069 2766 1631 \nL 2766 1759 \nL 2194 1759 \nz\nM 3341 1997 \nL 3341 0 \nL 2766 0 \nL 2766 531 \nQ 2569 213 2275 61 \nQ 1981 -91 1556 -91 \nQ 1019 -91 701 211 \nQ 384 513 384 1019 \nQ 384 1609 779 1909 \nQ 1175 2209 1959 2209 \nL 2766 2209 \nL 2766 2266 \nQ 2766 2663 2505 2880 \nQ 2244 3097 1772 3097 \nQ 1472 3097 1187 3025 \nQ 903 2953 641 2809 \nL 641 3341 \nQ 956 3463 1253 3523 \nQ 1550 3584 1831 3584 \nQ 2591 3584 2966 3190 \nQ 3341 2797 3341 1997 \nz\n\" transform=\"scale(0.015625)\"/>\n        <path id=\"DejaVuSans-6c\" d=\"M 603 4863 \nL 1178 4863 \nL 1178 0 \nL 603 0 \nL 603 4863 \nz\n\" transform=\"scale(0.015625)\"/>\n        <path id=\"DejaVuSans-20\" transform=\"scale(0.015625)\"/>\n        <path id=\"DejaVuSans-52\" d=\"M 2841 2188 \nQ 3044 2119 3236 1894 \nQ 3428 1669 3622 1275 \nL 4263 0 \nL 3584 0 \nL 2988 1197 \nQ 2756 1666 2539 1819 \nQ 2322 1972 1947 1972 \nL 1259 1972 \nL 1259 0 \nL 628 0 \nL 628 4666 \nL 2053 4666 \nQ 2853 4666 3247 4331 \nQ 3641 3997 3641 3322 \nQ 3641 2881 3436 2590 \nQ 3231 2300 2841 2188 \nz\nM 1259 4147 \nL 1259 2491 \nL 2053 2491 \nQ 2509 2491 2742 2702 \nQ 2975 2913 2975 3322 \nQ 2975 3731 2742 3939 \nQ 2509 4147 2053 4147 \nL 1259 4147 \nz\n\" transform=\"scale(0.015625)\"/>\n       </defs>\n       <use xlink:href=\"#DejaVuSans-57\"/>\n       <use xlink:href=\"#DejaVuSans-69\" x=\"96.626953\"/>\n       <use xlink:href=\"#DejaVuSans-6e\" x=\"124.410156\"/>\n       <use xlink:href=\"#DejaVuSans-64\" x=\"187.789062\"/>\n       <use xlink:href=\"#DejaVuSans-6f\" x=\"251.265625\"/>\n       <use xlink:href=\"#DejaVuSans-77\" x=\"312.447266\"/>\n       <use xlink:href=\"#DejaVuSans-2d\" x=\"394.234375\"/>\n       <use xlink:href=\"#DejaVuSans-74\" x=\"430.318359\"/>\n       <use xlink:href=\"#DejaVuSans-6f\" x=\"469.527344\"/>\n       <use xlink:href=\"#DejaVuSans-2d\" x=\"532.583984\"/>\n       <use xlink:href=\"#DejaVuSans-57\" x=\"564.667969\"/>\n       <use xlink:href=\"#DejaVuSans-61\" x=\"657.169922\"/>\n       <use xlink:href=\"#DejaVuSans-6c\" x=\"718.449219\"/>\n       <use xlink:href=\"#DejaVuSans-6c\" x=\"746.232422\"/>\n       <use xlink:href=\"#DejaVuSans-20\" x=\"774.015625\"/>\n       <use xlink:href=\"#DejaVuSans-52\" x=\"805.802734\"/>\n       <use xlink:href=\"#DejaVuSans-61\" x=\"873.035156\"/>\n       <use xlink:href=\"#DejaVuSans-74\" x=\"934.314453\"/>\n       <use xlink:href=\"#DejaVuSans-69\" x=\"973.523438\"/>\n       <use xlink:href=\"#DejaVuSans-6f\" x=\"1001.306641\"/>\n      </g>\n     </g>\n    </g>\n   </g>\n   <g id=\"PathCollection_1\"/>\n   <g id=\"PathCollection_2\">\n    <defs>\n     <path id=\"C0_0_a4d7b4cd1f\" d=\"M 0 2.5 \nC 0.663008 2.5 1.29895 2.236584 1.767767 1.767767 \nC 2.236584 1.29895 2.5 0.663008 2.5 -0 \nC 2.5 -0.663008 2.236584 -1.29895 1.767767 -1.767767 \nC 1.29895 -2.236584 0.663008 -2.5 0 -2.5 \nC -0.663008 -2.5 -1.29895 -2.236584 -1.767767 -1.767767 \nC -2.236584 -1.29895 -2.5 -0.663008 -2.5 0 \nC -2.5 0.663008 -2.236584 1.29895 -1.767767 1.767767 \nC -1.29895 2.236584 -0.663008 2.5 0 2.5 \nz\n\"/>\n    </defs>\n    <g clip-path=\"url(#p9b1da51655)\">\n     <use xlink:href=\"#C0_0_a4d7b4cd1f\" x=\"206.166818\" y=\"21.488\" style=\"fill: #a7a7a7; stroke: #a7a7a7\"/>\n    </g>\n    <g clip-path=\"url(#p9b1da51655)\">\n     <use xlink:href=\"#C0_0_a4d7b4cd1f\" x=\"291.650909\" y=\"21.488\" style=\"fill: #a7a7a7; stroke: #a7a7a7\"/>\n    </g>\n    <g clip-path=\"url(#p9b1da51655)\">\n     <use xlink:href=\"#C0_0_a4d7b4cd1f\" x=\"377.135\" y=\"21.488\" style=\"fill: #a7a7a7; stroke: #a7a7a7\"/>\n    </g>\n    <g clip-path=\"url(#p9b1da51655)\">\n     <use xlink:href=\"#C0_0_a4d7b4cd1f\" x=\"462.619091\" y=\"21.488\" style=\"fill: #a7a7a7; stroke: #a7a7a7\"/>\n    </g>\n    <g clip-path=\"url(#p9b1da51655)\">\n     <use xlink:href=\"#C0_0_a4d7b4cd1f\" x=\"548.103182\" y=\"21.488\" style=\"fill: #a7a7a7; stroke: #a7a7a7\"/>\n    </g>\n   </g>\n   <g id=\"text_2\">\n    <!-- 0.35 -->\n    <g style=\"fill: #a7a7a7\" transform=\"translate(196.893185 34.474559) scale(0.0833 -0.0833)\">\n     <defs>\n      <path id=\"DejaVuSans-30\" d=\"M 2034 4250 \nQ 1547 4250 1301 3770 \nQ 1056 3291 1056 2328 \nQ 1056 1369 1301 889 \nQ 1547 409 2034 409 \nQ 2525 409 2770 889 \nQ 3016 1369 3016 2328 \nQ 3016 3291 2770 3770 \nQ 2525 4250 2034 4250 \nz\nM 2034 4750 \nQ 2819 4750 3233 4129 \nQ 3647 3509 3647 2328 \nQ 3647 1150 3233 529 \nQ 2819 -91 2034 -91 \nQ 1250 -91 836 529 \nQ 422 1150 422 2328 \nQ 422 3509 836 4129 \nQ 1250 4750 2034 4750 \nz\n\" transform=\"scale(0.015625)\"/>\n      <path id=\"DejaVuSans-2e\" d=\"M 684 794 \nL 1344 794 \nL 1344 0 \nL 684 0 \nL 684 794 \nz\n\" transform=\"scale(0.015625)\"/>\n      <path id=\"DejaVuSans-33\" d=\"M 2597 2516 \nQ 3050 2419 3304 2112 \nQ 3559 1806 3559 1356 \nQ 3559 666 3084 287 \nQ 2609 -91 1734 -91 \nQ 1441 -91 1130 -33 \nQ 819 25 488 141 \nL 488 750 \nQ 750 597 1062 519 \nQ 1375 441 1716 441 \nQ 2309 441 2620 675 \nQ 2931 909 2931 1356 \nQ 2931 1769 2642 2001 \nQ 2353 2234 1838 2234 \nL 1294 2234 \nL 1294 2753 \nL 1863 2753 \nQ 2328 2753 2575 2939 \nQ 2822 3125 2822 3475 \nQ 2822 3834 2567 4026 \nQ 2313 4219 1838 4219 \nQ 1578 4219 1281 4162 \nQ 984 4106 628 3988 \nL 628 4550 \nQ 988 4650 1302 4700 \nQ 1616 4750 1894 4750 \nQ 2613 4750 3031 4423 \nQ 3450 4097 3450 3541 \nQ 3450 3153 3228 2886 \nQ 3006 2619 2597 2516 \nz\n\" transform=\"scale(0.015625)\"/>\n      <path id=\"DejaVuSans-35\" d=\"M 691 4666 \nL 3169 4666 \nL 3169 4134 \nL 1269 4134 \nL 1269 2991 \nQ 1406 3038 1543 3061 \nQ 1681 3084 1819 3084 \nQ 2600 3084 3056 2656 \nQ 3513 2228 3513 1497 \nQ 3513 744 3044 326 \nQ 2575 -91 1722 -91 \nQ 1428 -91 1123 -41 \nQ 819 9 494 109 \nL 494 744 \nQ 775 591 1075 516 \nQ 1375 441 1709 441 \nQ 2250 441 2565 725 \nQ 2881 1009 2881 1497 \nQ 2881 1984 2565 2268 \nQ 2250 2553 1709 2553 \nQ 1456 2553 1204 2497 \nQ 953 2441 691 2322 \nL 691 4666 \nz\n\" transform=\"scale(0.015625)\"/>\n     </defs>\n     <use xlink:href=\"#DejaVuSans-30\"/>\n     <use xlink:href=\"#DejaVuSans-2e\" x=\"63.623047\"/>\n     <use xlink:href=\"#DejaVuSans-33\" x=\"95.410156\"/>\n     <use xlink:href=\"#DejaVuSans-35\" x=\"159.033203\"/>\n    </g>\n   </g>\n   <g id=\"text_3\">\n    <!-- 0.4 -->\n    <g style=\"fill: #a7a7a7\" transform=\"translate(285.027258 34.474559) scale(0.0833 -0.0833)\">\n     <defs>\n      <path id=\"DejaVuSans-34\" d=\"M 2419 4116 \nL 825 1625 \nL 2419 1625 \nL 2419 4116 \nz\nM 2253 4666 \nL 3047 4666 \nL 3047 1625 \nL 3713 1625 \nL 3713 1100 \nL 3047 1100 \nL 3047 0 \nL 2419 0 \nL 2419 1100 \nL 313 1100 \nL 313 1709 \nL 2253 4666 \nz\n\" transform=\"scale(0.015625)\"/>\n     </defs>\n     <use xlink:href=\"#DejaVuSans-30\"/>\n     <use xlink:href=\"#DejaVuSans-2e\" x=\"63.623047\"/>\n     <use xlink:href=\"#DejaVuSans-34\" x=\"95.410156\"/>\n    </g>\n   </g>\n   <g id=\"text_4\">\n    <!-- 0.45 -->\n    <g style=\"fill: #a7a7a7\" transform=\"translate(367.861367 34.474559) scale(0.0833 -0.0833)\">\n     <use xlink:href=\"#DejaVuSans-30\"/>\n     <use xlink:href=\"#DejaVuSans-2e\" x=\"63.623047\"/>\n     <use xlink:href=\"#DejaVuSans-34\" x=\"95.410156\"/>\n     <use xlink:href=\"#DejaVuSans-35\" x=\"159.033203\"/>\n    </g>\n   </g>\n   <g id=\"text_5\">\n    <!-- 0.5 -->\n    <g style=\"fill: #a7a7a7\" transform=\"translate(455.995439 34.474559) scale(0.0833 -0.0833)\">\n     <use xlink:href=\"#DejaVuSans-30\"/>\n     <use xlink:href=\"#DejaVuSans-2e\" x=\"63.623047\"/>\n     <use xlink:href=\"#DejaVuSans-35\" x=\"95.410156\"/>\n    </g>\n   </g>\n   <g id=\"text_6\">\n    <!-- 0.55 -->\n    <g style=\"fill: #a7a7a7\" transform=\"translate(538.829549 34.474559) scale(0.0833 -0.0833)\">\n     <use xlink:href=\"#DejaVuSans-30\"/>\n     <use xlink:href=\"#DejaVuSans-2e\" x=\"63.623047\"/>\n     <use xlink:href=\"#DejaVuSans-35\" x=\"95.410156\"/>\n     <use xlink:href=\"#DejaVuSans-35\" x=\"159.033203\"/>\n    </g>\n   </g>\n  </g>\n  <g id=\"axes_2\">\n   <g id=\"patch_3\">\n    <path d=\"M 189.07 76.632 \nL 565.2 76.632 \nL 565.2 60.6 \nL 189.07 60.6 \nz\n\" style=\"fill: #ffffff\"/>\n   </g>\n   <g id=\"matplotlib.axis_3\">\n    <g id=\"xtick_6\"/>\n    <g id=\"xtick_7\"/>\n    <g id=\"xtick_8\"/>\n    <g id=\"xtick_9\"/>\n    <g id=\"xtick_10\"/>\n    <g id=\"xtick_11\"/>\n    <g id=\"xtick_12\"/>\n    <g id=\"xtick_13\"/>\n   </g>\n   <g id=\"matplotlib.axis_4\">\n    <g id=\"ytick_2\">\n     <g id=\"line2d_2\">\n      <path d=\"M 189.07 71.288 \nL 565.2 71.288 \n\" clip-path=\"url(#p2f94601c50)\" style=\"fill: none; stroke: #222222; stroke-opacity: 0.2; stroke-width: 0.8; stroke-linecap: square\"/>\n     </g>\n     <g id=\"text_7\">\n      <!-- Window Assembly U (BTU/h-ft²-°F) -->\n      <g transform=\"translate(10.555937 75.087219) scale(0.1 -0.1)\">\n       <defs>\n        <path id=\"DejaVuSans-41\" d=\"M 2188 4044 \nL 1331 1722 \nL 3047 1722 \nL 2188 4044 \nz\nM 1831 4666 \nL 2547 4666 \nL 4325 0 \nL 3669 0 \nL 3244 1197 \nL 1141 1197 \nL 716 0 \nL 50 0 \nL 1831 4666 \nz\n\" transform=\"scale(0.015625)\"/>\n        <path id=\"DejaVuSans-73\" d=\"M 2834 3397 \nL 2834 2853 \nQ 2591 2978 2328 3040 \nQ 2066 3103 1784 3103 \nQ 1356 3103 1142 2972 \nQ 928 2841 928 2578 \nQ 928 2378 1081 2264 \nQ 1234 2150 1697 2047 \nL 1894 2003 \nQ 2506 1872 2764 1633 \nQ 3022 1394 3022 966 \nQ 3022 478 2636 193 \nQ 2250 -91 1575 -91 \nQ 1294 -91 989 -36 \nQ 684 19 347 128 \nL 347 722 \nQ 666 556 975 473 \nQ 1284 391 1588 391 \nQ 1994 391 2212 530 \nQ 2431 669 2431 922 \nQ 2431 1156 2273 1281 \nQ 2116 1406 1581 1522 \nL 1381 1569 \nQ 847 1681 609 1914 \nQ 372 2147 372 2553 \nQ 372 3047 722 3315 \nQ 1072 3584 1716 3584 \nQ 2034 3584 2315 3537 \nQ 2597 3491 2834 3397 \nz\n\" transform=\"scale(0.015625)\"/>\n        <path id=\"DejaVuSans-65\" d=\"M 3597 1894 \nL 3597 1613 \nL 953 1613 \nQ 991 1019 1311 708 \nQ 1631 397 2203 397 \nQ 2534 397 2845 478 \nQ 3156 559 3463 722 \nL 3463 178 \nQ 3153 47 2828 -22 \nQ 2503 -91 2169 -91 \nQ 1331 -91 842 396 \nQ 353 884 353 1716 \nQ 353 2575 817 3079 \nQ 1281 3584 2069 3584 \nQ 2775 3584 3186 3129 \nQ 3597 2675 3597 1894 \nz\nM 3022 2063 \nQ 3016 2534 2758 2815 \nQ 2500 3097 2075 3097 \nQ 1594 3097 1305 2825 \nQ 1016 2553 972 2059 \nL 3022 2063 \nz\n\" transform=\"scale(0.015625)\"/>\n        <path id=\"DejaVuSans-6d\" d=\"M 3328 2828 \nQ 3544 3216 3844 3400 \nQ 4144 3584 4550 3584 \nQ 5097 3584 5394 3201 \nQ 5691 2819 5691 2113 \nL 5691 0 \nL 5113 0 \nL 5113 2094 \nQ 5113 2597 4934 2840 \nQ 4756 3084 4391 3084 \nQ 3944 3084 3684 2787 \nQ 3425 2491 3425 1978 \nL 3425 0 \nL 2847 0 \nL 2847 2094 \nQ 2847 2600 2669 2842 \nQ 2491 3084 2119 3084 \nQ 1678 3084 1418 2786 \nQ 1159 2488 1159 1978 \nL 1159 0 \nL 581 0 \nL 581 3500 \nL 1159 3500 \nL 1159 2956 \nQ 1356 3278 1631 3431 \nQ 1906 3584 2284 3584 \nQ 2666 3584 2933 3390 \nQ 3200 3197 3328 2828 \nz\n\" transform=\"scale(0.015625)\"/>\n        <path id=\"DejaVuSans-62\" d=\"M 3116 1747 \nQ 3116 2381 2855 2742 \nQ 2594 3103 2138 3103 \nQ 1681 3103 1420 2742 \nQ 1159 2381 1159 1747 \nQ 1159 1113 1420 752 \nQ 1681 391 2138 391 \nQ 2594 391 2855 752 \nQ 3116 1113 3116 1747 \nz\nM 1159 2969 \nQ 1341 3281 1617 3432 \nQ 1894 3584 2278 3584 \nQ 2916 3584 3314 3078 \nQ 3713 2572 3713 1747 \nQ 3713 922 3314 415 \nQ 2916 -91 2278 -91 \nQ 1894 -91 1617 61 \nQ 1341 213 1159 525 \nL 1159 0 \nL 581 0 \nL 581 4863 \nL 1159 4863 \nL 1159 2969 \nz\n\" transform=\"scale(0.015625)\"/>\n        <path id=\"DejaVuSans-79\" d=\"M 2059 -325 \nQ 1816 -950 1584 -1140 \nQ 1353 -1331 966 -1331 \nL 506 -1331 \nL 506 -850 \nL 844 -850 \nQ 1081 -850 1212 -737 \nQ 1344 -625 1503 -206 \nL 1606 56 \nL 191 3500 \nL 800 3500 \nL 1894 763 \nL 2988 3500 \nL 3597 3500 \nL 2059 -325 \nz\n\" transform=\"scale(0.015625)\"/>\n        <path id=\"DejaVuSans-55\" d=\"M 556 4666 \nL 1191 4666 \nL 1191 1831 \nQ 1191 1081 1462 751 \nQ 1734 422 2344 422 \nQ 2950 422 3222 751 \nQ 3494 1081 3494 1831 \nL 3494 4666 \nL 4128 4666 \nL 4128 1753 \nQ 4128 841 3676 375 \nQ 3225 -91 2344 -91 \nQ 1459 -91 1007 375 \nQ 556 841 556 1753 \nL 556 4666 \nz\n\" transform=\"scale(0.015625)\"/>\n        <path id=\"DejaVuSans-28\" d=\"M 1984 4856 \nQ 1566 4138 1362 3434 \nQ 1159 2731 1159 2009 \nQ 1159 1288 1364 580 \nQ 1569 -128 1984 -844 \nL 1484 -844 \nQ 1016 -109 783 600 \nQ 550 1309 550 2009 \nQ 550 2706 781 3412 \nQ 1013 4119 1484 4856 \nL 1984 4856 \nz\n\" transform=\"scale(0.015625)\"/>\n        <path id=\"DejaVuSans-42\" d=\"M 1259 2228 \nL 1259 519 \nL 2272 519 \nQ 2781 519 3026 730 \nQ 3272 941 3272 1375 \nQ 3272 1813 3026 2020 \nQ 2781 2228 2272 2228 \nL 1259 2228 \nz\nM 1259 4147 \nL 1259 2741 \nL 2194 2741 \nQ 2656 2741 2882 2914 \nQ 3109 3088 3109 3444 \nQ 3109 3797 2882 3972 \nQ 2656 4147 2194 4147 \nL 1259 4147 \nz\nM 628 4666 \nL 2241 4666 \nQ 2963 4666 3353 4366 \nQ 3744 4066 3744 3513 \nQ 3744 3084 3544 2831 \nQ 3344 2578 2956 2516 \nQ 3422 2416 3680 2098 \nQ 3938 1781 3938 1306 \nQ 3938 681 3513 340 \nQ 3088 0 2303 0 \nL 628 0 \nL 628 4666 \nz\n\" transform=\"scale(0.015625)\"/>\n        <path id=\"DejaVuSans-54\" d=\"M -19 4666 \nL 3928 4666 \nL 3928 4134 \nL 2272 4134 \nL 2272 0 \nL 1638 0 \nL 1638 4134 \nL -19 4134 \nL -19 4666 \nz\n\" transform=\"scale(0.015625)\"/>\n        <path id=\"DejaVuSans-2f\" d=\"M 1625 4666 \nL 2156 4666 \nL 531 -594 \nL 0 -594 \nL 1625 4666 \nz\n\" transform=\"scale(0.015625)\"/>\n        <path id=\"DejaVuSans-68\" d=\"M 3513 2113 \nL 3513 0 \nL 2938 0 \nL 2938 2094 \nQ 2938 2591 2744 2837 \nQ 2550 3084 2163 3084 \nQ 1697 3084 1428 2787 \nQ 1159 2491 1159 1978 \nL 1159 0 \nL 581 0 \nL 581 4863 \nL 1159 4863 \nL 1159 2956 \nQ 1366 3272 1645 3428 \nQ 1925 3584 2291 3584 \nQ 2894 3584 3203 3211 \nQ 3513 2838 3513 2113 \nz\n\" transform=\"scale(0.015625)\"/>\n        <path id=\"DejaVuSans-66\" d=\"M 2375 4863 \nL 2375 4384 \nL 1825 4384 \nQ 1516 4384 1395 4259 \nQ 1275 4134 1275 3809 \nL 1275 3500 \nL 2222 3500 \nL 2222 3053 \nL 1275 3053 \nL 1275 0 \nL 697 0 \nL 697 3053 \nL 147 3053 \nL 147 3500 \nL 697 3500 \nL 697 3744 \nQ 697 4328 969 4595 \nQ 1241 4863 1831 4863 \nL 2375 4863 \nz\n\" transform=\"scale(0.015625)\"/>\n        <path id=\"DejaVuSans-b2\" d=\"M 838 2444 \nL 2163 2444 \nL 2163 2088 \nL 294 2088 \nL 294 2431 \nQ 400 2528 597 2703 \nQ 1672 3656 1672 3950 \nQ 1672 4156 1509 4282 \nQ 1347 4409 1081 4409 \nQ 919 4409 728 4354 \nQ 538 4300 313 4191 \nL 313 4575 \nQ 553 4663 761 4706 \nQ 969 4750 1147 4750 \nQ 1600 4750 1872 4544 \nQ 2144 4338 2144 4000 \nQ 2144 3566 1109 2678 \nQ 934 2528 838 2444 \nz\n\" transform=\"scale(0.015625)\"/>\n        <path id=\"DejaVuSans-b0\" d=\"M 1600 4347 \nQ 1350 4347 1178 4173 \nQ 1006 4000 1006 3750 \nQ 1006 3503 1178 3333 \nQ 1350 3163 1600 3163 \nQ 1850 3163 2022 3333 \nQ 2194 3503 2194 3750 \nQ 2194 3997 2020 4172 \nQ 1847 4347 1600 4347 \nz\nM 1600 4750 \nQ 1800 4750 1984 4673 \nQ 2169 4597 2303 4453 \nQ 2447 4313 2519 4134 \nQ 2591 3956 2591 3750 \nQ 2591 3338 2302 3052 \nQ 2013 2766 1594 2766 \nQ 1172 2766 890 3047 \nQ 609 3328 609 3750 \nQ 609 4169 896 4459 \nQ 1184 4750 1600 4750 \nz\n\" transform=\"scale(0.015625)\"/>\n        <path id=\"DejaVuSans-46\" d=\"M 628 4666 \nL 3309 4666 \nL 3309 4134 \nL 1259 4134 \nL 1259 2759 \nL 3109 2759 \nL 3109 2228 \nL 1259 2228 \nL 1259 0 \nL 628 0 \nL 628 4666 \nz\n\" transform=\"scale(0.015625)\"/>\n        <path id=\"DejaVuSans-29\" d=\"M 513 4856 \nL 1013 4856 \nQ 1481 4119 1714 3412 \nQ 1947 2706 1947 2009 \nQ 1947 1309 1714 600 \nQ 1481 -109 1013 -844 \nL 513 -844 \nQ 928 -128 1133 580 \nQ 1338 1288 1338 2009 \nQ 1338 2731 1133 3434 \nQ 928 4138 513 4856 \nz\n\" transform=\"scale(0.015625)\"/>\n       </defs>\n       <use xlink:href=\"#DejaVuSans-57\"/>\n       <use xlink:href=\"#DejaVuSans-69\" x=\"96.626953\"/>\n       <use xlink:href=\"#DejaVuSans-6e\" x=\"124.410156\"/>\n       <use xlink:href=\"#DejaVuSans-64\" x=\"187.789062\"/>\n       <use xlink:href=\"#DejaVuSans-6f\" x=\"251.265625\"/>\n       <use xlink:href=\"#DejaVuSans-77\" x=\"312.447266\"/>\n       <use xlink:href=\"#DejaVuSans-20\" x=\"394.234375\"/>\n       <use xlink:href=\"#DejaVuSans-41\" x=\"426.021484\"/>\n       <use xlink:href=\"#DejaVuSans-73\" x=\"494.429688\"/>\n       <use xlink:href=\"#DejaVuSans-73\" x=\"546.529297\"/>\n       <use xlink:href=\"#DejaVuSans-65\" x=\"598.628906\"/>\n       <use xlink:href=\"#DejaVuSans-6d\" x=\"660.152344\"/>\n       <use xlink:href=\"#DejaVuSans-62\" x=\"757.564453\"/>\n       <use xlink:href=\"#DejaVuSans-6c\" x=\"821.041016\"/>\n       <use xlink:href=\"#DejaVuSans-79\" x=\"848.824219\"/>\n       <use xlink:href=\"#DejaVuSans-20\" x=\"908.003906\"/>\n       <use xlink:href=\"#DejaVuSans-55\" x=\"939.791016\"/>\n       <use xlink:href=\"#DejaVuSans-20\" x=\"1012.984375\"/>\n       <use xlink:href=\"#DejaVuSans-28\" x=\"1044.771484\"/>\n       <use xlink:href=\"#DejaVuSans-42\" x=\"1083.785156\"/>\n       <use xlink:href=\"#DejaVuSans-54\" x=\"1152.388672\"/>\n       <use xlink:href=\"#DejaVuSans-55\" x=\"1213.472656\"/>\n       <use xlink:href=\"#DejaVuSans-2f\" x=\"1286.666016\"/>\n       <use xlink:href=\"#DejaVuSans-68\" x=\"1320.357422\"/>\n       <use xlink:href=\"#DejaVuSans-2d\" x=\"1383.736328\"/>\n       <use xlink:href=\"#DejaVuSans-66\" x=\"1419.820312\"/>\n       <use xlink:href=\"#DejaVuSans-74\" x=\"1453.275391\"/>\n       <use xlink:href=\"#DejaVuSans-b2\" x=\"1492.484375\"/>\n       <use xlink:href=\"#DejaVuSans-2d\" x=\"1532.572266\"/>\n       <use xlink:href=\"#DejaVuSans-b0\" x=\"1568.65625\"/>\n       <use xlink:href=\"#DejaVuSans-46\" x=\"1618.65625\"/>\n       <use xlink:href=\"#DejaVuSans-29\" x=\"1676.175781\"/>\n      </g>\n     </g>\n    </g>\n   </g>\n   <g id=\"PathCollection_3\">\n    <defs>\n     <path id=\"m5c04f23a01\" d=\"M -0 3.162278 \nL 3.162278 -3.162278 \nL -3.162278 -3.162278 \nz\n\" style=\"stroke: #bfbfbf\"/>\n    </defs>\n    <g clip-path=\"url(#p2f94601c50)\">\n     <use xlink:href=\"#m5c04f23a01\" x=\"206.166818\" y=\"71.288\" style=\"fill: #ffffff; stroke: #bfbfbf\"/>\n     <use xlink:href=\"#m5c04f23a01\" x=\"548.103182\" y=\"71.288\" style=\"fill: #ffffff; stroke: #bfbfbf\"/>\n     <use xlink:href=\"#m5c04f23a01\" x=\"346.049876\" y=\"71.288\" style=\"fill: #ffffff; stroke: #bfbfbf\"/>\n     <use xlink:href=\"#m5c04f23a01\" x=\"288.542397\" y=\"71.288\" style=\"fill: #ffffff; stroke: #bfbfbf\"/>\n    </g>\n   </g>\n   <g id=\"PathCollection_4\">\n    <defs>\n     <path id=\"C1_0_b21ecdb0dd\" d=\"M 0 2.5 \nC 0.663008 2.5 1.29895 2.236584 1.767767 1.767767 \nC 2.236584 1.29895 2.5 0.663008 2.5 -0 \nC 2.5 -0.663008 2.236584 -1.29895 1.767767 -1.767767 \nC 1.29895 -2.236584 0.663008 -2.5 0 -2.5 \nC -0.663008 -2.5 -1.29895 -2.236584 -1.767767 -1.767767 \nC -2.236584 -1.29895 -2.5 -0.663008 -2.5 0 \nC -2.5 0.663008 -2.236584 1.29895 -1.767767 1.767767 \nC -1.29895 2.236584 -0.663008 2.5 0 2.5 \nz\n\"/>\n    </defs>\n    <g clip-path=\"url(#p2f94601c50)\">\n     <use xlink:href=\"#C1_0_b21ecdb0dd\" x=\"217.82374\" y=\"71.288\" style=\"fill: #a7a7a7; stroke: #a7a7a7\"/>\n    </g>\n    <g clip-path=\"url(#p2f94601c50)\">\n     <use xlink:href=\"#C1_0_b21ecdb0dd\" x=\"248.908864\" y=\"71.288\" style=\"fill: #a7a7a7; stroke: #a7a7a7\"/>\n    </g>\n    <g clip-path=\"url(#p2f94601c50)\">\n     <use xlink:href=\"#C1_0_b21ecdb0dd\" x=\"276.108347\" y=\"71.288\" style=\"fill: #a7a7a7; stroke: #a7a7a7\"/>\n    </g>\n    <g clip-path=\"url(#p2f94601c50)\">\n     <use xlink:href=\"#C1_0_b21ecdb0dd\" x=\"299.42219\" y=\"71.288\" style=\"fill: #a7a7a7; stroke: #a7a7a7\"/>\n    </g>\n   </g>\n   <g id=\"text_8\">\n    <!-- Passive -->\n    <g style=\"fill: #bfbfbf\" transform=\"translate(190.76608 51.272222) scale(0.0833 -0.0833)\">\n     <defs>\n      <path id=\"DejaVuSans-50\" d=\"M 1259 4147 \nL 1259 2394 \nL 2053 2394 \nQ 2494 2394 2734 2622 \nQ 2975 2850 2975 3272 \nQ 2975 3691 2734 3919 \nQ 2494 4147 2053 4147 \nL 1259 4147 \nz\nM 628 4666 \nL 2053 4666 \nQ 2838 4666 3239 4311 \nQ 3641 3956 3641 3272 \nQ 3641 2581 3239 2228 \nQ 2838 1875 2053 1875 \nL 1259 1875 \nL 1259 0 \nL 628 0 \nL 628 4666 \nz\n\" transform=\"scale(0.015625)\"/>\n      <path id=\"DejaVuSans-76\" d=\"M 191 3500 \nL 800 3500 \nL 1894 563 \nL 2988 3500 \nL 3597 3500 \nL 2284 0 \nL 1503 0 \nL 191 3500 \nz\n\" transform=\"scale(0.015625)\"/>\n     </defs>\n     <use xlink:href=\"#DejaVuSans-50\"/>\n     <use xlink:href=\"#DejaVuSans-61\" x=\"55.802734\"/>\n     <use xlink:href=\"#DejaVuSans-73\" x=\"117.082031\"/>\n     <use xlink:href=\"#DejaVuSans-73\" x=\"169.181641\"/>\n     <use xlink:href=\"#DejaVuSans-69\" x=\"221.28125\"/>\n     <use xlink:href=\"#DejaVuSans-76\" x=\"249.064453\"/>\n     <use xlink:href=\"#DejaVuSans-65\" x=\"308.244141\"/>\n    </g>\n    <!-- House -->\n    <g style=\"fill: #bfbfbf\" transform=\"translate(193.114099 60.6) scale(0.0833 -0.0833)\">\n     <defs>\n      <path id=\"DejaVuSans-48\" d=\"M 628 4666 \nL 1259 4666 \nL 1259 2753 \nL 3553 2753 \nL 3553 4666 \nL 4184 4666 \nL 4184 0 \nL 3553 0 \nL 3553 2222 \nL 1259 2222 \nL 1259 0 \nL 628 0 \nL 628 4666 \nz\n\" transform=\"scale(0.015625)\"/>\n      <path id=\"DejaVuSans-75\" d=\"M 544 1381 \nL 544 3500 \nL 1119 3500 \nL 1119 1403 \nQ 1119 906 1312 657 \nQ 1506 409 1894 409 \nQ 2359 409 2629 706 \nQ 2900 1003 2900 1516 \nL 2900 3500 \nL 3475 3500 \nL 3475 0 \nL 2900 0 \nL 2900 538 \nQ 2691 219 2414 64 \nQ 2138 -91 1772 -91 \nQ 1169 -91 856 284 \nQ 544 659 544 1381 \nz\nM 1991 3584 \nL 1991 3584 \nz\n\" transform=\"scale(0.015625)\"/>\n     </defs>\n     <use xlink:href=\"#DejaVuSans-48\"/>\n     <use xlink:href=\"#DejaVuSans-6f\" x=\"75.195312\"/>\n     <use xlink:href=\"#DejaVuSans-75\" x=\"136.376953\"/>\n     <use xlink:href=\"#DejaVuSans-73\" x=\"199.755859\"/>\n     <use xlink:href=\"#DejaVuSans-65\" x=\"251.855469\"/>\n    </g>\n   </g>\n   <g id=\"text_9\">\n    <!-- Single -->\n    <g style=\"fill: #bfbfbf\" transform=\"translate(535.29841 51.272222) scale(0.0833 -0.0833)\">\n     <defs>\n      <path id=\"DejaVuSans-53\" d=\"M 3425 4513 \nL 3425 3897 \nQ 3066 4069 2747 4153 \nQ 2428 4238 2131 4238 \nQ 1616 4238 1336 4038 \nQ 1056 3838 1056 3469 \nQ 1056 3159 1242 3001 \nQ 1428 2844 1947 2747 \nL 2328 2669 \nQ 3034 2534 3370 2195 \nQ 3706 1856 3706 1288 \nQ 3706 609 3251 259 \nQ 2797 -91 1919 -91 \nQ 1588 -91 1214 -16 \nQ 841 59 441 206 \nL 441 856 \nQ 825 641 1194 531 \nQ 1563 422 1919 422 \nQ 2459 422 2753 634 \nQ 3047 847 3047 1241 \nQ 3047 1584 2836 1778 \nQ 2625 1972 2144 2069 \nL 1759 2144 \nQ 1053 2284 737 2584 \nQ 422 2884 422 3419 \nQ 422 4038 858 4394 \nQ 1294 4750 2059 4750 \nQ 2388 4750 2728 4690 \nQ 3069 4631 3425 4513 \nz\n\" transform=\"scale(0.015625)\"/>\n      <path id=\"DejaVuSans-67\" d=\"M 2906 1791 \nQ 2906 2416 2648 2759 \nQ 2391 3103 1925 3103 \nQ 1463 3103 1205 2759 \nQ 947 2416 947 1791 \nQ 947 1169 1205 825 \nQ 1463 481 1925 481 \nQ 2391 481 2648 825 \nQ 2906 1169 2906 1791 \nz\nM 3481 434 \nQ 3481 -459 3084 -895 \nQ 2688 -1331 1869 -1331 \nQ 1566 -1331 1297 -1286 \nQ 1028 -1241 775 -1147 \nL 775 -588 \nQ 1028 -725 1275 -790 \nQ 1522 -856 1778 -856 \nQ 2344 -856 2625 -561 \nQ 2906 -266 2906 331 \nL 2906 616 \nQ 2728 306 2450 153 \nQ 2172 0 1784 0 \nQ 1141 0 747 490 \nQ 353 981 353 1791 \nQ 353 2603 747 3093 \nQ 1141 3584 1784 3584 \nQ 2172 3584 2450 3431 \nQ 2728 3278 2906 2969 \nL 2906 3500 \nL 3481 3500 \nL 3481 434 \nz\n\" transform=\"scale(0.015625)\"/>\n     </defs>\n     <use xlink:href=\"#DejaVuSans-53\"/>\n     <use xlink:href=\"#DejaVuSans-69\" x=\"63.476562\"/>\n     <use xlink:href=\"#DejaVuSans-6e\" x=\"91.259766\"/>\n     <use xlink:href=\"#DejaVuSans-67\" x=\"154.638672\"/>\n     <use xlink:href=\"#DejaVuSans-6c\" x=\"218.115234\"/>\n     <use xlink:href=\"#DejaVuSans-65\" x=\"245.898438\"/>\n    </g>\n    <!-- Pane -->\n    <g style=\"fill: #bfbfbf\" transform=\"translate(538.024533 60.6) scale(0.0833 -0.0833)\">\n     <use xlink:href=\"#DejaVuSans-50\"/>\n     <use xlink:href=\"#DejaVuSans-61\" x=\"55.802734\"/>\n     <use xlink:href=\"#DejaVuSans-6e\" x=\"117.082031\"/>\n     <use xlink:href=\"#DejaVuSans-65\" x=\"180.460938\"/>\n    </g>\n   </g>\n   <g id=\"text_10\">\n    <!-- Double, -->\n    <g style=\"fill: #bfbfbf\" transform=\"translate(329.967119 51.272222) scale(0.0833 -0.0833)\">\n     <defs>\n      <path id=\"DejaVuSans-44\" d=\"M 1259 4147 \nL 1259 519 \nL 2022 519 \nQ 2988 519 3436 956 \nQ 3884 1394 3884 2338 \nQ 3884 3275 3436 3711 \nQ 2988 4147 2022 4147 \nL 1259 4147 \nz\nM 628 4666 \nL 1925 4666 \nQ 3281 4666 3915 4102 \nQ 4550 3538 4550 2338 \nQ 4550 1131 3912 565 \nQ 3275 0 1925 0 \nL 628 0 \nL 628 4666 \nz\n\" transform=\"scale(0.015625)\"/>\n      <path id=\"DejaVuSans-2c\" d=\"M 750 794 \nL 1409 794 \nL 1409 256 \nL 897 -744 \nL 494 -744 \nL 750 256 \nL 750 794 \nz\n\" transform=\"scale(0.015625)\"/>\n     </defs>\n     <use xlink:href=\"#DejaVuSans-44\"/>\n     <use xlink:href=\"#DejaVuSans-6f\" x=\"77.001953\"/>\n     <use xlink:href=\"#DejaVuSans-75\" x=\"138.183594\"/>\n     <use xlink:href=\"#DejaVuSans-62\" x=\"201.5625\"/>\n     <use xlink:href=\"#DejaVuSans-6c\" x=\"265.039062\"/>\n     <use xlink:href=\"#DejaVuSans-65\" x=\"292.822266\"/>\n     <use xlink:href=\"#DejaVuSans-2c\" x=\"354.345703\"/>\n    </g>\n    <!-- clear -->\n    <g style=\"fill: #bfbfbf\" transform=\"translate(335.775342 60.6) scale(0.0833 -0.0833)\">\n     <defs>\n      <path id=\"DejaVuSans-63\" d=\"M 3122 3366 \nL 3122 2828 \nQ 2878 2963 2633 3030 \nQ 2388 3097 2138 3097 \nQ 1578 3097 1268 2742 \nQ 959 2388 959 1747 \nQ 959 1106 1268 751 \nQ 1578 397 2138 397 \nQ 2388 397 2633 464 \nQ 2878 531 3122 666 \nL 3122 134 \nQ 2881 22 2623 -34 \nQ 2366 -91 2075 -91 \nQ 1284 -91 818 406 \nQ 353 903 353 1747 \nQ 353 2603 823 3093 \nQ 1294 3584 2113 3584 \nQ 2378 3584 2631 3529 \nQ 2884 3475 3122 3366 \nz\n\" transform=\"scale(0.015625)\"/>\n      <path id=\"DejaVuSans-72\" d=\"M 2631 2963 \nQ 2534 3019 2420 3045 \nQ 2306 3072 2169 3072 \nQ 1681 3072 1420 2755 \nQ 1159 2438 1159 1844 \nL 1159 0 \nL 581 0 \nL 581 3500 \nL 1159 3500 \nL 1159 2956 \nQ 1341 3275 1631 3429 \nQ 1922 3584 2338 3584 \nQ 2397 3584 2469 3576 \nQ 2541 3569 2628 3553 \nL 2631 2963 \nz\n\" transform=\"scale(0.015625)\"/>\n     </defs>\n     <use xlink:href=\"#DejaVuSans-63\"/>\n     <use xlink:href=\"#DejaVuSans-6c\" x=\"54.980469\"/>\n     <use xlink:href=\"#DejaVuSans-65\" x=\"82.763672\"/>\n     <use xlink:href=\"#DejaVuSans-61\" x=\"144.287109\"/>\n     <use xlink:href=\"#DejaVuSans-72\" x=\"205.566406\"/>\n    </g>\n   </g>\n   <g id=\"text_11\">\n    <!-- Double, -->\n    <g style=\"fill: #bfbfbf\" transform=\"translate(272.45964 51.272222) scale(0.0833 -0.0833)\">\n     <use xlink:href=\"#DejaVuSans-44\"/>\n     <use xlink:href=\"#DejaVuSans-6f\" x=\"77.001953\"/>\n     <use xlink:href=\"#DejaVuSans-75\" x=\"138.183594\"/>\n     <use xlink:href=\"#DejaVuSans-62\" x=\"201.5625\"/>\n     <use xlink:href=\"#DejaVuSans-6c\" x=\"265.039062\"/>\n     <use xlink:href=\"#DejaVuSans-65\" x=\"292.822266\"/>\n     <use xlink:href=\"#DejaVuSans-2c\" x=\"354.345703\"/>\n    </g>\n    <!-- low-e -->\n    <g style=\"fill: #bfbfbf\" transform=\"translate(277.365229 60.6) scale(0.0833 -0.0833)\">\n     <use xlink:href=\"#DejaVuSans-6c\"/>\n     <use xlink:href=\"#DejaVuSans-6f\" x=\"27.783203\"/>\n     <use xlink:href=\"#DejaVuSans-77\" x=\"88.964844\"/>\n     <use xlink:href=\"#DejaVuSans-2d\" x=\"170.751953\"/>\n     <use xlink:href=\"#DejaVuSans-65\" x=\"206.835938\"/>\n    </g>\n   </g>\n   <g id=\"text_12\">\n    <!-- 0.17 -->\n    <g style=\"fill: #a7a7a7\" transform=\"translate(208.550107 84.274559) scale(0.0833 -0.0833)\">\n     <defs>\n      <path id=\"DejaVuSans-31\" d=\"M 794 531 \nL 1825 531 \nL 1825 4091 \nL 703 3866 \nL 703 4441 \nL 1819 4666 \nL 2450 4666 \nL 2450 531 \nL 3481 531 \nL 3481 0 \nL 794 0 \nL 794 531 \nz\n\" transform=\"scale(0.015625)\"/>\n      <path id=\"DejaVuSans-37\" d=\"M 525 4666 \nL 3525 4666 \nL 3525 4397 \nL 1831 0 \nL 1172 0 \nL 2766 4134 \nL 525 4134 \nL 525 4666 \nz\n\" transform=\"scale(0.015625)\"/>\n     </defs>\n     <use xlink:href=\"#DejaVuSans-30\"/>\n     <use xlink:href=\"#DejaVuSans-2e\" x=\"63.623047\"/>\n     <use xlink:href=\"#DejaVuSans-31\" x=\"95.410156\"/>\n     <use xlink:href=\"#DejaVuSans-37\" x=\"159.033203\"/>\n    </g>\n   </g>\n   <g id=\"text_13\">\n    <!-- 0.25 -->\n    <g style=\"fill: #a7a7a7\" transform=\"translate(239.635231 84.274559) scale(0.0833 -0.0833)\">\n     <defs>\n      <path id=\"DejaVuSans-32\" d=\"M 1228 531 \nL 3431 531 \nL 3431 0 \nL 469 0 \nL 469 531 \nQ 828 903 1448 1529 \nQ 2069 2156 2228 2338 \nQ 2531 2678 2651 2914 \nQ 2772 3150 2772 3378 \nQ 2772 3750 2511 3984 \nQ 2250 4219 1831 4219 \nQ 1534 4219 1204 4116 \nQ 875 4013 500 3803 \nL 500 4441 \nQ 881 4594 1212 4672 \nQ 1544 4750 1819 4750 \nQ 2544 4750 2975 4387 \nQ 3406 4025 3406 3419 \nQ 3406 3131 3298 2873 \nQ 3191 2616 2906 2266 \nQ 2828 2175 2409 1742 \nQ 1991 1309 1228 531 \nz\n\" transform=\"scale(0.015625)\"/>\n     </defs>\n     <use xlink:href=\"#DejaVuSans-30\"/>\n     <use xlink:href=\"#DejaVuSans-2e\" x=\"63.623047\"/>\n     <use xlink:href=\"#DejaVuSans-32\" x=\"95.410156\"/>\n     <use xlink:href=\"#DejaVuSans-35\" x=\"159.033203\"/>\n    </g>\n   </g>\n   <g id=\"text_14\">\n    <!-- 0.32 -->\n    <g style=\"fill: #a7a7a7\" transform=\"translate(266.834714 84.274559) scale(0.0833 -0.0833)\">\n     <use xlink:href=\"#DejaVuSans-30\"/>\n     <use xlink:href=\"#DejaVuSans-2e\" x=\"63.623047\"/>\n     <use xlink:href=\"#DejaVuSans-33\" x=\"95.410156\"/>\n     <use xlink:href=\"#DejaVuSans-32\" x=\"159.033203\"/>\n    </g>\n   </g>\n   <g id=\"text_15\">\n    <!-- 0.38 -->\n    <g style=\"fill: #a7a7a7\" transform=\"translate(290.148557 84.274559) scale(0.0833 -0.0833)\">\n     <defs>\n      <path id=\"DejaVuSans-38\" d=\"M 2034 2216 \nQ 1584 2216 1326 1975 \nQ 1069 1734 1069 1313 \nQ 1069 891 1326 650 \nQ 1584 409 2034 409 \nQ 2484 409 2743 651 \nQ 3003 894 3003 1313 \nQ 3003 1734 2745 1975 \nQ 2488 2216 2034 2216 \nz\nM 1403 2484 \nQ 997 2584 770 2862 \nQ 544 3141 544 3541 \nQ 544 4100 942 4425 \nQ 1341 4750 2034 4750 \nQ 2731 4750 3128 4425 \nQ 3525 4100 3525 3541 \nQ 3525 3141 3298 2862 \nQ 3072 2584 2669 2484 \nQ 3125 2378 3379 2068 \nQ 3634 1759 3634 1313 \nQ 3634 634 3220 271 \nQ 2806 -91 2034 -91 \nQ 1263 -91 848 271 \nQ 434 634 434 1313 \nQ 434 1759 690 2068 \nQ 947 2378 1403 2484 \nz\nM 1172 3481 \nQ 1172 3119 1398 2916 \nQ 1625 2713 2034 2713 \nQ 2441 2713 2670 2916 \nQ 2900 3119 2900 3481 \nQ 2900 3844 2670 4047 \nQ 2441 4250 2034 4250 \nQ 1625 4250 1398 4047 \nQ 1172 3844 1172 3481 \nz\n\" transform=\"scale(0.015625)\"/>\n     </defs>\n     <use xlink:href=\"#DejaVuSans-30\"/>\n     <use xlink:href=\"#DejaVuSans-2e\" x=\"63.623047\"/>\n     <use xlink:href=\"#DejaVuSans-33\" x=\"95.410156\"/>\n     <use xlink:href=\"#DejaVuSans-38\" x=\"159.033203\"/>\n    </g>\n   </g>\n  </g>\n  <g id=\"axes_3\">\n   <g id=\"patch_4\">\n    <path d=\"M 189.07 126.432 \nL 565.2 126.432 \nL 565.2 110.4 \nL 189.07 110.4 \nz\n\" style=\"fill: #ffffff\"/>\n   </g>\n   <g id=\"matplotlib.axis_5\">\n    <g id=\"xtick_14\"/>\n    <g id=\"xtick_15\"/>\n    <g id=\"xtick_16\"/>\n    <g id=\"xtick_17\"/>\n    <g id=\"xtick_18\"/>\n   </g>\n   <g id=\"matplotlib.axis_6\">\n    <g id=\"ytick_3\">\n     <g id=\"line2d_3\">\n      <path d=\"M 189.07 121.088 \nL 565.2 121.088 \n\" clip-path=\"url(#p55b0624677)\" style=\"fill: none; stroke: #222222; stroke-opacity: 0.2; stroke-width: 0.8; stroke-linecap: square\"/>\n     </g>\n     <g id=\"text_16\">\n      <!-- Window SHGC -->\n      <g transform=\"translate(110.868438 124.887219) scale(0.1 -0.1)\">\n       <defs>\n        <path id=\"DejaVuSans-47\" d=\"M 3809 666 \nL 3809 1919 \nL 2778 1919 \nL 2778 2438 \nL 4434 2438 \nL 4434 434 \nQ 4069 175 3628 42 \nQ 3188 -91 2688 -91 \nQ 1594 -91 976 548 \nQ 359 1188 359 2328 \nQ 359 3472 976 4111 \nQ 1594 4750 2688 4750 \nQ 3144 4750 3555 4637 \nQ 3966 4525 4313 4306 \nL 4313 3634 \nQ 3963 3931 3569 4081 \nQ 3175 4231 2741 4231 \nQ 1884 4231 1454 3753 \nQ 1025 3275 1025 2328 \nQ 1025 1384 1454 906 \nQ 1884 428 2741 428 \nQ 3075 428 3337 486 \nQ 3600 544 3809 666 \nz\n\" transform=\"scale(0.015625)\"/>\n        <path id=\"DejaVuSans-43\" d=\"M 4122 4306 \nL 4122 3641 \nQ 3803 3938 3442 4084 \nQ 3081 4231 2675 4231 \nQ 1875 4231 1450 3742 \nQ 1025 3253 1025 2328 \nQ 1025 1406 1450 917 \nQ 1875 428 2675 428 \nQ 3081 428 3442 575 \nQ 3803 722 4122 1019 \nL 4122 359 \nQ 3791 134 3420 21 \nQ 3050 -91 2638 -91 \nQ 1578 -91 968 557 \nQ 359 1206 359 2328 \nQ 359 3453 968 4101 \nQ 1578 4750 2638 4750 \nQ 3056 4750 3426 4639 \nQ 3797 4528 4122 4306 \nz\n\" transform=\"scale(0.015625)\"/>\n       </defs>\n       <use xlink:href=\"#DejaVuSans-57\"/>\n       <use xlink:href=\"#DejaVuSans-69\" x=\"96.626953\"/>\n       <use xlink:href=\"#DejaVuSans-6e\" x=\"124.410156\"/>\n       <use xlink:href=\"#DejaVuSans-64\" x=\"187.789062\"/>\n       <use xlink:href=\"#DejaVuSans-6f\" x=\"251.265625\"/>\n       <use xlink:href=\"#DejaVuSans-77\" x=\"312.447266\"/>\n       <use xlink:href=\"#DejaVuSans-20\" x=\"394.234375\"/>\n       <use xlink:href=\"#DejaVuSans-53\" x=\"426.021484\"/>\n       <use xlink:href=\"#DejaVuSans-48\" x=\"489.498047\"/>\n       <use xlink:href=\"#DejaVuSans-47\" x=\"564.693359\"/>\n       <use xlink:href=\"#DejaVuSans-43\" x=\"642.183594\"/>\n      </g>\n     </g>\n    </g>\n   </g>\n   <g id=\"PathCollection_5\"/>\n   <g id=\"PathCollection_6\">\n    <defs>\n     <path id=\"C2_0_4d3747988b\" d=\"M 0 2.5 \nC 0.663008 2.5 1.29895 2.236584 1.767767 1.767767 \nC 2.236584 1.29895 2.5 0.663008 2.5 -0 \nC 2.5 -0.663008 2.236584 -1.29895 1.767767 -1.767767 \nC 1.29895 -2.236584 0.663008 -2.5 0 -2.5 \nC -0.663008 -2.5 -1.29895 -2.236584 -1.767767 -1.767767 \nC -2.236584 -1.29895 -2.5 -0.663008 -2.5 0 \nC -2.5 0.663008 -2.236584 1.29895 -1.767767 1.767767 \nC -1.29895 2.236584 -0.663008 2.5 0 2.5 \nz\n\"/>\n    </defs>\n    <g clip-path=\"url(#p55b0624677)\">\n     <use xlink:href=\"#C2_0_4d3747988b\" x=\"206.166818\" y=\"121.088\" style=\"fill: #a7a7a7; stroke: #a7a7a7\"/>\n    </g>\n    <g clip-path=\"url(#p55b0624677)\">\n     <use xlink:href=\"#C2_0_4d3747988b\" x=\"291.650909\" y=\"121.088\" style=\"fill: #a7a7a7; stroke: #a7a7a7\"/>\n    </g>\n    <g clip-path=\"url(#p55b0624677)\">\n     <use xlink:href=\"#C2_0_4d3747988b\" x=\"377.135\" y=\"121.088\" style=\"fill: #a7a7a7; stroke: #a7a7a7\"/>\n    </g>\n    <g clip-path=\"url(#p55b0624677)\">\n     <use xlink:href=\"#C2_0_4d3747988b\" x=\"462.619091\" y=\"121.088\" style=\"fill: #a7a7a7; stroke: #a7a7a7\"/>\n    </g>\n    <g clip-path=\"url(#p55b0624677)\">\n     <use xlink:href=\"#C2_0_4d3747988b\" x=\"548.103182\" y=\"121.088\" style=\"fill: #a7a7a7; stroke: #a7a7a7\"/>\n    </g>\n   </g>\n   <g id=\"text_17\">\n    <!-- 0.2 -->\n    <g style=\"fill: #a7a7a7\" transform=\"translate(199.543167 134.074559) scale(0.0833 -0.0833)\">\n     <use xlink:href=\"#DejaVuSans-30\"/>\n     <use xlink:href=\"#DejaVuSans-2e\" x=\"63.623047\"/>\n     <use xlink:href=\"#DejaVuSans-32\" x=\"95.410156\"/>\n    </g>\n   </g>\n   <g id=\"text_18\">\n    <!-- 0.25 -->\n    <g style=\"fill: #a7a7a7\" transform=\"translate(282.377276 134.074559) scale(0.0833 -0.0833)\">\n     <use xlink:href=\"#DejaVuSans-30\"/>\n     <use xlink:href=\"#DejaVuSans-2e\" x=\"63.623047\"/>\n     <use xlink:href=\"#DejaVuSans-32\" x=\"95.410156\"/>\n     <use xlink:href=\"#DejaVuSans-35\" x=\"159.033203\"/>\n    </g>\n   </g>\n   <g id=\"text_19\">\n    <!-- 0.3 -->\n    <g style=\"fill: #a7a7a7\" transform=\"translate(370.511348 134.074559) scale(0.0833 -0.0833)\">\n     <use xlink:href=\"#DejaVuSans-30\"/>\n     <use xlink:href=\"#DejaVuSans-2e\" x=\"63.623047\"/>\n     <use xlink:href=\"#DejaVuSans-33\" x=\"95.410156\"/>\n    </g>\n   </g>\n   <g id=\"text_20\">\n    <!-- 0.35 -->\n    <g style=\"fill: #a7a7a7\" transform=\"translate(453.345458 134.074559) scale(0.0833 -0.0833)\">\n     <use xlink:href=\"#DejaVuSans-30\"/>\n     <use xlink:href=\"#DejaVuSans-2e\" x=\"63.623047\"/>\n     <use xlink:href=\"#DejaVuSans-33\" x=\"95.410156\"/>\n     <use xlink:href=\"#DejaVuSans-35\" x=\"159.033203\"/>\n    </g>\n   </g>\n   <g id=\"text_21\">\n    <!-- 0.4 -->\n    <g style=\"fill: #a7a7a7\" transform=\"translate(541.47953 134.074559) scale(0.0833 -0.0833)\">\n     <use xlink:href=\"#DejaVuSans-30\"/>\n     <use xlink:href=\"#DejaVuSans-2e\" x=\"63.623047\"/>\n     <use xlink:href=\"#DejaVuSans-34\" x=\"95.410156\"/>\n    </g>\n   </g>\n  </g>\n  <g id=\"axes_4\">\n   <g id=\"patch_5\">\n    <path d=\"M 189.07 176.232 \nL 565.2 176.232 \nL 565.2 160.2 \nL 189.07 160.2 \nz\n\" style=\"fill: #ffffff\"/>\n   </g>\n   <g id=\"matplotlib.axis_7\">\n    <g id=\"xtick_19\"/>\n    <g id=\"xtick_20\"/>\n    <g id=\"xtick_21\"/>\n    <g id=\"xtick_22\"/>\n   </g>\n   <g id=\"matplotlib.axis_8\">\n    <g id=\"ytick_4\">\n     <g id=\"line2d_4\">\n      <path d=\"M 189.07 170.888 \nL 565.2 170.888 \n\" clip-path=\"url(#paaea3a375d)\" style=\"fill: none; stroke: #222222; stroke-opacity: 0.2; stroke-width: 0.8; stroke-linecap: square\"/>\n     </g>\n     <g id=\"text_22\">\n      <!-- Effective Roof R (h-ft²-°F/BTU) -->\n      <g transform=\"translate(32.510625 174.687219) scale(0.1 -0.1)\">\n       <defs>\n        <path id=\"DejaVuSans-45\" d=\"M 628 4666 \nL 3578 4666 \nL 3578 4134 \nL 1259 4134 \nL 1259 2753 \nL 3481 2753 \nL 3481 2222 \nL 1259 2222 \nL 1259 531 \nL 3634 531 \nL 3634 0 \nL 628 0 \nL 628 4666 \nz\n\" transform=\"scale(0.015625)\"/>\n       </defs>\n       <use xlink:href=\"#DejaVuSans-45\"/>\n       <use xlink:href=\"#DejaVuSans-66\" x=\"63.183594\"/>\n       <use xlink:href=\"#DejaVuSans-66\" x=\"98.388672\"/>\n       <use xlink:href=\"#DejaVuSans-65\" x=\"133.59375\"/>\n       <use xlink:href=\"#DejaVuSans-63\" x=\"195.117188\"/>\n       <use xlink:href=\"#DejaVuSans-74\" x=\"250.097656\"/>\n       <use xlink:href=\"#DejaVuSans-69\" x=\"289.306641\"/>\n       <use xlink:href=\"#DejaVuSans-76\" x=\"317.089844\"/>\n       <use xlink:href=\"#DejaVuSans-65\" x=\"376.269531\"/>\n       <use xlink:href=\"#DejaVuSans-20\" x=\"437.792969\"/>\n       <use xlink:href=\"#DejaVuSans-52\" x=\"469.580078\"/>\n       <use xlink:href=\"#DejaVuSans-6f\" x=\"534.5625\"/>\n       <use xlink:href=\"#DejaVuSans-6f\" x=\"595.744141\"/>\n       <use xlink:href=\"#DejaVuSans-66\" x=\"656.925781\"/>\n       <use xlink:href=\"#DejaVuSans-20\" x=\"692.130859\"/>\n       <use xlink:href=\"#DejaVuSans-52\" x=\"723.917969\"/>\n       <use xlink:href=\"#DejaVuSans-20\" x=\"793.400391\"/>\n       <use xlink:href=\"#DejaVuSans-28\" x=\"825.1875\"/>\n       <use xlink:href=\"#DejaVuSans-68\" x=\"864.201172\"/>\n       <use xlink:href=\"#DejaVuSans-2d\" x=\"927.580078\"/>\n       <use xlink:href=\"#DejaVuSans-66\" x=\"963.664062\"/>\n       <use xlink:href=\"#DejaVuSans-74\" x=\"997.119141\"/>\n       <use xlink:href=\"#DejaVuSans-b2\" x=\"1036.328125\"/>\n       <use xlink:href=\"#DejaVuSans-2d\" x=\"1076.416016\"/>\n       <use xlink:href=\"#DejaVuSans-b0\" x=\"1112.5\"/>\n       <use xlink:href=\"#DejaVuSans-46\" x=\"1162.5\"/>\n       <use xlink:href=\"#DejaVuSans-2f\" x=\"1220.019531\"/>\n       <use xlink:href=\"#DejaVuSans-42\" x=\"1253.710938\"/>\n       <use xlink:href=\"#DejaVuSans-54\" x=\"1322.314453\"/>\n       <use xlink:href=\"#DejaVuSans-55\" x=\"1383.398438\"/>\n       <use xlink:href=\"#DejaVuSans-29\" x=\"1456.591797\"/>\n      </g>\n     </g>\n    </g>\n   </g>\n   <g id=\"PathCollection_7\"/>\n   <g id=\"PathCollection_8\">\n    <defs>\n     <path id=\"C3_0_6d463c1ad7\" d=\"M 0 2.5 \nC 0.663008 2.5 1.29895 2.236584 1.767767 1.767767 \nC 2.236584 1.29895 2.5 0.663008 2.5 -0 \nC 2.5 -0.663008 2.236584 -1.29895 1.767767 -1.767767 \nC 1.29895 -2.236584 0.663008 -2.5 0 -2.5 \nC -0.663008 -2.5 -1.29895 -2.236584 -1.767767 -1.767767 \nC -2.236584 -1.29895 -2.5 -0.663008 -2.5 0 \nC -2.5 0.663008 -2.236584 1.29895 -1.767767 1.767767 \nC -1.29895 2.236584 -0.663008 2.5 0 2.5 \nz\n\"/>\n    </defs>\n    <g clip-path=\"url(#paaea3a375d)\">\n     <use xlink:href=\"#C3_0_6d463c1ad7\" x=\"206.166818\" y=\"170.888\" style=\"fill: #a7a7a7; stroke: #a7a7a7\"/>\n    </g>\n    <g clip-path=\"url(#paaea3a375d)\">\n     <use xlink:href=\"#C3_0_6d463c1ad7\" x=\"291.650909\" y=\"170.888\" style=\"fill: #a7a7a7; stroke: #a7a7a7\"/>\n    </g>\n    <g clip-path=\"url(#paaea3a375d)\">\n     <use xlink:href=\"#C3_0_6d463c1ad7\" x=\"377.135\" y=\"170.888\" style=\"fill: #a7a7a7; stroke: #a7a7a7\"/>\n    </g>\n    <g clip-path=\"url(#paaea3a375d)\">\n     <use xlink:href=\"#C3_0_6d463c1ad7\" x=\"548.103182\" y=\"170.888\" style=\"fill: #a7a7a7; stroke: #a7a7a7\"/>\n    </g>\n   </g>\n   <g id=\"text_23\">\n    <!-- 30 -->\n    <g style=\"fill: #a7a7a7\" transform=\"translate(200.866856 183.874559) scale(0.0833 -0.0833)\">\n     <use xlink:href=\"#DejaVuSans-33\"/>\n     <use xlink:href=\"#DejaVuSans-30\" x=\"63.623047\"/>\n    </g>\n   </g>\n   <g id=\"text_24\">\n    <!-- 35 -->\n    <g style=\"fill: #a7a7a7\" transform=\"translate(286.350947 183.874559) scale(0.0833 -0.0833)\">\n     <use xlink:href=\"#DejaVuSans-33\"/>\n     <use xlink:href=\"#DejaVuSans-35\" x=\"63.623047\"/>\n    </g>\n   </g>\n   <g id=\"text_25\">\n    <!-- 40 -->\n    <g style=\"fill: #a7a7a7\" transform=\"translate(371.835037 183.874559) scale(0.0833 -0.0833)\">\n     <use xlink:href=\"#DejaVuSans-34\"/>\n     <use xlink:href=\"#DejaVuSans-30\" x=\"63.623047\"/>\n    </g>\n   </g>\n   <g id=\"text_26\">\n    <!-- 50 -->\n    <g style=\"fill: #a7a7a7\" transform=\"translate(542.803219 183.874559) scale(0.0833 -0.0833)\">\n     <use xlink:href=\"#DejaVuSans-35\"/>\n     <use xlink:href=\"#DejaVuSans-30\" x=\"63.623047\"/>\n    </g>\n   </g>\n  </g>\n  <g id=\"axes_5\">\n   <g id=\"patch_6\">\n    <path d=\"M 189.07 226.032 \nL 565.2 226.032 \nL 565.2 210 \nL 189.07 210 \nz\n\" style=\"fill: #ffffff\"/>\n   </g>\n   <g id=\"matplotlib.axis_9\">\n    <g id=\"xtick_23\"/>\n    <g id=\"xtick_24\"/>\n    <g id=\"xtick_25\"/>\n    <g id=\"xtick_26\"/>\n    <g id=\"xtick_27\"/>\n   </g>\n   <g id=\"matplotlib.axis_10\">\n    <g id=\"ytick_5\">\n     <g id=\"line2d_5\">\n      <path d=\"M 189.07 220.688 \nL 565.2 220.688 \n\" clip-path=\"url(#p0a41105e94)\" style=\"fill: none; stroke: #222222; stroke-opacity: 0.2; stroke-width: 0.8; stroke-linecap: square\"/>\n     </g>\n     <g id=\"text_27\">\n      <!-- Effective Wall R (h-ft²-°F/BTU) -->\n      <g transform=\"translate(33.8325 224.487219) scale(0.1 -0.1)\">\n       <use xlink:href=\"#DejaVuSans-45\"/>\n       <use xlink:href=\"#DejaVuSans-66\" x=\"63.183594\"/>\n       <use xlink:href=\"#DejaVuSans-66\" x=\"98.388672\"/>\n       <use xlink:href=\"#DejaVuSans-65\" x=\"133.59375\"/>\n       <use xlink:href=\"#DejaVuSans-63\" x=\"195.117188\"/>\n       <use xlink:href=\"#DejaVuSans-74\" x=\"250.097656\"/>\n       <use xlink:href=\"#DejaVuSans-69\" x=\"289.306641\"/>\n       <use xlink:href=\"#DejaVuSans-76\" x=\"317.089844\"/>\n       <use xlink:href=\"#DejaVuSans-65\" x=\"376.269531\"/>\n       <use xlink:href=\"#DejaVuSans-20\" x=\"437.792969\"/>\n       <use xlink:href=\"#DejaVuSans-57\" x=\"469.580078\"/>\n       <use xlink:href=\"#DejaVuSans-61\" x=\"562.082031\"/>\n       <use xlink:href=\"#DejaVuSans-6c\" x=\"623.361328\"/>\n       <use xlink:href=\"#DejaVuSans-6c\" x=\"651.144531\"/>\n       <use xlink:href=\"#DejaVuSans-20\" x=\"678.927734\"/>\n       <use xlink:href=\"#DejaVuSans-52\" x=\"710.714844\"/>\n       <use xlink:href=\"#DejaVuSans-20\" x=\"780.197266\"/>\n       <use xlink:href=\"#DejaVuSans-28\" x=\"811.984375\"/>\n       <use xlink:href=\"#DejaVuSans-68\" x=\"850.998047\"/>\n       <use xlink:href=\"#DejaVuSans-2d\" x=\"914.376953\"/>\n       <use xlink:href=\"#DejaVuSans-66\" x=\"950.460938\"/>\n       <use xlink:href=\"#DejaVuSans-74\" x=\"983.916016\"/>\n       <use xlink:href=\"#DejaVuSans-b2\" x=\"1023.125\"/>\n       <use xlink:href=\"#DejaVuSans-2d\" x=\"1063.212891\"/>\n       <use xlink:href=\"#DejaVuSans-b0\" x=\"1099.296875\"/>\n       <use xlink:href=\"#DejaVuSans-46\" x=\"1149.296875\"/>\n       <use xlink:href=\"#DejaVuSans-2f\" x=\"1206.816406\"/>\n       <use xlink:href=\"#DejaVuSans-42\" x=\"1240.507812\"/>\n       <use xlink:href=\"#DejaVuSans-54\" x=\"1309.111328\"/>\n       <use xlink:href=\"#DejaVuSans-55\" x=\"1370.195312\"/>\n       <use xlink:href=\"#DejaVuSans-29\" x=\"1443.388672\"/>\n      </g>\n     </g>\n    </g>\n   </g>\n   <g id=\"PathCollection_9\"/>\n   <g id=\"PathCollection_10\">\n    <defs>\n     <path id=\"C4_0_e9bb777d0f\" d=\"M 0 2.5 \nC 0.663008 2.5 1.29895 2.236584 1.767767 1.767767 \nC 2.236584 1.29895 2.5 0.663008 2.5 -0 \nC 2.5 -0.663008 2.236584 -1.29895 1.767767 -1.767767 \nC 1.29895 -2.236584 0.663008 -2.5 0 -2.5 \nC -0.663008 -2.5 -1.29895 -2.236584 -1.767767 -1.767767 \nC -2.236584 -1.29895 -2.5 -0.663008 -2.5 0 \nC -2.5 0.663008 -2.236584 1.29895 -1.767767 1.767767 \nC -1.29895 2.236584 -0.663008 2.5 0 2.5 \nz\n\"/>\n    </defs>\n    <g clip-path=\"url(#p0a41105e94)\">\n     <use xlink:href=\"#C4_0_e9bb777d0f\" x=\"206.166818\" y=\"220.688\" style=\"fill: #a7a7a7; stroke: #a7a7a7\"/>\n    </g>\n    <g clip-path=\"url(#p0a41105e94)\">\n     <use xlink:href=\"#C4_0_e9bb777d0f\" x=\"291.650909\" y=\"220.688\" style=\"fill: #a7a7a7; stroke: #a7a7a7\"/>\n    </g>\n    <g clip-path=\"url(#p0a41105e94)\">\n     <use xlink:href=\"#C4_0_e9bb777d0f\" x=\"377.135\" y=\"220.688\" style=\"fill: #a7a7a7; stroke: #a7a7a7\"/>\n    </g>\n    <g clip-path=\"url(#p0a41105e94)\">\n     <use xlink:href=\"#C4_0_e9bb777d0f\" x=\"462.619091\" y=\"220.688\" style=\"fill: #a7a7a7; stroke: #a7a7a7\"/>\n    </g>\n    <g clip-path=\"url(#p0a41105e94)\">\n     <use xlink:href=\"#C4_0_e9bb777d0f\" x=\"548.103182\" y=\"220.688\" style=\"fill: #a7a7a7; stroke: #a7a7a7\"/>\n    </g>\n   </g>\n   <g id=\"text_28\">\n    <!-- 10 -->\n    <g style=\"fill: #a7a7a7\" transform=\"translate(200.866856 233.674559) scale(0.0833 -0.0833)\">\n     <use xlink:href=\"#DejaVuSans-31\"/>\n     <use xlink:href=\"#DejaVuSans-30\" x=\"63.623047\"/>\n    </g>\n   </g>\n   <g id=\"text_29\">\n    <!-- 15 -->\n    <g style=\"fill: #a7a7a7\" transform=\"translate(286.350947 233.674559) scale(0.0833 -0.0833)\">\n     <use xlink:href=\"#DejaVuSans-31\"/>\n     <use xlink:href=\"#DejaVuSans-35\" x=\"63.623047\"/>\n    </g>\n   </g>\n   <g id=\"text_30\">\n    <!-- 20 -->\n    <g style=\"fill: #a7a7a7\" transform=\"translate(371.835037 233.674559) scale(0.0833 -0.0833)\">\n     <use xlink:href=\"#DejaVuSans-32\"/>\n     <use xlink:href=\"#DejaVuSans-30\" x=\"63.623047\"/>\n    </g>\n   </g>\n   <g id=\"text_31\">\n    <!-- 25 -->\n    <g style=\"fill: #a7a7a7\" transform=\"translate(457.319128 233.674559) scale(0.0833 -0.0833)\">\n     <use xlink:href=\"#DejaVuSans-32\"/>\n     <use xlink:href=\"#DejaVuSans-35\" x=\"63.623047\"/>\n    </g>\n   </g>\n   <g id=\"text_32\">\n    <!-- 30 -->\n    <g style=\"fill: #a7a7a7\" transform=\"translate(542.803219 233.674559) scale(0.0833 -0.0833)\">\n     <use xlink:href=\"#DejaVuSans-33\"/>\n     <use xlink:href=\"#DejaVuSans-30\" x=\"63.623047\"/>\n    </g>\n   </g>\n  </g>\n  <g id=\"axes_6\">\n   <g id=\"patch_7\">\n    <path d=\"M 189.07 275.832 \nL 565.2 275.832 \nL 565.2 259.8 \nL 189.07 259.8 \nz\n\" style=\"fill: #ffffff\"/>\n   </g>\n   <g id=\"matplotlib.axis_11\">\n    <g id=\"xtick_28\"/>\n    <g id=\"xtick_29\"/>\n    <g id=\"xtick_30\"/>\n    <g id=\"xtick_31\"/>\n    <g id=\"xtick_32\"/>\n    <g id=\"xtick_33\"/>\n   </g>\n   <g id=\"matplotlib.axis_12\">\n    <g id=\"ytick_6\">\n     <g id=\"line2d_6\">\n      <path d=\"M 189.07 270.488 \nL 565.2 270.488 \n\" clip-path=\"url(#peac6aa7830)\" style=\"fill: none; stroke: #222222; stroke-opacity: 0.2; stroke-width: 0.8; stroke-linecap: square\"/>\n     </g>\n     <g id=\"text_33\">\n      <!-- Infiltration (CFM/ft²) -->\n      <g transform=\"translate(83.404375 274.287219) scale(0.1 -0.1)\">\n       <defs>\n        <path id=\"DejaVuSans-49\" d=\"M 628 4666 \nL 1259 4666 \nL 1259 0 \nL 628 0 \nL 628 4666 \nz\n\" transform=\"scale(0.015625)\"/>\n        <path id=\"DejaVuSans-4d\" d=\"M 628 4666 \nL 1569 4666 \nL 2759 1491 \nL 3956 4666 \nL 4897 4666 \nL 4897 0 \nL 4281 0 \nL 4281 4097 \nL 3078 897 \nL 2444 897 \nL 1241 4097 \nL 1241 0 \nL 628 0 \nL 628 4666 \nz\n\" transform=\"scale(0.015625)\"/>\n       </defs>\n       <use xlink:href=\"#DejaVuSans-49\"/>\n       <use xlink:href=\"#DejaVuSans-6e\" x=\"29.492188\"/>\n       <use xlink:href=\"#DejaVuSans-66\" x=\"92.871094\"/>\n       <use xlink:href=\"#DejaVuSans-69\" x=\"128.076172\"/>\n       <use xlink:href=\"#DejaVuSans-6c\" x=\"155.859375\"/>\n       <use xlink:href=\"#DejaVuSans-74\" x=\"183.642578\"/>\n       <use xlink:href=\"#DejaVuSans-72\" x=\"222.851562\"/>\n       <use xlink:href=\"#DejaVuSans-61\" x=\"263.964844\"/>\n       <use xlink:href=\"#DejaVuSans-74\" x=\"325.244141\"/>\n       <use xlink:href=\"#DejaVuSans-69\" x=\"364.453125\"/>\n       <use xlink:href=\"#DejaVuSans-6f\" x=\"392.236328\"/>\n       <use xlink:href=\"#DejaVuSans-6e\" x=\"453.417969\"/>\n       <use xlink:href=\"#DejaVuSans-20\" x=\"516.796875\"/>\n       <use xlink:href=\"#DejaVuSans-28\" x=\"548.583984\"/>\n       <use xlink:href=\"#DejaVuSans-43\" x=\"587.597656\"/>\n       <use xlink:href=\"#DejaVuSans-46\" x=\"657.421875\"/>\n       <use xlink:href=\"#DejaVuSans-4d\" x=\"714.941406\"/>\n       <use xlink:href=\"#DejaVuSans-2f\" x=\"801.220703\"/>\n       <use xlink:href=\"#DejaVuSans-66\" x=\"834.912109\"/>\n       <use xlink:href=\"#DejaVuSans-74\" x=\"868.367188\"/>\n       <use xlink:href=\"#DejaVuSans-b2\" x=\"907.576172\"/>\n       <use xlink:href=\"#DejaVuSans-29\" x=\"947.664062\"/>\n      </g>\n     </g>\n    </g>\n   </g>\n   <g id=\"PathCollection_11\">\n    <g clip-path=\"url(#peac6aa7830)\">\n     <use xlink:href=\"#m5c04f23a01\" x=\"206.166818\" y=\"270.488\" style=\"fill: #ffffff; stroke: #bfbfbf\"/>\n     <use xlink:href=\"#m5c04f23a01\" x=\"312.825867\" y=\"270.488\" style=\"fill: #ffffff; stroke: #bfbfbf\"/>\n     <use xlink:href=\"#m5c04f23a01\" x=\"406.936793\" y=\"270.488\" style=\"fill: #ffffff; stroke: #bfbfbf\"/>\n    </g>\n   </g>\n   <g id=\"PathCollection_12\">\n    <defs>\n     <path id=\"C5_0_4711ca2cd8\" d=\"M 0 2.5 \nC 0.663008 2.5 1.29895 2.236584 1.767767 1.767767 \nC 2.236584 1.29895 2.5 0.663008 2.5 -0 \nC 2.5 -0.663008 2.236584 -1.29895 1.767767 -1.767767 \nC 1.29895 -2.236584 0.663008 -2.5 0 -2.5 \nC -0.663008 -2.5 -1.29895 -2.236584 -1.767767 -1.767767 \nC -2.236584 -1.29895 -2.5 -0.663008 -2.5 0 \nC -2.5 0.663008 -2.236584 1.29895 -1.767767 1.767767 \nC -1.29895 2.236584 -0.663008 2.5 0 2.5 \nz\n\"/>\n    </defs>\n    <g clip-path=\"url(#peac6aa7830)\">\n     <use xlink:href=\"#C5_0_4711ca2cd8\" x=\"211.992733\" y=\"270.488\" style=\"fill: #a7a7a7; stroke: #a7a7a7\"/>\n    </g>\n    <g clip-path=\"url(#peac6aa7830)\">\n     <use xlink:href=\"#C5_0_4711ca2cd8\" x=\"380.047957\" y=\"270.488\" style=\"fill: #a7a7a7; stroke: #a7a7a7\"/>\n    </g>\n    <g clip-path=\"url(#peac6aa7830)\">\n     <use xlink:href=\"#C5_0_4711ca2cd8\" x=\"548.103182\" y=\"270.488\" style=\"fill: #a7a7a7; stroke: #a7a7a7\"/>\n    </g>\n   </g>\n   <g id=\"text_34\">\n    <!-- Passive -->\n    <g style=\"fill: #bfbfbf\" transform=\"translate(190.76608 250.472222) scale(0.0833 -0.0833)\">\n     <use xlink:href=\"#DejaVuSans-50\"/>\n     <use xlink:href=\"#DejaVuSans-61\" x=\"55.802734\"/>\n     <use xlink:href=\"#DejaVuSans-73\" x=\"117.082031\"/>\n     <use xlink:href=\"#DejaVuSans-73\" x=\"169.181641\"/>\n     <use xlink:href=\"#DejaVuSans-69\" x=\"221.28125\"/>\n     <use xlink:href=\"#DejaVuSans-76\" x=\"249.064453\"/>\n     <use xlink:href=\"#DejaVuSans-65\" x=\"308.244141\"/>\n    </g>\n    <!-- House -->\n    <g style=\"fill: #bfbfbf\" transform=\"translate(193.114099 259.8) scale(0.0833 -0.0833)\">\n     <use xlink:href=\"#DejaVuSans-48\"/>\n     <use xlink:href=\"#DejaVuSans-6f\" x=\"75.195312\"/>\n     <use xlink:href=\"#DejaVuSans-75\" x=\"136.376953\"/>\n     <use xlink:href=\"#DejaVuSans-73\" x=\"199.755859\"/>\n     <use xlink:href=\"#DejaVuSans-65\" x=\"251.855469\"/>\n    </g>\n   </g>\n   <g id=\"text_35\">\n    <!-- ArmyCorp -->\n    <g style=\"fill: #bfbfbf\" transform=\"translate(292.002169 250.472222) scale(0.0833 -0.0833)\">\n     <defs>\n      <path id=\"DejaVuSans-70\" d=\"M 1159 525 \nL 1159 -1331 \nL 581 -1331 \nL 581 3500 \nL 1159 3500 \nL 1159 2969 \nQ 1341 3281 1617 3432 \nQ 1894 3584 2278 3584 \nQ 2916 3584 3314 3078 \nQ 3713 2572 3713 1747 \nQ 3713 922 3314 415 \nQ 2916 -91 2278 -91 \nQ 1894 -91 1617 61 \nQ 1341 213 1159 525 \nz\nM 3116 1747 \nQ 3116 2381 2855 2742 \nQ 2594 3103 2138 3103 \nQ 1681 3103 1420 2742 \nQ 1159 2381 1159 1747 \nQ 1159 1113 1420 752 \nQ 1681 391 2138 391 \nQ 2594 391 2855 752 \nQ 3116 1113 3116 1747 \nz\n\" transform=\"scale(0.015625)\"/>\n     </defs>\n     <use xlink:href=\"#DejaVuSans-41\"/>\n     <use xlink:href=\"#DejaVuSans-72\" x=\"68.408203\"/>\n     <use xlink:href=\"#DejaVuSans-6d\" x=\"107.771484\"/>\n     <use xlink:href=\"#DejaVuSans-79\" x=\"205.183594\"/>\n     <use xlink:href=\"#DejaVuSans-43\" x=\"264.363281\"/>\n     <use xlink:href=\"#DejaVuSans-6f\" x=\"334.1875\"/>\n     <use xlink:href=\"#DejaVuSans-72\" x=\"395.369141\"/>\n     <use xlink:href=\"#DejaVuSans-70\" x=\"436.482422\"/>\n    </g>\n    <!-- (standard) -->\n    <g style=\"fill: #bfbfbf\" transform=\"translate(291.101488 259.8) scale(0.0833 -0.0833)\">\n     <use xlink:href=\"#DejaVuSans-28\"/>\n     <use xlink:href=\"#DejaVuSans-73\" x=\"39.013672\"/>\n     <use xlink:href=\"#DejaVuSans-74\" x=\"91.113281\"/>\n     <use xlink:href=\"#DejaVuSans-61\" x=\"130.322266\"/>\n     <use xlink:href=\"#DejaVuSans-6e\" x=\"191.601562\"/>\n     <use xlink:href=\"#DejaVuSans-64\" x=\"254.980469\"/>\n     <use xlink:href=\"#DejaVuSans-61\" x=\"318.457031\"/>\n     <use xlink:href=\"#DejaVuSans-72\" x=\"379.736328\"/>\n     <use xlink:href=\"#DejaVuSans-64\" x=\"419.099609\"/>\n     <use xlink:href=\"#DejaVuSans-29\" x=\"482.576172\"/>\n    </g>\n   </g>\n   <g id=\"text_36\">\n    <!-- ASHREA -->\n    <g style=\"fill: #bfbfbf\" transform=\"translate(389.936435 250.472222) scale(0.0833 -0.0833)\">\n     <use xlink:href=\"#DejaVuSans-41\"/>\n     <use xlink:href=\"#DejaVuSans-53\" x=\"68.408203\"/>\n     <use xlink:href=\"#DejaVuSans-48\" x=\"131.884766\"/>\n     <use xlink:href=\"#DejaVuSans-52\" x=\"207.080078\"/>\n     <use xlink:href=\"#DejaVuSans-45\" x=\"276.5625\"/>\n     <use xlink:href=\"#DejaVuSans-41\" x=\"339.746094\"/>\n    </g>\n    <!-- avg-Building -->\n    <g style=\"fill: #bfbfbf\" transform=\"translate(381.027239 259.8) scale(0.0833 -0.0833)\">\n     <use xlink:href=\"#DejaVuSans-61\"/>\n     <use xlink:href=\"#DejaVuSans-76\" x=\"61.279297\"/>\n     <use xlink:href=\"#DejaVuSans-67\" x=\"120.458984\"/>\n     <use xlink:href=\"#DejaVuSans-2d\" x=\"183.935547\"/>\n     <use xlink:href=\"#DejaVuSans-42\" x=\"216.394531\"/>\n     <use xlink:href=\"#DejaVuSans-75\" x=\"284.998047\"/>\n     <use xlink:href=\"#DejaVuSans-69\" x=\"348.376953\"/>\n     <use xlink:href=\"#DejaVuSans-6c\" x=\"376.160156\"/>\n     <use xlink:href=\"#DejaVuSans-64\" x=\"403.943359\"/>\n     <use xlink:href=\"#DejaVuSans-69\" x=\"467.419922\"/>\n     <use xlink:href=\"#DejaVuSans-6e\" x=\"495.203125\"/>\n     <use xlink:href=\"#DejaVuSans-67\" x=\"558.582031\"/>\n    </g>\n   </g>\n   <g id=\"text_37\">\n    <!-- 0.01 -->\n    <g style=\"fill: #a7a7a7\" transform=\"translate(202.7191 283.474559) scale(0.0833 -0.0833)\">\n     <use xlink:href=\"#DejaVuSans-30\"/>\n     <use xlink:href=\"#DejaVuSans-2e\" x=\"63.623047\"/>\n     <use xlink:href=\"#DejaVuSans-30\" x=\"95.410156\"/>\n     <use xlink:href=\"#DejaVuSans-31\" x=\"159.033203\"/>\n    </g>\n   </g>\n   <g id=\"text_38\">\n    <!-- 0.04 -->\n    <g style=\"fill: #a7a7a7\" transform=\"translate(370.774324 283.474559) scale(0.0833 -0.0833)\">\n     <use xlink:href=\"#DejaVuSans-30\"/>\n     <use xlink:href=\"#DejaVuSans-2e\" x=\"63.623047\"/>\n     <use xlink:href=\"#DejaVuSans-30\" x=\"95.410156\"/>\n     <use xlink:href=\"#DejaVuSans-34\" x=\"159.033203\"/>\n    </g>\n   </g>\n   <g id=\"text_39\">\n    <!-- 0.07 -->\n    <g style=\"fill: #a7a7a7\" transform=\"translate(538.829549 283.474559) scale(0.0833 -0.0833)\">\n     <use xlink:href=\"#DejaVuSans-30\"/>\n     <use xlink:href=\"#DejaVuSans-2e\" x=\"63.623047\"/>\n     <use xlink:href=\"#DejaVuSans-30\" x=\"95.410156\"/>\n     <use xlink:href=\"#DejaVuSans-37\" x=\"159.033203\"/>\n    </g>\n   </g>\n  </g>\n </g>\n <defs>\n  <clipPath id=\"p9b1da51655\">\n   <rect x=\"189.07\" y=\"10.8\" width=\"376.13\" height=\"16.032\"/>\n  </clipPath>\n  <clipPath id=\"p2f94601c50\">\n   <rect x=\"189.07\" y=\"60.6\" width=\"376.13\" height=\"16.032\"/>\n  </clipPath>\n  <clipPath id=\"p55b0624677\">\n   <rect x=\"189.07\" y=\"110.4\" width=\"376.13\" height=\"16.032\"/>\n  </clipPath>\n  <clipPath id=\"paaea3a375d\">\n   <rect x=\"189.07\" y=\"160.2\" width=\"376.13\" height=\"16.032\"/>\n  </clipPath>\n  <clipPath id=\"p0a41105e94\">\n   <rect x=\"189.07\" y=\"210\" width=\"376.13\" height=\"16.032\"/>\n  </clipPath>\n  <clipPath id=\"peac6aa7830\">\n   <rect x=\"189.07\" y=\"259.8\" width=\"376.13\" height=\"16.032\"/>\n  </clipPath>\n </defs>\n</svg>\n",
      "text/plain": [
       "Space(dimensions=[Dimension(name='WWR', categories=[0.35, 0.4, 0.45, 0.5, 0.55], low=None, high=None, baseline=None, base=10, transformer=None, prior=None, dtype=dtype('float64'), practical_ranges=None), Dimension(name='WINU', categories=[0.17, 0.25, 0.32, 0.38], low=None, high=None, baseline=None, base=10, transformer=None, prior=None, dtype=dtype('float64'), practical_ranges={'Passive House': 0.14, 'Single Pane': 1.02, 'Double, clear': 0.5, 'Double, low-e': 0.352}), Dimension(name='WINSHGC', categories=[0.2, 0.25, 0.3, 0.35, 0.4], low=None, high=None, baseline=None, base=10, transformer=None, prior=None, dtype=dtype('float64'), practical_ranges=None), Dimension(name='ROOFR', categories=[30.0, 35.0, 40.0, 50.0], low=None, high=None, baseline=None, base=10, transformer=None, prior=None, dtype=dtype('float64'), practical_ranges=None), Dimension(name='WALLR', categories=[10.0, 15.0, 20.0, 25.0, 30.0], low=None, high=None, baseline=None, base=10, transformer=None, prior=None, dtype=dtype('float64'), practical_ranges=None), Dimension(name='INFIL', categories=[0.01, 0.04, 0.07], low=None, high=None, baseline=None, base=10, transformer=None, prior=None, dtype=dtype('float64'), practical_ranges={'Passive House': 0.00896, 'ArmyCorp (standard)': 0.028, 'ASHREA avg-Building': 0.0448})], space_id=UUID('9a5c2a9f-1b45-4241-a3ad-b41c1ab0e3ba'), baseline=None, version='0.0.0')"
      ]
     },
     "execution_count": 4,
     "metadata": {},
     "output_type": "execute_result"
    }
   ],
   "source": [
    "space = Space(\n",
    "    categoricals=[\n",
    "        dict(\n",
    "            name=\"WWR\",\n",
    "            categories=(0.35, 0.4, 0.45, 0.5, 0.55),\n",
    "        ),\n",
    "        dict(\n",
    "            name=\"WINU\",\n",
    "            categories=(0.17, 0.25, 0.32, 0.38),\n",
    "        ),\n",
    "        dict(\n",
    "            name=\"WINSHGC\",\n",
    "            categories=(0.2, 0.25, 0.3, 0.35, 0.4),\n",
    "        ),\n",
    "        dict(\n",
    "            name=\"ROOFR\",\n",
    "            categories=(30, 35, 40, 50),\n",
    "        ),\n",
    "        dict(\n",
    "            name=\"WALLR\",\n",
    "            categories=(10, 15, 20, 25, 30),\n",
    "        ),\n",
    "        dict(\n",
    "            name=\"INFIL\",\n",
    "            categories=(0.01, 0.04, 0.07),\n",
    "        ),\n",
    "    ]\n",
    ")\n",
    "\n",
    "space"
   ]
  },
  {
   "cell_type": "code",
   "execution_count": 5,
   "id": "6e65d78e",
   "metadata": {
    "ExecuteTime": {
     "end_time": "2024-09-11T22:51:28.531119Z",
     "start_time": "2024-09-11T22:51:28.529066Z"
    }
   },
   "outputs": [],
   "source": [
    "from surrogate_schema.space.design_space import SupportedParameter"
   ]
  },
  {
   "cell_type": "code",
   "execution_count": 6,
   "id": "6dc5b8f7",
   "metadata": {
    "ExecuteTime": {
     "end_time": "2024-09-11T22:51:29.039731Z",
     "start_time": "2024-09-11T22:51:29.037006Z"
    }
   },
   "outputs": [
    {
     "data": {
      "text/plain": [
       "enum.EnumMeta"
      ]
     },
     "execution_count": 6,
     "metadata": {},
     "output_type": "execute_result"
    }
   ],
   "source": [
    "type(SupportedParameter)"
   ]
  },
  {
   "cell_type": "code",
   "execution_count": 7,
   "id": "63808a9d",
   "metadata": {
    "ExecuteTime": {
     "end_time": "2024-09-11T22:51:29.317307Z",
     "start_time": "2024-09-11T22:51:29.314197Z"
    }
   },
   "outputs": [
    {
     "data": {
      "text/plain": [
       "<SupportedParameter.INFIL: 'INFIL'>"
      ]
     },
     "execution_count": 7,
     "metadata": {},
     "output_type": "execute_result"
    }
   ],
   "source": [
    "SupportedParameter[\"INFIL\"]"
   ]
  },
  {
   "cell_type": "code",
   "execution_count": 8,
   "id": "3992ac23",
   "metadata": {
    "ExecuteTime": {
     "end_time": "2024-09-11T22:51:29.519072Z",
     "start_time": "2024-09-11T22:51:29.516058Z"
    }
   },
   "outputs": [
    {
     "data": {
      "text/plain": [
       "[<SupportedParameter.INFIL: 'INFIL'>,\n",
       " <SupportedParameter.FORMFACT: 'FORMFACT'>,\n",
       " <SupportedParameter.DELTA_FANPOWER: 'DELTA_FANPOWER'>,\n",
       " <SupportedParameter.FANPOWER: 'FANPOWER'>,\n",
       " <SupportedParameter.PUMPHEAD: 'PUMPHEAD'>,\n",
       " <SupportedParameter.SATRESET: 'SATRESET'>,\n",
       " <SupportedParameter.HUMIDMAX: 'HUMIDMAX'>,\n",
       " <SupportedParameter.VENTSCH: 'VENTSCH'>,\n",
       " <SupportedParameter.ACH: 'ACH'>,\n",
       " <SupportedParameter.HRV: 'HRV'>,\n",
       " <SupportedParameter.LPDSCH: 'LPDSCH'>,\n",
       " <SupportedParameter.EPDSCH: 'EPDSCH'>,\n",
       " <SupportedParameter.LPD: 'LPD'>,\n",
       " <SupportedParameter.EPD: 'EPD'>,\n",
       " <SupportedParameter.ROOFR: 'ROOFR'>,\n",
       " <SupportedParameter.WALLR: 'WALLR'>,\n",
       " <SupportedParameter.WINSHGC: 'WINSHGC'>,\n",
       " <SupportedParameter.WINU: 'WINU'>,\n",
       " <SupportedParameter.WWR: 'WWR'>,\n",
       " <SupportedParameter.WWRN: 'WWRN'>,\n",
       " <SupportedParameter.WWRE: 'WWRE'>,\n",
       " <SupportedParameter.WWRS: 'WWRS'>,\n",
       " <SupportedParameter.WWRW: 'WWRW'>,\n",
       " <SupportedParameter.WINUN: 'WINUN'>,\n",
       " <SupportedParameter.WINUE: 'WINUE'>,\n",
       " <SupportedParameter.WINUS: 'WINUS'>,\n",
       " <SupportedParameter.WINUW: 'WINUW'>,\n",
       " <SupportedParameter.WINSHGCN: 'WINSHGCN'>,\n",
       " <SupportedParameter.WINSHGCE: 'WINSHGCE'>,\n",
       " <SupportedParameter.WINSHGCS: 'WINSHGCS'>,\n",
       " <SupportedParameter.WINSHGCW: 'WINSHGCW'>,\n",
       " <SupportedParameter.OASYSTEM: 'OASYSTEM'>,\n",
       " <SupportedParameter.ECON: 'ECON'>,\n",
       " <SupportedParameter.COOLCOP: 'COOLCOP'>,\n",
       " <SupportedParameter.HEATCOP: 'HEATCOP'>,\n",
       " <SupportedParameter.ELECTRIFICATION: 'ELECTRIFICATION'>,\n",
       " <SupportedParameter.THERMALMASS: 'THERMALMASS'>,\n",
       " <SupportedParameter.ROTATE: 'ROTATE'>,\n",
       " <SupportedParameter.NATVENT_ACH: 'NATVENT_ACH'>,\n",
       " <SupportedParameter.EPW: 'EPW'>,\n",
       " <SupportedParameter.SHADING_OVERHANG_PROJECTION: 'SHADING_OVERHANG_PROJECTION'>,\n",
       " <SupportedParameter.SCALE_X: 'SCALE_X'>,\n",
       " <SupportedParameter.FLOORS: 'FLOORS'>,\n",
       " <SupportedParameter.FANPOWERMINIMUMFLOWFRACTION: 'FANPOWERMINIMUMFLOWFRACTION'>,\n",
       " <SupportedParameter.OCCSCH: 'OCCSCH'>,\n",
       " <SupportedParameter.HTGSPSCH: 'HTGSPSCH'>,\n",
       " <SupportedParameter.CLGSPSCH: 'CLGSPSCH'>,\n",
       " <SupportedParameter.USESCH: 'USESCH'>,\n",
       " <SupportedParameter.LOADSCH: 'LOADSCH'>,\n",
       " <SupportedParameter.PERIM_DEPTH: 'PERIM_DEPTH'>,\n",
       " <SupportedParameter.FOOTPRINT_AREA: 'FOOTPRINT_AREA'>,\n",
       " <SupportedParameter.FLOOR_TO_FLOOR_HEIGHT: 'FLOOR_TO_FLOOR_HEIGHT'>,\n",
       " <SupportedParameter.OCC_DENSITY: 'OCC_DENSITY'>,\n",
       " <SupportedParameter.COOLING_SETPOINT: 'COOLING_SETPOINT'>,\n",
       " <SupportedParameter.HEATING_SETPOINT: 'HEATING_SETPOINT'>,\n",
       " <SupportedParameter.SYSTEMSCH: 'SYSTEMSCH'>]"
      ]
     },
     "execution_count": 8,
     "metadata": {},
     "output_type": "execute_result"
    }
   ],
   "source": [
    "list(SupportedParameter)"
   ]
  },
  {
   "cell_type": "markdown",
   "id": "1d5c0391",
   "metadata": {},
   "source": [
    "## Batch Simulation\n",
    "\n",
    "### Prepare the seed model for the API\n",
    "\n",
    "Model must be in \"world\" coordinates. There is a function for that!"
   ]
  },
  {
   "cell_type": "code",
   "execution_count": 9,
   "id": "ecd61022",
   "metadata": {
    "ExecuteTime": {
     "end_time": "2024-09-11T22:51:36.905018Z",
     "start_time": "2024-09-11T22:51:30.374625Z"
    }
   },
   "outputs": [],
   "source": [
    "from archetypal import IDF\n",
    "\n",
    "idf = IDF(\"HVAC.idf\", iddname=\"Energy+.idd\")"
   ]
  },
  {
   "cell_type": "code",
   "execution_count": 10,
   "id": "937b2de3",
   "metadata": {
    "ExecuteTime": {
     "end_time": "2024-09-11T22:51:36.915695Z",
     "start_time": "2024-09-11T22:51:36.913442Z"
    }
   },
   "outputs": [
    {
     "name": "stderr",
     "output_type": "stream",
     "text": [
      "Model already set as World coordinates\n"
     ]
    }
   ],
   "source": [
    "idf.to_world()"
   ]
  },
  {
   "cell_type": "code",
   "execution_count": 11,
   "id": "32ba5129",
   "metadata": {
    "ExecuteTime": {
     "end_time": "2024-09-11T22:51:37.464231Z",
     "start_time": "2024-09-11T22:51:37.457969Z"
    }
   },
   "outputs": [],
   "source": [
    "%matplotlib notebook"
   ]
  },
  {
   "cell_type": "code",
   "execution_count": 12,
   "id": "72c15092",
   "metadata": {
    "ExecuteTime": {
     "end_time": "2024-09-11T22:51:43.853975Z",
     "start_time": "2024-09-11T22:51:38.001769Z"
    }
   },
   "outputs": [
    {
     "data": {
      "application/javascript": "/* Put everything inside the global mpl namespace */\n/* global mpl */\nwindow.mpl = {};\n\nmpl.get_websocket_type = function () {\n    if (typeof WebSocket !== 'undefined') {\n        return WebSocket;\n    } else if (typeof MozWebSocket !== 'undefined') {\n        return MozWebSocket;\n    } else {\n        alert(\n            'Your browser does not have WebSocket support. ' +\n                'Please try Chrome, Safari or Firefox ≥ 6. ' +\n                'Firefox 4 and 5 are also supported but you ' +\n                'have to enable WebSockets in about:config.'\n        );\n    }\n};\n\nmpl.figure = function (figure_id, websocket, ondownload, parent_element) {\n    this.id = figure_id;\n\n    this.ws = websocket;\n\n    this.supports_binary = this.ws.binaryType !== undefined;\n\n    if (!this.supports_binary) {\n        var warnings = document.getElementById('mpl-warnings');\n        if (warnings) {\n            warnings.style.display = 'block';\n            warnings.textContent =\n                'This browser does not support binary websocket messages. ' +\n                'Performance may be slow.';\n        }\n    }\n\n    this.imageObj = new Image();\n\n    this.context = undefined;\n    this.message = undefined;\n    this.canvas = undefined;\n    this.rubberband_canvas = undefined;\n    this.rubberband_context = undefined;\n    this.format_dropdown = undefined;\n\n    this.image_mode = 'full';\n\n    this.root = document.createElement('div');\n    this.root.setAttribute('style', 'display: inline-block');\n    this._root_extra_style(this.root);\n\n    parent_element.appendChild(this.root);\n\n    this._init_header(this);\n    this._init_canvas(this);\n    this._init_toolbar(this);\n\n    var fig = this;\n\n    this.waiting = false;\n\n    this.ws.onopen = function () {\n        fig.send_message('supports_binary', { value: fig.supports_binary });\n        fig.send_message('send_image_mode', {});\n        if (fig.ratio !== 1) {\n            fig.send_message('set_device_pixel_ratio', {\n                device_pixel_ratio: fig.ratio,\n            });\n        }\n        fig.send_message('refresh', {});\n    };\n\n    this.imageObj.onload = function () {\n        if (fig.image_mode === 'full') {\n            // Full images could contain transparency (where diff images\n            // almost always do), so we need to clear the canvas so that\n            // there is no ghosting.\n            fig.context.clearRect(0, 0, fig.canvas.width, fig.canvas.height);\n        }\n        fig.context.drawImage(fig.imageObj, 0, 0);\n    };\n\n    this.imageObj.onunload = function () {\n        fig.ws.close();\n    };\n\n    this.ws.onmessage = this._make_on_message_function(this);\n\n    this.ondownload = ondownload;\n};\n\nmpl.figure.prototype._init_header = function () {\n    var titlebar = document.createElement('div');\n    titlebar.classList =\n        'ui-dialog-titlebar ui-widget-header ui-corner-all ui-helper-clearfix';\n    var titletext = document.createElement('div');\n    titletext.classList = 'ui-dialog-title';\n    titletext.setAttribute(\n        'style',\n        'width: 100%; text-align: center; padding: 3px;'\n    );\n    titlebar.appendChild(titletext);\n    this.root.appendChild(titlebar);\n    this.header = titletext;\n};\n\nmpl.figure.prototype._canvas_extra_style = function (_canvas_div) {};\n\nmpl.figure.prototype._root_extra_style = function (_canvas_div) {};\n\nmpl.figure.prototype._init_canvas = function () {\n    var fig = this;\n\n    var canvas_div = (this.canvas_div = document.createElement('div'));\n    canvas_div.setAttribute('tabindex', '0');\n    canvas_div.setAttribute(\n        'style',\n        'border: 1px solid #ddd;' +\n            'box-sizing: content-box;' +\n            'clear: both;' +\n            'min-height: 1px;' +\n            'min-width: 1px;' +\n            'outline: 0;' +\n            'overflow: hidden;' +\n            'position: relative;' +\n            'resize: both;' +\n            'z-index: 2;'\n    );\n\n    function on_keyboard_event_closure(name) {\n        return function (event) {\n            return fig.key_event(event, name);\n        };\n    }\n\n    canvas_div.addEventListener(\n        'keydown',\n        on_keyboard_event_closure('key_press')\n    );\n    canvas_div.addEventListener(\n        'keyup',\n        on_keyboard_event_closure('key_release')\n    );\n\n    this._canvas_extra_style(canvas_div);\n    this.root.appendChild(canvas_div);\n\n    var canvas = (this.canvas = document.createElement('canvas'));\n    canvas.classList.add('mpl-canvas');\n    canvas.setAttribute(\n        'style',\n        'box-sizing: content-box;' +\n            'pointer-events: none;' +\n            'position: relative;' +\n            'z-index: 0;'\n    );\n\n    this.context = canvas.getContext('2d');\n\n    var backingStore =\n        this.context.backingStorePixelRatio ||\n        this.context.webkitBackingStorePixelRatio ||\n        this.context.mozBackingStorePixelRatio ||\n        this.context.msBackingStorePixelRatio ||\n        this.context.oBackingStorePixelRatio ||\n        this.context.backingStorePixelRatio ||\n        1;\n\n    this.ratio = (window.devicePixelRatio || 1) / backingStore;\n\n    var rubberband_canvas = (this.rubberband_canvas = document.createElement(\n        'canvas'\n    ));\n    rubberband_canvas.setAttribute(\n        'style',\n        'box-sizing: content-box;' +\n            'left: 0;' +\n            'pointer-events: none;' +\n            'position: absolute;' +\n            'top: 0;' +\n            'z-index: 1;'\n    );\n\n    // Apply a ponyfill if ResizeObserver is not implemented by browser.\n    if (this.ResizeObserver === undefined) {\n        if (window.ResizeObserver !== undefined) {\n            this.ResizeObserver = window.ResizeObserver;\n        } else {\n            var obs = _JSXTOOLS_RESIZE_OBSERVER({});\n            this.ResizeObserver = obs.ResizeObserver;\n        }\n    }\n\n    this.resizeObserverInstance = new this.ResizeObserver(function (entries) {\n        // There's no need to resize if the WebSocket is not connected:\n        // - If it is still connecting, then we will get an initial resize from\n        //   Python once it connects.\n        // - If it has disconnected, then resizing will clear the canvas and\n        //   never get anything back to refill it, so better to not resize and\n        //   keep something visible.\n        if (fig.ws.readyState != 1) {\n            return;\n        }\n        var nentries = entries.length;\n        for (var i = 0; i < nentries; i++) {\n            var entry = entries[i];\n            var width, height;\n            if (entry.contentBoxSize) {\n                if (entry.contentBoxSize instanceof Array) {\n                    // Chrome 84 implements new version of spec.\n                    width = entry.contentBoxSize[0].inlineSize;\n                    height = entry.contentBoxSize[0].blockSize;\n                } else {\n                    // Firefox implements old version of spec.\n                    width = entry.contentBoxSize.inlineSize;\n                    height = entry.contentBoxSize.blockSize;\n                }\n            } else {\n                // Chrome <84 implements even older version of spec.\n                width = entry.contentRect.width;\n                height = entry.contentRect.height;\n            }\n\n            // Keep the size of the canvas and rubber band canvas in sync with\n            // the canvas container.\n            if (entry.devicePixelContentBoxSize) {\n                // Chrome 84 implements new version of spec.\n                canvas.setAttribute(\n                    'width',\n                    entry.devicePixelContentBoxSize[0].inlineSize\n                );\n                canvas.setAttribute(\n                    'height',\n                    entry.devicePixelContentBoxSize[0].blockSize\n                );\n            } else {\n                canvas.setAttribute('width', width * fig.ratio);\n                canvas.setAttribute('height', height * fig.ratio);\n            }\n            /* This rescales the canvas back to display pixels, so that it\n             * appears correct on HiDPI screens. */\n            canvas.style.width = width + 'px';\n            canvas.style.height = height + 'px';\n\n            rubberband_canvas.setAttribute('width', width);\n            rubberband_canvas.setAttribute('height', height);\n\n            // And update the size in Python. We ignore the initial 0/0 size\n            // that occurs as the element is placed into the DOM, which should\n            // otherwise not happen due to the minimum size styling.\n            if (width != 0 && height != 0) {\n                fig.request_resize(width, height);\n            }\n        }\n    });\n    this.resizeObserverInstance.observe(canvas_div);\n\n    function on_mouse_event_closure(name) {\n        /* User Agent sniffing is bad, but WebKit is busted:\n         * https://bugs.webkit.org/show_bug.cgi?id=144526\n         * https://bugs.webkit.org/show_bug.cgi?id=181818\n         * The worst that happens here is that they get an extra browser\n         * selection when dragging, if this check fails to catch them.\n         */\n        var UA = navigator.userAgent;\n        var isWebKit = /AppleWebKit/.test(UA) && !/Chrome/.test(UA);\n        if(isWebKit) {\n            return function (event) {\n                /* This prevents the web browser from automatically changing to\n                 * the text insertion cursor when the button is pressed. We\n                 * want to control all of the cursor setting manually through\n                 * the 'cursor' event from matplotlib */\n                event.preventDefault()\n                return fig.mouse_event(event, name);\n            };\n        } else {\n            return function (event) {\n                return fig.mouse_event(event, name);\n            };\n        }\n    }\n\n    canvas_div.addEventListener(\n        'mousedown',\n        on_mouse_event_closure('button_press')\n    );\n    canvas_div.addEventListener(\n        'mouseup',\n        on_mouse_event_closure('button_release')\n    );\n    canvas_div.addEventListener(\n        'dblclick',\n        on_mouse_event_closure('dblclick')\n    );\n    // Throttle sequential mouse events to 1 every 20ms.\n    canvas_div.addEventListener(\n        'mousemove',\n        on_mouse_event_closure('motion_notify')\n    );\n\n    canvas_div.addEventListener(\n        'mouseenter',\n        on_mouse_event_closure('figure_enter')\n    );\n    canvas_div.addEventListener(\n        'mouseleave',\n        on_mouse_event_closure('figure_leave')\n    );\n\n    canvas_div.addEventListener('wheel', function (event) {\n        if (event.deltaY < 0) {\n            event.step = 1;\n        } else {\n            event.step = -1;\n        }\n        on_mouse_event_closure('scroll')(event);\n    });\n\n    canvas_div.appendChild(canvas);\n    canvas_div.appendChild(rubberband_canvas);\n\n    this.rubberband_context = rubberband_canvas.getContext('2d');\n    this.rubberband_context.strokeStyle = '#000000';\n\n    this._resize_canvas = function (width, height, forward) {\n        if (forward) {\n            canvas_div.style.width = width + 'px';\n            canvas_div.style.height = height + 'px';\n        }\n    };\n\n    // Disable right mouse context menu.\n    canvas_div.addEventListener('contextmenu', function (_e) {\n        event.preventDefault();\n        return false;\n    });\n\n    function set_focus() {\n        canvas.focus();\n        canvas_div.focus();\n    }\n\n    window.setTimeout(set_focus, 100);\n};\n\nmpl.figure.prototype._init_toolbar = function () {\n    var fig = this;\n\n    var toolbar = document.createElement('div');\n    toolbar.classList = 'mpl-toolbar';\n    this.root.appendChild(toolbar);\n\n    function on_click_closure(name) {\n        return function (_event) {\n            return fig.toolbar_button_onclick(name);\n        };\n    }\n\n    function on_mouseover_closure(tooltip) {\n        return function (event) {\n            if (!event.currentTarget.disabled) {\n                return fig.toolbar_button_onmouseover(tooltip);\n            }\n        };\n    }\n\n    fig.buttons = {};\n    var buttonGroup = document.createElement('div');\n    buttonGroup.classList = 'mpl-button-group';\n    for (var toolbar_ind in mpl.toolbar_items) {\n        var name = mpl.toolbar_items[toolbar_ind][0];\n        var tooltip = mpl.toolbar_items[toolbar_ind][1];\n        var image = mpl.toolbar_items[toolbar_ind][2];\n        var method_name = mpl.toolbar_items[toolbar_ind][3];\n\n        if (!name) {\n            /* Instead of a spacer, we start a new button group. */\n            if (buttonGroup.hasChildNodes()) {\n                toolbar.appendChild(buttonGroup);\n            }\n            buttonGroup = document.createElement('div');\n            buttonGroup.classList = 'mpl-button-group';\n            continue;\n        }\n\n        var button = (fig.buttons[name] = document.createElement('button'));\n        button.classList = 'mpl-widget';\n        button.setAttribute('role', 'button');\n        button.setAttribute('aria-disabled', 'false');\n        button.addEventListener('click', on_click_closure(method_name));\n        button.addEventListener('mouseover', on_mouseover_closure(tooltip));\n\n        var icon_img = document.createElement('img');\n        icon_img.src = '_images/' + image + '.png';\n        icon_img.srcset = '_images/' + image + '_large.png 2x';\n        icon_img.alt = tooltip;\n        button.appendChild(icon_img);\n\n        buttonGroup.appendChild(button);\n    }\n\n    if (buttonGroup.hasChildNodes()) {\n        toolbar.appendChild(buttonGroup);\n    }\n\n    var fmt_picker = document.createElement('select');\n    fmt_picker.classList = 'mpl-widget';\n    toolbar.appendChild(fmt_picker);\n    this.format_dropdown = fmt_picker;\n\n    for (var ind in mpl.extensions) {\n        var fmt = mpl.extensions[ind];\n        var option = document.createElement('option');\n        option.selected = fmt === mpl.default_extension;\n        option.innerHTML = fmt;\n        fmt_picker.appendChild(option);\n    }\n\n    var status_bar = document.createElement('span');\n    status_bar.classList = 'mpl-message';\n    toolbar.appendChild(status_bar);\n    this.message = status_bar;\n};\n\nmpl.figure.prototype.request_resize = function (x_pixels, y_pixels) {\n    // Request matplotlib to resize the figure. Matplotlib will then trigger a resize in the client,\n    // which will in turn request a refresh of the image.\n    this.send_message('resize', { width: x_pixels, height: y_pixels });\n};\n\nmpl.figure.prototype.send_message = function (type, properties) {\n    properties['type'] = type;\n    properties['figure_id'] = this.id;\n    this.ws.send(JSON.stringify(properties));\n};\n\nmpl.figure.prototype.send_draw_message = function () {\n    if (!this.waiting) {\n        this.waiting = true;\n        this.ws.send(JSON.stringify({ type: 'draw', figure_id: this.id }));\n    }\n};\n\nmpl.figure.prototype.handle_save = function (fig, _msg) {\n    var format_dropdown = fig.format_dropdown;\n    var format = format_dropdown.options[format_dropdown.selectedIndex].value;\n    fig.ondownload(fig, format);\n};\n\nmpl.figure.prototype.handle_resize = function (fig, msg) {\n    var size = msg['size'];\n    if (size[0] !== fig.canvas.width || size[1] !== fig.canvas.height) {\n        fig._resize_canvas(size[0], size[1], msg['forward']);\n        fig.send_message('refresh', {});\n    }\n};\n\nmpl.figure.prototype.handle_rubberband = function (fig, msg) {\n    var x0 = msg['x0'] / fig.ratio;\n    var y0 = (fig.canvas.height - msg['y0']) / fig.ratio;\n    var x1 = msg['x1'] / fig.ratio;\n    var y1 = (fig.canvas.height - msg['y1']) / fig.ratio;\n    x0 = Math.floor(x0) + 0.5;\n    y0 = Math.floor(y0) + 0.5;\n    x1 = Math.floor(x1) + 0.5;\n    y1 = Math.floor(y1) + 0.5;\n    var min_x = Math.min(x0, x1);\n    var min_y = Math.min(y0, y1);\n    var width = Math.abs(x1 - x0);\n    var height = Math.abs(y1 - y0);\n\n    fig.rubberband_context.clearRect(\n        0,\n        0,\n        fig.canvas.width / fig.ratio,\n        fig.canvas.height / fig.ratio\n    );\n\n    fig.rubberband_context.strokeRect(min_x, min_y, width, height);\n};\n\nmpl.figure.prototype.handle_figure_label = function (fig, msg) {\n    // Updates the figure title.\n    fig.header.textContent = msg['label'];\n};\n\nmpl.figure.prototype.handle_cursor = function (fig, msg) {\n    fig.canvas_div.style.cursor = msg['cursor'];\n};\n\nmpl.figure.prototype.handle_message = function (fig, msg) {\n    fig.message.textContent = msg['message'];\n};\n\nmpl.figure.prototype.handle_draw = function (fig, _msg) {\n    // Request the server to send over a new figure.\n    fig.send_draw_message();\n};\n\nmpl.figure.prototype.handle_image_mode = function (fig, msg) {\n    fig.image_mode = msg['mode'];\n};\n\nmpl.figure.prototype.handle_history_buttons = function (fig, msg) {\n    for (var key in msg) {\n        if (!(key in fig.buttons)) {\n            continue;\n        }\n        fig.buttons[key].disabled = !msg[key];\n        fig.buttons[key].setAttribute('aria-disabled', !msg[key]);\n    }\n};\n\nmpl.figure.prototype.handle_navigate_mode = function (fig, msg) {\n    if (msg['mode'] === 'PAN') {\n        fig.buttons['Pan'].classList.add('active');\n        fig.buttons['Zoom'].classList.remove('active');\n    } else if (msg['mode'] === 'ZOOM') {\n        fig.buttons['Pan'].classList.remove('active');\n        fig.buttons['Zoom'].classList.add('active');\n    } else {\n        fig.buttons['Pan'].classList.remove('active');\n        fig.buttons['Zoom'].classList.remove('active');\n    }\n};\n\nmpl.figure.prototype.updated_canvas_event = function () {\n    // Called whenever the canvas gets updated.\n    this.send_message('ack', {});\n};\n\n// A function to construct a web socket function for onmessage handling.\n// Called in the figure constructor.\nmpl.figure.prototype._make_on_message_function = function (fig) {\n    return function socket_on_message(evt) {\n        if (evt.data instanceof Blob) {\n            var img = evt.data;\n            if (img.type !== 'image/png') {\n                /* FIXME: We get \"Resource interpreted as Image but\n                 * transferred with MIME type text/plain:\" errors on\n                 * Chrome.  But how to set the MIME type?  It doesn't seem\n                 * to be part of the websocket stream */\n                img.type = 'image/png';\n            }\n\n            /* Free the memory for the previous frames */\n            if (fig.imageObj.src) {\n                (window.URL || window.webkitURL).revokeObjectURL(\n                    fig.imageObj.src\n                );\n            }\n\n            fig.imageObj.src = (window.URL || window.webkitURL).createObjectURL(\n                img\n            );\n            fig.updated_canvas_event();\n            fig.waiting = false;\n            return;\n        } else if (\n            typeof evt.data === 'string' &&\n            evt.data.slice(0, 21) === 'data:image/png;base64'\n        ) {\n            fig.imageObj.src = evt.data;\n            fig.updated_canvas_event();\n            fig.waiting = false;\n            return;\n        }\n\n        var msg = JSON.parse(evt.data);\n        var msg_type = msg['type'];\n\n        // Call the  \"handle_{type}\" callback, which takes\n        // the figure and JSON message as its only arguments.\n        try {\n            var callback = fig['handle_' + msg_type];\n        } catch (e) {\n            console.log(\n                \"No handler for the '\" + msg_type + \"' message type: \",\n                msg\n            );\n            return;\n        }\n\n        if (callback) {\n            try {\n                // console.log(\"Handling '\" + msg_type + \"' message: \", msg);\n                callback(fig, msg);\n            } catch (e) {\n                console.log(\n                    \"Exception inside the 'handler_\" + msg_type + \"' callback:\",\n                    e,\n                    e.stack,\n                    msg\n                );\n            }\n        }\n    };\n};\n\nfunction getModifiers(event) {\n    var mods = [];\n    if (event.ctrlKey) {\n        mods.push('ctrl');\n    }\n    if (event.altKey) {\n        mods.push('alt');\n    }\n    if (event.shiftKey) {\n        mods.push('shift');\n    }\n    if (event.metaKey) {\n        mods.push('meta');\n    }\n    return mods;\n}\n\n/*\n * return a copy of an object with only non-object keys\n * we need this to avoid circular references\n * https://stackoverflow.com/a/24161582/3208463\n */\nfunction simpleKeys(original) {\n    return Object.keys(original).reduce(function (obj, key) {\n        if (typeof original[key] !== 'object') {\n            obj[key] = original[key];\n        }\n        return obj;\n    }, {});\n}\n\nmpl.figure.prototype.mouse_event = function (event, name) {\n    if (name === 'button_press') {\n        this.canvas.focus();\n        this.canvas_div.focus();\n    }\n\n    // from https://stackoverflow.com/q/1114465\n    var boundingRect = this.canvas.getBoundingClientRect();\n    var x = (event.clientX - boundingRect.left) * this.ratio;\n    var y = (event.clientY - boundingRect.top) * this.ratio;\n\n    this.send_message(name, {\n        x: x,\n        y: y,\n        button: event.button,\n        step: event.step,\n        modifiers: getModifiers(event),\n        guiEvent: simpleKeys(event),\n    });\n\n    return false;\n};\n\nmpl.figure.prototype._key_event_extra = function (_event, _name) {\n    // Handle any extra behaviour associated with a key event\n};\n\nmpl.figure.prototype.key_event = function (event, name) {\n    // Prevent repeat events\n    if (name === 'key_press') {\n        if (event.key === this._key) {\n            return;\n        } else {\n            this._key = event.key;\n        }\n    }\n    if (name === 'key_release') {\n        this._key = null;\n    }\n\n    var value = '';\n    if (event.ctrlKey && event.key !== 'Control') {\n        value += 'ctrl+';\n    }\n    else if (event.altKey && event.key !== 'Alt') {\n        value += 'alt+';\n    }\n    else if (event.shiftKey && event.key !== 'Shift') {\n        value += 'shift+';\n    }\n\n    value += 'k' + event.key;\n\n    this._key_event_extra(event, name);\n\n    this.send_message(name, { key: value, guiEvent: simpleKeys(event) });\n    return false;\n};\n\nmpl.figure.prototype.toolbar_button_onclick = function (name) {\n    if (name === 'download') {\n        this.handle_save(this, null);\n    } else {\n        this.send_message('toolbar_button', { name: name });\n    }\n};\n\nmpl.figure.prototype.toolbar_button_onmouseover = function (tooltip) {\n    this.message.textContent = tooltip;\n};\n\n///////////////// REMAINING CONTENT GENERATED BY embed_js.py /////////////////\n// prettier-ignore\nvar _JSXTOOLS_RESIZE_OBSERVER=function(A){var t,i=new WeakMap,n=new WeakMap,a=new WeakMap,r=new WeakMap,o=new Set;function s(e){if(!(this instanceof s))throw new TypeError(\"Constructor requires 'new' operator\");i.set(this,e)}function h(){throw new TypeError(\"Function is not a constructor\")}function c(e,t,i,n){e=0 in arguments?Number(arguments[0]):0,t=1 in arguments?Number(arguments[1]):0,i=2 in arguments?Number(arguments[2]):0,n=3 in arguments?Number(arguments[3]):0,this.right=(this.x=this.left=e)+(this.width=i),this.bottom=(this.y=this.top=t)+(this.height=n),Object.freeze(this)}function d(){t=requestAnimationFrame(d);var s=new WeakMap,p=new Set;o.forEach((function(t){r.get(t).forEach((function(i){var r=t instanceof window.SVGElement,o=a.get(t),d=r?0:parseFloat(o.paddingTop),f=r?0:parseFloat(o.paddingRight),l=r?0:parseFloat(o.paddingBottom),u=r?0:parseFloat(o.paddingLeft),g=r?0:parseFloat(o.borderTopWidth),m=r?0:parseFloat(o.borderRightWidth),w=r?0:parseFloat(o.borderBottomWidth),b=u+f,F=d+l,v=(r?0:parseFloat(o.borderLeftWidth))+m,W=g+w,y=r?0:t.offsetHeight-W-t.clientHeight,E=r?0:t.offsetWidth-v-t.clientWidth,R=b+v,z=F+W,M=r?t.width:parseFloat(o.width)-R-E,O=r?t.height:parseFloat(o.height)-z-y;if(n.has(t)){var k=n.get(t);if(k[0]===M&&k[1]===O)return}n.set(t,[M,O]);var S=Object.create(h.prototype);S.target=t,S.contentRect=new c(u,d,M,O),s.has(i)||(s.set(i,[]),p.add(i)),s.get(i).push(S)}))})),p.forEach((function(e){i.get(e).call(e,s.get(e),e)}))}return s.prototype.observe=function(i){if(i instanceof window.Element){r.has(i)||(r.set(i,new Set),o.add(i),a.set(i,window.getComputedStyle(i)));var n=r.get(i);n.has(this)||n.add(this),cancelAnimationFrame(t),t=requestAnimationFrame(d)}},s.prototype.unobserve=function(i){if(i instanceof window.Element&&r.has(i)){var n=r.get(i);n.has(this)&&(n.delete(this),n.size||(r.delete(i),o.delete(i))),n.size||r.delete(i),o.size||cancelAnimationFrame(t)}},A.DOMRectReadOnly=c,A.ResizeObserver=s,A.ResizeObserverEntry=h,A}; // eslint-disable-line\nmpl.toolbar_items = [[\"Home\", \"Reset original view\", \"fa fa-home\", \"home\"], [\"Back\", \"Back to previous view\", \"fa fa-arrow-left\", \"back\"], [\"Forward\", \"Forward to next view\", \"fa fa-arrow-right\", \"forward\"], [\"\", \"\", \"\", \"\"], [\"Pan\", \"Left button pans, Right button zooms\\nx/y fixes axis, CTRL fixes aspect\", \"fa fa-arrows\", \"pan\"], [\"Zoom\", \"Zoom to rectangle\\nx/y fixes axis\", \"fa fa-square-o\", \"zoom\"], [\"\", \"\", \"\", \"\"], [\"Download\", \"Download plot\", \"fa fa-floppy-o\", \"download\"]];\n\nmpl.extensions = [\"eps\", \"jpeg\", \"pgf\", \"pdf\", \"png\", \"ps\", \"raw\", \"svg\", \"tif\", \"webp\"];\n\nmpl.default_extension = \"png\";/* global mpl */\n\nvar comm_websocket_adapter = function (comm) {\n    // Create a \"websocket\"-like object which calls the given IPython comm\n    // object with the appropriate methods. Currently this is a non binary\n    // socket, so there is still some room for performance tuning.\n    var ws = {};\n\n    ws.binaryType = comm.kernel.ws.binaryType;\n    ws.readyState = comm.kernel.ws.readyState;\n    function updateReadyState(_event) {\n        if (comm.kernel.ws) {\n            ws.readyState = comm.kernel.ws.readyState;\n        } else {\n            ws.readyState = 3; // Closed state.\n        }\n    }\n    comm.kernel.ws.addEventListener('open', updateReadyState);\n    comm.kernel.ws.addEventListener('close', updateReadyState);\n    comm.kernel.ws.addEventListener('error', updateReadyState);\n\n    ws.close = function () {\n        comm.close();\n    };\n    ws.send = function (m) {\n        //console.log('sending', m);\n        comm.send(m);\n    };\n    // Register the callback with on_msg.\n    comm.on_msg(function (msg) {\n        //console.log('receiving', msg['content']['data'], msg);\n        var data = msg['content']['data'];\n        if (data['blob'] !== undefined) {\n            data = {\n                data: new Blob(msg['buffers'], { type: data['blob'] }),\n            };\n        }\n        // Pass the mpl event to the overridden (by mpl) onmessage function.\n        ws.onmessage(data);\n    });\n    return ws;\n};\n\nmpl.mpl_figure_comm = function (comm, msg) {\n    // This is the function which gets called when the mpl process\n    // starts-up an IPython Comm through the \"matplotlib\" channel.\n\n    var id = msg.content.data.id;\n    // Get hold of the div created by the display call when the Comm\n    // socket was opened in Python.\n    var element = document.getElementById(id);\n    var ws_proxy = comm_websocket_adapter(comm);\n\n    function ondownload(figure, _format) {\n        window.open(figure.canvas.toDataURL());\n    }\n\n    var fig = new mpl.figure(id, ws_proxy, ondownload, element);\n\n    // Call onopen now - mpl needs it, as it is assuming we've passed it a real\n    // web socket which is closed, not our websocket->open comm proxy.\n    ws_proxy.onopen();\n\n    fig.parent_element = element;\n    fig.cell_info = mpl.find_output_cell(\"<div id='\" + id + \"'></div>\");\n    if (!fig.cell_info) {\n        console.error('Failed to find cell for figure', id, fig);\n        return;\n    }\n    fig.cell_info[0].output_area.element.on(\n        'cleared',\n        { fig: fig },\n        fig._remove_fig_handler\n    );\n};\n\nmpl.figure.prototype.handle_close = function (fig, msg) {\n    var width = fig.canvas.width / fig.ratio;\n    fig.cell_info[0].output_area.element.off(\n        'cleared',\n        fig._remove_fig_handler\n    );\n    fig.resizeObserverInstance.unobserve(fig.canvas_div);\n\n    // Update the output cell to use the data from the current canvas.\n    fig.push_to_output();\n    var dataURL = fig.canvas.toDataURL();\n    // Re-enable the keyboard manager in IPython - without this line, in FF,\n    // the notebook keyboard shortcuts fail.\n    IPython.keyboard_manager.enable();\n    fig.parent_element.innerHTML =\n        '<img src=\"' + dataURL + '\" width=\"' + width + '\">';\n    fig.close_ws(fig, msg);\n};\n\nmpl.figure.prototype.close_ws = function (fig, msg) {\n    fig.send_message('closing', msg);\n    // fig.ws.close()\n};\n\nmpl.figure.prototype.push_to_output = function (_remove_interactive) {\n    // Turn the data on the canvas into data in the output cell.\n    var width = this.canvas.width / this.ratio;\n    var dataURL = this.canvas.toDataURL();\n    this.cell_info[1]['text/html'] =\n        '<img src=\"' + dataURL + '\" width=\"' + width + '\">';\n};\n\nmpl.figure.prototype.updated_canvas_event = function () {\n    // Tell IPython that the notebook contents must change.\n    IPython.notebook.set_dirty(true);\n    this.send_message('ack', {});\n    var fig = this;\n    // Wait a second, then push the new image to the DOM so\n    // that it is saved nicely (might be nice to debounce this).\n    setTimeout(function () {\n        fig.push_to_output();\n    }, 1000);\n};\n\nmpl.figure.prototype._init_toolbar = function () {\n    var fig = this;\n\n    var toolbar = document.createElement('div');\n    toolbar.classList = 'btn-toolbar';\n    this.root.appendChild(toolbar);\n\n    function on_click_closure(name) {\n        return function (_event) {\n            return fig.toolbar_button_onclick(name);\n        };\n    }\n\n    function on_mouseover_closure(tooltip) {\n        return function (event) {\n            if (!event.currentTarget.disabled) {\n                return fig.toolbar_button_onmouseover(tooltip);\n            }\n        };\n    }\n\n    fig.buttons = {};\n    var buttonGroup = document.createElement('div');\n    buttonGroup.classList = 'btn-group';\n    var button;\n    for (var toolbar_ind in mpl.toolbar_items) {\n        var name = mpl.toolbar_items[toolbar_ind][0];\n        var tooltip = mpl.toolbar_items[toolbar_ind][1];\n        var image = mpl.toolbar_items[toolbar_ind][2];\n        var method_name = mpl.toolbar_items[toolbar_ind][3];\n\n        if (!name) {\n            /* Instead of a spacer, we start a new button group. */\n            if (buttonGroup.hasChildNodes()) {\n                toolbar.appendChild(buttonGroup);\n            }\n            buttonGroup = document.createElement('div');\n            buttonGroup.classList = 'btn-group';\n            continue;\n        }\n\n        button = fig.buttons[name] = document.createElement('button');\n        button.classList = 'btn btn-default';\n        button.href = '#';\n        button.title = name;\n        button.innerHTML = '<i class=\"fa ' + image + ' fa-lg\"></i>';\n        button.addEventListener('click', on_click_closure(method_name));\n        button.addEventListener('mouseover', on_mouseover_closure(tooltip));\n        buttonGroup.appendChild(button);\n    }\n\n    if (buttonGroup.hasChildNodes()) {\n        toolbar.appendChild(buttonGroup);\n    }\n\n    // Add the status bar.\n    var status_bar = document.createElement('span');\n    status_bar.classList = 'mpl-message pull-right';\n    toolbar.appendChild(status_bar);\n    this.message = status_bar;\n\n    // Add the close button to the window.\n    var buttongrp = document.createElement('div');\n    buttongrp.classList = 'btn-group inline pull-right';\n    button = document.createElement('button');\n    button.classList = 'btn btn-mini btn-primary';\n    button.href = '#';\n    button.title = 'Stop Interaction';\n    button.innerHTML = '<i class=\"fa fa-power-off icon-remove icon-large\"></i>';\n    button.addEventListener('click', function (_evt) {\n        fig.handle_close(fig, {});\n    });\n    button.addEventListener(\n        'mouseover',\n        on_mouseover_closure('Stop Interaction')\n    );\n    buttongrp.appendChild(button);\n    var titlebar = this.root.querySelector('.ui-dialog-titlebar');\n    titlebar.insertBefore(buttongrp, titlebar.firstChild);\n};\n\nmpl.figure.prototype._remove_fig_handler = function (event) {\n    var fig = event.data.fig;\n    if (event.target !== this) {\n        // Ignore bubbled events from children.\n        return;\n    }\n    fig.close_ws(fig, {});\n};\n\nmpl.figure.prototype._root_extra_style = function (el) {\n    el.style.boxSizing = 'content-box'; // override notebook setting of border-box.\n};\n\nmpl.figure.prototype._canvas_extra_style = function (el) {\n    // this is important to make the div 'focusable\n    el.setAttribute('tabindex', 0);\n    // reach out to IPython and tell the keyboard manager to turn it's self\n    // off when our div gets focus\n\n    // location in version 3\n    if (IPython.notebook.keyboard_manager) {\n        IPython.notebook.keyboard_manager.register_events(el);\n    } else {\n        // location in version 2\n        IPython.keyboard_manager.register_events(el);\n    }\n};\n\nmpl.figure.prototype._key_event_extra = function (event, _name) {\n    // Check for shift+enter\n    if (event.shiftKey && event.which === 13) {\n        this.canvas_div.blur();\n        // select the cell after this one\n        var index = IPython.notebook.find_cell_index(this.cell_info[0]);\n        IPython.notebook.select(index + 1);\n    }\n};\n\nmpl.figure.prototype.handle_save = function (fig, _msg) {\n    fig.ondownload(fig, null);\n};\n\nmpl.find_output_cell = function (html_output) {\n    // Return the cell and output element which can be found *uniquely* in the notebook.\n    // Note - this is a bit hacky, but it is done because the \"notebook_saving.Notebook\"\n    // IPython event is triggered only after the cells have been serialised, which for\n    // our purposes (turning an active figure into a static one), is too late.\n    var cells = IPython.notebook.get_cells();\n    var ncells = cells.length;\n    for (var i = 0; i < ncells; i++) {\n        var cell = cells[i];\n        if (cell.cell_type === 'code') {\n            for (var j = 0; j < cell.output_area.outputs.length; j++) {\n                var data = cell.output_area.outputs[j];\n                if (data.data) {\n                    // IPython >= 3 moved mimebundle to data attribute of output\n                    data = data.data;\n                }\n                if (data['text/html'] === html_output) {\n                    return [cell, data, j];\n                }\n            }\n        }\n    }\n};\n\n// Register the function which deals with the matplotlib target/channel.\n// The kernel may be null if the page has been refreshed.\nif (IPython.notebook.kernel !== null) {\n    IPython.notebook.kernel.comm_manager.register_target(\n        'matplotlib',\n        mpl.mpl_figure_comm\n    );\n}\n",
      "text/plain": [
       "<IPython.core.display.Javascript object>"
      ]
     },
     "metadata": {},
     "output_type": "display_data"
    },
    {
     "data": {
      "text/html": [
       "<div id='7a12cbd8-bb1b-4cf3-b7f9-5de2af39f499'></div>"
      ],
      "text/plain": [
       "<IPython.core.display.HTML object>"
      ]
     },
     "metadata": {},
     "output_type": "display_data"
    },
    {
     "data": {
      "text/plain": [
       "(<Figure size 640x480 with 1 Axes>, [<Axes3D: >])"
      ]
     },
     "execution_count": 12,
     "metadata": {},
     "output_type": "execute_result"
    }
   ],
   "source": [
    "idf.view_model()"
   ]
  },
  {
   "cell_type": "code",
   "execution_count": 13,
   "id": "aa4dea21f8dee886",
   "metadata": {
    "ExecuteTime": {
     "end_time": "2024-09-11T22:51:44.474020Z",
     "start_time": "2024-09-11T22:51:44.471728Z"
    }
   },
   "outputs": [],
   "source": [
    "%matplotlib inline"
   ]
  },
  {
   "cell_type": "code",
   "execution_count": 14,
   "id": "16a44c06",
   "metadata": {
    "ExecuteTime": {
     "end_time": "2024-09-11T22:51:51.819227Z",
     "start_time": "2024-09-11T22:51:45.236309Z"
    }
   },
   "outputs": [
    {
     "data": {
      "text/plain": [
       "<IDF object HVAC.idf\n",
       "at HVAC.idf\n",
       "\tVersion 9.6.0\n",
       "Simulation Info:\n",
       "\tNot yet simulated>"
      ]
     },
     "execution_count": 14,
     "metadata": {},
     "output_type": "execute_result"
    }
   ],
   "source": [
    "idf.saveas(\"HVAC.idf\")"
   ]
  },
  {
   "cell_type": "markdown",
   "id": "cec448e6",
   "metadata": {},
   "source": [
    "Optionally, we can also simulate the model *locally* (as oppsosed to AWS) to make sure the model runs. Passing the option `design_day=True` to the `simulate` command will ensure that we are not running the whole year of simulation but just the design days. It is just faster."
   ]
  },
  {
   "cell_type": "code",
   "execution_count": 14,
   "id": "3f697be9",
   "metadata": {
    "ExecuteTime": {
     "end_time": "2024-09-11T22:31:44.804891Z",
     "start_time": "2024-09-11T22:31:34.920176Z"
    },
    "scrolled": true
   },
   "outputs": [
    {
     "data": {
      "application/vnd.jupyter.widget-view+json": {
       "model_id": "ea4491caa219406ca052ab4e2d1e1d4c",
       "version_major": 2,
       "version_minor": 0
      },
      "text/plain": [
       "/Applications/EnergyPlus-9-6-0/ExpandObjects #0-HVAC.idf: 0.00it [00:00, ?it/s]"
      ]
     },
     "metadata": {},
     "output_type": "display_data"
    },
    {
     "data": {
      "application/vnd.jupyter.widget-view+json": {
       "model_id": "43959a217af44fd091755083ec06d77e",
       "version_major": 2,
       "version_minor": 0
      },
      "text/plain": [
       "/Applications/EnergyPlus-9-6-0/energyplus HVAC.idf: 0it [00:00, ?it/s]"
      ]
     },
     "metadata": {},
     "output_type": "display_data"
    },
    {
     "data": {
      "text/plain": [
       "<IDF object HVAC.idf\n",
       "at HVAC.idf\n",
       "\tVersion 9.6.0\n",
       "Simulation Info:\n",
       "\tNot yet simulated>"
      ]
     },
     "execution_count": 14,
     "metadata": {},
     "output_type": "execute_result"
    }
   ],
   "source": [
    "idf.simulate(\n",
    "    epw=\"CAN_ON_Toronto.716240_CWEC.epw\",\n",
    "    design_day=True,\n",
    ")"
   ]
  },
  {
   "cell_type": "markdown",
   "id": "e0f7e3ab",
   "metadata": {},
   "source": [
    "Energyplus produces a lot of files for our simulation. To keep things tidy and not to fill up the jupyter hub with junk, we can call a linux command to delete the cache folder, where all simulation results reside:"
   ]
  },
  {
   "cell_type": "code",
   "execution_count": 15,
   "id": "92d061e9",
   "metadata": {
    "ExecuteTime": {
     "end_time": "2024-09-11T22:31:47.310402Z",
     "start_time": "2024-09-11T22:31:47.177991Z"
    }
   },
   "outputs": [
    {
     "name": "stdout",
     "output_type": "stream",
     "text": [
      "cache/dc7954feb550f4889a0a8e59b4fe9465\r\n",
      "cache\r\n"
     ]
    }
   ],
   "source": [
    "!rm -rv cache"
   ]
  },
  {
   "cell_type": "markdown",
   "id": "a0e5c653",
   "metadata": {},
   "source": [
    "## Create Job and Submit\n",
    "\n",
    "Next, we create a BuildingAnalysis object which contains our design space, baseline and defines other parameters for the simulation."
   ]
  },
  {
   "cell_type": "code",
   "execution_count": 15,
   "id": "8922caa8",
   "metadata": {
    "ExecuteTime": {
     "end_time": "2024-09-11T22:51:52.882109Z",
     "start_time": "2024-09-11T22:51:52.879487Z"
    }
   },
   "outputs": [],
   "source": [
    "from surrogate_schema import BuildingAnalysis\n",
    "\n",
    "analysis_1 = BuildingAnalysis(\n",
    "    company=\"Brampton\",\n",
    "    project=\"Brampton\",\n",
    "    local_epw=\"CAN_ON_Toronto.716240_CWEC.epw\",\n",
    "    local_seed_model=\"HVAC.idf\",\n",
    "    local_iddname=\"Energy+.idd\",  # IDD file is used in AWS to read/parse the idf model\n",
    "    design_space=space,\n",
    "    baseline={\n",
    "        \"WWR\": 0.4,\n",
    "        \"WINU\": 0.38,\n",
    "        \"WINSHGC\": 0.4,\n",
    "        \"ROOFR\": 35,\n",
    "        \"WALLR\": 20,\n",
    "        \"INFIL\": 0.07,\n",
    "    },\n",
    "    analysis_id=\"ea3c4f33-174b-4427-90c1-bc2675d2cd05\",\n",
    ")"
   ]
  },
  {
   "cell_type": "code",
   "execution_count": 16,
   "id": "eabb89a6",
   "metadata": {
    "ExecuteTime": {
     "end_time": "2024-09-11T22:51:52.893317Z",
     "start_time": "2024-09-11T22:51:52.890815Z"
    }
   },
   "outputs": [
    {
     "data": {
      "text/plain": [
       "BuildingAnalysis(analysis_id=UUID('ea3c4f33-174b-4427-90c1-bc2675d2cd05'), company='Brampton', project='Brampton', local_epw=PosixPath('CAN_ON_Toronto.716240_CWEC.epw'), local_seed_model=PosixPath('HVAC.idf'), local_template=None, hvac_template_name=None, hvac_template_zone_scheme=<SystemScheme.SINGLE_SYSTEM: 1>, local_iddname=PosixPath('Energy+.idd'), local_ddyname=None, seed_model_s3_path=None, template_s3_path=None, epw_s3_path=None, iddname_s3_path=None, ddyname_s3_path=None, job=[], job_response=[], design_space=Space(dimensions=[Dimension(name='WWR', categories=[0.35, 0.4, 0.45, 0.5, 0.55], low=None, high=None, baseline=None, base=10, transformer=None, prior=None, dtype=dtype('float64'), practical_ranges=None), Dimension(name='WINU', categories=[0.17, 0.25, 0.32, 0.38], low=None, high=None, baseline=None, base=10, transformer=None, prior=None, dtype=dtype('float64'), practical_ranges={'Passive House': 0.14, 'Single Pane': 1.02, 'Double, clear': 0.5, 'Double, low-e': 0.352}), Dimension(name='WINSHGC', categories=[0.2, 0.25, 0.3, 0.35, 0.4], low=None, high=None, baseline=None, base=10, transformer=None, prior=None, dtype=dtype('float64'), practical_ranges=None), Dimension(name='ROOFR', categories=[30.0, 35.0, 40.0, 50.0], low=None, high=None, baseline=None, base=10, transformer=None, prior=None, dtype=dtype('float64'), practical_ranges=None), Dimension(name='WALLR', categories=[10.0, 15.0, 20.0, 25.0, 30.0], low=None, high=None, baseline=None, base=10, transformer=None, prior=None, dtype=dtype('float64'), practical_ranges=None), Dimension(name='INFIL', categories=[0.01, 0.04, 0.07], low=None, high=None, baseline=None, base=10, transformer=None, prior=None, dtype=dtype('float64'), practical_ranges={'Passive House': 0.00896, 'ArmyCorp (standard)': 0.028, 'ASHREA avg-Building': 0.0448})], space_id=UUID('9a5c2a9f-1b45-4241-a3ad-b41c1ab0e3ba'), baseline=None, version='0.0.0'), baseline={'WWR': 0.4, 'WINU': 0.38, 'WINSHGC': 0.4, 'ROOFR': 35, 'WALLR': 20, 'INFIL': 0.07}, system_cops=SystemCops(heat_cop=1, cool_cop=1, dhw_cop=1, gas_cop=1), sampled_space=None, sensitivity=None, parametric=None, results=None)"
      ]
     },
     "execution_count": 16,
     "metadata": {},
     "output_type": "execute_result"
    }
   ],
   "source": [
    "analysis_1"
   ]
  },
  {
   "cell_type": "markdown",
   "id": "d7564580",
   "metadata": {},
   "source": [
    "### Determining the samples or runs to simulate\n",
    "\n",
    "In this particular project, we are only interested in runnning the sensitivity runs. Therefore, we are going to assing result of the `create_sensitivity_space` method to the `BuildingAnalysis.sampled_space` attribute."
   ]
  },
  {
   "cell_type": "markdown",
   "id": "ab375b64",
   "metadata": {},
   "source": [
    "Our Sampeld space looks like this:"
   ]
  },
  {
   "cell_type": "code",
   "execution_count": 17,
   "id": "ee3c5260",
   "metadata": {
    "ExecuteTime": {
     "end_time": "2024-09-11T22:51:54.954407Z",
     "start_time": "2024-09-11T22:51:53.424810Z"
    }
   },
   "outputs": [],
   "source": [
    "analysis_1.sampled_space = analysis_1.create_space()"
   ]
  },
  {
   "cell_type": "code",
   "execution_count": 18,
   "id": "07de41e8",
   "metadata": {
    "ExecuteTime": {
     "end_time": "2024-09-11T22:51:55.744Z",
     "start_time": "2024-09-11T22:51:55.484704Z"
    }
   },
   "outputs": [
    {
     "data": {
      "application/javascript": "/* Put everything inside the global mpl namespace */\n/* global mpl */\nwindow.mpl = {};\n\nmpl.get_websocket_type = function () {\n    if (typeof WebSocket !== 'undefined') {\n        return WebSocket;\n    } else if (typeof MozWebSocket !== 'undefined') {\n        return MozWebSocket;\n    } else {\n        alert(\n            'Your browser does not have WebSocket support. ' +\n                'Please try Chrome, Safari or Firefox ≥ 6. ' +\n                'Firefox 4 and 5 are also supported but you ' +\n                'have to enable WebSockets in about:config.'\n        );\n    }\n};\n\nmpl.figure = function (figure_id, websocket, ondownload, parent_element) {\n    this.id = figure_id;\n\n    this.ws = websocket;\n\n    this.supports_binary = this.ws.binaryType !== undefined;\n\n    if (!this.supports_binary) {\n        var warnings = document.getElementById('mpl-warnings');\n        if (warnings) {\n            warnings.style.display = 'block';\n            warnings.textContent =\n                'This browser does not support binary websocket messages. ' +\n                'Performance may be slow.';\n        }\n    }\n\n    this.imageObj = new Image();\n\n    this.context = undefined;\n    this.message = undefined;\n    this.canvas = undefined;\n    this.rubberband_canvas = undefined;\n    this.rubberband_context = undefined;\n    this.format_dropdown = undefined;\n\n    this.image_mode = 'full';\n\n    this.root = document.createElement('div');\n    this.root.setAttribute('style', 'display: inline-block');\n    this._root_extra_style(this.root);\n\n    parent_element.appendChild(this.root);\n\n    this._init_header(this);\n    this._init_canvas(this);\n    this._init_toolbar(this);\n\n    var fig = this;\n\n    this.waiting = false;\n\n    this.ws.onopen = function () {\n        fig.send_message('supports_binary', { value: fig.supports_binary });\n        fig.send_message('send_image_mode', {});\n        if (fig.ratio !== 1) {\n            fig.send_message('set_device_pixel_ratio', {\n                device_pixel_ratio: fig.ratio,\n            });\n        }\n        fig.send_message('refresh', {});\n    };\n\n    this.imageObj.onload = function () {\n        if (fig.image_mode === 'full') {\n            // Full images could contain transparency (where diff images\n            // almost always do), so we need to clear the canvas so that\n            // there is no ghosting.\n            fig.context.clearRect(0, 0, fig.canvas.width, fig.canvas.height);\n        }\n        fig.context.drawImage(fig.imageObj, 0, 0);\n    };\n\n    this.imageObj.onunload = function () {\n        fig.ws.close();\n    };\n\n    this.ws.onmessage = this._make_on_message_function(this);\n\n    this.ondownload = ondownload;\n};\n\nmpl.figure.prototype._init_header = function () {\n    var titlebar = document.createElement('div');\n    titlebar.classList =\n        'ui-dialog-titlebar ui-widget-header ui-corner-all ui-helper-clearfix';\n    var titletext = document.createElement('div');\n    titletext.classList = 'ui-dialog-title';\n    titletext.setAttribute(\n        'style',\n        'width: 100%; text-align: center; padding: 3px;'\n    );\n    titlebar.appendChild(titletext);\n    this.root.appendChild(titlebar);\n    this.header = titletext;\n};\n\nmpl.figure.prototype._canvas_extra_style = function (_canvas_div) {};\n\nmpl.figure.prototype._root_extra_style = function (_canvas_div) {};\n\nmpl.figure.prototype._init_canvas = function () {\n    var fig = this;\n\n    var canvas_div = (this.canvas_div = document.createElement('div'));\n    canvas_div.setAttribute('tabindex', '0');\n    canvas_div.setAttribute(\n        'style',\n        'border: 1px solid #ddd;' +\n            'box-sizing: content-box;' +\n            'clear: both;' +\n            'min-height: 1px;' +\n            'min-width: 1px;' +\n            'outline: 0;' +\n            'overflow: hidden;' +\n            'position: relative;' +\n            'resize: both;' +\n            'z-index: 2;'\n    );\n\n    function on_keyboard_event_closure(name) {\n        return function (event) {\n            return fig.key_event(event, name);\n        };\n    }\n\n    canvas_div.addEventListener(\n        'keydown',\n        on_keyboard_event_closure('key_press')\n    );\n    canvas_div.addEventListener(\n        'keyup',\n        on_keyboard_event_closure('key_release')\n    );\n\n    this._canvas_extra_style(canvas_div);\n    this.root.appendChild(canvas_div);\n\n    var canvas = (this.canvas = document.createElement('canvas'));\n    canvas.classList.add('mpl-canvas');\n    canvas.setAttribute(\n        'style',\n        'box-sizing: content-box;' +\n            'pointer-events: none;' +\n            'position: relative;' +\n            'z-index: 0;'\n    );\n\n    this.context = canvas.getContext('2d');\n\n    var backingStore =\n        this.context.backingStorePixelRatio ||\n        this.context.webkitBackingStorePixelRatio ||\n        this.context.mozBackingStorePixelRatio ||\n        this.context.msBackingStorePixelRatio ||\n        this.context.oBackingStorePixelRatio ||\n        this.context.backingStorePixelRatio ||\n        1;\n\n    this.ratio = (window.devicePixelRatio || 1) / backingStore;\n\n    var rubberband_canvas = (this.rubberband_canvas = document.createElement(\n        'canvas'\n    ));\n    rubberband_canvas.setAttribute(\n        'style',\n        'box-sizing: content-box;' +\n            'left: 0;' +\n            'pointer-events: none;' +\n            'position: absolute;' +\n            'top: 0;' +\n            'z-index: 1;'\n    );\n\n    // Apply a ponyfill if ResizeObserver is not implemented by browser.\n    if (this.ResizeObserver === undefined) {\n        if (window.ResizeObserver !== undefined) {\n            this.ResizeObserver = window.ResizeObserver;\n        } else {\n            var obs = _JSXTOOLS_RESIZE_OBSERVER({});\n            this.ResizeObserver = obs.ResizeObserver;\n        }\n    }\n\n    this.resizeObserverInstance = new this.ResizeObserver(function (entries) {\n        // There's no need to resize if the WebSocket is not connected:\n        // - If it is still connecting, then we will get an initial resize from\n        //   Python once it connects.\n        // - If it has disconnected, then resizing will clear the canvas and\n        //   never get anything back to refill it, so better to not resize and\n        //   keep something visible.\n        if (fig.ws.readyState != 1) {\n            return;\n        }\n        var nentries = entries.length;\n        for (var i = 0; i < nentries; i++) {\n            var entry = entries[i];\n            var width, height;\n            if (entry.contentBoxSize) {\n                if (entry.contentBoxSize instanceof Array) {\n                    // Chrome 84 implements new version of spec.\n                    width = entry.contentBoxSize[0].inlineSize;\n                    height = entry.contentBoxSize[0].blockSize;\n                } else {\n                    // Firefox implements old version of spec.\n                    width = entry.contentBoxSize.inlineSize;\n                    height = entry.contentBoxSize.blockSize;\n                }\n            } else {\n                // Chrome <84 implements even older version of spec.\n                width = entry.contentRect.width;\n                height = entry.contentRect.height;\n            }\n\n            // Keep the size of the canvas and rubber band canvas in sync with\n            // the canvas container.\n            if (entry.devicePixelContentBoxSize) {\n                // Chrome 84 implements new version of spec.\n                canvas.setAttribute(\n                    'width',\n                    entry.devicePixelContentBoxSize[0].inlineSize\n                );\n                canvas.setAttribute(\n                    'height',\n                    entry.devicePixelContentBoxSize[0].blockSize\n                );\n            } else {\n                canvas.setAttribute('width', width * fig.ratio);\n                canvas.setAttribute('height', height * fig.ratio);\n            }\n            /* This rescales the canvas back to display pixels, so that it\n             * appears correct on HiDPI screens. */\n            canvas.style.width = width + 'px';\n            canvas.style.height = height + 'px';\n\n            rubberband_canvas.setAttribute('width', width);\n            rubberband_canvas.setAttribute('height', height);\n\n            // And update the size in Python. We ignore the initial 0/0 size\n            // that occurs as the element is placed into the DOM, which should\n            // otherwise not happen due to the minimum size styling.\n            if (width != 0 && height != 0) {\n                fig.request_resize(width, height);\n            }\n        }\n    });\n    this.resizeObserverInstance.observe(canvas_div);\n\n    function on_mouse_event_closure(name) {\n        /* User Agent sniffing is bad, but WebKit is busted:\n         * https://bugs.webkit.org/show_bug.cgi?id=144526\n         * https://bugs.webkit.org/show_bug.cgi?id=181818\n         * The worst that happens here is that they get an extra browser\n         * selection when dragging, if this check fails to catch them.\n         */\n        var UA = navigator.userAgent;\n        var isWebKit = /AppleWebKit/.test(UA) && !/Chrome/.test(UA);\n        if(isWebKit) {\n            return function (event) {\n                /* This prevents the web browser from automatically changing to\n                 * the text insertion cursor when the button is pressed. We\n                 * want to control all of the cursor setting manually through\n                 * the 'cursor' event from matplotlib */\n                event.preventDefault()\n                return fig.mouse_event(event, name);\n            };\n        } else {\n            return function (event) {\n                return fig.mouse_event(event, name);\n            };\n        }\n    }\n\n    canvas_div.addEventListener(\n        'mousedown',\n        on_mouse_event_closure('button_press')\n    );\n    canvas_div.addEventListener(\n        'mouseup',\n        on_mouse_event_closure('button_release')\n    );\n    canvas_div.addEventListener(\n        'dblclick',\n        on_mouse_event_closure('dblclick')\n    );\n    // Throttle sequential mouse events to 1 every 20ms.\n    canvas_div.addEventListener(\n        'mousemove',\n        on_mouse_event_closure('motion_notify')\n    );\n\n    canvas_div.addEventListener(\n        'mouseenter',\n        on_mouse_event_closure('figure_enter')\n    );\n    canvas_div.addEventListener(\n        'mouseleave',\n        on_mouse_event_closure('figure_leave')\n    );\n\n    canvas_div.addEventListener('wheel', function (event) {\n        if (event.deltaY < 0) {\n            event.step = 1;\n        } else {\n            event.step = -1;\n        }\n        on_mouse_event_closure('scroll')(event);\n    });\n\n    canvas_div.appendChild(canvas);\n    canvas_div.appendChild(rubberband_canvas);\n\n    this.rubberband_context = rubberband_canvas.getContext('2d');\n    this.rubberband_context.strokeStyle = '#000000';\n\n    this._resize_canvas = function (width, height, forward) {\n        if (forward) {\n            canvas_div.style.width = width + 'px';\n            canvas_div.style.height = height + 'px';\n        }\n    };\n\n    // Disable right mouse context menu.\n    canvas_div.addEventListener('contextmenu', function (_e) {\n        event.preventDefault();\n        return false;\n    });\n\n    function set_focus() {\n        canvas.focus();\n        canvas_div.focus();\n    }\n\n    window.setTimeout(set_focus, 100);\n};\n\nmpl.figure.prototype._init_toolbar = function () {\n    var fig = this;\n\n    var toolbar = document.createElement('div');\n    toolbar.classList = 'mpl-toolbar';\n    this.root.appendChild(toolbar);\n\n    function on_click_closure(name) {\n        return function (_event) {\n            return fig.toolbar_button_onclick(name);\n        };\n    }\n\n    function on_mouseover_closure(tooltip) {\n        return function (event) {\n            if (!event.currentTarget.disabled) {\n                return fig.toolbar_button_onmouseover(tooltip);\n            }\n        };\n    }\n\n    fig.buttons = {};\n    var buttonGroup = document.createElement('div');\n    buttonGroup.classList = 'mpl-button-group';\n    for (var toolbar_ind in mpl.toolbar_items) {\n        var name = mpl.toolbar_items[toolbar_ind][0];\n        var tooltip = mpl.toolbar_items[toolbar_ind][1];\n        var image = mpl.toolbar_items[toolbar_ind][2];\n        var method_name = mpl.toolbar_items[toolbar_ind][3];\n\n        if (!name) {\n            /* Instead of a spacer, we start a new button group. */\n            if (buttonGroup.hasChildNodes()) {\n                toolbar.appendChild(buttonGroup);\n            }\n            buttonGroup = document.createElement('div');\n            buttonGroup.classList = 'mpl-button-group';\n            continue;\n        }\n\n        var button = (fig.buttons[name] = document.createElement('button'));\n        button.classList = 'mpl-widget';\n        button.setAttribute('role', 'button');\n        button.setAttribute('aria-disabled', 'false');\n        button.addEventListener('click', on_click_closure(method_name));\n        button.addEventListener('mouseover', on_mouseover_closure(tooltip));\n\n        var icon_img = document.createElement('img');\n        icon_img.src = '_images/' + image + '.png';\n        icon_img.srcset = '_images/' + image + '_large.png 2x';\n        icon_img.alt = tooltip;\n        button.appendChild(icon_img);\n\n        buttonGroup.appendChild(button);\n    }\n\n    if (buttonGroup.hasChildNodes()) {\n        toolbar.appendChild(buttonGroup);\n    }\n\n    var fmt_picker = document.createElement('select');\n    fmt_picker.classList = 'mpl-widget';\n    toolbar.appendChild(fmt_picker);\n    this.format_dropdown = fmt_picker;\n\n    for (var ind in mpl.extensions) {\n        var fmt = mpl.extensions[ind];\n        var option = document.createElement('option');\n        option.selected = fmt === mpl.default_extension;\n        option.innerHTML = fmt;\n        fmt_picker.appendChild(option);\n    }\n\n    var status_bar = document.createElement('span');\n    status_bar.classList = 'mpl-message';\n    toolbar.appendChild(status_bar);\n    this.message = status_bar;\n};\n\nmpl.figure.prototype.request_resize = function (x_pixels, y_pixels) {\n    // Request matplotlib to resize the figure. Matplotlib will then trigger a resize in the client,\n    // which will in turn request a refresh of the image.\n    this.send_message('resize', { width: x_pixels, height: y_pixels });\n};\n\nmpl.figure.prototype.send_message = function (type, properties) {\n    properties['type'] = type;\n    properties['figure_id'] = this.id;\n    this.ws.send(JSON.stringify(properties));\n};\n\nmpl.figure.prototype.send_draw_message = function () {\n    if (!this.waiting) {\n        this.waiting = true;\n        this.ws.send(JSON.stringify({ type: 'draw', figure_id: this.id }));\n    }\n};\n\nmpl.figure.prototype.handle_save = function (fig, _msg) {\n    var format_dropdown = fig.format_dropdown;\n    var format = format_dropdown.options[format_dropdown.selectedIndex].value;\n    fig.ondownload(fig, format);\n};\n\nmpl.figure.prototype.handle_resize = function (fig, msg) {\n    var size = msg['size'];\n    if (size[0] !== fig.canvas.width || size[1] !== fig.canvas.height) {\n        fig._resize_canvas(size[0], size[1], msg['forward']);\n        fig.send_message('refresh', {});\n    }\n};\n\nmpl.figure.prototype.handle_rubberband = function (fig, msg) {\n    var x0 = msg['x0'] / fig.ratio;\n    var y0 = (fig.canvas.height - msg['y0']) / fig.ratio;\n    var x1 = msg['x1'] / fig.ratio;\n    var y1 = (fig.canvas.height - msg['y1']) / fig.ratio;\n    x0 = Math.floor(x0) + 0.5;\n    y0 = Math.floor(y0) + 0.5;\n    x1 = Math.floor(x1) + 0.5;\n    y1 = Math.floor(y1) + 0.5;\n    var min_x = Math.min(x0, x1);\n    var min_y = Math.min(y0, y1);\n    var width = Math.abs(x1 - x0);\n    var height = Math.abs(y1 - y0);\n\n    fig.rubberband_context.clearRect(\n        0,\n        0,\n        fig.canvas.width / fig.ratio,\n        fig.canvas.height / fig.ratio\n    );\n\n    fig.rubberband_context.strokeRect(min_x, min_y, width, height);\n};\n\nmpl.figure.prototype.handle_figure_label = function (fig, msg) {\n    // Updates the figure title.\n    fig.header.textContent = msg['label'];\n};\n\nmpl.figure.prototype.handle_cursor = function (fig, msg) {\n    fig.canvas_div.style.cursor = msg['cursor'];\n};\n\nmpl.figure.prototype.handle_message = function (fig, msg) {\n    fig.message.textContent = msg['message'];\n};\n\nmpl.figure.prototype.handle_draw = function (fig, _msg) {\n    // Request the server to send over a new figure.\n    fig.send_draw_message();\n};\n\nmpl.figure.prototype.handle_image_mode = function (fig, msg) {\n    fig.image_mode = msg['mode'];\n};\n\nmpl.figure.prototype.handle_history_buttons = function (fig, msg) {\n    for (var key in msg) {\n        if (!(key in fig.buttons)) {\n            continue;\n        }\n        fig.buttons[key].disabled = !msg[key];\n        fig.buttons[key].setAttribute('aria-disabled', !msg[key]);\n    }\n};\n\nmpl.figure.prototype.handle_navigate_mode = function (fig, msg) {\n    if (msg['mode'] === 'PAN') {\n        fig.buttons['Pan'].classList.add('active');\n        fig.buttons['Zoom'].classList.remove('active');\n    } else if (msg['mode'] === 'ZOOM') {\n        fig.buttons['Pan'].classList.remove('active');\n        fig.buttons['Zoom'].classList.add('active');\n    } else {\n        fig.buttons['Pan'].classList.remove('active');\n        fig.buttons['Zoom'].classList.remove('active');\n    }\n};\n\nmpl.figure.prototype.updated_canvas_event = function () {\n    // Called whenever the canvas gets updated.\n    this.send_message('ack', {});\n};\n\n// A function to construct a web socket function for onmessage handling.\n// Called in the figure constructor.\nmpl.figure.prototype._make_on_message_function = function (fig) {\n    return function socket_on_message(evt) {\n        if (evt.data instanceof Blob) {\n            var img = evt.data;\n            if (img.type !== 'image/png') {\n                /* FIXME: We get \"Resource interpreted as Image but\n                 * transferred with MIME type text/plain:\" errors on\n                 * Chrome.  But how to set the MIME type?  It doesn't seem\n                 * to be part of the websocket stream */\n                img.type = 'image/png';\n            }\n\n            /* Free the memory for the previous frames */\n            if (fig.imageObj.src) {\n                (window.URL || window.webkitURL).revokeObjectURL(\n                    fig.imageObj.src\n                );\n            }\n\n            fig.imageObj.src = (window.URL || window.webkitURL).createObjectURL(\n                img\n            );\n            fig.updated_canvas_event();\n            fig.waiting = false;\n            return;\n        } else if (\n            typeof evt.data === 'string' &&\n            evt.data.slice(0, 21) === 'data:image/png;base64'\n        ) {\n            fig.imageObj.src = evt.data;\n            fig.updated_canvas_event();\n            fig.waiting = false;\n            return;\n        }\n\n        var msg = JSON.parse(evt.data);\n        var msg_type = msg['type'];\n\n        // Call the  \"handle_{type}\" callback, which takes\n        // the figure and JSON message as its only arguments.\n        try {\n            var callback = fig['handle_' + msg_type];\n        } catch (e) {\n            console.log(\n                \"No handler for the '\" + msg_type + \"' message type: \",\n                msg\n            );\n            return;\n        }\n\n        if (callback) {\n            try {\n                // console.log(\"Handling '\" + msg_type + \"' message: \", msg);\n                callback(fig, msg);\n            } catch (e) {\n                console.log(\n                    \"Exception inside the 'handler_\" + msg_type + \"' callback:\",\n                    e,\n                    e.stack,\n                    msg\n                );\n            }\n        }\n    };\n};\n\nfunction getModifiers(event) {\n    var mods = [];\n    if (event.ctrlKey) {\n        mods.push('ctrl');\n    }\n    if (event.altKey) {\n        mods.push('alt');\n    }\n    if (event.shiftKey) {\n        mods.push('shift');\n    }\n    if (event.metaKey) {\n        mods.push('meta');\n    }\n    return mods;\n}\n\n/*\n * return a copy of an object with only non-object keys\n * we need this to avoid circular references\n * https://stackoverflow.com/a/24161582/3208463\n */\nfunction simpleKeys(original) {\n    return Object.keys(original).reduce(function (obj, key) {\n        if (typeof original[key] !== 'object') {\n            obj[key] = original[key];\n        }\n        return obj;\n    }, {});\n}\n\nmpl.figure.prototype.mouse_event = function (event, name) {\n    if (name === 'button_press') {\n        this.canvas.focus();\n        this.canvas_div.focus();\n    }\n\n    // from https://stackoverflow.com/q/1114465\n    var boundingRect = this.canvas.getBoundingClientRect();\n    var x = (event.clientX - boundingRect.left) * this.ratio;\n    var y = (event.clientY - boundingRect.top) * this.ratio;\n\n    this.send_message(name, {\n        x: x,\n        y: y,\n        button: event.button,\n        step: event.step,\n        modifiers: getModifiers(event),\n        guiEvent: simpleKeys(event),\n    });\n\n    return false;\n};\n\nmpl.figure.prototype._key_event_extra = function (_event, _name) {\n    // Handle any extra behaviour associated with a key event\n};\n\nmpl.figure.prototype.key_event = function (event, name) {\n    // Prevent repeat events\n    if (name === 'key_press') {\n        if (event.key === this._key) {\n            return;\n        } else {\n            this._key = event.key;\n        }\n    }\n    if (name === 'key_release') {\n        this._key = null;\n    }\n\n    var value = '';\n    if (event.ctrlKey && event.key !== 'Control') {\n        value += 'ctrl+';\n    }\n    else if (event.altKey && event.key !== 'Alt') {\n        value += 'alt+';\n    }\n    else if (event.shiftKey && event.key !== 'Shift') {\n        value += 'shift+';\n    }\n\n    value += 'k' + event.key;\n\n    this._key_event_extra(event, name);\n\n    this.send_message(name, { key: value, guiEvent: simpleKeys(event) });\n    return false;\n};\n\nmpl.figure.prototype.toolbar_button_onclick = function (name) {\n    if (name === 'download') {\n        this.handle_save(this, null);\n    } else {\n        this.send_message('toolbar_button', { name: name });\n    }\n};\n\nmpl.figure.prototype.toolbar_button_onmouseover = function (tooltip) {\n    this.message.textContent = tooltip;\n};\n\n///////////////// REMAINING CONTENT GENERATED BY embed_js.py /////////////////\n// prettier-ignore\nvar _JSXTOOLS_RESIZE_OBSERVER=function(A){var t,i=new WeakMap,n=new WeakMap,a=new WeakMap,r=new WeakMap,o=new Set;function s(e){if(!(this instanceof s))throw new TypeError(\"Constructor requires 'new' operator\");i.set(this,e)}function h(){throw new TypeError(\"Function is not a constructor\")}function c(e,t,i,n){e=0 in arguments?Number(arguments[0]):0,t=1 in arguments?Number(arguments[1]):0,i=2 in arguments?Number(arguments[2]):0,n=3 in arguments?Number(arguments[3]):0,this.right=(this.x=this.left=e)+(this.width=i),this.bottom=(this.y=this.top=t)+(this.height=n),Object.freeze(this)}function d(){t=requestAnimationFrame(d);var s=new WeakMap,p=new Set;o.forEach((function(t){r.get(t).forEach((function(i){var r=t instanceof window.SVGElement,o=a.get(t),d=r?0:parseFloat(o.paddingTop),f=r?0:parseFloat(o.paddingRight),l=r?0:parseFloat(o.paddingBottom),u=r?0:parseFloat(o.paddingLeft),g=r?0:parseFloat(o.borderTopWidth),m=r?0:parseFloat(o.borderRightWidth),w=r?0:parseFloat(o.borderBottomWidth),b=u+f,F=d+l,v=(r?0:parseFloat(o.borderLeftWidth))+m,W=g+w,y=r?0:t.offsetHeight-W-t.clientHeight,E=r?0:t.offsetWidth-v-t.clientWidth,R=b+v,z=F+W,M=r?t.width:parseFloat(o.width)-R-E,O=r?t.height:parseFloat(o.height)-z-y;if(n.has(t)){var k=n.get(t);if(k[0]===M&&k[1]===O)return}n.set(t,[M,O]);var S=Object.create(h.prototype);S.target=t,S.contentRect=new c(u,d,M,O),s.has(i)||(s.set(i,[]),p.add(i)),s.get(i).push(S)}))})),p.forEach((function(e){i.get(e).call(e,s.get(e),e)}))}return s.prototype.observe=function(i){if(i instanceof window.Element){r.has(i)||(r.set(i,new Set),o.add(i),a.set(i,window.getComputedStyle(i)));var n=r.get(i);n.has(this)||n.add(this),cancelAnimationFrame(t),t=requestAnimationFrame(d)}},s.prototype.unobserve=function(i){if(i instanceof window.Element&&r.has(i)){var n=r.get(i);n.has(this)&&(n.delete(this),n.size||(r.delete(i),o.delete(i))),n.size||r.delete(i),o.size||cancelAnimationFrame(t)}},A.DOMRectReadOnly=c,A.ResizeObserver=s,A.ResizeObserverEntry=h,A}; // eslint-disable-line\nmpl.toolbar_items = [[\"Home\", \"Reset original view\", \"fa fa-home\", \"home\"], [\"Back\", \"Back to previous view\", \"fa fa-arrow-left\", \"back\"], [\"Forward\", \"Forward to next view\", \"fa fa-arrow-right\", \"forward\"], [\"\", \"\", \"\", \"\"], [\"Pan\", \"Left button pans, Right button zooms\\nx/y fixes axis, CTRL fixes aspect\", \"fa fa-arrows\", \"pan\"], [\"Zoom\", \"Zoom to rectangle\\nx/y fixes axis\", \"fa fa-square-o\", \"zoom\"], [\"\", \"\", \"\", \"\"], [\"Download\", \"Download plot\", \"fa fa-floppy-o\", \"download\"]];\n\nmpl.extensions = [\"eps\", \"jpeg\", \"pgf\", \"pdf\", \"png\", \"ps\", \"raw\", \"svg\", \"tif\", \"webp\"];\n\nmpl.default_extension = \"png\";/* global mpl */\n\nvar comm_websocket_adapter = function (comm) {\n    // Create a \"websocket\"-like object which calls the given IPython comm\n    // object with the appropriate methods. Currently this is a non binary\n    // socket, so there is still some room for performance tuning.\n    var ws = {};\n\n    ws.binaryType = comm.kernel.ws.binaryType;\n    ws.readyState = comm.kernel.ws.readyState;\n    function updateReadyState(_event) {\n        if (comm.kernel.ws) {\n            ws.readyState = comm.kernel.ws.readyState;\n        } else {\n            ws.readyState = 3; // Closed state.\n        }\n    }\n    comm.kernel.ws.addEventListener('open', updateReadyState);\n    comm.kernel.ws.addEventListener('close', updateReadyState);\n    comm.kernel.ws.addEventListener('error', updateReadyState);\n\n    ws.close = function () {\n        comm.close();\n    };\n    ws.send = function (m) {\n        //console.log('sending', m);\n        comm.send(m);\n    };\n    // Register the callback with on_msg.\n    comm.on_msg(function (msg) {\n        //console.log('receiving', msg['content']['data'], msg);\n        var data = msg['content']['data'];\n        if (data['blob'] !== undefined) {\n            data = {\n                data: new Blob(msg['buffers'], { type: data['blob'] }),\n            };\n        }\n        // Pass the mpl event to the overridden (by mpl) onmessage function.\n        ws.onmessage(data);\n    });\n    return ws;\n};\n\nmpl.mpl_figure_comm = function (comm, msg) {\n    // This is the function which gets called when the mpl process\n    // starts-up an IPython Comm through the \"matplotlib\" channel.\n\n    var id = msg.content.data.id;\n    // Get hold of the div created by the display call when the Comm\n    // socket was opened in Python.\n    var element = document.getElementById(id);\n    var ws_proxy = comm_websocket_adapter(comm);\n\n    function ondownload(figure, _format) {\n        window.open(figure.canvas.toDataURL());\n    }\n\n    var fig = new mpl.figure(id, ws_proxy, ondownload, element);\n\n    // Call onopen now - mpl needs it, as it is assuming we've passed it a real\n    // web socket which is closed, not our websocket->open comm proxy.\n    ws_proxy.onopen();\n\n    fig.parent_element = element;\n    fig.cell_info = mpl.find_output_cell(\"<div id='\" + id + \"'></div>\");\n    if (!fig.cell_info) {\n        console.error('Failed to find cell for figure', id, fig);\n        return;\n    }\n    fig.cell_info[0].output_area.element.on(\n        'cleared',\n        { fig: fig },\n        fig._remove_fig_handler\n    );\n};\n\nmpl.figure.prototype.handle_close = function (fig, msg) {\n    var width = fig.canvas.width / fig.ratio;\n    fig.cell_info[0].output_area.element.off(\n        'cleared',\n        fig._remove_fig_handler\n    );\n    fig.resizeObserverInstance.unobserve(fig.canvas_div);\n\n    // Update the output cell to use the data from the current canvas.\n    fig.push_to_output();\n    var dataURL = fig.canvas.toDataURL();\n    // Re-enable the keyboard manager in IPython - without this line, in FF,\n    // the notebook keyboard shortcuts fail.\n    IPython.keyboard_manager.enable();\n    fig.parent_element.innerHTML =\n        '<img src=\"' + dataURL + '\" width=\"' + width + '\">';\n    fig.close_ws(fig, msg);\n};\n\nmpl.figure.prototype.close_ws = function (fig, msg) {\n    fig.send_message('closing', msg);\n    // fig.ws.close()\n};\n\nmpl.figure.prototype.push_to_output = function (_remove_interactive) {\n    // Turn the data on the canvas into data in the output cell.\n    var width = this.canvas.width / this.ratio;\n    var dataURL = this.canvas.toDataURL();\n    this.cell_info[1]['text/html'] =\n        '<img src=\"' + dataURL + '\" width=\"' + width + '\">';\n};\n\nmpl.figure.prototype.updated_canvas_event = function () {\n    // Tell IPython that the notebook contents must change.\n    IPython.notebook.set_dirty(true);\n    this.send_message('ack', {});\n    var fig = this;\n    // Wait a second, then push the new image to the DOM so\n    // that it is saved nicely (might be nice to debounce this).\n    setTimeout(function () {\n        fig.push_to_output();\n    }, 1000);\n};\n\nmpl.figure.prototype._init_toolbar = function () {\n    var fig = this;\n\n    var toolbar = document.createElement('div');\n    toolbar.classList = 'btn-toolbar';\n    this.root.appendChild(toolbar);\n\n    function on_click_closure(name) {\n        return function (_event) {\n            return fig.toolbar_button_onclick(name);\n        };\n    }\n\n    function on_mouseover_closure(tooltip) {\n        return function (event) {\n            if (!event.currentTarget.disabled) {\n                return fig.toolbar_button_onmouseover(tooltip);\n            }\n        };\n    }\n\n    fig.buttons = {};\n    var buttonGroup = document.createElement('div');\n    buttonGroup.classList = 'btn-group';\n    var button;\n    for (var toolbar_ind in mpl.toolbar_items) {\n        var name = mpl.toolbar_items[toolbar_ind][0];\n        var tooltip = mpl.toolbar_items[toolbar_ind][1];\n        var image = mpl.toolbar_items[toolbar_ind][2];\n        var method_name = mpl.toolbar_items[toolbar_ind][3];\n\n        if (!name) {\n            /* Instead of a spacer, we start a new button group. */\n            if (buttonGroup.hasChildNodes()) {\n                toolbar.appendChild(buttonGroup);\n            }\n            buttonGroup = document.createElement('div');\n            buttonGroup.classList = 'btn-group';\n            continue;\n        }\n\n        button = fig.buttons[name] = document.createElement('button');\n        button.classList = 'btn btn-default';\n        button.href = '#';\n        button.title = name;\n        button.innerHTML = '<i class=\"fa ' + image + ' fa-lg\"></i>';\n        button.addEventListener('click', on_click_closure(method_name));\n        button.addEventListener('mouseover', on_mouseover_closure(tooltip));\n        buttonGroup.appendChild(button);\n    }\n\n    if (buttonGroup.hasChildNodes()) {\n        toolbar.appendChild(buttonGroup);\n    }\n\n    // Add the status bar.\n    var status_bar = document.createElement('span');\n    status_bar.classList = 'mpl-message pull-right';\n    toolbar.appendChild(status_bar);\n    this.message = status_bar;\n\n    // Add the close button to the window.\n    var buttongrp = document.createElement('div');\n    buttongrp.classList = 'btn-group inline pull-right';\n    button = document.createElement('button');\n    button.classList = 'btn btn-mini btn-primary';\n    button.href = '#';\n    button.title = 'Stop Interaction';\n    button.innerHTML = '<i class=\"fa fa-power-off icon-remove icon-large\"></i>';\n    button.addEventListener('click', function (_evt) {\n        fig.handle_close(fig, {});\n    });\n    button.addEventListener(\n        'mouseover',\n        on_mouseover_closure('Stop Interaction')\n    );\n    buttongrp.appendChild(button);\n    var titlebar = this.root.querySelector('.ui-dialog-titlebar');\n    titlebar.insertBefore(buttongrp, titlebar.firstChild);\n};\n\nmpl.figure.prototype._remove_fig_handler = function (event) {\n    var fig = event.data.fig;\n    if (event.target !== this) {\n        // Ignore bubbled events from children.\n        return;\n    }\n    fig.close_ws(fig, {});\n};\n\nmpl.figure.prototype._root_extra_style = function (el) {\n    el.style.boxSizing = 'content-box'; // override notebook setting of border-box.\n};\n\nmpl.figure.prototype._canvas_extra_style = function (el) {\n    // this is important to make the div 'focusable\n    el.setAttribute('tabindex', 0);\n    // reach out to IPython and tell the keyboard manager to turn it's self\n    // off when our div gets focus\n\n    // location in version 3\n    if (IPython.notebook.keyboard_manager) {\n        IPython.notebook.keyboard_manager.register_events(el);\n    } else {\n        // location in version 2\n        IPython.keyboard_manager.register_events(el);\n    }\n};\n\nmpl.figure.prototype._key_event_extra = function (event, _name) {\n    // Check for shift+enter\n    if (event.shiftKey && event.which === 13) {\n        this.canvas_div.blur();\n        // select the cell after this one\n        var index = IPython.notebook.find_cell_index(this.cell_info[0]);\n        IPython.notebook.select(index + 1);\n    }\n};\n\nmpl.figure.prototype.handle_save = function (fig, _msg) {\n    fig.ondownload(fig, null);\n};\n\nmpl.find_output_cell = function (html_output) {\n    // Return the cell and output element which can be found *uniquely* in the notebook.\n    // Note - this is a bit hacky, but it is done because the \"notebook_saving.Notebook\"\n    // IPython event is triggered only after the cells have been serialised, which for\n    // our purposes (turning an active figure into a static one), is too late.\n    var cells = IPython.notebook.get_cells();\n    var ncells = cells.length;\n    for (var i = 0; i < ncells; i++) {\n        var cell = cells[i];\n        if (cell.cell_type === 'code') {\n            for (var j = 0; j < cell.output_area.outputs.length; j++) {\n                var data = cell.output_area.outputs[j];\n                if (data.data) {\n                    // IPython >= 3 moved mimebundle to data attribute of output\n                    data = data.data;\n                }\n                if (data['text/html'] === html_output) {\n                    return [cell, data, j];\n                }\n            }\n        }\n    }\n};\n\n// Register the function which deals with the matplotlib target/channel.\n// The kernel may be null if the page has been refreshed.\nif (IPython.notebook.kernel !== null) {\n    IPython.notebook.kernel.comm_manager.register_target(\n        'matplotlib',\n        mpl.mpl_figure_comm\n    );\n}\n",
      "text/plain": [
       "<IPython.core.display.Javascript object>"
      ]
     },
     "metadata": {},
     "output_type": "display_data"
    },
    {
     "data": {
      "text/html": [
       "<div id='3b5d2251-3700-4173-a73f-335ef6b834c3'></div>"
      ],
      "text/plain": [
       "<IPython.core.display.HTML object>"
      ]
     },
     "metadata": {},
     "output_type": "display_data"
    },
    {
     "data": {
      "image/png": "[encoded data removed]",
      "text/plain": [
       "<Figure size 600x450 with 6 Axes>"
      ]
     },
     "metadata": {},
     "output_type": "display_data"
    }
   ],
   "source": [
    "fig, ax = analysis_1.sampled_space.pretty_bubble_chart()"
   ]
  },
  {
   "cell_type": "code",
   "execution_count": 19,
   "id": "19d0f862",
   "metadata": {
    "ExecuteTime": {
     "end_time": "2024-09-11T22:51:56.529941Z",
     "start_time": "2024-09-11T22:51:56.290167Z"
    }
   },
   "outputs": [
    {
     "data": {
      "image/png": "[encoded data removed]",
      "text/plain": [
       "<Figure size 640x480 with 6 Axes>"
      ]
     },
     "metadata": {},
     "output_type": "display_data"
    }
   ],
   "source": [
    "ax = analysis_1.sampled_space.to_df().hist()"
   ]
  },
  {
   "cell_type": "markdown",
   "id": "83ccd148",
   "metadata": {},
   "source": [
    "### Preparing the job\n",
    "\n",
    "Based on the above, prapering the job creates all the required information needed to submit a job to AWS Bacth. First, your EPW file and your seed model are going to be uploaded to AWS S3. Then a parameter file very similar to the `sampled_space.to_df()` table above is also uploaded."
   ]
  },
  {
   "cell_type": "code",
   "execution_count": 20,
   "id": "04dcfaf2",
   "metadata": {
    "ExecuteTime": {
     "end_time": "2024-09-11T22:52:00.943477Z",
     "start_time": "2024-09-11T22:51:57.129497Z"
    }
   },
   "outputs": [
    {
     "data": {
      "text/plain": [
       "[GenerateAndRunJob(jobName='parametric_ea3c4f33-174b-4427-90c1-bc2675d2cd05', jobQueue='dev', arrayProperties=ArrayProperty(size=927), tags={'Project': 'Brampton', 'Company': 'Brampton'}, propagateTags=True, parameters=Parameters(log_level=<LogLevel.INFO: 'INFO'>, run_number=None, parameters=Url('s3://surrogate-api/parametric/ea3c4f33-174b-4427-90c1-bc2675d2cd05/parameters.json'), prototype_model=Url('s3://surrogate-api/parametric/ea3c4f33-174b-4427-90c1-bc2675d2cd05/HVAC.idf'), form_factor=None, template_library=None, ddy_file=None, idf_output_dir=Url('s3://surrogate-api/parametric/ea3c4f33-174b-4427-90c1-bc2675d2cd05/idfs/'), output_meters=None, output_variables=None, include=None, table_name='single-building-analysis', start_index='0', reporting_frequency='Monthly', upload_to_s3=False), containerOverrides=ContainerOverrides(command=['--log-level', 'Ref::log_level', 'generate-idf-and-run', '--parameters', 'Ref::parameters', '--idf-output-dir', 'Ref::input_file_or_dir', '--prototype-model', 'Ref::prototype_model', '--table-name', 'Ref::table_name', '--start-index', 'Ref::start_index', '--reporting-frequency', 'Ref::reporting_frequency', '--template-library', 'Ref::template_library'], resourceRequirements=[ResourceRequirement(type='MEMORY', value='2048'), ResourceRequirement(type='VCPU', value='1')]), jobDefinition=<JobDefinitions.energyplus_9_6_0: 'energyplus-9-6-0'>)]"
      ]
     },
     "execution_count": 20,
     "metadata": {},
     "output_type": "execute_result"
    }
   ],
   "source": [
    "analysis_1.prepare_job()"
   ]
  },
  {
   "cell_type": "code",
   "execution_count": 21,
   "id": "7a3dc858",
   "metadata": {},
   "outputs": [],
   "source": [
    "for job in analysis_1.job:\n",
    "    job.containerOverrides.resourceRequirements[0].value = \"4048\""
   ]
  },
  {
   "cell_type": "code",
   "execution_count": 22,
   "id": "726b3b1c",
   "metadata": {
    "ExecuteTime": {
     "end_time": "2024-09-11T22:52:02.050105Z",
     "start_time": "2024-09-11T22:52:02.047772Z"
    }
   },
   "outputs": [
    {
     "data": {
      "text/plain": [
       "[GenerateAndRunJob(jobName='parametric_ea3c4f33-174b-4427-90c1-bc2675d2cd05', jobQueue='dev', arrayProperties=ArrayProperty(size=927), tags={'Project': 'Brampton', 'Company': 'Brampton'}, propagateTags=True, parameters=Parameters(log_level=<LogLevel.INFO: 'INFO'>, run_number=None, parameters=Url('s3://surrogate-api/parametric/ea3c4f33-174b-4427-90c1-bc2675d2cd05/parameters.json'), prototype_model=Url('s3://surrogate-api/parametric/ea3c4f33-174b-4427-90c1-bc2675d2cd05/HVAC.idf'), form_factor=None, template_library=None, ddy_file=None, idf_output_dir=Url('s3://surrogate-api/parametric/ea3c4f33-174b-4427-90c1-bc2675d2cd05/idfs/'), output_meters=None, output_variables=None, include=None, table_name='single-building-analysis', start_index='0', reporting_frequency='Monthly', upload_to_s3=False), containerOverrides=ContainerOverrides(command=['--log-level', 'Ref::log_level', 'generate-idf-and-run', '--parameters', 'Ref::parameters', '--idf-output-dir', 'Ref::input_file_or_dir', '--prototype-model', 'Ref::prototype_model', '--table-name', 'Ref::table_name', '--start-index', 'Ref::start_index', '--reporting-frequency', 'Ref::reporting_frequency', '--template-library', 'Ref::template_library'], resourceRequirements=[ResourceRequirement(type='MEMORY', value='4048'), ResourceRequirement(type='VCPU', value='1')]), jobDefinition=<JobDefinitions.energyplus_9_6_0: 'energyplus-9-6-0'>)]"
      ]
     },
     "execution_count": 22,
     "metadata": {},
     "output_type": "execute_result"
    }
   ],
   "source": [
    "analysis_1.job"
   ]
  },
  {
   "cell_type": "markdown",
   "id": "84fcc81b",
   "metadata": {},
   "source": [
    "### Sumitting the job\n",
    "\n",
    "Next we can submit the job to AWS. Below, the command returns a `SubmitJobResponse` with some information on the job:"
   ]
  },
  {
   "cell_type": "code",
   "execution_count": 23,
   "id": "84d37e49",
   "metadata": {
    "ExecuteTime": {
     "end_time": "2024-09-11T22:52:14.815816Z",
     "start_time": "2024-09-11T22:52:14.103577Z"
    }
   },
   "outputs": [
    {
     "data": {
      "text/plain": [
       "[SubmitJobResponse(jobArn='arn:aws:batch:us-east-2:664685589714:job/b017f732-266d-4a17-a36a-adae10ccbd96', jobName='parametric_ea3c4f33-174b-4427-90c1-bc2675d2cd05', jobId=UUID('b017f732-266d-4a17-a36a-adae10ccbd96'))]"
      ]
     },
     "execution_count": 23,
     "metadata": {},
     "output_type": "execute_result"
    }
   ],
   "source": "analysis_1.submit_job()"
  },
  {
   "cell_type": "markdown",
   "id": "05f11737",
   "metadata": {},
   "source": [
    "### Tracking the job status\n",
    "\n",
    "You can track the job status by calling the `track_status` method. This function will *run* in the notebook until all jobs are **COMPLETED** or **FAILED**.\n",
    "\n",
    "If you wish to relieve the notebook to continue working while AWS does its thing, you can interrupt the kernel (⬛) and you will be asked if you wish to terminate the job of not. By the way, after a job has been submitted, you can terminate the job by calling `BuildingAnalysis.terminate_job()` method."
   ]
  },
  {
   "cell_type": "code",
   "execution_count": 24,
   "id": "da8c89a8",
   "metadata": {
    "ExecuteTime": {
     "end_time": "2024-09-11T23:11:38.067853Z",
     "start_time": "2024-09-11T22:52:18.405054Z"
    }
   },
   "outputs": [
    {
     "data": {
      "application/vnd.jupyter.widget-view+json": {
       "model_id": "47a76d6f1dd0443e925457aa16ee985b",
       "version_major": 2,
       "version_minor": 0
      },
      "text/plain": [
       "0it [00:00, ?it/s]"
      ]
     },
     "metadata": {},
     "output_type": "display_data"
    }
   ],
   "source": [
    "analysis_1.track_status()"
   ]
  },
  {
   "cell_type": "markdown",
   "id": "4a69f815",
   "metadata": {},
   "source": [
    "## What if some or all runs are failing?\n",
    "\n",
    "If runs are failing, you can call the `BuildingAnalysis.get_job_logs(0)` method and specify a run number, starting at 0. For instance, if the first run failed, we call `analysis_1.explain(0)`\n",
    "\n",
    "By default, the fucntion gets 100 lines of logs. You can specify with `startFromHead=True` or `False` if you want the last lines or the first lines (end of simulation or beginning of simulation)."
   ]
  },
  {
   "cell_type": "code",
   "execution_count": null,
   "id": "7a3465ca",
   "metadata": {
    "ExecuteTime": {
     "start_time": "2024-02-02T16:46:16.293161Z"
    },
    "scrolled": false
   },
   "outputs": [],
   "source": [
    "logs = analysis_1.get_job_logs(1, limit=10, startFromHead=False)"
   ]
  },
  {
   "cell_type": "markdown",
   "id": "937791f3",
   "metadata": {},
   "source": [
    "Another way of getting some information about a tricky job is to call the `describe_submitted_job` method with a run number. The dictionary method will display things nicely in the results. Look for keywords such as **status** and **statusReason**:"
   ]
  },
  {
   "cell_type": "code",
   "execution_count": null,
   "id": "10bd1312",
   "metadata": {
    "ExecuteTime": {
     "start_time": "2024-02-02T16:46:16.294324Z"
    }
   },
   "outputs": [],
   "source": [
    "analysis_1.describe_submitted_job(0).dict()"
   ]
  },
  {
   "cell_type": "markdown",
   "id": "e321c6f7",
   "metadata": {},
   "source": [
    "### Saving and reloading an analysis\n",
    "\n",
    "So far, the analysis_1 object has been livnig in *memory*. It is good practice to serialise (write) the object in order to be able to reload it in the future. This is especially usefull if the server quits and needs to be launched again. Or if you want to share an anlysis with a colleague!"
   ]
  },
  {
   "cell_type": "code",
   "execution_count": 25,
   "id": "a680b6b6",
   "metadata": {
    "ExecuteTime": {
     "end_time": "2024-09-11T23:11:40.894414Z",
     "start_time": "2024-09-11T23:11:40.889830Z"
    },
    "scrolled": true
   },
   "outputs": [],
   "source": [
    "analysis_1.save(\"analysis_1.json\")"
   ]
  },
  {
   "cell_type": "markdown",
   "id": "da1182e4",
   "metadata": {},
   "source": [
    "To reload an analysis:"
   ]
  },
  {
   "cell_type": "code",
   "execution_count": 1,
   "id": "267700bc",
   "metadata": {
    "ExecuteTime": {
     "end_time": "2024-09-12T01:27:13.567646Z",
     "start_time": "2024-09-12T01:27:11.269237Z"
    }
   },
   "outputs": [],
   "source": [
    "from surrogate_schema import BuildingAnalysis\n",
    "\n",
    "with open(\"analysis_1.json\") as f:\n",
    "    analysis_1 = BuildingAnalysis.model_validate_json(f.read())"
   ]
  },
  {
   "cell_type": "markdown",
   "id": "4b8f4193",
   "metadata": {},
   "source": [
    "# Sensitivity Analysis\n",
    "\n",
    "## Retrieving results\n",
    "\n",
    "After an analysis has completed, runs that have succeeded (often all of them) can be retreived with the `get_sensitivity_results` method. If some of the runs have failed - maybe some parameter don't make sense and make EnergyPlus crash - they will simply not appear in the DataFrame.\n",
    "\n",
    "An Important step here is to determine the cooling COP and the heating COP of the system to calculate accurately the EUI, TEDI and CEDI metrics. This can be determined in the Characterization analyis. For now, we will assume the following:"
   ]
  },
  {
   "cell_type": "code",
   "execution_count": 10,
   "id": "7d1b19c8",
   "metadata": {
    "ExecuteTime": {
     "end_time": "2024-09-12T01:25:36.400933Z",
     "start_time": "2024-09-12T01:25:33.649636Z"
    }
   },
   "outputs": [],
   "source": [
    "results = analysis_1.get_sensitivity_results(COOLCOP=5, HEATCOP=5)\n",
    "df = results.to_df()\n",
    "df.to_csv(\"sensitivity.csv\")"
   ]
  },
  {
   "cell_type": "markdown",
   "id": "be5ac5aa",
   "metadata": {},
   "source": [
    "### Saving as a csv file\n",
    "\n",
    "To save the file to a csv, like with any pandas.DataFrame objects, simply call the `to_csv` method and pass a filename."
   ]
  },
  {
   "cell_type": "code",
   "execution_count": 5,
   "id": "b848ab39",
   "metadata": {
    "ExecuteTime": {
     "end_time": "2024-09-12T01:23:51.778899Z",
     "start_time": "2024-09-12T01:23:51.774435Z"
    }
   },
   "outputs": [],
   "source": [
    "df.to_csv(\"sensitivity.csv\")"
   ]
  },
  {
   "cell_type": "markdown",
   "id": "b9fca3ae",
   "metadata": {},
   "source": [
    "### Getting the parametric results"
   ]
  },
  {
   "cell_type": "code",
   "execution_count": 7,
   "id": "67e46630",
   "metadata": {
    "ExecuteTime": {
     "end_time": "2024-09-12T01:24:22.375982Z",
     "start_time": "2024-09-12T01:24:18.289187Z"
    }
   },
   "outputs": [],
   "source": [
    "sensitivity_results = analysis_1.get_parametric_results(COOLCOP=4.5, HEATCOP=4.5)\n",
    "df = sensitivity_results.to_df()\n",
    "df.to_csv(\"parametric.csv\")"
   ]
  },
  {
   "cell_type": "markdown",
   "id": "3f58bf91",
   "metadata": {},
   "source": [
    "It can be plotted:\n",
    "\n",
    "### Plotting the Sensitivity results\n",
    "\n",
    "Below is the code to generate an *interactive* plot (you can pick the metric to view) which will eventually be included in the SDK."
   ]
  },
  {
   "cell_type": "code",
   "execution_count": 6,
   "id": "d71eaada",
   "metadata": {
    "ExecuteTime": {
     "end_time": "2024-09-12T01:28:44.124398Z",
     "start_time": "2024-09-12T01:28:44.038719Z"
    }
   },
   "outputs": [
    {
     "ename": "NameError",
     "evalue": "name 'sensitivity_results' is not defined",
     "output_type": "error",
     "traceback": [
      "\u001B[0;31m---------------------------------------------------------------------------\u001B[0m",
      "\u001B[0;31mNameError\u001B[0m                                 Traceback (most recent call last)",
      "Cell \u001B[0;32mIn[6], line 1\u001B[0m\n\u001B[0;32m----> 1\u001B[0m df \u001B[38;5;241m=\u001B[39m \u001B[43msensitivity_results\u001B[49m\u001B[38;5;241m.\u001B[39mto_df()\n\u001B[1;32m      3\u001B[0m METRICS \u001B[38;5;241m=\u001B[39m [\n\u001B[1;32m      4\u001B[0m     \u001B[38;5;124m\"\u001B[39m\u001B[38;5;124mEUI_kBtu_per_sqft\u001B[39m\u001B[38;5;124m\"\u001B[39m,\n\u001B[1;32m      5\u001B[0m     \u001B[38;5;124m\"\u001B[39m\u001B[38;5;124mTEDI_kBtu_per_sqft\u001B[39m\u001B[38;5;124m\"\u001B[39m,\n\u001B[1;32m      6\u001B[0m     \u001B[38;5;124m\"\u001B[39m\u001B[38;5;124mCEDI_kBtu_per_sqft\u001B[39m\u001B[38;5;124m\"\u001B[39m,\n\u001B[1;32m      7\u001B[0m     \u001B[38;5;124m\"\u001B[39m\u001B[38;5;124mEDI_kBtu_per_sqft\u001B[39m\u001B[38;5;124m\"\u001B[39m,\n\u001B[1;32m      8\u001B[0m ]\n\u001B[1;32m     10\u001B[0m nb_vars \u001B[38;5;241m=\u001B[39m df\u001B[38;5;241m.\u001B[39mVariable\u001B[38;5;241m.\u001B[39munique()\u001B[38;5;241m.\u001B[39msize\n",
      "\u001B[0;31mNameError\u001B[0m: name 'sensitivity_results' is not defined"
     ]
    }
   ],
   "source": [
    "df = sensitivity_results.to_df()\n",
    "\n",
    "METRICS = [\n",
    "    \"EUI_kBtu_per_sqft\",\n",
    "    \"TEDI_kBtu_per_sqft\",\n",
    "    \"CEDI_kBtu_per_sqft\",\n",
    "    \"EDI_kBtu_per_sqft\",\n",
    "]\n",
    "\n",
    "nb_vars = df.Variable.unique().size\n",
    "\n",
    "\n",
    "def plot_func(metric):\n",
    "    import matplotlib.pyplot as plt\n",
    "\n",
    "    fig, axes = plt.subplots(\n",
    "        nrows=nb_vars // 3 or 1, ncols=min(nb_vars, 3), sharey=True, figsize=(15, 10)\n",
    "    )\n",
    "    axes = axes.ravel()\n",
    "    ylim = (df[metric].values.min(), df[metric].values.max())\n",
    "    for i, (var, data) in enumerate(df.groupby(\"Variable\")):\n",
    "        data.drop_duplicates(inplace=True)\n",
    "        if \"WINU\" in var:\n",
    "            data[var] = 1 / data[var]\n",
    "        # plot the lineplot first\n",
    "        ax = data.plot(\n",
    "            x=var,  # plot var a x axis\n",
    "            y=metric,  # plot metric a y axis\n",
    "            color=\"#1f77b4\",\n",
    "            label=var,\n",
    "            ax=axes[i],\n",
    "        )\n",
    "        if \"WINU\" in var:\n",
    "            ax.set_xticks(data[var], labels=1 / data[var])\n",
    "        else:\n",
    "            ax.set_xticks(data[var])\n",
    "        # List of colors c for markers\n",
    "        c = (\n",
    "            data[[var, \"Baseline\"]]\n",
    "            .set_index(\"Baseline\")\n",
    "            .apply(lambda x: \"#b4d6e8\" if x.name == \"no\" else \"#1f77b4\", axis=1)\n",
    "            .tolist()\n",
    "        )\n",
    "        # Plot markers with scatter plot, second\n",
    "        data.plot.scatter(\n",
    "            x=var,\n",
    "            y=metric,\n",
    "            c=c,\n",
    "            marker=\"o\",\n",
    "            s=50,\n",
    "            edgecolors=\"#1f77b4\",\n",
    "            ax=axes[i],\n",
    "        )\n",
    "        # Plot the horizontal line of the baseline\n",
    "        for h in data.loc[data[\"Baseline\"] == \"yes\", metric]:\n",
    "            ax.axhline(h, c=\"#eaeaea\", zorder=-1)\n",
    "        ax.set_ylabel(metric)  # set ylabel"
   ]
  },
  {
   "cell_type": "code",
   "execution_count": 13,
   "id": "c36afbcc",
   "metadata": {
    "ExecuteTime": {
     "end_time": "2024-09-12T01:25:48.766018Z",
     "start_time": "2024-09-12T01:25:48.061807Z"
    },
    "scrolled": false
   },
   "outputs": [
    {
     "data": {
      "application/vnd.jupyter.widget-view+json": {
       "model_id": "12e3e4ca9b3a4adea576d9b524f0d213",
       "version_major": 2,
       "version_minor": 0
      },
      "text/plain": [
       "interactive(children=(Dropdown(description='metric', options=('EUI_kBtu_per_sqft', 'TEDI_kBtu_per_sqft', 'CEDI…"
      ]
     },
     "metadata": {},
     "output_type": "display_data"
    },
    {
     "data": {
      "text/plain": [
       "<function __main__.plot_func(metric)>"
      ]
     },
     "execution_count": 13,
     "metadata": {},
     "output_type": "execute_result"
    }
   ],
   "source": [
    "%matplotlib inline\n",
    "\n",
    "import ipywidgets as widgets\n",
    "from ipywidgets import interact\n",
    "\n",
    "interact(\n",
    "    plot_func,\n",
    "    metric=widgets.Dropdown(\n",
    "        options=METRICS,\n",
    "        index=0,\n",
    "    ),\n",
    ")"
   ]
  },
  {
   "cell_type": "markdown",
   "id": "e2e81eaa",
   "metadata": {},
   "source": [
    "## Other API Hacks\n",
    "\n",
    "A couple interesting calls that can be made to the API using python commmands are detailed bellow: By the way, all the API entrypoints are detailed at [https://api.elementa.nyc/docs](https://api.elementa.nyc/docs).\n",
    "\n",
    "### Downloading one of the simulation files\n",
    "\n",
    "If you want to download the idf file generated for one of the runs, we can use the `/downloadfile/` entrypoint with a \"GET\" method. We need to provide the URL of the file. We can get that URL from the analysis Job attribute:"
   ]
  },
  {
   "cell_type": "code",
   "execution_count": 2,
   "id": "2ebbb649",
   "metadata": {
    "ExecuteTime": {
     "end_time": "2024-09-12T01:27:22.190580Z",
     "start_time": "2024-09-12T01:27:22.185270Z"
    }
   },
   "outputs": [
    {
     "data": {
      "text/plain": [
       "Url('s3://surrogate-api/parametric/ea3c4f33-174b-4427-90c1-bc2675d2cd05/idfs/')"
      ]
     },
     "execution_count": 2,
     "metadata": {},
     "output_type": "execute_result"
    }
   ],
   "source": [
    "analysis_1.job[0].parameters.idf_output_dir"
   ]
  },
  {
   "cell_type": "markdown",
   "id": "20e495ba",
   "metadata": {},
   "source": [
    "By default, the generated idf model is saved in a *folder* called \"/idfs\", under the analysis id. In addition, the model filename always has the following form: `in_<run_numer>.idf`. Therefore, we can construct a URL and pass it as a parameter of the API. FYI, the [API documentations](https://api.elementa.nyc/docs#/default/download_file_downloadfile__get) tells us that the get method needs a `parameter` named `s3_file_path`. This is what we put below:"
   ]
  },
  {
   "cell_type": "code",
   "execution_count": 5,
   "id": "30451a32",
   "metadata": {
    "ExecuteTime": {
     "end_time": "2024-09-12T01:27:42.412328Z",
     "start_time": "2024-09-12T01:27:41.253206Z"
    }
   },
   "outputs": [],
   "source": [
    "request = analysis_1.get_client().get(\n",
    "    \"/downloadfile/\",\n",
    "    params={\"s3_file_path\": f\"{analysis_1.job[0].parameters.idf_output_dir}in_0.idf\"},\n",
    ")\n",
    "\n",
    "# save the downloaded content to a file named `in_0.idf`\n",
    "with open(\"in_0.idf\", \"wb\") as f:\n",
    "    f.write(request.content)"
   ]
  },
  {
   "cell_type": "code",
   "execution_count": null,
   "id": "91a46364",
   "metadata": {
    "ExecuteTime": {
     "start_time": "2024-02-02T16:46:16.302545Z"
    }
   },
   "outputs": [],
   "source": [
    "idf_aws = IDF(\"in_0.idf\")"
   ]
  },
  {
   "cell_type": "code",
   "execution_count": null,
   "id": "57b0d43f",
   "metadata": {
    "ExecuteTime": {
     "start_time": "2024-02-02T16:46:16.303191Z"
    }
   },
   "outputs": [],
   "source": [
    "idf_aws.view_model()"
   ]
  },
  {
   "cell_type": "markdown",
   "id": "ac9a6c88",
   "metadata": {},
   "source": [
    "We can then write a function that calculates the total envelope area (roofs and walls) to be able to calculate the Heat_Loss_Form_Factor of the building:"
   ]
  },
  {
   "cell_type": "code",
   "execution_count": null,
   "id": "43c4fa4f",
   "metadata": {
    "ExecuteTime": {
     "start_time": "2024-02-02T16:46:16.303804Z"
    }
   },
   "outputs": [],
   "source": [
    "from eppy.bunch_subclass import EpBunch\n",
    "\n",
    "\n",
    "def total_envelope_area(self):\n",
    "    \"\"\"Get the total gross envelope area including windows [m2].\n",
    "\n",
    "    Note:\n",
    "        The envelope is consisted of surfaces that have an outside boundary\n",
    "        condition different then `Adiabatic` or `Surface` or that participate in\n",
    "        the heat exchange with the exterior.\n",
    "\n",
    "    \"\"\"\n",
    "    total_area = 0\n",
    "    area = 0\n",
    "    zones = self.idfobjects[\"ZONE\"]\n",
    "    zone: EpBunch\n",
    "    for zone in zones:\n",
    "        for surface in zone.zonesurfaces:\n",
    "            if hasattr(surface, \"tilt\"):\n",
    "                if surface.tilt == 180.0:\n",
    "                    multiplier = float(zone.Multiplier if zone.Multiplier != \"\" else 1)\n",
    "\n",
    "                    area += surface.area * multiplier\n",
    "    self._area_total = area\n",
    "    for surface in self.getsurfaces():\n",
    "        if surface.Outside_Boundary_Condition.lower() in [\"adiabatic\", \"surface\"]:\n",
    "            continue\n",
    "        zone = surface.get_referenced_object(\"Zone_Name\")\n",
    "        multiplier = float(zone.Multiplier if zone.Multiplier != \"\" else 1)\n",
    "        total_area += surface.area * multiplier\n",
    "    return total_area"
   ]
  },
  {
   "cell_type": "code",
   "execution_count": null,
   "id": "eef34dd5",
   "metadata": {
    "ExecuteTime": {
     "start_time": "2024-02-02T16:46:16.304443Z"
    }
   },
   "outputs": [],
   "source": [
    "IDF.total_envelope_area = (\n",
    "    total_envelope_area  # assign the function to the class itself.\n",
    ")"
   ]
  },
  {
   "cell_type": "markdown",
   "id": "c166dc9a",
   "metadata": {},
   "source": [
    "Note that the `total_building_area` is a property and not a function, that is why it is not called with parentheses:"
   ]
  },
  {
   "cell_type": "code",
   "execution_count": null,
   "id": "dd2ade7a",
   "metadata": {
    "ExecuteTime": {
     "start_time": "2024-02-02T16:46:16.305062Z"
    }
   },
   "outputs": [],
   "source": [
    "heat_loss_form_factor = idf.total_envelope_area() / idf.total_building_area\n",
    "heat_loss_form_factor"
   ]
  }
 ],
 "metadata": {
  "kernelspec": {
   "display_name": "Python 3 (ipykernel)",
   "language": "python",
   "name": "python3"
  },
  "language_info": {
   "codemirror_mode": {
    "name": "ipython",
    "version": 3
   },
   "file_extension": ".py",
   "mimetype": "text/x-python",
   "name": "python",
   "nbconvert_exporter": "python",
   "pygments_lexer": "ipython3",
   "version": "3.9.7"
  },
  "toc": {
   "base_numbering": 1,
   "nav_menu": {},
   "number_sections": true,
   "sideBar": true,
   "skip_h1_title": true,
   "title_cell": "Table of Contents",
   "title_sidebar": "Contents",
   "toc_cell": false,
   "toc_position": {
    "height": "calc(100% - 180px)",
    "left": "10px",
    "top": "150px",
    "width": "323px"
   },
   "toc_section_display": true,
   "toc_window_display": true
  }
 },
 "nbformat": 4,
 "nbformat_minor": 5
}
