{
 "cells": [
  {
   "cell_type": "code",
   "execution_count": 16,
   "id": "5d332042",
   "metadata": {
    "ExecuteTime": {
     "end_time": "2024-09-12T15:57:52.982222Z",
     "start_time": "2024-09-12T15:57:52.698886Z"
    }
   },
   "outputs": [
    {
     "name": "stdout",
     "output_type": "stream",
     "text": [
      "The dotenv extension is already loaded. To reload it, use:\n",
      "  %reload_ext dotenv\n"
     ]
    },
    {
     "data": {
      "text/plain": [
       "User(username='s.letellierduchesne', email='sam@cabonsignal.com', full_name='Samuel Letellier-Duchesne', disabled=None, valid_until=datetime.datetime(2025, 1, 29, 20, 28, 26))"
      ]
     },
     "execution_count": 16,
     "metadata": {},
     "output_type": "execute_result"
    }
   ],
   "source": [
    "from surrogate_schema import APIClient\n",
    "\n",
    "%load_ext dotenv\n",
    "%dotenv\n",
    "\n",
    "# typical block to authenticate to the API\n",
    "client = APIClient(api_url=\"https://api.elementa.nyc\")\n",
    "client.whoami()  # shows that you are properly authenticated"
   ]
  },
  {
   "cell_type": "markdown",
   "id": "6588aa5e",
   "metadata": {},
   "source": [
    "# Exploring Results and Debugging\n",
    "\n",
    "In this notebook, we are going to look at how we can explore the different models that were generated to identify what could have gone wrong in the model.\n",
    "\n",
    "First, let's load our analysis from the file named `analysis_1.json`:"
   ]
  },
  {
   "cell_type": "code",
   "execution_count": 17,
   "id": "8bd0c3a0",
   "metadata": {
    "ExecuteTime": {
     "end_time": "2024-09-12T15:57:54.210243Z",
     "start_time": "2024-09-12T15:57:54.202470Z"
    }
   },
   "outputs": [],
   "source": [
    "from surrogate_schema import BuildingAnalysis\n",
    "\n",
    "with open(\"analysis_1.json\", \"r\") as f:\n",
    "    analysis_1 = BuildingAnalysis.model_validate_json(f.read())"
   ]
  },
  {
   "cell_type": "code",
   "execution_count": 18,
   "id": "d6596784",
   "metadata": {
    "ExecuteTime": {
     "end_time": "2024-09-12T15:57:55.336915Z",
     "start_time": "2024-09-12T15:57:55.330454Z"
    }
   },
   "outputs": [
    {
     "data": {
      "text/html": [
       "<div>\n",
       "<style scoped>\n",
       "    .dataframe tbody tr th:only-of-type {\n",
       "        vertical-align: middle;\n",
       "    }\n",
       "\n",
       "    .dataframe tbody tr th {\n",
       "        vertical-align: top;\n",
       "    }\n",
       "\n",
       "    .dataframe thead th {\n",
       "        text-align: right;\n",
       "    }\n",
       "</style>\n",
       "<table border=\"1\" class=\"dataframe\">\n",
       "  <thead>\n",
       "    <tr style=\"text-align: right;\">\n",
       "      <th></th>\n",
       "      <th>WWR</th>\n",
       "      <th>WINU</th>\n",
       "      <th>WINSHGC</th>\n",
       "      <th>ROOFR</th>\n",
       "      <th>WALLR</th>\n",
       "      <th>INFIL</th>\n",
       "    </tr>\n",
       "  </thead>\n",
       "  <tbody>\n",
       "    <tr>\n",
       "      <th>0</th>\n",
       "      <td>0.35</td>\n",
       "      <td>0.17</td>\n",
       "      <td>0.2</td>\n",
       "      <td>30.0</td>\n",
       "      <td>10.0</td>\n",
       "      <td>0.01</td>\n",
       "    </tr>\n",
       "    <tr>\n",
       "      <th>1</th>\n",
       "      <td>0.35</td>\n",
       "      <td>0.17</td>\n",
       "      <td>0.2</td>\n",
       "      <td>30.0</td>\n",
       "      <td>10.0</td>\n",
       "      <td>0.07</td>\n",
       "    </tr>\n",
       "    <tr>\n",
       "      <th>2</th>\n",
       "      <td>0.35</td>\n",
       "      <td>0.17</td>\n",
       "      <td>0.2</td>\n",
       "      <td>30.0</td>\n",
       "      <td>20.0</td>\n",
       "      <td>0.01</td>\n",
       "    </tr>\n",
       "    <tr>\n",
       "      <th>3</th>\n",
       "      <td>0.35</td>\n",
       "      <td>0.17</td>\n",
       "      <td>0.2</td>\n",
       "      <td>30.0</td>\n",
       "      <td>30.0</td>\n",
       "      <td>0.01</td>\n",
       "    </tr>\n",
       "    <tr>\n",
       "      <th>4</th>\n",
       "      <td>0.35</td>\n",
       "      <td>0.17</td>\n",
       "      <td>0.2</td>\n",
       "      <td>30.0</td>\n",
       "      <td>30.0</td>\n",
       "      <td>0.07</td>\n",
       "    </tr>\n",
       "    <tr>\n",
       "      <th>...</th>\n",
       "      <td>...</td>\n",
       "      <td>...</td>\n",
       "      <td>...</td>\n",
       "      <td>...</td>\n",
       "      <td>...</td>\n",
       "      <td>...</td>\n",
       "    </tr>\n",
       "    <tr>\n",
       "      <th>1718</th>\n",
       "      <td>0.55</td>\n",
       "      <td>0.38</td>\n",
       "      <td>0.4</td>\n",
       "      <td>50.0</td>\n",
       "      <td>25.0</td>\n",
       "      <td>0.04</td>\n",
       "    </tr>\n",
       "    <tr>\n",
       "      <th>1719</th>\n",
       "      <td>0.55</td>\n",
       "      <td>0.38</td>\n",
       "      <td>0.4</td>\n",
       "      <td>50.0</td>\n",
       "      <td>25.0</td>\n",
       "      <td>0.07</td>\n",
       "    </tr>\n",
       "    <tr>\n",
       "      <th>1720</th>\n",
       "      <td>0.55</td>\n",
       "      <td>0.38</td>\n",
       "      <td>0.4</td>\n",
       "      <td>50.0</td>\n",
       "      <td>30.0</td>\n",
       "      <td>0.01</td>\n",
       "    </tr>\n",
       "    <tr>\n",
       "      <th>1721</th>\n",
       "      <td>0.55</td>\n",
       "      <td>0.38</td>\n",
       "      <td>0.4</td>\n",
       "      <td>50.0</td>\n",
       "      <td>30.0</td>\n",
       "      <td>0.04</td>\n",
       "    </tr>\n",
       "    <tr>\n",
       "      <th>1722</th>\n",
       "      <td>0.55</td>\n",
       "      <td>0.38</td>\n",
       "      <td>0.4</td>\n",
       "      <td>50.0</td>\n",
       "      <td>30.0</td>\n",
       "      <td>0.07</td>\n",
       "    </tr>\n",
       "  </tbody>\n",
       "</table>\n",
       "<p>1723 rows × 6 columns</p>\n",
       "</div>"
      ],
      "text/plain": [
       "       WWR  WINU  WINSHGC  ROOFR  WALLR  INFIL\n",
       "0     0.35  0.17      0.2   30.0   10.0   0.01\n",
       "1     0.35  0.17      0.2   30.0   10.0   0.07\n",
       "2     0.35  0.17      0.2   30.0   20.0   0.01\n",
       "3     0.35  0.17      0.2   30.0   30.0   0.01\n",
       "4     0.35  0.17      0.2   30.0   30.0   0.07\n",
       "...    ...   ...      ...    ...    ...    ...\n",
       "1718  0.55  0.38      0.4   50.0   25.0   0.04\n",
       "1719  0.55  0.38      0.4   50.0   25.0   0.07\n",
       "1720  0.55  0.38      0.4   50.0   30.0   0.01\n",
       "1721  0.55  0.38      0.4   50.0   30.0   0.04\n",
       "1722  0.55  0.38      0.4   50.0   30.0   0.07\n",
       "\n",
       "[1723 rows x 6 columns]"
      ]
     },
     "execution_count": 18,
     "metadata": {},
     "output_type": "execute_result"
    }
   ],
   "source": [
    "df = analysis_1.sampled_space.to_df()\n",
    "df"
   ]
  },
  {
   "cell_type": "markdown",
   "id": "040180f3",
   "metadata": {},
   "source": [
    "We can quickly index the dataframe with a condition. We are looking to het the row \n",
    "that has the **WWR** column equal to `90`:"
   ]
  },
  {
   "cell_type": "code",
   "execution_count": 19,
   "id": "8687fa9e",
   "metadata": {
    "ExecuteTime": {
     "end_time": "2024-09-12T15:57:57.142286Z",
     "start_time": "2024-09-12T15:57:57.130662Z"
    }
   },
   "outputs": [
    {
     "data": {
      "text/html": [
       "<div>\n",
       "<style scoped>\n",
       "    .dataframe tbody tr th:only-of-type {\n",
       "        vertical-align: middle;\n",
       "    }\n",
       "\n",
       "    .dataframe tbody tr th {\n",
       "        vertical-align: top;\n",
       "    }\n",
       "\n",
       "    .dataframe thead th {\n",
       "        text-align: right;\n",
       "    }\n",
       "</style>\n",
       "<table border=\"1\" class=\"dataframe\">\n",
       "  <thead>\n",
       "    <tr style=\"text-align: right;\">\n",
       "      <th></th>\n",
       "      <th>WWR</th>\n",
       "      <th>WINU</th>\n",
       "      <th>WINSHGC</th>\n",
       "      <th>ROOFR</th>\n",
       "      <th>WALLR</th>\n",
       "      <th>INFIL</th>\n",
       "    </tr>\n",
       "  </thead>\n",
       "  <tbody>\n",
       "    <tr>\n",
       "      <th>0</th>\n",
       "      <td>0.35</td>\n",
       "      <td>0.17</td>\n",
       "      <td>0.2</td>\n",
       "      <td>30.0</td>\n",
       "      <td>10.0</td>\n",
       "      <td>0.01</td>\n",
       "    </tr>\n",
       "    <tr>\n",
       "      <th>1</th>\n",
       "      <td>0.35</td>\n",
       "      <td>0.17</td>\n",
       "      <td>0.2</td>\n",
       "      <td>30.0</td>\n",
       "      <td>10.0</td>\n",
       "      <td>0.07</td>\n",
       "    </tr>\n",
       "    <tr>\n",
       "      <th>2</th>\n",
       "      <td>0.35</td>\n",
       "      <td>0.17</td>\n",
       "      <td>0.2</td>\n",
       "      <td>30.0</td>\n",
       "      <td>20.0</td>\n",
       "      <td>0.01</td>\n",
       "    </tr>\n",
       "    <tr>\n",
       "      <th>3</th>\n",
       "      <td>0.35</td>\n",
       "      <td>0.17</td>\n",
       "      <td>0.2</td>\n",
       "      <td>30.0</td>\n",
       "      <td>30.0</td>\n",
       "      <td>0.01</td>\n",
       "    </tr>\n",
       "    <tr>\n",
       "      <th>4</th>\n",
       "      <td>0.35</td>\n",
       "      <td>0.17</td>\n",
       "      <td>0.2</td>\n",
       "      <td>30.0</td>\n",
       "      <td>30.0</td>\n",
       "      <td>0.07</td>\n",
       "    </tr>\n",
       "    <tr>\n",
       "      <th>...</th>\n",
       "      <td>...</td>\n",
       "      <td>...</td>\n",
       "      <td>...</td>\n",
       "      <td>...</td>\n",
       "      <td>...</td>\n",
       "      <td>...</td>\n",
       "    </tr>\n",
       "    <tr>\n",
       "      <th>357</th>\n",
       "      <td>0.35</td>\n",
       "      <td>0.38</td>\n",
       "      <td>0.4</td>\n",
       "      <td>50.0</td>\n",
       "      <td>20.0</td>\n",
       "      <td>0.07</td>\n",
       "    </tr>\n",
       "    <tr>\n",
       "      <th>358</th>\n",
       "      <td>0.35</td>\n",
       "      <td>0.38</td>\n",
       "      <td>0.4</td>\n",
       "      <td>50.0</td>\n",
       "      <td>25.0</td>\n",
       "      <td>0.01</td>\n",
       "    </tr>\n",
       "    <tr>\n",
       "      <th>359</th>\n",
       "      <td>0.35</td>\n",
       "      <td>0.38</td>\n",
       "      <td>0.4</td>\n",
       "      <td>50.0</td>\n",
       "      <td>30.0</td>\n",
       "      <td>0.01</td>\n",
       "    </tr>\n",
       "    <tr>\n",
       "      <th>360</th>\n",
       "      <td>0.35</td>\n",
       "      <td>0.38</td>\n",
       "      <td>0.4</td>\n",
       "      <td>50.0</td>\n",
       "      <td>30.0</td>\n",
       "      <td>0.04</td>\n",
       "    </tr>\n",
       "    <tr>\n",
       "      <th>361</th>\n",
       "      <td>0.35</td>\n",
       "      <td>0.38</td>\n",
       "      <td>0.4</td>\n",
       "      <td>50.0</td>\n",
       "      <td>30.0</td>\n",
       "      <td>0.07</td>\n",
       "    </tr>\n",
       "  </tbody>\n",
       "</table>\n",
       "<p>362 rows × 6 columns</p>\n",
       "</div>"
      ],
      "text/plain": [
       "      WWR  WINU  WINSHGC  ROOFR  WALLR  INFIL\n",
       "0    0.35  0.17      0.2   30.0   10.0   0.01\n",
       "1    0.35  0.17      0.2   30.0   10.0   0.07\n",
       "2    0.35  0.17      0.2   30.0   20.0   0.01\n",
       "3    0.35  0.17      0.2   30.0   30.0   0.01\n",
       "4    0.35  0.17      0.2   30.0   30.0   0.07\n",
       "..    ...   ...      ...    ...    ...    ...\n",
       "357  0.35  0.38      0.4   50.0   20.0   0.07\n",
       "358  0.35  0.38      0.4   50.0   25.0   0.01\n",
       "359  0.35  0.38      0.4   50.0   30.0   0.01\n",
       "360  0.35  0.38      0.4   50.0   30.0   0.04\n",
       "361  0.35  0.38      0.4   50.0   30.0   0.07\n",
       "\n",
       "[362 rows x 6 columns]"
      ]
     },
     "execution_count": 19,
     "metadata": {},
     "output_type": "execute_result"
    }
   ],
   "source": [
    "df.loc[df[\"WWR\"] == 0.35]"
   ]
  },
  {
   "cell_type": "markdown",
   "id": "0fa73d04",
   "metadata": {},
   "source": [
    "Let's download this model and parse it using `archetypal`.\n",
    "\n",
    "To download the file, we are going to use the analysis's class Client attribute which exposes REST API methods to the API. We are interested in using the `/downloadfile/` entrypoint which requires a `s3_file_path` parameter (see the entrypoint's [documentation](https://api.elementa.nyc/docs#/default/download_file_downloadfile__get) for more information)."
   ]
  },
  {
   "cell_type": "code",
   "execution_count": 20,
   "id": "a12e07f5",
   "metadata": {
    "ExecuteTime": {
     "end_time": "2024-09-12T15:57:59.490752Z",
     "start_time": "2024-09-12T15:57:58.295679Z"
    }
   },
   "outputs": [],
   "source": [
    "request = analysis_1.get_client().get(\n",
    "    \"/downloadfile/\",\n",
    "    params={\"s3_file_path\": f\"{analysis_1.job[0].parameters.idf_output_dir}in_3.idf\"},\n",
    ")\n",
    "\n",
    "# save the downloaded content to a file named `in_0.idf`\n",
    "with open(\"in_3.idf\", \"wb\") as f:\n",
    "    f.write(request.content)"
   ]
  },
  {
   "cell_type": "code",
   "execution_count": 21,
   "id": "f641e944",
   "metadata": {
    "ExecuteTime": {
     "end_time": "2024-09-12T15:58:06.082280Z",
     "start_time": "2024-09-12T15:58:00.657838Z"
    }
   },
   "outputs": [],
   "source": [
    "from archetypal import IDF\n",
    "\n",
    "idf = IDF(\"in_3.idf\", epw=analysis_1.local_epw)"
   ]
  },
  {
   "cell_type": "code",
   "execution_count": 22,
   "id": "37cef169",
   "metadata": {
    "ExecuteTime": {
     "end_time": "2024-09-12T15:58:11.944653Z",
     "start_time": "2024-09-12T15:58:06.085610Z"
    }
   },
   "outputs": [
    {
     "data": {
      "image/png": "[encoded data removed]",
      "text/plain": [
       "<Figure size 640x480 with 1 Axes>"
      ]
     },
     "metadata": {},
     "output_type": "display_data"
    },
    {
     "data": {
      "text/plain": [
       "(<Figure size 640x480 with 1 Axes>, [<Axes3D: >])"
      ]
     },
     "execution_count": 22,
     "metadata": {},
     "output_type": "execute_result"
    }
   ],
   "source": [
    "idf.view_model()"
   ]
  },
  {
   "cell_type": "code",
   "execution_count": 23,
   "id": "2e68c81b",
   "metadata": {
    "ExecuteTime": {
     "end_time": "2024-09-12T15:58:14.109463Z",
     "start_time": "2024-09-12T15:58:12.999834Z"
    }
   },
   "outputs": [],
   "source": [
    "RUN = 40\n",
    "\n",
    "request = analysis_1.get_client().get(\n",
    "    \"/downloadfile/\",\n",
    "    params={\n",
    "        \"s3_file_path\": f\"{analysis_1.job[0].parameters.idf_output_dir}in_{RUN}.idf\"\n",
    "    },\n",
    ")\n",
    "\n",
    "# save the downloaded content to a file named `in_0.idf`\n",
    "with open(f\"in_{RUN}.idf\", \"wb\") as f:\n",
    "    f.write(request.content)"
   ]
  },
  {
   "cell_type": "code",
   "execution_count": 24,
   "id": "b228e002",
   "metadata": {
    "ExecuteTime": {
     "end_time": "2024-09-12T15:58:20.578652Z",
     "start_time": "2024-09-12T15:58:15.301537Z"
    }
   },
   "outputs": [],
   "source": [
    "from archetypal import IDF\n",
    "\n",
    "idf40 = IDF(\"in_40.idf\", epw=analysis_1.local_epw)"
   ]
  },
  {
   "cell_type": "code",
   "execution_count": 25,
   "id": "d8dd8079",
   "metadata": {
    "ExecuteTime": {
     "end_time": "2024-09-12T15:58:27.562435Z",
     "start_time": "2024-09-12T15:58:21.671709Z"
    }
   },
   "outputs": [
    {
     "data": {
      "image/png": "[encoded data removed]",
      "text/plain": [
       "<Figure size 640x480 with 1 Axes>"
      ]
     },
     "metadata": {},
     "output_type": "display_data"
    },
    {
     "data": {
      "text/plain": [
       "(<Figure size 640x480 with 1 Axes>, [<Axes3D: >])"
      ]
     },
     "execution_count": 25,
     "metadata": {},
     "output_type": "execute_result"
    }
   ],
   "source": [
    "idf40.view_model()"
   ]
  },
  {
   "cell_type": "code",
   "execution_count": 26,
   "id": "030da641",
   "metadata": {
    "ExecuteTime": {
     "end_time": "2024-09-12T15:58:28.625599Z",
     "start_time": "2024-09-12T15:58:28.623755Z"
    }
   },
   "outputs": [],
   "source": [
    "from eppy.useful_scripts.idfdiff import idfdiffs, makecsvdiffs, printcsv"
   ]
  },
  {
   "cell_type": "code",
   "execution_count": null,
   "id": "7c123817",
   "metadata": {},
   "outputs": [],
   "source": [
    "thediffs = idfdiffs(idf, idf40)\n",
    "csvdiffs = makecsvdiffs(thediffs, idf, idf40)"
   ]
  },
  {
   "cell_type": "code",
   "execution_count": null,
   "id": "7f3b816a",
   "metadata": {},
   "outputs": [],
   "source": [
    "printcsv(csvdiffs)"
   ]
  },
  {
   "cell_type": "markdown",
   "id": "72526f71",
   "metadata": {},
   "source": [
    "## WWR"
   ]
  },
  {
   "cell_type": "code",
   "execution_count": 27,
   "id": "c25ba690",
   "metadata": {
    "ExecuteTime": {
     "end_time": "2024-09-12T16:00:38.802871Z",
     "start_time": "2024-09-12T15:58:29.683622Z"
    }
   },
   "outputs": [
    {
     "name": "stderr",
     "output_type": "stream",
     "text": [
      "/Users/samueld/PycharmProjects/surrogate-api/.venv/lib/python3.9/site-packages/archetypal/idfclass/idf.py:1813: FutureWarning: the convert_dtype parameter is deprecated and will be removed in a future version.  Do ``ser.astype(object).apply()`` instead if you want ``convert_dtype=False``.\n",
      "  df[\"wwr\"] = (df.window_area / df.wall_area).fillna(0).apply(round, 2)\n"
     ]
    },
    {
     "data": {
      "text/html": [
       "<div>\n",
       "<style scoped>\n",
       "    .dataframe tbody tr th:only-of-type {\n",
       "        vertical-align: middle;\n",
       "    }\n",
       "\n",
       "    .dataframe tbody tr th {\n",
       "        vertical-align: top;\n",
       "    }\n",
       "\n",
       "    .dataframe thead th {\n",
       "        text-align: right;\n",
       "    }\n",
       "</style>\n",
       "<table border=\"1\" class=\"dataframe\">\n",
       "  <thead>\n",
       "    <tr style=\"text-align: right;\">\n",
       "      <th></th>\n",
       "      <th>wall_area</th>\n",
       "      <th>window_area</th>\n",
       "      <th>wwr</th>\n",
       "      <th>wwr_rounded_%</th>\n",
       "    </tr>\n",
       "    <tr>\n",
       "      <th>Azimuth</th>\n",
       "      <th></th>\n",
       "      <th></th>\n",
       "      <th></th>\n",
       "      <th></th>\n",
       "    </tr>\n",
       "  </thead>\n",
       "  <tbody>\n",
       "    <tr>\n",
       "      <th>130</th>\n",
       "      <td>2682.2</td>\n",
       "      <td>938.8</td>\n",
       "      <td>0.350011</td>\n",
       "      <td>40</td>\n",
       "    </tr>\n",
       "    <tr>\n",
       "      <th>220</th>\n",
       "      <td>3127.8</td>\n",
       "      <td>1094.7</td>\n",
       "      <td>0.349990</td>\n",
       "      <td>30</td>\n",
       "    </tr>\n",
       "    <tr>\n",
       "      <th>310</th>\n",
       "      <td>2593.8</td>\n",
       "      <td>907.8</td>\n",
       "      <td>0.349988</td>\n",
       "      <td>30</td>\n",
       "    </tr>\n",
       "    <tr>\n",
       "      <th>40</th>\n",
       "      <td>3113.4</td>\n",
       "      <td>1089.7</td>\n",
       "      <td>0.350003</td>\n",
       "      <td>40</td>\n",
       "    </tr>\n",
       "    <tr>\n",
       "      <th>60</th>\n",
       "      <td>232.4</td>\n",
       "      <td>81.3</td>\n",
       "      <td>0.349828</td>\n",
       "      <td>30</td>\n",
       "    </tr>\n",
       "    <tr>\n",
       "      <th>0</th>\n",
       "      <td>0.0</td>\n",
       "      <td>0.0</td>\n",
       "      <td>0.000000</td>\n",
       "      <td>0</td>\n",
       "    </tr>\n",
       "  </tbody>\n",
       "</table>\n",
       "</div>"
      ],
      "text/plain": [
       "         wall_area  window_area       wwr  wwr_rounded_%\n",
       "Azimuth                                                 \n",
       "130         2682.2        938.8  0.350011             40\n",
       "220         3127.8       1094.7  0.349990             30\n",
       "310         2593.8        907.8  0.349988             30\n",
       "40          3113.4       1089.7  0.350003             40\n",
       "60           232.4         81.3  0.349828             30\n",
       "0              0.0          0.0  0.000000              0"
      ]
     },
     "execution_count": 27,
     "metadata": {},
     "output_type": "execute_result"
    }
   ],
   "source": [
    "idf.wwr()"
   ]
  },
  {
   "cell_type": "code",
   "execution_count": 28,
   "id": "5d50238d",
   "metadata": {
    "ExecuteTime": {
     "end_time": "2024-09-12T16:02:50.778452Z",
     "start_time": "2024-09-12T16:00:39.896585Z"
    }
   },
   "outputs": [
    {
     "name": "stderr",
     "output_type": "stream",
     "text": [
      "/Users/samueld/PycharmProjects/surrogate-api/.venv/lib/python3.9/site-packages/archetypal/idfclass/idf.py:1813: FutureWarning: the convert_dtype parameter is deprecated and will be removed in a future version.  Do ``ser.astype(object).apply()`` instead if you want ``convert_dtype=False``.\n",
      "  df[\"wwr\"] = (df.window_area / df.wall_area).fillna(0).apply(round, 2)\n"
     ]
    },
    {
     "data": {
      "text/html": [
       "<div>\n",
       "<style scoped>\n",
       "    .dataframe tbody tr th:only-of-type {\n",
       "        vertical-align: middle;\n",
       "    }\n",
       "\n",
       "    .dataframe tbody tr th {\n",
       "        vertical-align: top;\n",
       "    }\n",
       "\n",
       "    .dataframe thead th {\n",
       "        text-align: right;\n",
       "    }\n",
       "</style>\n",
       "<table border=\"1\" class=\"dataframe\">\n",
       "  <thead>\n",
       "    <tr style=\"text-align: right;\">\n",
       "      <th></th>\n",
       "      <th>wall_area</th>\n",
       "      <th>window_area</th>\n",
       "      <th>wwr</th>\n",
       "      <th>wwr_rounded_%</th>\n",
       "    </tr>\n",
       "    <tr>\n",
       "      <th>Azimuth</th>\n",
       "      <th></th>\n",
       "      <th></th>\n",
       "      <th></th>\n",
       "      <th></th>\n",
       "    </tr>\n",
       "  </thead>\n",
       "  <tbody>\n",
       "    <tr>\n",
       "      <th>130</th>\n",
       "      <td>2682.2</td>\n",
       "      <td>938.8</td>\n",
       "      <td>0.350011</td>\n",
       "      <td>40</td>\n",
       "    </tr>\n",
       "    <tr>\n",
       "      <th>220</th>\n",
       "      <td>3127.8</td>\n",
       "      <td>1094.7</td>\n",
       "      <td>0.349990</td>\n",
       "      <td>30</td>\n",
       "    </tr>\n",
       "    <tr>\n",
       "      <th>310</th>\n",
       "      <td>2593.8</td>\n",
       "      <td>907.8</td>\n",
       "      <td>0.349988</td>\n",
       "      <td>30</td>\n",
       "    </tr>\n",
       "    <tr>\n",
       "      <th>40</th>\n",
       "      <td>3113.4</td>\n",
       "      <td>1089.7</td>\n",
       "      <td>0.350003</td>\n",
       "      <td>40</td>\n",
       "    </tr>\n",
       "    <tr>\n",
       "      <th>60</th>\n",
       "      <td>232.4</td>\n",
       "      <td>81.3</td>\n",
       "      <td>0.349828</td>\n",
       "      <td>30</td>\n",
       "    </tr>\n",
       "    <tr>\n",
       "      <th>0</th>\n",
       "      <td>0.0</td>\n",
       "      <td>0.0</td>\n",
       "      <td>0.000000</td>\n",
       "      <td>0</td>\n",
       "    </tr>\n",
       "  </tbody>\n",
       "</table>\n",
       "</div>"
      ],
      "text/plain": [
       "         wall_area  window_area       wwr  wwr_rounded_%\n",
       "Azimuth                                                 \n",
       "130         2682.2        938.8  0.350011             40\n",
       "220         3127.8       1094.7  0.349990             30\n",
       "310         2593.8        907.8  0.349988             30\n",
       "40          3113.4       1089.7  0.350003             40\n",
       "60           232.4         81.3  0.349828             30\n",
       "0              0.0          0.0  0.000000              0"
      ]
     },
     "execution_count": 28,
     "metadata": {},
     "output_type": "execute_result"
    }
   ],
   "source": [
    "idf40.wwr()"
   ]
  },
  {
   "cell_type": "code",
   "execution_count": 29,
   "id": "5bb0efd8",
   "metadata": {
    "ExecuteTime": {
     "end_time": "2024-09-12T16:03:09.942695Z",
     "start_time": "2024-09-12T16:02:50.818283Z"
    }
   },
   "outputs": [
    {
     "data": {
      "text/plain": [
       "23728.075239024532"
      ]
     },
     "execution_count": 29,
     "metadata": {},
     "output_type": "execute_result"
    }
   ],
   "source": [
    "idf.total_building_area"
   ]
  },
  {
   "cell_type": "code",
   "execution_count": 30,
   "id": "457ffe24",
   "metadata": {
    "ExecuteTime": {
     "end_time": "2024-09-12T16:03:28.883526Z",
     "start_time": "2024-09-12T16:03:09.963194Z"
    }
   },
   "outputs": [
    {
     "data": {
      "text/plain": [
       "23728.075239024532"
      ]
     },
     "execution_count": 30,
     "metadata": {},
     "output_type": "execute_result"
    }
   ],
   "source": [
    "idf40.total_building_area"
   ]
  },
  {
   "cell_type": "code",
   "execution_count": null,
   "id": "498ff007",
   "metadata": {},
   "outputs": [],
   "source": [
    "idf.simulate()"
   ]
  },
  {
   "cell_type": "code",
   "execution_count": null,
   "id": "6cb263a8",
   "metadata": {},
   "outputs": [],
   "source": [
    "from archetypal.idfclass.sql import Sql\n",
    "\n",
    "sql = Sql(idf.sql_file)"
   ]
  },
  {
   "cell_type": "code",
   "execution_count": null,
   "id": "021968b3",
   "metadata": {},
   "outputs": [],
   "source": [
    "sql.available_outputs"
   ]
  },
  {
   "cell_type": "code",
   "execution_count": null,
   "id": "8893100a",
   "metadata": {},
   "outputs": [],
   "source": [
    "idf.idfobjects[\"SIMULATIONCONTROL\"]"
   ]
  },
  {
   "cell_type": "code",
   "execution_count": null,
   "id": "1b67289a",
   "metadata": {},
   "outputs": [],
   "source": [
    "sql.timeseries_by_name(\n",
    "    *(\"Cooling:DistrictCooling\", \"Hourly\"), environment_type=3\n",
    ").plot()"
   ]
  },
  {
   "cell_type": "code",
   "execution_count": null,
   "id": "8ff47385",
   "metadata": {},
   "outputs": [],
   "source": [
    "zonetemp = sql.timeseries_by_name(*(\"Zone Air Temperature\", \"Hourly\"))\n",
    "hstp = sql.timeseries_by_name(*(\n",
    "    \"Zone Thermostat Heating Setpoint Temperature\",\n",
    "    \"Hourly\",\n",
    "))\n",
    "cstp = sql.timeseries_by_name(*(\n",
    "    \"Zone Thermostat Cooling Setpoint Temperature\",\n",
    "    \"Hourly\",\n",
    "))"
   ]
  },
  {
   "cell_type": "code",
   "execution_count": null,
   "id": "8f402689",
   "metadata": {},
   "outputs": [],
   "source": [
    "len(idf.idfobjects[\"ZONE\"])"
   ]
  },
  {
   "cell_type": "code",
   "execution_count": null,
   "id": "44f0121b",
   "metadata": {},
   "outputs": [],
   "source": [
    "len(idf.idfobjects[\"THERMOSTATSETPOINT:DUALSETPOINT\"])"
   ]
  },
  {
   "cell_type": "code",
   "execution_count": null,
   "id": "99b03975",
   "metadata": {},
   "outputs": [],
   "source": [
    "import numpy as np\n",
    "import pandas as pd\n",
    "\n",
    "df = (\n",
    "    pd.concat([zonetemp, hstp, cstp], axis=1)\n",
    "    .droplevel(\"IndexGroup\", axis=1)\n",
    "    .reorder_levels([1, 0], axis=1)\n",
    ")\n",
    "df.replace({0: np.NaN}, inplace=True)"
   ]
  },
  {
   "cell_type": "code",
   "execution_count": null,
   "id": "ad4fa0da",
   "metadata": {},
   "outputs": [],
   "source": [
    "import ipywidgets as widgets\n",
    "from ipywidgets import interact\n",
    "\n",
    "zone_name = widgets.Dropdown(\n",
    "    options={a[:-2] for a in set(df.columns.get_level_values(\"KeyValue\"))}\n",
    ")\n",
    "zone_name"
   ]
  },
  {
   "cell_type": "code",
   "execution_count": null,
   "id": "d6d0c45d",
   "metadata": {},
   "outputs": [],
   "source": [
    "def plot(zone_name, date_range):\n",
    "    start, end = date_range\n",
    "    df.filter(like=zone_name).loc[start:end].plot(legend=False)"
   ]
  },
  {
   "cell_type": "code",
   "execution_count": null,
   "id": "8d382863",
   "metadata": {},
   "outputs": [],
   "source": [
    "from datetime import datetime\n",
    "\n",
    "start_date = datetime(2018, 1, 1)\n",
    "end_date = datetime(2018, 12, 31)\n",
    "\n",
    "dates = pd.date_range(start_date, end_date, freq=\"D\")\n",
    "\n",
    "options = [(date.strftime(\" %d %b %Y \"), date) for date in dates]\n",
    "index = (0, len(options) - 1)\n",
    "\n",
    "selection_range_slider = widgets.SelectionRangeSlider(\n",
    "    options=options,\n",
    "    index=index,\n",
    "    description=\"Dates\",\n",
    "    orientation=\"horizontal\",\n",
    "    layout={\"width\": \"500px\"},\n",
    ")"
   ]
  },
  {
   "cell_type": "code",
   "execution_count": null,
   "id": "ee80679c",
   "metadata": {},
   "outputs": [],
   "source": [
    "interact(plot, zone_name=zone_name, date_range=selection_range_slider)"
   ]
  },
  {
   "cell_type": "code",
   "execution_count": null,
   "id": "34a53e2f",
   "metadata": {},
   "outputs": [],
   "source": [
    "import plotly.express as px\n",
    "\n",
    "fig = px.line(\n",
    "    df.filter(like=zone_name.value)\n",
    "    .melt(ignore_index=False)\n",
    "    .reset_index()\n",
    "    .dropna(subset=\"value\"),\n",
    "    x=\"index\",\n",
    "    y=\"value\",\n",
    "    color=\"Name\",\n",
    ")\n",
    "fig.update_xaxes(rangeslider_visible=True)\n",
    "fig.show()"
   ]
  },
  {
   "cell_type": "code",
   "execution_count": null,
   "id": "8ee8052c",
   "metadata": {},
   "outputs": [],
   "source": []
  }
 ],
 "metadata": {
  "kernelspec": {
   "display_name": "Python 3 (ipykernel)",
   "language": "python",
   "name": "python3"
  },
  "language_info": {
   "codemirror_mode": {
    "name": "ipython",
    "version": 3
   },
   "file_extension": ".py",
   "mimetype": "text/x-python",
   "name": "python",
   "nbconvert_exporter": "python",
   "pygments_lexer": "ipython3",
   "version": "3.9.7"
  },
  "toc": {
   "base_numbering": 1,
   "nav_menu": {},
   "number_sections": true,
   "sideBar": true,
   "skip_h1_title": true,
   "title_cell": "Table of Contents",
   "title_sidebar": "Contents",
   "toc_cell": false,
   "toc_position": {
    "height": "calc(100% - 180px)",
    "left": "10px",
    "top": "150px",
    "width": "384px"
   },
   "toc_section_display": true,
   "toc_window_display": true
  }
 },
 "nbformat": 4,
 "nbformat_minor": 5
}
