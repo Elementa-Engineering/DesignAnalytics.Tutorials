{
 "cells": [
  {
   "cell_type": "markdown",
   "id": "ab1c745a",
   "metadata": {
    "toc": true
   },
   "source": [
    "<h1>Table of Contents<span class=\"tocSkip\"></span></h1>\n",
    "<div class=\"toc\"><ul class=\"toc-item\"></ul></div>"
   ]
  },
  {
   "cell_type": "markdown",
   "id": "dfb2ab80",
   "metadata": {},
   "source": [
    "This Jupyter notebook demonstrates the use of the `urrogate_schema`library to perform a specific parametric building energy analysis on AWS Batch. It starts by defining a parameter space and generating manually a set of samples within that space. \n",
    "\n",
    "A pre-existing BuildingAnalysis object is loaded, which specifies the analysis that has already been performed. If you wish, you can uncomment the lines and the necessary files are uploaded to S3. The job is then submitted to AWS Batch, and the status of the job is tracked.\n",
    "\n",
    "Finally, the results of the job are retrieved and saved to a JSON file."
   ]
  },
  {
   "cell_type": "code",
   "id": "8e4b648e",
   "metadata": {
    "ExecuteTime": {
     "end_time": "2024-09-12T16:11:19.025711Z",
     "start_time": "2024-09-12T16:11:17.486064Z"
    }
   },
   "source": [
    "from surrogate_schema import __version__\n",
    "\n",
    "__version__"
   ],
   "outputs": [
    {
     "data": {
      "text/plain": [
       "'0.15.5.dev2+g7d66ffc.d20240322'"
      ]
     },
     "execution_count": 1,
     "metadata": {},
     "output_type": "execute_result"
    }
   ],
   "execution_count": 1
  },
  {
   "cell_type": "code",
   "id": "9b67a81e",
   "metadata": {
    "ExecuteTime": {
     "end_time": "2024-09-12T16:11:20.944960Z",
     "start_time": "2024-09-12T16:11:20.621593Z"
    }
   },
   "source": [
    "from surrogate_schema import APIClient, BuildingAnalysis, SampledSpace, Space\n",
    "\n",
    "%load_ext dotenv\n",
    "%dotenv\n",
    "\n",
    "# typical block to authenticate to the API\n",
    "client = APIClient(api_url=\"https://api.elementa.nyc\")\n",
    "client.whoami()  # shows that you are properly authenticated"
   ],
   "outputs": [
    {
     "data": {
      "text/plain": [
       "User(username='s.letellierduchesne', email='sam@cabonsignal.com', full_name='Samuel Letellier-Duchesne', disabled=None, valid_until=datetime.datetime(2025, 1, 29, 20, 28, 26))"
      ]
     },
     "execution_count": 2,
     "metadata": {},
     "output_type": "execute_result"
    }
   ],
   "execution_count": 2
  },
  {
   "cell_type": "markdown",
   "id": "ad5a87f7",
   "metadata": {},
   "source": [
    "The next cell creates a Space object which defines the dimensions of the parameter space to be explored."
   ]
  },
  {
   "cell_type": "code",
   "id": "d17d8f1d",
   "metadata": {
    "ExecuteTime": {
     "end_time": "2024-09-12T16:11:23.299751Z",
     "start_time": "2024-09-12T16:11:22.989269Z"
    }
   },
   "source": [
    "space = Space(\n",
    "    dimensions=[\n",
    "        dict(name=\"FOOTPRINT_AREA\", low=100, high=10_000),\n",
    "        dict(name=\"PERIM_DEPTH\", categories=[0.6, 3, 6]),\n",
    "        dict(name=\"FLOOR_TO_FLOOR_HEIGHT\", categories=[0.6, 3, 6]),\n",
    "    ]\n",
    ")\n",
    "space"
   ],
   "outputs": [
    {
     "data": {
      "text/plain": [
       "Space(dimensions=[Dimension(name='FOOTPRINT_AREA', categories=None, low=100.0, high=10000.0, baseline=None, base=10, transformer=None, prior=<Prior.uniform: 'uniform'>, dtype=dtype('float64'), practical_ranges={'Homes, small retail, small offices': 5000, 'Lrg. retail, restaurants, med. offices': 20000, 'Lrg. offices, hospitals, schools': 100000, 'Lrg. manufacturing, warehouses': 300000, 'Skyscrapers, large malls, stadiums': 500000}), Dimension(name='PERIM_DEPTH', categories=[0.6, 3.0, 6.0], low=None, high=None, baseline=None, base=10, transformer=None, prior=None, dtype=dtype('float64'), practical_ranges=None), Dimension(name='FLOOR_TO_FLOOR_HEIGHT', categories=[0.6, 3.0, 6.0], low=None, high=None, baseline=None, base=10, transformer=None, prior=None, dtype=dtype('float64'), practical_ranges={'Residential': 8, 'Commercial': 11, 'Industrial or Warehouse': 15})], space_id=UUID('6153cf7a-65c4-420f-b9d3-399f82149fa1'), baseline=None, version='0.0.0')"
      ],
      "image/svg+xml": "<?xml version=\"1.0\" encoding=\"utf-8\" standalone=\"no\"?>\n<!DOCTYPE svg PUBLIC \"-//W3C//DTD SVG 1.1//EN\"\n  \"http://www.w3.org/Graphics/SVG/1.1/DTD/svg11.dtd\">\n<svg xmlns:xlink=\"http://www.w3.org/1999/xlink\" width=\"576pt\" height=\"151.2pt\" viewBox=\"0 0 576 151.2\" xmlns=\"http://www.w3.org/2000/svg\" version=\"1.1\">\n <metadata>\n  <rdf:RDF xmlns:dc=\"http://purl.org/dc/elements/1.1/\" xmlns:cc=\"http://creativecommons.org/ns#\" xmlns:rdf=\"http://www.w3.org/1999/02/22-rdf-syntax-ns#\">\n   <cc:Work>\n    <dc:type rdf:resource=\"http://purl.org/dc/dcmitype/StillImage\"/>\n    <dc:date>2024-09-12T12:11:23.280880</dc:date>\n    <dc:format>image/svg+xml</dc:format>\n    <dc:creator>\n     <cc:Agent>\n      <dc:title>Matplotlib v3.9.0, https://matplotlib.org/</dc:title>\n     </cc:Agent>\n    </dc:creator>\n   </cc:Work>\n  </rdf:RDF>\n </metadata>\n <defs>\n  <style type=\"text/css\">*{stroke-linejoin: round; stroke-linecap: butt}</style>\n </defs>\n <g id=\"figure_1\">\n  <g id=\"patch_1\">\n   <path d=\"M 0 151.2 \nL 576 151.2 \nL 576 0 \nL 0 0 \nz\n\" style=\"fill: #ffffff\"/>\n  </g>\n  <g id=\"axes_1\">\n   <g id=\"patch_2\">\n    <path d=\"M 135.25 16.803529 \nL 562.270909 16.803529 \nL 562.270909 10.8 \nL 135.25 10.8 \nz\n\" style=\"fill: #ffffff\"/>\n   </g>\n   <g id=\"matplotlib.axis_1\">\n    <g id=\"xtick_1\"/>\n    <g id=\"xtick_2\"/>\n    <g id=\"xtick_3\"/>\n   </g>\n   <g id=\"matplotlib.axis_2\">\n    <g id=\"ytick_1\">\n     <g id=\"line2d_1\">\n      <path d=\"M 135.25 14.802353 \nL 562.270909 14.802353 \n\" clip-path=\"url(#p9a6152d66d)\" style=\"fill: none; stroke: #222222; stroke-opacity: 0.2; stroke-width: 0.8; stroke-linecap: square\"/>\n     </g>\n     <g id=\"text_1\">\n      <!-- Perimeter Depth (ft) -->\n      <g transform=\"translate(27.578125 18.601572) scale(0.1 -0.1)\">\n       <defs>\n        <path id=\"DejaVuSans-50\" d=\"M 1259 4147 \nL 1259 2394 \nL 2053 2394 \nQ 2494 2394 2734 2622 \nQ 2975 2850 2975 3272 \nQ 2975 3691 2734 3919 \nQ 2494 4147 2053 4147 \nL 1259 4147 \nz\nM 628 4666 \nL 2053 4666 \nQ 2838 4666 3239 4311 \nQ 3641 3956 3641 3272 \nQ 3641 2581 3239 2228 \nQ 2838 1875 2053 1875 \nL 1259 1875 \nL 1259 0 \nL 628 0 \nL 628 4666 \nz\n\" transform=\"scale(0.015625)\"/>\n        <path id=\"DejaVuSans-65\" d=\"M 3597 1894 \nL 3597 1613 \nL 953 1613 \nQ 991 1019 1311 708 \nQ 1631 397 2203 397 \nQ 2534 397 2845 478 \nQ 3156 559 3463 722 \nL 3463 178 \nQ 3153 47 2828 -22 \nQ 2503 -91 2169 -91 \nQ 1331 -91 842 396 \nQ 353 884 353 1716 \nQ 353 2575 817 3079 \nQ 1281 3584 2069 3584 \nQ 2775 3584 3186 3129 \nQ 3597 2675 3597 1894 \nz\nM 3022 2063 \nQ 3016 2534 2758 2815 \nQ 2500 3097 2075 3097 \nQ 1594 3097 1305 2825 \nQ 1016 2553 972 2059 \nL 3022 2063 \nz\n\" transform=\"scale(0.015625)\"/>\n        <path id=\"DejaVuSans-72\" d=\"M 2631 2963 \nQ 2534 3019 2420 3045 \nQ 2306 3072 2169 3072 \nQ 1681 3072 1420 2755 \nQ 1159 2438 1159 1844 \nL 1159 0 \nL 581 0 \nL 581 3500 \nL 1159 3500 \nL 1159 2956 \nQ 1341 3275 1631 3429 \nQ 1922 3584 2338 3584 \nQ 2397 3584 2469 3576 \nQ 2541 3569 2628 3553 \nL 2631 2963 \nz\n\" transform=\"scale(0.015625)\"/>\n        <path id=\"DejaVuSans-69\" d=\"M 603 3500 \nL 1178 3500 \nL 1178 0 \nL 603 0 \nL 603 3500 \nz\nM 603 4863 \nL 1178 4863 \nL 1178 4134 \nL 603 4134 \nL 603 4863 \nz\n\" transform=\"scale(0.015625)\"/>\n        <path id=\"DejaVuSans-6d\" d=\"M 3328 2828 \nQ 3544 3216 3844 3400 \nQ 4144 3584 4550 3584 \nQ 5097 3584 5394 3201 \nQ 5691 2819 5691 2113 \nL 5691 0 \nL 5113 0 \nL 5113 2094 \nQ 5113 2597 4934 2840 \nQ 4756 3084 4391 3084 \nQ 3944 3084 3684 2787 \nQ 3425 2491 3425 1978 \nL 3425 0 \nL 2847 0 \nL 2847 2094 \nQ 2847 2600 2669 2842 \nQ 2491 3084 2119 3084 \nQ 1678 3084 1418 2786 \nQ 1159 2488 1159 1978 \nL 1159 0 \nL 581 0 \nL 581 3500 \nL 1159 3500 \nL 1159 2956 \nQ 1356 3278 1631 3431 \nQ 1906 3584 2284 3584 \nQ 2666 3584 2933 3390 \nQ 3200 3197 3328 2828 \nz\n\" transform=\"scale(0.015625)\"/>\n        <path id=\"DejaVuSans-74\" d=\"M 1172 4494 \nL 1172 3500 \nL 2356 3500 \nL 2356 3053 \nL 1172 3053 \nL 1172 1153 \nQ 1172 725 1289 603 \nQ 1406 481 1766 481 \nL 2356 481 \nL 2356 0 \nL 1766 0 \nQ 1100 0 847 248 \nQ 594 497 594 1153 \nL 594 3053 \nL 172 3053 \nL 172 3500 \nL 594 3500 \nL 594 4494 \nL 1172 4494 \nz\n\" transform=\"scale(0.015625)\"/>\n        <path id=\"DejaVuSans-20\" transform=\"scale(0.015625)\"/>\n        <path id=\"DejaVuSans-44\" d=\"M 1259 4147 \nL 1259 519 \nL 2022 519 \nQ 2988 519 3436 956 \nQ 3884 1394 3884 2338 \nQ 3884 3275 3436 3711 \nQ 2988 4147 2022 4147 \nL 1259 4147 \nz\nM 628 4666 \nL 1925 4666 \nQ 3281 4666 3915 4102 \nQ 4550 3538 4550 2338 \nQ 4550 1131 3912 565 \nQ 3275 0 1925 0 \nL 628 0 \nL 628 4666 \nz\n\" transform=\"scale(0.015625)\"/>\n        <path id=\"DejaVuSans-70\" d=\"M 1159 525 \nL 1159 -1331 \nL 581 -1331 \nL 581 3500 \nL 1159 3500 \nL 1159 2969 \nQ 1341 3281 1617 3432 \nQ 1894 3584 2278 3584 \nQ 2916 3584 3314 3078 \nQ 3713 2572 3713 1747 \nQ 3713 922 3314 415 \nQ 2916 -91 2278 -91 \nQ 1894 -91 1617 61 \nQ 1341 213 1159 525 \nz\nM 3116 1747 \nQ 3116 2381 2855 2742 \nQ 2594 3103 2138 3103 \nQ 1681 3103 1420 2742 \nQ 1159 2381 1159 1747 \nQ 1159 1113 1420 752 \nQ 1681 391 2138 391 \nQ 2594 391 2855 752 \nQ 3116 1113 3116 1747 \nz\n\" transform=\"scale(0.015625)\"/>\n        <path id=\"DejaVuSans-68\" d=\"M 3513 2113 \nL 3513 0 \nL 2938 0 \nL 2938 2094 \nQ 2938 2591 2744 2837 \nQ 2550 3084 2163 3084 \nQ 1697 3084 1428 2787 \nQ 1159 2491 1159 1978 \nL 1159 0 \nL 581 0 \nL 581 4863 \nL 1159 4863 \nL 1159 2956 \nQ 1366 3272 1645 3428 \nQ 1925 3584 2291 3584 \nQ 2894 3584 3203 3211 \nQ 3513 2838 3513 2113 \nz\n\" transform=\"scale(0.015625)\"/>\n        <path id=\"DejaVuSans-28\" d=\"M 1984 4856 \nQ 1566 4138 1362 3434 \nQ 1159 2731 1159 2009 \nQ 1159 1288 1364 580 \nQ 1569 -128 1984 -844 \nL 1484 -844 \nQ 1016 -109 783 600 \nQ 550 1309 550 2009 \nQ 550 2706 781 3412 \nQ 1013 4119 1484 4856 \nL 1984 4856 \nz\n\" transform=\"scale(0.015625)\"/>\n        <path id=\"DejaVuSans-66\" d=\"M 2375 4863 \nL 2375 4384 \nL 1825 4384 \nQ 1516 4384 1395 4259 \nQ 1275 4134 1275 3809 \nL 1275 3500 \nL 2222 3500 \nL 2222 3053 \nL 1275 3053 \nL 1275 0 \nL 697 0 \nL 697 3053 \nL 147 3053 \nL 147 3500 \nL 697 3500 \nL 697 3744 \nQ 697 4328 969 4595 \nQ 1241 4863 1831 4863 \nL 2375 4863 \nz\n\" transform=\"scale(0.015625)\"/>\n        <path id=\"DejaVuSans-29\" d=\"M 513 4856 \nL 1013 4856 \nQ 1481 4119 1714 3412 \nQ 1947 2706 1947 2009 \nQ 1947 1309 1714 600 \nQ 1481 -109 1013 -844 \nL 513 -844 \nQ 928 -128 1133 580 \nQ 1338 1288 1338 2009 \nQ 1338 2731 1133 3434 \nQ 928 4138 513 4856 \nz\n\" transform=\"scale(0.015625)\"/>\n       </defs>\n       <use xlink:href=\"#DejaVuSans-50\"/>\n       <use xlink:href=\"#DejaVuSans-65\" x=\"56.677734\"/>\n       <use xlink:href=\"#DejaVuSans-72\" x=\"118.201172\"/>\n       <use xlink:href=\"#DejaVuSans-69\" x=\"159.314453\"/>\n       <use xlink:href=\"#DejaVuSans-6d\" x=\"187.097656\"/>\n       <use xlink:href=\"#DejaVuSans-65\" x=\"284.509766\"/>\n       <use xlink:href=\"#DejaVuSans-74\" x=\"346.033203\"/>\n       <use xlink:href=\"#DejaVuSans-65\" x=\"385.242188\"/>\n       <use xlink:href=\"#DejaVuSans-72\" x=\"446.765625\"/>\n       <use xlink:href=\"#DejaVuSans-20\" x=\"487.878906\"/>\n       <use xlink:href=\"#DejaVuSans-44\" x=\"519.666016\"/>\n       <use xlink:href=\"#DejaVuSans-65\" x=\"596.667969\"/>\n       <use xlink:href=\"#DejaVuSans-70\" x=\"658.191406\"/>\n       <use xlink:href=\"#DejaVuSans-74\" x=\"721.667969\"/>\n       <use xlink:href=\"#DejaVuSans-68\" x=\"760.876953\"/>\n       <use xlink:href=\"#DejaVuSans-20\" x=\"824.255859\"/>\n       <use xlink:href=\"#DejaVuSans-28\" x=\"856.042969\"/>\n       <use xlink:href=\"#DejaVuSans-66\" x=\"895.056641\"/>\n       <use xlink:href=\"#DejaVuSans-74\" x=\"928.511719\"/>\n       <use xlink:href=\"#DejaVuSans-29\" x=\"967.720703\"/>\n      </g>\n     </g>\n    </g>\n   </g>\n   <g id=\"PathCollection_1\"/>\n   <g id=\"PathCollection_2\">\n    <defs>\n     <path id=\"C0_0_0568b7efb5\" d=\"M 0 2.5 \nC 0.663008 2.5 1.29895 2.236584 1.767767 1.767767 \nC 2.236584 1.29895 2.5 0.663008 2.5 -0 \nC 2.5 -0.663008 2.236584 -1.29895 1.767767 -1.767767 \nC 1.29895 -2.236584 0.663008 -2.5 0 -2.5 \nC -0.663008 -2.5 -1.29895 -2.236584 -1.767767 -1.767767 \nC -2.236584 -1.29895 -2.5 -0.663008 -2.5 0 \nC -2.5 0.663008 -2.236584 1.29895 -1.767767 1.767767 \nC -1.29895 2.236584 -0.663008 2.5 0 2.5 \nz\n\"/>\n    </defs>\n    <g clip-path=\"url(#p9a6152d66d)\">\n     <use xlink:href=\"#C0_0_0568b7efb5\" x=\"154.660041\" y=\"14.802353\" style=\"fill: #a7a7a7; stroke: #a7a7a7\"/>\n    </g>\n    <g clip-path=\"url(#p9a6152d66d)\">\n     <use xlink:href=\"#C0_0_0568b7efb5\" x=\"327.193742\" y=\"14.802353\" style=\"fill: #a7a7a7; stroke: #a7a7a7\"/>\n    </g>\n    <g clip-path=\"url(#p9a6152d66d)\">\n     <use xlink:href=\"#C0_0_0568b7efb5\" x=\"542.860868\" y=\"14.802353\" style=\"fill: #a7a7a7; stroke: #a7a7a7\"/>\n    </g>\n   </g>\n   <g id=\"text_2\">\n    <!-- 0.6 -->\n    <g style=\"fill: #a7a7a7\" transform=\"translate(148.03639 21.103265) scale(0.0833 -0.0833)\">\n     <defs>\n      <path id=\"DejaVuSans-30\" d=\"M 2034 4250 \nQ 1547 4250 1301 3770 \nQ 1056 3291 1056 2328 \nQ 1056 1369 1301 889 \nQ 1547 409 2034 409 \nQ 2525 409 2770 889 \nQ 3016 1369 3016 2328 \nQ 3016 3291 2770 3770 \nQ 2525 4250 2034 4250 \nz\nM 2034 4750 \nQ 2819 4750 3233 4129 \nQ 3647 3509 3647 2328 \nQ 3647 1150 3233 529 \nQ 2819 -91 2034 -91 \nQ 1250 -91 836 529 \nQ 422 1150 422 2328 \nQ 422 3509 836 4129 \nQ 1250 4750 2034 4750 \nz\n\" transform=\"scale(0.015625)\"/>\n      <path id=\"DejaVuSans-2e\" d=\"M 684 794 \nL 1344 794 \nL 1344 0 \nL 684 0 \nL 684 794 \nz\n\" transform=\"scale(0.015625)\"/>\n      <path id=\"DejaVuSans-36\" d=\"M 2113 2584 \nQ 1688 2584 1439 2293 \nQ 1191 2003 1191 1497 \nQ 1191 994 1439 701 \nQ 1688 409 2113 409 \nQ 2538 409 2786 701 \nQ 3034 994 3034 1497 \nQ 3034 2003 2786 2293 \nQ 2538 2584 2113 2584 \nz\nM 3366 4563 \nL 3366 3988 \nQ 3128 4100 2886 4159 \nQ 2644 4219 2406 4219 \nQ 1781 4219 1451 3797 \nQ 1122 3375 1075 2522 \nQ 1259 2794 1537 2939 \nQ 1816 3084 2150 3084 \nQ 2853 3084 3261 2657 \nQ 3669 2231 3669 1497 \nQ 3669 778 3244 343 \nQ 2819 -91 2113 -91 \nQ 1303 -91 875 529 \nQ 447 1150 447 2328 \nQ 447 3434 972 4092 \nQ 1497 4750 2381 4750 \nQ 2619 4750 2861 4703 \nQ 3103 4656 3366 4563 \nz\n\" transform=\"scale(0.015625)\"/>\n     </defs>\n     <use xlink:href=\"#DejaVuSans-30\"/>\n     <use xlink:href=\"#DejaVuSans-2e\" x=\"63.623047\"/>\n     <use xlink:href=\"#DejaVuSans-36\" x=\"95.410156\"/>\n    </g>\n   </g>\n   <g id=\"text_3\">\n    <!-- 3 -->\n    <g style=\"fill: #a7a7a7\" transform=\"translate(324.543761 21.103265) scale(0.0833 -0.0833)\">\n     <defs>\n      <path id=\"DejaVuSans-33\" d=\"M 2597 2516 \nQ 3050 2419 3304 2112 \nQ 3559 1806 3559 1356 \nQ 3559 666 3084 287 \nQ 2609 -91 1734 -91 \nQ 1441 -91 1130 -33 \nQ 819 25 488 141 \nL 488 750 \nQ 750 597 1062 519 \nQ 1375 441 1716 441 \nQ 2309 441 2620 675 \nQ 2931 909 2931 1356 \nQ 2931 1769 2642 2001 \nQ 2353 2234 1838 2234 \nL 1294 2234 \nL 1294 2753 \nL 1863 2753 \nQ 2328 2753 2575 2939 \nQ 2822 3125 2822 3475 \nQ 2822 3834 2567 4026 \nQ 2313 4219 1838 4219 \nQ 1578 4219 1281 4162 \nQ 984 4106 628 3988 \nL 628 4550 \nQ 988 4650 1302 4700 \nQ 1616 4750 1894 4750 \nQ 2613 4750 3031 4423 \nQ 3450 4097 3450 3541 \nQ 3450 3153 3228 2886 \nQ 3006 2619 2597 2516 \nz\n\" transform=\"scale(0.015625)\"/>\n     </defs>\n     <use xlink:href=\"#DejaVuSans-33\"/>\n    </g>\n   </g>\n   <g id=\"text_4\">\n    <!-- 6 -->\n    <g style=\"fill: #a7a7a7\" transform=\"translate(540.210887 21.103265) scale(0.0833 -0.0833)\">\n     <use xlink:href=\"#DejaVuSans-36\"/>\n    </g>\n   </g>\n  </g>\n  <g id=\"axes_2\">\n   <g id=\"patch_3\">\n    <path d=\"M 135.25 67.701176 \nL 562.270909 67.701176 \nL 562.270909 61.697647 \nL 135.25 61.697647 \nz\n\" style=\"fill: #ffffff\"/>\n   </g>\n   <g id=\"matplotlib.axis_3\">\n    <g id=\"xtick_4\"/>\n    <g id=\"xtick_5\"/>\n    <g id=\"xtick_6\"/>\n    <g id=\"xtick_7\"/>\n    <g id=\"xtick_8\"/>\n    <g id=\"xtick_9\"/>\n   </g>\n   <g id=\"matplotlib.axis_4\">\n    <g id=\"ytick_2\">\n     <g id=\"line2d_2\">\n      <path d=\"M 135.25 65.7 \nL 562.270909 65.7 \n\" clip-path=\"url(#p89be8b2a70)\" style=\"fill: none; stroke: #222222; stroke-opacity: 0.2; stroke-width: 0.8; stroke-linecap: square\"/>\n     </g>\n     <g id=\"text_5\">\n      <!-- Floor to floor height (ft) -->\n      <g transform=\"translate(11.029687 69.499219) scale(0.1 -0.1)\">\n       <defs>\n        <path id=\"DejaVuSans-46\" d=\"M 628 4666 \nL 3309 4666 \nL 3309 4134 \nL 1259 4134 \nL 1259 2759 \nL 3109 2759 \nL 3109 2228 \nL 1259 2228 \nL 1259 0 \nL 628 0 \nL 628 4666 \nz\n\" transform=\"scale(0.015625)\"/>\n        <path id=\"DejaVuSans-6c\" d=\"M 603 4863 \nL 1178 4863 \nL 1178 0 \nL 603 0 \nL 603 4863 \nz\n\" transform=\"scale(0.015625)\"/>\n        <path id=\"DejaVuSans-6f\" d=\"M 1959 3097 \nQ 1497 3097 1228 2736 \nQ 959 2375 959 1747 \nQ 959 1119 1226 758 \nQ 1494 397 1959 397 \nQ 2419 397 2687 759 \nQ 2956 1122 2956 1747 \nQ 2956 2369 2687 2733 \nQ 2419 3097 1959 3097 \nz\nM 1959 3584 \nQ 2709 3584 3137 3096 \nQ 3566 2609 3566 1747 \nQ 3566 888 3137 398 \nQ 2709 -91 1959 -91 \nQ 1206 -91 779 398 \nQ 353 888 353 1747 \nQ 353 2609 779 3096 \nQ 1206 3584 1959 3584 \nz\n\" transform=\"scale(0.015625)\"/>\n        <path id=\"DejaVuSans-67\" d=\"M 2906 1791 \nQ 2906 2416 2648 2759 \nQ 2391 3103 1925 3103 \nQ 1463 3103 1205 2759 \nQ 947 2416 947 1791 \nQ 947 1169 1205 825 \nQ 1463 481 1925 481 \nQ 2391 481 2648 825 \nQ 2906 1169 2906 1791 \nz\nM 3481 434 \nQ 3481 -459 3084 -895 \nQ 2688 -1331 1869 -1331 \nQ 1566 -1331 1297 -1286 \nQ 1028 -1241 775 -1147 \nL 775 -588 \nQ 1028 -725 1275 -790 \nQ 1522 -856 1778 -856 \nQ 2344 -856 2625 -561 \nQ 2906 -266 2906 331 \nL 2906 616 \nQ 2728 306 2450 153 \nQ 2172 0 1784 0 \nQ 1141 0 747 490 \nQ 353 981 353 1791 \nQ 353 2603 747 3093 \nQ 1141 3584 1784 3584 \nQ 2172 3584 2450 3431 \nQ 2728 3278 2906 2969 \nL 2906 3500 \nL 3481 3500 \nL 3481 434 \nz\n\" transform=\"scale(0.015625)\"/>\n       </defs>\n       <use xlink:href=\"#DejaVuSans-46\"/>\n       <use xlink:href=\"#DejaVuSans-6c\" x=\"57.519531\"/>\n       <use xlink:href=\"#DejaVuSans-6f\" x=\"85.302734\"/>\n       <use xlink:href=\"#DejaVuSans-6f\" x=\"146.484375\"/>\n       <use xlink:href=\"#DejaVuSans-72\" x=\"207.666016\"/>\n       <use xlink:href=\"#DejaVuSans-20\" x=\"248.779297\"/>\n       <use xlink:href=\"#DejaVuSans-74\" x=\"280.566406\"/>\n       <use xlink:href=\"#DejaVuSans-6f\" x=\"319.775391\"/>\n       <use xlink:href=\"#DejaVuSans-20\" x=\"380.957031\"/>\n       <use xlink:href=\"#DejaVuSans-66\" x=\"412.744141\"/>\n       <use xlink:href=\"#DejaVuSans-6c\" x=\"447.949219\"/>\n       <use xlink:href=\"#DejaVuSans-6f\" x=\"475.732422\"/>\n       <use xlink:href=\"#DejaVuSans-6f\" x=\"536.914062\"/>\n       <use xlink:href=\"#DejaVuSans-72\" x=\"598.095703\"/>\n       <use xlink:href=\"#DejaVuSans-20\" x=\"639.208984\"/>\n       <use xlink:href=\"#DejaVuSans-68\" x=\"670.996094\"/>\n       <use xlink:href=\"#DejaVuSans-65\" x=\"734.375\"/>\n       <use xlink:href=\"#DejaVuSans-69\" x=\"795.898438\"/>\n       <use xlink:href=\"#DejaVuSans-67\" x=\"823.681641\"/>\n       <use xlink:href=\"#DejaVuSans-68\" x=\"887.158203\"/>\n       <use xlink:href=\"#DejaVuSans-74\" x=\"950.537109\"/>\n       <use xlink:href=\"#DejaVuSans-20\" x=\"989.746094\"/>\n       <use xlink:href=\"#DejaVuSans-28\" x=\"1021.533203\"/>\n       <use xlink:href=\"#DejaVuSans-66\" x=\"1060.546875\"/>\n       <use xlink:href=\"#DejaVuSans-74\" x=\"1094.001953\"/>\n       <use xlink:href=\"#DejaVuSans-29\" x=\"1133.210938\"/>\n      </g>\n     </g>\n    </g>\n   </g>\n   <g id=\"PathCollection_3\">\n    <defs>\n     <path id=\"mb5e283bcd2\" d=\"M -0 3.162278 \nL 3.162278 -3.162278 \nL -3.162278 -3.162278 \nz\n\" style=\"stroke: #bfbfbf\"/>\n    </defs>\n    <g clip-path=\"url(#p89be8b2a70)\">\n     <use xlink:href=\"#mb5e283bcd2\" x=\"354.152133\" y=\"65.7\" style=\"fill: #ffffff; stroke: #bfbfbf\"/>\n     <use xlink:href=\"#mb5e283bcd2\" x=\"435.027305\" y=\"65.7\" style=\"fill: #ffffff; stroke: #bfbfbf\"/>\n     <use xlink:href=\"#mb5e283bcd2\" x=\"542.860868\" y=\"65.7\" style=\"fill: #ffffff; stroke: #bfbfbf\"/>\n    </g>\n   </g>\n   <g id=\"PathCollection_4\">\n    <defs>\n     <path id=\"C1_0_8d14da3080\" d=\"M 0 2.5 \nC 0.663008 2.5 1.29895 2.236584 1.767767 1.767767 \nC 2.236584 1.29895 2.5 0.663008 2.5 -0 \nC 2.5 -0.663008 2.236584 -1.29895 1.767767 -1.767767 \nC 1.29895 -2.236584 0.663008 -2.5 0 -2.5 \nC -0.663008 -2.5 -1.29895 -2.236584 -1.767767 -1.767767 \nC -2.236584 -1.29895 -2.5 -0.663008 -2.5 0 \nC -2.5 0.663008 -2.236584 1.29895 -1.767767 1.767767 \nC -1.29895 2.236584 -0.663008 2.5 0 2.5 \nz\n\"/>\n    </defs>\n    <g clip-path=\"url(#p89be8b2a70)\">\n     <use xlink:href=\"#C1_0_8d14da3080\" x=\"154.660041\" y=\"65.7\" style=\"fill: #a7a7a7; stroke: #a7a7a7\"/>\n    </g>\n    <g clip-path=\"url(#p89be8b2a70)\">\n     <use xlink:href=\"#C1_0_8d14da3080\" x=\"219.360179\" y=\"65.7\" style=\"fill: #a7a7a7; stroke: #a7a7a7\"/>\n    </g>\n    <g clip-path=\"url(#p89be8b2a70)\">\n     <use xlink:href=\"#C1_0_8d14da3080\" x=\"300.235351\" y=\"65.7\" style=\"fill: #a7a7a7; stroke: #a7a7a7\"/>\n    </g>\n   </g>\n   <g id=\"text_6\">\n    <!-- Residential -->\n    <g style=\"fill: #bfbfbf\" transform=\"translate(331.210141 61.697647) scale(0.0833 -0.0833)\">\n     <defs>\n      <path id=\"DejaVuSans-52\" d=\"M 2841 2188 \nQ 3044 2119 3236 1894 \nQ 3428 1669 3622 1275 \nL 4263 0 \nL 3584 0 \nL 2988 1197 \nQ 2756 1666 2539 1819 \nQ 2322 1972 1947 1972 \nL 1259 1972 \nL 1259 0 \nL 628 0 \nL 628 4666 \nL 2053 4666 \nQ 2853 4666 3247 4331 \nQ 3641 3997 3641 3322 \nQ 3641 2881 3436 2590 \nQ 3231 2300 2841 2188 \nz\nM 1259 4147 \nL 1259 2491 \nL 2053 2491 \nQ 2509 2491 2742 2702 \nQ 2975 2913 2975 3322 \nQ 2975 3731 2742 3939 \nQ 2509 4147 2053 4147 \nL 1259 4147 \nz\n\" transform=\"scale(0.015625)\"/>\n      <path id=\"DejaVuSans-73\" d=\"M 2834 3397 \nL 2834 2853 \nQ 2591 2978 2328 3040 \nQ 2066 3103 1784 3103 \nQ 1356 3103 1142 2972 \nQ 928 2841 928 2578 \nQ 928 2378 1081 2264 \nQ 1234 2150 1697 2047 \nL 1894 2003 \nQ 2506 1872 2764 1633 \nQ 3022 1394 3022 966 \nQ 3022 478 2636 193 \nQ 2250 -91 1575 -91 \nQ 1294 -91 989 -36 \nQ 684 19 347 128 \nL 347 722 \nQ 666 556 975 473 \nQ 1284 391 1588 391 \nQ 1994 391 2212 530 \nQ 2431 669 2431 922 \nQ 2431 1156 2273 1281 \nQ 2116 1406 1581 1522 \nL 1381 1569 \nQ 847 1681 609 1914 \nQ 372 2147 372 2553 \nQ 372 3047 722 3315 \nQ 1072 3584 1716 3584 \nQ 2034 3584 2315 3537 \nQ 2597 3491 2834 3397 \nz\n\" transform=\"scale(0.015625)\"/>\n      <path id=\"DejaVuSans-64\" d=\"M 2906 2969 \nL 2906 4863 \nL 3481 4863 \nL 3481 0 \nL 2906 0 \nL 2906 525 \nQ 2725 213 2448 61 \nQ 2172 -91 1784 -91 \nQ 1150 -91 751 415 \nQ 353 922 353 1747 \nQ 353 2572 751 3078 \nQ 1150 3584 1784 3584 \nQ 2172 3584 2448 3432 \nQ 2725 3281 2906 2969 \nz\nM 947 1747 \nQ 947 1113 1208 752 \nQ 1469 391 1925 391 \nQ 2381 391 2643 752 \nQ 2906 1113 2906 1747 \nQ 2906 2381 2643 2742 \nQ 2381 3103 1925 3103 \nQ 1469 3103 1208 2742 \nQ 947 2381 947 1747 \nz\n\" transform=\"scale(0.015625)\"/>\n      <path id=\"DejaVuSans-6e\" d=\"M 3513 2113 \nL 3513 0 \nL 2938 0 \nL 2938 2094 \nQ 2938 2591 2744 2837 \nQ 2550 3084 2163 3084 \nQ 1697 3084 1428 2787 \nQ 1159 2491 1159 1978 \nL 1159 0 \nL 581 0 \nL 581 3500 \nL 1159 3500 \nL 1159 2956 \nQ 1366 3272 1645 3428 \nQ 1925 3584 2291 3584 \nQ 2894 3584 3203 3211 \nQ 3513 2838 3513 2113 \nz\n\" transform=\"scale(0.015625)\"/>\n      <path id=\"DejaVuSans-61\" d=\"M 2194 1759 \nQ 1497 1759 1228 1600 \nQ 959 1441 959 1056 \nQ 959 750 1161 570 \nQ 1363 391 1709 391 \nQ 2188 391 2477 730 \nQ 2766 1069 2766 1631 \nL 2766 1759 \nL 2194 1759 \nz\nM 3341 1997 \nL 3341 0 \nL 2766 0 \nL 2766 531 \nQ 2569 213 2275 61 \nQ 1981 -91 1556 -91 \nQ 1019 -91 701 211 \nQ 384 513 384 1019 \nQ 384 1609 779 1909 \nQ 1175 2209 1959 2209 \nL 2766 2209 \nL 2766 2266 \nQ 2766 2663 2505 2880 \nQ 2244 3097 1772 3097 \nQ 1472 3097 1187 3025 \nQ 903 2953 641 2809 \nL 641 3341 \nQ 956 3463 1253 3523 \nQ 1550 3584 1831 3584 \nQ 2591 3584 2966 3190 \nQ 3341 2797 3341 1997 \nz\n\" transform=\"scale(0.015625)\"/>\n     </defs>\n     <use xlink:href=\"#DejaVuSans-52\"/>\n     <use xlink:href=\"#DejaVuSans-65\" x=\"64.982422\"/>\n     <use xlink:href=\"#DejaVuSans-73\" x=\"126.505859\"/>\n     <use xlink:href=\"#DejaVuSans-69\" x=\"178.605469\"/>\n     <use xlink:href=\"#DejaVuSans-64\" x=\"206.388672\"/>\n     <use xlink:href=\"#DejaVuSans-65\" x=\"269.865234\"/>\n     <use xlink:href=\"#DejaVuSans-6e\" x=\"331.388672\"/>\n     <use xlink:href=\"#DejaVuSans-74\" x=\"394.767578\"/>\n     <use xlink:href=\"#DejaVuSans-69\" x=\"433.976562\"/>\n     <use xlink:href=\"#DejaVuSans-61\" x=\"461.759766\"/>\n     <use xlink:href=\"#DejaVuSans-6c\" x=\"523.039062\"/>\n    </g>\n   </g>\n   <g id=\"text_7\">\n    <!-- Commercial -->\n    <g style=\"fill: #bfbfbf\" transform=\"translate(410.118653 61.697647) scale(0.0833 -0.0833)\">\n     <defs>\n      <path id=\"DejaVuSans-43\" d=\"M 4122 4306 \nL 4122 3641 \nQ 3803 3938 3442 4084 \nQ 3081 4231 2675 4231 \nQ 1875 4231 1450 3742 \nQ 1025 3253 1025 2328 \nQ 1025 1406 1450 917 \nQ 1875 428 2675 428 \nQ 3081 428 3442 575 \nQ 3803 722 4122 1019 \nL 4122 359 \nQ 3791 134 3420 21 \nQ 3050 -91 2638 -91 \nQ 1578 -91 968 557 \nQ 359 1206 359 2328 \nQ 359 3453 968 4101 \nQ 1578 4750 2638 4750 \nQ 3056 4750 3426 4639 \nQ 3797 4528 4122 4306 \nz\n\" transform=\"scale(0.015625)\"/>\n      <path id=\"DejaVuSans-63\" d=\"M 3122 3366 \nL 3122 2828 \nQ 2878 2963 2633 3030 \nQ 2388 3097 2138 3097 \nQ 1578 3097 1268 2742 \nQ 959 2388 959 1747 \nQ 959 1106 1268 751 \nQ 1578 397 2138 397 \nQ 2388 397 2633 464 \nQ 2878 531 3122 666 \nL 3122 134 \nQ 2881 22 2623 -34 \nQ 2366 -91 2075 -91 \nQ 1284 -91 818 406 \nQ 353 903 353 1747 \nQ 353 2603 823 3093 \nQ 1294 3584 2113 3584 \nQ 2378 3584 2631 3529 \nQ 2884 3475 3122 3366 \nz\n\" transform=\"scale(0.015625)\"/>\n     </defs>\n     <use xlink:href=\"#DejaVuSans-43\"/>\n     <use xlink:href=\"#DejaVuSans-6f\" x=\"69.824219\"/>\n     <use xlink:href=\"#DejaVuSans-6d\" x=\"131.005859\"/>\n     <use xlink:href=\"#DejaVuSans-6d\" x=\"228.417969\"/>\n     <use xlink:href=\"#DejaVuSans-65\" x=\"325.830078\"/>\n     <use xlink:href=\"#DejaVuSans-72\" x=\"387.353516\"/>\n     <use xlink:href=\"#DejaVuSans-63\" x=\"426.216797\"/>\n     <use xlink:href=\"#DejaVuSans-69\" x=\"481.197266\"/>\n     <use xlink:href=\"#DejaVuSans-61\" x=\"508.980469\"/>\n     <use xlink:href=\"#DejaVuSans-6c\" x=\"570.259766\"/>\n    </g>\n   </g>\n   <g id=\"text_8\">\n    <!-- Industrial -->\n    <g style=\"fill: #bfbfbf\" transform=\"translate(523.327669 43.042091) scale(0.0833 -0.0833)\">\n     <defs>\n      <path id=\"DejaVuSans-49\" d=\"M 628 4666 \nL 1259 4666 \nL 1259 0 \nL 628 0 \nL 628 4666 \nz\n\" transform=\"scale(0.015625)\"/>\n      <path id=\"DejaVuSans-75\" d=\"M 544 1381 \nL 544 3500 \nL 1119 3500 \nL 1119 1403 \nQ 1119 906 1312 657 \nQ 1506 409 1894 409 \nQ 2359 409 2629 706 \nQ 2900 1003 2900 1516 \nL 2900 3500 \nL 3475 3500 \nL 3475 0 \nL 2900 0 \nL 2900 538 \nQ 2691 219 2414 64 \nQ 2138 -91 1772 -91 \nQ 1169 -91 856 284 \nQ 544 659 544 1381 \nz\nM 1991 3584 \nL 1991 3584 \nz\n\" transform=\"scale(0.015625)\"/>\n     </defs>\n     <use xlink:href=\"#DejaVuSans-49\"/>\n     <use xlink:href=\"#DejaVuSans-6e\" x=\"29.492188\"/>\n     <use xlink:href=\"#DejaVuSans-64\" x=\"92.871094\"/>\n     <use xlink:href=\"#DejaVuSans-75\" x=\"156.347656\"/>\n     <use xlink:href=\"#DejaVuSans-73\" x=\"219.726562\"/>\n     <use xlink:href=\"#DejaVuSans-74\" x=\"271.826172\"/>\n     <use xlink:href=\"#DejaVuSans-72\" x=\"311.035156\"/>\n     <use xlink:href=\"#DejaVuSans-69\" x=\"352.148438\"/>\n     <use xlink:href=\"#DejaVuSans-61\" x=\"379.931641\"/>\n     <use xlink:href=\"#DejaVuSans-6c\" x=\"441.210938\"/>\n    </g>\n    <!-- or -->\n    <g style=\"fill: #bfbfbf\" transform=\"translate(538.600203 52.369869) scale(0.0833 -0.0833)\">\n     <use xlink:href=\"#DejaVuSans-6f\"/>\n     <use xlink:href=\"#DejaVuSans-72\" x=\"61.181641\"/>\n    </g>\n    <!-- Warehouse -->\n    <g style=\"fill: #bfbfbf\" transform=\"translate(519.714531 61.697647) scale(0.0833 -0.0833)\">\n     <defs>\n      <path id=\"DejaVuSans-57\" d=\"M 213 4666 \nL 850 4666 \nL 1831 722 \nL 2809 4666 \nL 3519 4666 \nL 4500 722 \nL 5478 4666 \nL 6119 4666 \nL 4947 0 \nL 4153 0 \nL 3169 4050 \nL 2175 0 \nL 1381 0 \nL 213 4666 \nz\n\" transform=\"scale(0.015625)\"/>\n     </defs>\n     <use xlink:href=\"#DejaVuSans-57\"/>\n     <use xlink:href=\"#DejaVuSans-61\" x=\"92.501953\"/>\n     <use xlink:href=\"#DejaVuSans-72\" x=\"153.78125\"/>\n     <use xlink:href=\"#DejaVuSans-65\" x=\"192.644531\"/>\n     <use xlink:href=\"#DejaVuSans-68\" x=\"254.167969\"/>\n     <use xlink:href=\"#DejaVuSans-6f\" x=\"317.546875\"/>\n     <use xlink:href=\"#DejaVuSans-75\" x=\"378.728516\"/>\n     <use xlink:href=\"#DejaVuSans-73\" x=\"442.107422\"/>\n     <use xlink:href=\"#DejaVuSans-65\" x=\"494.207031\"/>\n    </g>\n   </g>\n   <g id=\"text_9\">\n    <!-- 0.6 -->\n    <g style=\"fill: #a7a7a7\" transform=\"translate(148.03639 72.000912) scale(0.0833 -0.0833)\">\n     <use xlink:href=\"#DejaVuSans-30\"/>\n     <use xlink:href=\"#DejaVuSans-2e\" x=\"63.623047\"/>\n     <use xlink:href=\"#DejaVuSans-36\" x=\"95.410156\"/>\n    </g>\n   </g>\n   <g id=\"text_10\">\n    <!-- 3 -->\n    <g style=\"fill: #a7a7a7\" transform=\"translate(216.710198 72.000912) scale(0.0833 -0.0833)\">\n     <use xlink:href=\"#DejaVuSans-33\"/>\n    </g>\n   </g>\n   <g id=\"text_11\">\n    <!-- 6 -->\n    <g style=\"fill: #a7a7a7\" transform=\"translate(297.58537 72.000912) scale(0.0833 -0.0833)\">\n     <use xlink:href=\"#DejaVuSans-36\"/>\n    </g>\n   </g>\n  </g>\n  <g id=\"axes_3\">\n   <g id=\"patch_4\">\n    <path d=\"M 135.25 118.598824 \nL 562.270909 118.598824 \nL 562.270909 112.595294 \nL 135.25 112.595294 \nz\n\" style=\"fill: #ffffff\"/>\n   </g>\n   <g id=\"matplotlib.axis_5\">\n    <g id=\"xtick_10\"/>\n    <g id=\"xtick_11\"/>\n    <g id=\"xtick_12\"/>\n    <g id=\"xtick_13\"/>\n    <g id=\"xtick_14\"/>\n    <g id=\"xtick_15\"/>\n   </g>\n   <g id=\"matplotlib.axis_6\">\n    <g id=\"ytick_3\">\n     <g id=\"line2d_3\">\n      <path d=\"M 135.25 115.597059 \nL 562.270909 115.597059 \n\" clip-path=\"url(#p0dfcb2c0e7)\" style=\"fill: none; stroke: #222222; stroke-opacity: 0.2; stroke-width: 0.8; stroke-linecap: square\"/>\n     </g>\n     <g id=\"text_12\">\n      <!-- Footprint Area (ft²) -->\n      <g transform=\"translate(34.765625 119.396278) scale(0.1 -0.1)\">\n       <defs>\n        <path id=\"DejaVuSans-41\" d=\"M 2188 4044 \nL 1331 1722 \nL 3047 1722 \nL 2188 4044 \nz\nM 1831 4666 \nL 2547 4666 \nL 4325 0 \nL 3669 0 \nL 3244 1197 \nL 1141 1197 \nL 716 0 \nL 50 0 \nL 1831 4666 \nz\n\" transform=\"scale(0.015625)\"/>\n        <path id=\"DejaVuSans-b2\" d=\"M 838 2444 \nL 2163 2444 \nL 2163 2088 \nL 294 2088 \nL 294 2431 \nQ 400 2528 597 2703 \nQ 1672 3656 1672 3950 \nQ 1672 4156 1509 4282 \nQ 1347 4409 1081 4409 \nQ 919 4409 728 4354 \nQ 538 4300 313 4191 \nL 313 4575 \nQ 553 4663 761 4706 \nQ 969 4750 1147 4750 \nQ 1600 4750 1872 4544 \nQ 2144 4338 2144 4000 \nQ 2144 3566 1109 2678 \nQ 934 2528 838 2444 \nz\n\" transform=\"scale(0.015625)\"/>\n       </defs>\n       <use xlink:href=\"#DejaVuSans-46\"/>\n       <use xlink:href=\"#DejaVuSans-6f\" x=\"53.894531\"/>\n       <use xlink:href=\"#DejaVuSans-6f\" x=\"115.076172\"/>\n       <use xlink:href=\"#DejaVuSans-74\" x=\"176.257812\"/>\n       <use xlink:href=\"#DejaVuSans-70\" x=\"215.466797\"/>\n       <use xlink:href=\"#DejaVuSans-72\" x=\"278.943359\"/>\n       <use xlink:href=\"#DejaVuSans-69\" x=\"320.056641\"/>\n       <use xlink:href=\"#DejaVuSans-6e\" x=\"347.839844\"/>\n       <use xlink:href=\"#DejaVuSans-74\" x=\"411.21875\"/>\n       <use xlink:href=\"#DejaVuSans-20\" x=\"450.427734\"/>\n       <use xlink:href=\"#DejaVuSans-41\" x=\"482.214844\"/>\n       <use xlink:href=\"#DejaVuSans-72\" x=\"550.623047\"/>\n       <use xlink:href=\"#DejaVuSans-65\" x=\"589.486328\"/>\n       <use xlink:href=\"#DejaVuSans-61\" x=\"651.009766\"/>\n       <use xlink:href=\"#DejaVuSans-20\" x=\"712.289062\"/>\n       <use xlink:href=\"#DejaVuSans-28\" x=\"744.076172\"/>\n       <use xlink:href=\"#DejaVuSans-66\" x=\"783.089844\"/>\n       <use xlink:href=\"#DejaVuSans-74\" x=\"816.544922\"/>\n       <use xlink:href=\"#DejaVuSans-b2\" x=\"855.753906\"/>\n       <use xlink:href=\"#DejaVuSans-29\" x=\"895.841797\"/>\n      </g>\n     </g>\n    </g>\n   </g>\n   <g id=\"patch_5\">\n    <path d=\"M 154.660041 117.998471 \nL 154.660041 113.195647 \nL 542.860868 113.195647 \nL 542.860868 117.998471 \nL 154.660041 117.998471 \nz\n\" clip-path=\"url(#p0dfcb2c0e7)\" style=\"fill: #ffffff; stroke: #a7a7a7; stroke-linejoin: miter\"/>\n   </g>\n   <g id=\"line2d_4\">\n    <path d=\"M 154.660041 115.597059 \nL 154.660041 115.597059 \n\" clip-path=\"url(#p0dfcb2c0e7)\" style=\"fill: none; stroke: #a7a7a7; stroke-linecap: square\"/>\n   </g>\n   <g id=\"line2d_5\">\n    <path d=\"M 542.860868 115.597059 \nL 542.860868 115.597059 \n\" clip-path=\"url(#p0dfcb2c0e7)\" style=\"fill: none; stroke: #a7a7a7; stroke-linecap: square\"/>\n   </g>\n   <g id=\"line2d_6\">\n    <path d=\"M 344.839234 117.998471 \nL 344.839234 113.195647 \n\" clip-path=\"url(#p0dfcb2c0e7)\" style=\"fill: none; stroke: #ff7f0e; stroke-opacity: 0\"/>\n   </g>\n   <g id=\"text_13\">\n    <!-- 100 -->\n    <g style=\"fill: #a7a7a7\" transform=\"translate(146.710098 123.899148) scale(0.0833 -0.0833)\">\n     <defs>\n      <path id=\"DejaVuSans-31\" d=\"M 794 531 \nL 1825 531 \nL 1825 4091 \nL 703 3866 \nL 703 4441 \nL 1819 4666 \nL 2450 4666 \nL 2450 531 \nL 3481 531 \nL 3481 0 \nL 794 0 \nL 794 531 \nz\n\" transform=\"scale(0.015625)\"/>\n     </defs>\n     <use xlink:href=\"#DejaVuSans-31\"/>\n     <use xlink:href=\"#DejaVuSans-30\" x=\"63.623047\"/>\n     <use xlink:href=\"#DejaVuSans-30\" x=\"127.246094\"/>\n    </g>\n   </g>\n   <g id=\"text_14\">\n    <!-- 10000 -->\n    <g style=\"fill: #a7a7a7\" transform=\"translate(529.610962 123.899148) scale(0.0833 -0.0833)\">\n     <use xlink:href=\"#DejaVuSans-31\"/>\n     <use xlink:href=\"#DejaVuSans-30\" x=\"63.623047\"/>\n     <use xlink:href=\"#DejaVuSans-30\" x=\"127.246094\"/>\n     <use xlink:href=\"#DejaVuSans-30\" x=\"190.869141\"/>\n     <use xlink:href=\"#DejaVuSans-30\" x=\"254.492188\"/>\n    </g>\n   </g>\n  </g>\n </g>\n <defs>\n  <clipPath id=\"p9a6152d66d\">\n   <rect x=\"135.25\" y=\"10.8\" width=\"427.020909\" height=\"6.003529\"/>\n  </clipPath>\n  <clipPath id=\"p89be8b2a70\">\n   <rect x=\"135.25\" y=\"61.697647\" width=\"427.020909\" height=\"6.003529\"/>\n  </clipPath>\n  <clipPath id=\"p0dfcb2c0e7\">\n   <rect x=\"135.25\" y=\"112.595294\" width=\"427.020909\" height=\"6.003529\"/>\n  </clipPath>\n </defs>\n</svg>\n"
     },
     "execution_count": 3,
     "metadata": {},
     "output_type": "execute_result"
    }
   ],
   "execution_count": 3
  },
  {
   "cell_type": "markdown",
   "id": "a941c5a6",
   "metadata": {},
   "source": [
    "A SampledSpace object is created, which generates a list of samples in the defined Space. The samples are then converted to a Pandas DataFrame to be viewed."
   ]
  },
  {
   "cell_type": "code",
   "id": "813bc485",
   "metadata": {
    "ExecuteTime": {
     "end_time": "2024-09-12T16:11:25.017310Z",
     "start_time": "2024-09-12T16:11:25.002624Z"
    }
   },
   "source": [
    "ss = SampledSpace(\n",
    "    space=space,\n",
    "    X=[\n",
    "        [10000, 3, 3],\n",
    "        [400, 3, 3],\n",
    "        [100, 3, 3],\n",
    "        [400, 0.6, 3],\n",
    "        [400, 3, 3],\n",
    "        [400, 6, 3],\n",
    "        [400, 0.6, 0.6],\n",
    "        [400, 3, 3],\n",
    "        [400, 6, 6],\n",
    "    ],\n",
    ")\n",
    "ss.to_df()"
   ],
   "outputs": [
    {
     "data": {
      "text/plain": [
       "   FOOTPRINT_AREA  PERIM_DEPTH  FLOOR_TO_FLOOR_HEIGHT\n",
       "0           10000          3.0                    3.0\n",
       "1             400          3.0                    3.0\n",
       "2             100          3.0                    3.0\n",
       "3             400          0.6                    3.0\n",
       "4             400          3.0                    3.0\n",
       "5             400          6.0                    3.0\n",
       "6             400          0.6                    0.6\n",
       "7             400          3.0                    3.0\n",
       "8             400          6.0                    6.0"
      ],
      "text/html": [
       "<div>\n",
       "<style scoped>\n",
       "    .dataframe tbody tr th:only-of-type {\n",
       "        vertical-align: middle;\n",
       "    }\n",
       "\n",
       "    .dataframe tbody tr th {\n",
       "        vertical-align: top;\n",
       "    }\n",
       "\n",
       "    .dataframe thead th {\n",
       "        text-align: right;\n",
       "    }\n",
       "</style>\n",
       "<table border=\"1\" class=\"dataframe\">\n",
       "  <thead>\n",
       "    <tr style=\"text-align: right;\">\n",
       "      <th></th>\n",
       "      <th>FOOTPRINT_AREA</th>\n",
       "      <th>PERIM_DEPTH</th>\n",
       "      <th>FLOOR_TO_FLOOR_HEIGHT</th>\n",
       "    </tr>\n",
       "  </thead>\n",
       "  <tbody>\n",
       "    <tr>\n",
       "      <th>0</th>\n",
       "      <td>10000</td>\n",
       "      <td>3.0</td>\n",
       "      <td>3.0</td>\n",
       "    </tr>\n",
       "    <tr>\n",
       "      <th>1</th>\n",
       "      <td>400</td>\n",
       "      <td>3.0</td>\n",
       "      <td>3.0</td>\n",
       "    </tr>\n",
       "    <tr>\n",
       "      <th>2</th>\n",
       "      <td>100</td>\n",
       "      <td>3.0</td>\n",
       "      <td>3.0</td>\n",
       "    </tr>\n",
       "    <tr>\n",
       "      <th>3</th>\n",
       "      <td>400</td>\n",
       "      <td>0.6</td>\n",
       "      <td>3.0</td>\n",
       "    </tr>\n",
       "    <tr>\n",
       "      <th>4</th>\n",
       "      <td>400</td>\n",
       "      <td>3.0</td>\n",
       "      <td>3.0</td>\n",
       "    </tr>\n",
       "    <tr>\n",
       "      <th>5</th>\n",
       "      <td>400</td>\n",
       "      <td>6.0</td>\n",
       "      <td>3.0</td>\n",
       "    </tr>\n",
       "    <tr>\n",
       "      <th>6</th>\n",
       "      <td>400</td>\n",
       "      <td>0.6</td>\n",
       "      <td>0.6</td>\n",
       "    </tr>\n",
       "    <tr>\n",
       "      <th>7</th>\n",
       "      <td>400</td>\n",
       "      <td>3.0</td>\n",
       "      <td>3.0</td>\n",
       "    </tr>\n",
       "    <tr>\n",
       "      <th>8</th>\n",
       "      <td>400</td>\n",
       "      <td>6.0</td>\n",
       "      <td>6.0</td>\n",
       "    </tr>\n",
       "  </tbody>\n",
       "</table>\n",
       "</div>"
      ]
     },
     "execution_count": 4,
     "metadata": {},
     "output_type": "execute_result"
    }
   ],
   "execution_count": 4
  },
  {
   "cell_type": "markdown",
   "id": "bd360a9d",
   "metadata": {},
   "source": [
    "The next cell loads an existing BuildingAnalysis object from a JSON file. If you want to create a new BuildingAnalysis object, you can uncomment the necessary code in this cell and run it."
   ]
  },
  {
   "cell_type": "code",
   "id": "385595f2",
   "metadata": {
    "ExecuteTime": {
     "end_time": "2024-09-12T16:11:26.796305Z",
     "start_time": "2024-09-12T16:11:26.778134Z"
    }
   },
   "source": [
    "analysis = BuildingAnalysis.model_validate_json(open(\"./analysis.json\").read())\n",
    "\n",
    "# analysis = BuildingAnalysis(\n",
    "#     company=\"Carbon Signal\",\n",
    "#     project=\"Experiment\",\n",
    "#     local_epw=\"./USA_MA_Boston-Logan.Intl.AP.725090_TMY3.epw\",\n",
    "#     local_ddyname=\"./USA_MA_Boston-Logan.Intl.AP.725090_TMY3.ddy\",\n",
    "#     local_template=\"./BostonTemplateLibrary.json\",\n",
    "#     hvac_template_name=SupportedHVACTemplate.SimpleIdealLoadsSystem,\n",
    "#     design_space=space,\n",
    "#     sampled_space=ss,\n",
    "#     baseline={\"FOOTPRINT_AREA\": 400, \"PERIM_DEPTH\": 3.0, \"FLOOR_TO_FLOOR_HEIGHT\": 3.0}\n",
    "# )"
   ],
   "outputs": [],
   "execution_count": 5
  },
  {
   "cell_type": "markdown",
   "id": "3d25d12c",
   "metadata": {},
   "source": [
    "The following cell prepares a job to run on AWS Batch by uploading necessary files to S3. The `prepare_job` method takes arguments such as the job definition and whether or not to upload simulation files to S3 (if you wish to retreive them later, otherwise they are deleted)."
   ]
  },
  {
   "cell_type": "code",
   "id": "07309e1a",
   "metadata": {
    "ExecuteTime": {
     "end_time": "2024-09-12T16:11:32.116080Z",
     "start_time": "2024-09-12T16:11:31.726209Z"
    }
   },
   "source": [
    "analysis.prepare_job(upload_to_s3=True, job_definition=\"energyplus-22-1-0\")"
   ],
   "outputs": [
    {
     "data": {
      "text/plain": [
       "[GenerateAndRunJob(parameters=Parameters(log_level=<LogLevel.INFO: 'INFO'>, run_number=None, parameters=Url('s3://surrogate-api/parametric/8177bcc0-c032-43a5-a1a5-df85d6a4f9b1/parameters.json'), prototype_model=None, form_factor=None, template_library=Url('s3://surrogate-api/parametric/8177bcc0-c032-43a5-a1a5-df85d6a4f9b1/BostonTemplateLibrary.json'), ddy_file=None, idf_output_dir=Url('s3://surrogate-api/parametric/8177bcc0-c032-43a5-a1a5-df85d6a4f9b1/idfs/'), output_meters=None, output_variables=None, include=None, table_name='single-building-analysis', start_index='0', reporting_frequency='Monthly', upload_to_s3=True), jobName='parametric_8177bcc0-c032-43a5-a1a5-df85d6a4f9b1', jobQueue='dev', arrayProperties=ArrayProperty(size=9), tags={'Project': 'Experiement', 'Company': 'Carbon Signal', 'SubmittedBy': 'sam@cabonsignal_com'}, propagateTags=True, containerOverrides=ContainerOverrides(command=['--log-level', 'Ref::log_level', 'generate-idf-and-run', '--parameters', 'Ref::parameters', '--idf-output-dir', 'Ref::input_file_or_dir', '--prototype-model', 'Ref::prototype_model', '--table-name', 'Ref::table_name', '--start-index', 'Ref::start_index', '--reporting-frequency', 'Ref::reporting_frequency', '--template-library', 'Ref::template_library'], resourceRequirements=[ResourceRequirement(type='MEMORY', value='2048'), ResourceRequirement(type='VCPU', value='1')]), jobDefinition=<JobDefinitions.energyplus_22_1_0: 'energyplus-22-1-0'>)]"
      ]
     },
     "execution_count": 6,
     "metadata": {},
     "output_type": "execute_result"
    }
   ],
   "execution_count": 6
  },
  {
   "cell_type": "markdown",
   "id": "94c16a42",
   "metadata": {},
   "source": [
    "In the next cell, the job is submitted to AWS Batch with the submit_job method."
   ]
  },
  {
   "cell_type": "code",
   "execution_count": 9,
   "id": "a717ff1d",
   "metadata": {
    "ExecuteTime": {
     "end_time": "2024-09-12T01:46:55.692117Z",
     "start_time": "2024-09-12T01:46:55.296735Z"
    }
   },
   "outputs": [
    {
     "data": {
      "text/plain": [
       "[SubmitJobResponse(jobArn='arn:aws:batch:us-east-2:664685589714:job/d8699719-a3b4-4358-9678-6de87a417ce1', jobName='parametric_8177bcc0-c032-43a5-a1a5-df85d6a4f9b1', jobId=UUID('d8699719-a3b4-4358-9678-6de87a417ce1'))]"
      ]
     },
     "execution_count": 9,
     "metadata": {},
     "output_type": "execute_result"
    }
   ],
   "source": [
    "analysis.submit_job()"
   ]
  },
  {
   "cell_type": "markdown",
   "id": "030e282f",
   "metadata": {},
   "source": [
    "After submitting the job, the save method is used to save the BuildingAnalysis object to a JSON file."
   ]
  },
  {
   "cell_type": "code",
   "execution_count": 10,
   "id": "bce51c64",
   "metadata": {
    "ExecuteTime": {
     "end_time": "2024-09-12T01:46:58.676355Z",
     "start_time": "2024-09-12T01:46:58.671880Z"
    }
   },
   "outputs": [],
   "source": [
    "analysis.save(\"analysis.json\")"
   ]
  },
  {
   "cell_type": "markdown",
   "id": "6a5339a6",
   "metadata": {},
   "source": [
    "The next cell uses the `track_status` method to check the status of the running job."
   ]
  },
  {
   "cell_type": "code",
   "execution_count": 12,
   "id": "90809a5f",
   "metadata": {
    "ExecuteTime": {
     "end_time": "2024-09-12T01:50:26.057177Z",
     "start_time": "2024-09-12T01:48:44.216136Z"
    },
    "scrolled": true
   },
   "outputs": [
    {
     "data": {
      "application/vnd.jupyter.widget-view+json": {
       "model_id": "37b57facae9d4a43a9a9c7da419d367d",
       "version_major": 2,
       "version_minor": 0
      },
      "text/plain": [
       "0it [00:00, ?it/s]"
      ]
     },
     "metadata": {},
     "output_type": "display_data"
    }
   ],
   "source": [
    "analysis.track_status()"
   ]
  },
  {
   "cell_type": "markdown",
   "id": "0130e93e",
   "metadata": {},
   "source": [
    "Finally, the `get_results` method is used to retrieve the results of the job."
   ]
  },
  {
   "cell_type": "code",
   "execution_count": 13,
   "id": "1246ba2d",
   "metadata": {
    "ExecuteTime": {
     "end_time": "2024-09-12T01:50:35.158185Z",
     "start_time": "2024-09-12T01:50:34.781182Z"
    }
   },
   "outputs": [
    {
     "data": {
      "text/html": [
       "<div>\n",
       "<style scoped>\n",
       "    .dataframe tbody tr th:only-of-type {\n",
       "        vertical-align: middle;\n",
       "    }\n",
       "\n",
       "    .dataframe tbody tr th {\n",
       "        vertical-align: top;\n",
       "    }\n",
       "\n",
       "    .dataframe thead th {\n",
       "        text-align: right;\n",
       "    }\n",
       "</style>\n",
       "<table border=\"1\" class=\"dataframe\">\n",
       "  <thead>\n",
       "    <tr style=\"text-align: right;\">\n",
       "      <th></th>\n",
       "      <th>FOOTPRINT_AREA</th>\n",
       "      <th>PERIM_DEPTH</th>\n",
       "      <th>FLOOR_TO_FLOOR_HEIGHT</th>\n",
       "      <th>EUI_kBtu_per_sqft</th>\n",
       "      <th>TEDI_kBtu_per_sqft</th>\n",
       "      <th>CEDI_kBtu_per_sqft</th>\n",
       "      <th>EDI_kBtu_per_sqft</th>\n",
       "      <th>sensible_peak_cooling_W_per_sqft</th>\n",
       "      <th>sensible_peak_heating_W_per_sqft</th>\n",
       "      <th>time_of_peak_cooling</th>\n",
       "      <th>time_of_peak_heating</th>\n",
       "      <th>peak_heating_W_per_sqft</th>\n",
       "      <th>peak_cooling_W_per_sqft</th>\n",
       "    </tr>\n",
       "  </thead>\n",
       "  <tbody>\n",
       "    <tr>\n",
       "      <th>0</th>\n",
       "      <td>10000.0</td>\n",
       "      <td>3.0</td>\n",
       "      <td>3.0</td>\n",
       "      <td>44.121598</td>\n",
       "      <td>6.806808</td>\n",
       "      <td>16.430935</td>\n",
       "      <td>23.237743</td>\n",
       "      <td>3.067708</td>\n",
       "      <td>0.453987</td>\n",
       "      <td>11-JUL-15:20</td>\n",
       "      <td>23-JAN-06:00</td>\n",
       "      <td>2.403398</td>\n",
       "      <td>4.594588</td>\n",
       "    </tr>\n",
       "    <tr>\n",
       "      <th>1</th>\n",
       "      <td>400.0</td>\n",
       "      <td>3.0</td>\n",
       "      <td>3.0</td>\n",
       "      <td>70.428733</td>\n",
       "      <td>17.724486</td>\n",
       "      <td>31.819716</td>\n",
       "      <td>49.544202</td>\n",
       "      <td>6.561165</td>\n",
       "      <td>3.095764</td>\n",
       "      <td>11-JUL-15:20</td>\n",
       "      <td>23-JAN-06:00</td>\n",
       "      <td>5.033177</td>\n",
       "      <td>7.725053</td>\n",
       "    </tr>\n",
       "    <tr>\n",
       "      <th>2</th>\n",
       "      <td>100.0</td>\n",
       "      <td>3.0</td>\n",
       "      <td>3.0</td>\n",
       "      <td>98.820113</td>\n",
       "      <td>27.575870</td>\n",
       "      <td>50.359712</td>\n",
       "      <td>77.935582</td>\n",
       "      <td>10.824354</td>\n",
       "      <td>5.882142</td>\n",
       "      <td>11-JUL-15:20</td>\n",
       "      <td>23-JAN-06:00</td>\n",
       "      <td>7.819556</td>\n",
       "      <td>11.804886</td>\n",
       "    </tr>\n",
       "    <tr>\n",
       "      <th>3</th>\n",
       "      <td>400.0</td>\n",
       "      <td>0.6</td>\n",
       "      <td>3.0</td>\n",
       "      <td>65.900844</td>\n",
       "      <td>12.845813</td>\n",
       "      <td>32.170500</td>\n",
       "      <td>45.016313</td>\n",
       "      <td>6.213178</td>\n",
       "      <td>2.263662</td>\n",
       "      <td>11-JUL-16:00</td>\n",
       "      <td>23-JAN-06:00</td>\n",
       "      <td>4.201087</td>\n",
       "      <td>7.416243</td>\n",
       "    </tr>\n",
       "    <tr>\n",
       "      <th>4</th>\n",
       "      <td>400.0</td>\n",
       "      <td>3.0</td>\n",
       "      <td>3.0</td>\n",
       "      <td>70.428733</td>\n",
       "      <td>17.724486</td>\n",
       "      <td>31.819716</td>\n",
       "      <td>49.544202</td>\n",
       "      <td>6.561165</td>\n",
       "      <td>3.095764</td>\n",
       "      <td>11-JUL-15:20</td>\n",
       "      <td>23-JAN-06:00</td>\n",
       "      <td>5.033177</td>\n",
       "      <td>7.725053</td>\n",
       "    </tr>\n",
       "    <tr>\n",
       "      <th>5</th>\n",
       "      <td>400.0</td>\n",
       "      <td>6.0</td>\n",
       "      <td>3.0</td>\n",
       "      <td>71.158324</td>\n",
       "      <td>18.140407</td>\n",
       "      <td>32.133386</td>\n",
       "      <td>50.273793</td>\n",
       "      <td>6.733045</td>\n",
       "      <td>3.252131</td>\n",
       "      <td>11-JUL-15:50</td>\n",
       "      <td>23-JAN-06:00</td>\n",
       "      <td>5.189545</td>\n",
       "      <td>7.916334</td>\n",
       "    </tr>\n",
       "    <tr>\n",
       "      <th>6</th>\n",
       "      <td>400.0</td>\n",
       "      <td>0.6</td>\n",
       "      <td>0.6</td>\n",
       "      <td>49.271087</td>\n",
       "      <td>10.460734</td>\n",
       "      <td>17.925822</td>\n",
       "      <td>28.386556</td>\n",
       "      <td>3.444500</td>\n",
       "      <td>0.976732</td>\n",
       "      <td>11-JUL-16:00</td>\n",
       "      <td>23-JAN-06:00</td>\n",
       "      <td>2.914145</td>\n",
       "      <td>4.864459</td>\n",
       "    </tr>\n",
       "    <tr>\n",
       "      <th>7</th>\n",
       "      <td>400.0</td>\n",
       "      <td>3.0</td>\n",
       "      <td>3.0</td>\n",
       "      <td>70.428733</td>\n",
       "      <td>17.724486</td>\n",
       "      <td>31.819716</td>\n",
       "      <td>49.544202</td>\n",
       "      <td>6.561165</td>\n",
       "      <td>3.095764</td>\n",
       "      <td>11-JUL-15:20</td>\n",
       "      <td>23-JAN-06:00</td>\n",
       "      <td>5.033177</td>\n",
       "      <td>7.725053</td>\n",
       "    </tr>\n",
       "    <tr>\n",
       "      <th>8</th>\n",
       "      <td>400.0</td>\n",
       "      <td>6.0</td>\n",
       "      <td>6.0</td>\n",
       "      <td>99.416408</td>\n",
       "      <td>29.431862</td>\n",
       "      <td>49.100015</td>\n",
       "      <td>78.531877</td>\n",
       "      <td>10.766615</td>\n",
       "      <td>6.196215</td>\n",
       "      <td>11-JUL-15:20</td>\n",
       "      <td>23-JAN-06:00</td>\n",
       "      <td>8.133641</td>\n",
       "      <td>11.841062</td>\n",
       "    </tr>\n",
       "  </tbody>\n",
       "</table>\n",
       "</div>"
      ],
      "text/plain": [
       "   FOOTPRINT_AREA  PERIM_DEPTH  FLOOR_TO_FLOOR_HEIGHT  EUI_kBtu_per_sqft  \\\n",
       "0         10000.0          3.0                    3.0          44.121598   \n",
       "1           400.0          3.0                    3.0          70.428733   \n",
       "2           100.0          3.0                    3.0          98.820113   \n",
       "3           400.0          0.6                    3.0          65.900844   \n",
       "4           400.0          3.0                    3.0          70.428733   \n",
       "5           400.0          6.0                    3.0          71.158324   \n",
       "6           400.0          0.6                    0.6          49.271087   \n",
       "7           400.0          3.0                    3.0          70.428733   \n",
       "8           400.0          6.0                    6.0          99.416408   \n",
       "\n",
       "   TEDI_kBtu_per_sqft  CEDI_kBtu_per_sqft  EDI_kBtu_per_sqft  \\\n",
       "0            6.806808           16.430935          23.237743   \n",
       "1           17.724486           31.819716          49.544202   \n",
       "2           27.575870           50.359712          77.935582   \n",
       "3           12.845813           32.170500          45.016313   \n",
       "4           17.724486           31.819716          49.544202   \n",
       "5           18.140407           32.133386          50.273793   \n",
       "6           10.460734           17.925822          28.386556   \n",
       "7           17.724486           31.819716          49.544202   \n",
       "8           29.431862           49.100015          78.531877   \n",
       "\n",
       "   sensible_peak_cooling_W_per_sqft  sensible_peak_heating_W_per_sqft  \\\n",
       "0                          3.067708                          0.453987   \n",
       "1                          6.561165                          3.095764   \n",
       "2                         10.824354                          5.882142   \n",
       "3                          6.213178                          2.263662   \n",
       "4                          6.561165                          3.095764   \n",
       "5                          6.733045                          3.252131   \n",
       "6                          3.444500                          0.976732   \n",
       "7                          6.561165                          3.095764   \n",
       "8                         10.766615                          6.196215   \n",
       "\n",
       "  time_of_peak_cooling time_of_peak_heating  peak_heating_W_per_sqft  \\\n",
       "0         11-JUL-15:20         23-JAN-06:00                 2.403398   \n",
       "1         11-JUL-15:20         23-JAN-06:00                 5.033177   \n",
       "2         11-JUL-15:20         23-JAN-06:00                 7.819556   \n",
       "3         11-JUL-16:00         23-JAN-06:00                 4.201087   \n",
       "4         11-JUL-15:20         23-JAN-06:00                 5.033177   \n",
       "5         11-JUL-15:50         23-JAN-06:00                 5.189545   \n",
       "6         11-JUL-16:00         23-JAN-06:00                 2.914145   \n",
       "7         11-JUL-15:20         23-JAN-06:00                 5.033177   \n",
       "8         11-JUL-15:20         23-JAN-06:00                 8.133641   \n",
       "\n",
       "   peak_cooling_W_per_sqft  \n",
       "0                 4.594588  \n",
       "1                 7.725053  \n",
       "2                11.804886  \n",
       "3                 7.416243  \n",
       "4                 7.725053  \n",
       "5                 7.916334  \n",
       "6                 4.864459  \n",
       "7                 7.725053  \n",
       "8                11.841062  "
      ]
     },
     "execution_count": 13,
     "metadata": {},
     "output_type": "execute_result"
    }
   ],
   "source": [
    "results = analysis.get_results()\n",
    "results.to_df()"
   ]
  },
  {
   "cell_type": "code",
   "execution_count": null,
   "id": "c39c4178",
   "metadata": {},
   "outputs": [],
   "source": []
  }
 ],
 "metadata": {
  "kernelspec": {
   "display_name": "Python 3 (ipykernel)",
   "language": "python",
   "name": "python3"
  },
  "language_info": {
   "codemirror_mode": {
    "name": "ipython",
    "version": 3
   },
   "file_extension": ".py",
   "mimetype": "text/x-python",
   "name": "python",
   "nbconvert_exporter": "python",
   "pygments_lexer": "ipython3",
   "version": "3.9.7"
  },
  "toc": {
   "base_numbering": 1,
   "nav_menu": {},
   "number_sections": true,
   "sideBar": true,
   "skip_h1_title": true,
   "title_cell": "Table of Contents",
   "title_sidebar": "Contents",
   "toc_cell": true,
   "toc_position": {},
   "toc_section_display": true,
   "toc_window_display": false
  }
 },
 "nbformat": 4,
 "nbformat_minor": 5
}
