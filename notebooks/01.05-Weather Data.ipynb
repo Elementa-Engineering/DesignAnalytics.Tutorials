{
 "cells": [
  {
   "cell_type": "markdown",
   "id": "ba0bd7d3ff50fd22",
   "metadata": {},
   "source": [
    "# Actual Meterological Data\n",
    "\n",
    "This chapter discusses how to obtain actual meteorological data for a location. The data is used to calculate the solar radiation on a tilted surface, which is required for the calculation of the solar energy potential of a location.\n",
    "\n",
    "First, we need to install the `diyepw` package, which is a Python package that provides access to the `AMY` database. The `AMY` database contains actual meteorological data for many locations around the world. The `diyepw` package allows us to download the data for a specific location and time period.\n"
   ]
  },
  {
   "cell_type": "markdown",
   "id": "6f798a04",
   "metadata": {},
   "source": [
    "<!--NAVIGATION-->\n",
    "< [Results From Sensitivity Analysis](01.04-Results-From-Sensitivity-Analysis.ipynb) | [Contents](Index.ipynb) | [Introduction to EnergyPlus Models Scripting](02.00-Introduction-to-EnergyPlus-Models-Scripting.ipynb) >"
   ]
  },
  {
   "cell_type": "code",
   "execution_count": null,
   "id": "a9df079a05b6ef87",
   "metadata": {},
   "outputs": [],
   "source": [
    "!pip install -U diyepw"
   ]
  },
  {
   "cell_type": "code",
   "execution_count": null,
   "id": "3e179f9471e0a6f5",
   "metadata": {},
   "outputs": [],
   "source": [
    "import diyepw\n",
    "\n",
    "diyepw.create_amy_epw_files_for_years_and_wmos(\n",
    "    [2022],\n",
    "    [724940, 725300],\n",
    "    max_records_to_interpolate=10,\n",
    "    max_records_to_impute=25,\n",
    "    max_missing_amy_rows=5,\n",
    "    allow_downloads=True\n",
    ")"
   ]
  },
  {
   "cell_type": "markdown",
   "id": "31529d63",
   "metadata": {},
   "source": [
    "<!--NAVIGATION-->\n",
    "< [Results From Sensitivity Analysis](01.04-Results-From-Sensitivity-Analysis.ipynb) | [Contents](Index.ipynb) | [Introduction to EnergyPlus Models Scripting](02.00-Introduction-to-EnergyPlus-Models-Scripting.ipynb) >"
   ]
  }
 ],
 "metadata": {
  "kernelspec": {
   "display_name": "Python 3",
   "language": "python",
   "name": "python3"
  },
  "language_info": {
   "codemirror_mode": {
    "name": "ipython",
    "version": 2
   },
   "file_extension": ".py",
   "mimetype": "text/x-python",
   "name": "python",
   "nbconvert_exporter": "python",
   "pygments_lexer": "ipython2",
   "version": "2.7.6"
  }
 },
 "nbformat": 4,
 "nbformat_minor": 5
}
