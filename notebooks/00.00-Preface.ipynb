{
 "cells": [
  {
   "cell_type": "markdown",
   "id": "cb2b3a5e",
   "metadata": {},
   "source": [
    "# Preface\n",
    "\n",
    "## Design Analytics at Elementa\n",
    "\n",
    "## Who is This Book For?\n",
    "\n",
    "## Why Python?\n",
    "\n",
    "## Using Code Examples\n",
    "\n",
    "## Installation Considerations\n",
    "\n"
   ]
  }
 ],
 "metadata": {
  "kernelspec": {
   "display_name": "Python 3 (ipykernel)",
   "language": "python",
   "name": "python3"
  },
  "language_info": {
   "codemirror_mode": {
    "name": "ipython",
    "version": 3
   },
   "file_extension": ".py",
   "mimetype": "text/x-python",
   "name": "python",
   "nbconvert_exporter": "python",
   "pygments_lexer": "ipython3",
   "version": "3.9.7"
  },
  "toc": {
   "base_numbering": 1,
   "nav_menu": {},
   "number_sections": false,
   "sideBar": true,
   "skip_h1_title": true,
   "title_cell": "Table of Contents",
   "title_sidebar": "Contents",
   "toc_cell": false,
   "toc_position": {},
   "toc_section_display": true,
   "toc_window_display": true
  }
 },
 "nbformat": 4,
 "nbformat_minor": 5
}
