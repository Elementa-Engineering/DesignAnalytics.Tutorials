{
 "cells": [
  {
   "cell_type": "markdown",
   "id": "79333180",
   "metadata": {},
   "source": [
    "<!--NAVIGATION-->\n",
    "| [Contents](Index.ipynb) | [Introduction to Building Data Analytics](01.00-Introduction-to-Building-Data-Analytics.ipynb) >"
   ]
  },
  {
   "cell_type": "markdown",
   "id": "cb2b3a5e",
   "metadata": {
    "pycharm": {
     "name": "#%% md\n"
    }
   },
   "source": [
    "# Preface\n"
   ]
  },
  {
   "cell_type": "markdown",
   "id": "2371d415",
   "metadata": {
    "pycharm": {
     "name": "#%% md\n"
    }
   },
   "source": [
    "## Design Analytics at Elementa\n",
    "\n",
    "## Who is This Book For?\n",
    "\n",
    "## Why Python?\n",
    "\n",
    "## Using Code Examples\n",
    "The following workbooks make use of the DA Lab API. Authorization is required to \n",
    "access the API. The recommented way of setting up the API is to add a file called \n",
    ".env to the root of the project (where the notebook is). The file should contain the \n",
    "following:\n",
    "\n",
    "```bash\n",
    "DA_LAB_API_KEY=your_api_key  <<< replace with your api key\n",
    "```\n",
    "\n",
    "To create the file from jupyter hub, use the following command in a notebook cell:\n",
    "\n",
    "```bash\n",
    "!echo \"DA_LAB_API_KEY=your_api_key\" > .env\n",
    "```\n",
    "That command will create the file and add the api key to it.\n",
    "\n",
    "Make sure to delete the cell after running it. We don't want to \n",
    "expose the api key.\n",
    "\n",
    "Then, in the notebooks, you can use the following code to load the api key. In all \n",
    "the tutorials, that code is already included."
   ]
  },
  {
   "cell_type": "code",
   "execution_count": 4,
   "id": "e8435ab2a11045bf",
   "metadata": {
    "ExecuteTime": {
     "end_time": "2024-06-11T16:15:20.608716Z",
     "start_time": "2024-06-11T16:15:20.604873Z"
    },
    "collapsed": false,
    "execution": {
     "iopub.execute_input": "2025-07-15T18:57:33.908497Z",
     "iopub.status.busy": "2025-07-15T18:57:33.907889Z",
     "iopub.status.idle": "2025-07-15T18:57:33.923280Z",
     "shell.execute_reply": "2025-07-15T18:57:33.922557Z"
    }
   },
   "outputs": [
    {
     "name": "stdout",
     "output_type": "stream",
     "text": [
      "The dotenv extension is already loaded. To reload it, use:\n",
      "  %reload_ext dotenv\n"
     ]
    }
   ],
   "source": [
    "%load_ext dotenv\n",
    "%dotenv"
   ]
  },
  {
   "cell_type": "code",
   "execution_count": 5,
   "id": "59007a5f5d58b3dc",
   "metadata": {
    "ExecuteTime": {
     "end_time": "2024-06-11T16:15:20.786321Z",
     "start_time": "2024-06-11T16:15:20.610769Z"
    },
    "execution": {
     "iopub.execute_input": "2025-07-15T18:57:39.583221Z",
     "iopub.status.busy": "2025-07-15T18:57:39.582731Z",
     "iopub.status.idle": "2025-07-15T18:57:39.986172Z",
     "shell.execute_reply": "2025-07-15T18:57:39.985239Z"
    }
   },
   "outputs": [
    {
     "data": {
      "text/plain": [
       "User(username='s.letellierduchesne', email='sam@cabonsignal.com', full_name='Samuel Letellier-Duchesne', disabled=None, valid_until=datetime.datetime(2026, 7, 15, 16, 39, 23))"
      ]
     },
     "execution_count": 5,
     "metadata": {},
     "output_type": "execute_result"
    }
   ],
   "source": [
    "from surrogate_schema import APIClient\n",
    "\n",
    "# typical block to authenticate to the API\n",
    "client = APIClient()\n",
    "client.whoami()  # shows that you are properly authenticated"
   ]
  },
  {
   "cell_type": "markdown",
   "id": "139dff4f",
   "metadata": {},
   "source": [
    "<!--NAVIGATION-->\n",
    "| [Contents](Index.ipynb) | [Introduction to Building Data Analytics](01.00-Introduction-to-Building-Data-Analytics.ipynb) >"
   ]
  }
 ],
 "metadata": {
  "kernelspec": {
   "display_name": ".venv",
   "language": "python",
   "name": "python3"
  },
  "language_info": {
   "codemirror_mode": {
    "name": "ipython",
    "version": 3
   },
   "file_extension": ".py",
   "mimetype": "text/x-python",
   "name": "python",
   "nbconvert_exporter": "python",
   "pygments_lexer": "ipython3",
   "version": "3.9.6"
  },
  "toc": {
   "base_numbering": 1,
   "nav_menu": {},
   "number_sections": false,
   "sideBar": true,
   "skip_h1_title": true,
   "title_cell": "Table of Contents",
   "title_sidebar": "Contents",
   "toc_cell": false,
   "toc_position": {},
   "toc_section_display": true,
   "toc_window_display": true
  }
 },
 "nbformat": 4,
 "nbformat_minor": 5
}
