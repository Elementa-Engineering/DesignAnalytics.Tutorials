{
 "cells": [
  {
   "cell_type": "markdown",
   "id": "cb2b3a5e",
   "metadata": {
    "pycharm": {
     "name": "#%% md\n"
    }
   },
   "source": [
    "# Preface\n"
   ]
  },
  {
   "cell_type": "markdown",
   "id": "0ca098b0",
   "metadata": {},
   "source": [
    "<!--NAVIGATION-->\n",
    "| [Contents](Index.ipynb) | [Introduction to Building Data Analytics](01.00-Introduction-to-Building-Data-Analytics.ipynb) >"
   ]
  },
  {
   "cell_type": "markdown",
   "id": "2371d415",
   "metadata": {
    "pycharm": {
     "name": "#%% md\n"
    }
   },
   "source": [
    "## Design Analytics at Elementa\n",
    "\n",
    "## Who is This Book For?\n",
    "\n",
    "## Why Python?\n",
    "\n",
    "## Using Code Examples\n",
    "\n",
    "## Installation Considerations"
   ]
  },
  {
   "cell_type": "code",
   "execution_count": null,
   "id": "37f62b52",
   "metadata": {
    "pycharm": {
     "name": "#%%\n"
    }
   },
   "outputs": [],
   "source": []
  },
  {
   "cell_type": "markdown",
   "id": "7eaa1425",
   "metadata": {},
   "source": [
    "<!--NAVIGATION-->\n",
    "| [Contents](Index.ipynb) | [Introduction to Building Data Analytics](01.00-Introduction-to-Building-Data-Analytics.ipynb) >"
   ]
  }
 ],
 "metadata": {
  "kernelspec": {
   "display_name": "Python 3 (ipykernel)",
   "language": "python",
   "name": "python3"
  },
  "language_info": {
   "codemirror_mode": {
    "name": "ipython",
    "version": 3
   },
   "file_extension": ".py",
   "mimetype": "text/x-python",
   "name": "python",
   "nbconvert_exporter": "python",
   "pygments_lexer": "ipython3",
   "version": "3.9.7"
  },
  "toc": {
   "base_numbering": 1,
   "nav_menu": {},
   "number_sections": false,
   "sideBar": true,
   "skip_h1_title": true,
   "title_cell": "Table of Contents",
   "title_sidebar": "Contents",
   "toc_cell": false,
   "toc_position": {},
   "toc_section_display": true,
   "toc_window_display": true
  }
 },
 "nbformat": 4,
 "nbformat_minor": 5
}
