{
 "cells": [
  {
   "cell_type": "markdown",
   "id": "8bc22257",
   "metadata": {},
   "source": [
    "# Portfolio Analysis\n",
    "\n",
    "Portfolio Analysis is a design analytics workflow that evaluates the effectivness of various energy conservation meaures to reduce the carbon emissions of an existing building.\n",
    "\n",
    "Unlike the senstivity analysis and the parametric analysis discussed in the previous chapters, the portfolio analysis applies to existing buildings for which the following inputs are known:\n",
    "\n",
    "1. 12 months of electricity, natural gas, chilled water and/or steam/hot-water usage.\n",
    "2. The building type (Office, Residential).\n",
    "3. The size of the building (Gross Floor Area).\n",
    "4. The location of the building (to derive weather files and design conditions).\n",
    "\n",
    "\n",
    "## Typical Steps\n",
    "\n",
    "A portfolio analysis is typically executed the following way:\n",
    "\n",
    "1. A list of buildings is establised and their energy profiles are computed and normalized to kBtu/sqft.\n",
    "2. Based on building types and locations of buildings (ie portfolios such as retail stores could span multiple climate zones), a TrainingSet is generated. The training set is a results table of simulated energy model for a range of building property options. For more information on design spaces, see [01.01-Design-Space-Basics.ipynb](01.01-Design-Space-Basics.ipynb).\n",
    "2. For each building:\n",
    "    1. First, a calibration produces an esemble of building models; more than one building energy model, with some variation on senstive parameters, best explain the shape and magnitude of the building's utility data, given it's environmental conditions.\n",
    "    2. Second, Energy Conservation Measures (or Interventions) are evaluated by changing some parameters of the ensemble, simulating the modified ensemble, and comparing results against the original ensemble.\n",
    "3. At a portfolio level, insightful conclusions come from the aggregation of interventions potential.\n",
    "\n",
    "\n",
    "## A guided example\n",
    "\n",
    "A guided example is provided at [carbonsignal.com](https://www.carbonsignal.com)"
   ]
  },
  {
   "cell_type": "markdown",
   "id": "3d5c8b91",
   "metadata": {},
   "source": [
    "<!--NAVIGATION-->\n",
    "< [Emission Factors](03.00-Emission-Factors.ipynb) | [Contents](Index.ipynb) |"
   ]
  }
 ],
 "metadata": {
  "kernelspec": {
   "display_name": "Python 3 (ipykernel)",
   "language": "python",
   "name": "python3"
  },
  "language_info": {
   "codemirror_mode": {
    "name": "ipython",
    "version": 3
   },
   "file_extension": ".py",
   "mimetype": "text/x-python",
   "name": "python",
   "nbconvert_exporter": "python",
   "pygments_lexer": "ipython3",
   "version": "3.9.7"
  },
  "toc": {
   "base_numbering": 1,
   "nav_menu": {},
   "number_sections": true,
   "sideBar": true,
   "skip_h1_title": true,
   "title_cell": "Table of Contents",
   "title_sidebar": "Contents",
   "toc_cell": false,
   "toc_position": {},
   "toc_section_display": true,
   "toc_window_display": true
  }
 },
 "nbformat": 4,
 "nbformat_minor": 5
}
