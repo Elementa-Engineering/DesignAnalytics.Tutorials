{
 "cells": [
  {
   "cell_type": "markdown",
   "id": "04816be3",
   "metadata": {},
   "source": [
    "<!--NAVIGATION-->\n",
    "< [Geometry Functions](02.04-Geometry-Functions.ipynb) | [Contents](Index.ipynb) | [Retrieving Simulation Results](02.06-Retrieving-Simulation-Results.ipynb) >"
   ]
  },
  {
   "cell_type": "markdown",
   "id": "ee8d8030",
   "metadata": {
    "pycharm": {
     "name": "#%% md\n"
    }
   },
   "source": [
    "# Simulating a Model"
   ]
  },
  {
   "cell_type": "markdown",
   "id": "4a1e8b34",
   "metadata": {
    "pycharm": {
     "name": "#%% md\n"
    }
   },
   "source": [
    "### Model changes and repeated simulations\n",
    "\n",
    "Describe how once a model has been simulated it will not simulate a again unless simulation parameters have changed or if the model content has changed"
   ]
  },
  {
   "cell_type": "markdown",
   "id": "b3a480f6",
   "metadata": {},
   "source": [
    "<!--NAVIGATION-->\n",
    "< [Geometry Functions](02.04-Geometry-Functions.ipynb) | [Contents](Index.ipynb) | [Retrieving Simulation Results](02.06-Retrieving-Simulation-Results.ipynb) >"
   ]
  }
 ],
 "metadata": {
  "kernelspec": {
   "display_name": "Python 3 (ipykernel)",
   "language": "python",
   "name": "python3"
  },
  "language_info": {
   "codemirror_mode": {
    "name": "ipython",
    "version": 3
   },
   "file_extension": ".py",
   "mimetype": "text/x-python",
   "name": "python",
   "nbconvert_exporter": "python",
   "pygments_lexer": "ipython3",
   "version": "3.9.7"
  },
  "toc": {
   "base_numbering": 1,
   "nav_menu": {},
   "number_sections": true,
   "sideBar": true,
   "skip_h1_title": true,
   "title_cell": "Table of Contents",
   "title_sidebar": "Contents",
   "toc_cell": false,
   "toc_position": {
    "height": "calc(100% - 180px)",
    "left": "10px",
    "top": "150px",
    "width": "302px"
   },
   "toc_section_display": false,
   "toc_window_display": true
  }
 },
 "nbformat": 4,
 "nbformat_minor": 5
}
