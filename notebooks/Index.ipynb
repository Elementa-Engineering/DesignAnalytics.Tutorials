{
 "cells": [
  {
   "cell_type": "markdown",
   "metadata": {
    "pycharm": {
     "name": "#%% md\n"
    }
   },
   "source": [
    "# Design Analytics Handbook"
   ]
  },
  {
   "cell_type": "markdown",
   "metadata": {
    "pycharm": {
     "name": "#%% md\n"
    }
   },
   "source": [
    "### [Preface](00.00-Preface.ipynb)\n",
    "\n",
    "### [1. Introduction to Building Data Analytics](01.00-Introduction-to-Building-Data-Analytics.ipynb)\n",
    "- [Design Spaces](01.01-Design-Space-Basics.ipynb)\n",
    "- [Characterization](01.02-Characterization.ipynb)\n",
    "- [Results From Parametric Analysis](01.03-Results-From-Parametric-Analysis.ipynb)\n",
    "- [Results From Sensitivity Analysis](01.04-Results-From-Sensitivity-Analysis.ipynb)\n",
    "- [Making a Sensitivity Analysis](01.05-Sensitivity-Analysis.ipynb)\n",
    "- [Actual Meterological Data](01.06-Weather-Data.ipynb)\n",
    "\n",
    "### [2. Introduction to EnergyPlus Models Scripting](02.00-Introduction-to-EnergyPlus-Models-Scripting.ipynb)\n",
    "- [EnergyPlus Scripting Using Archetypal](02.01-EnergyPlus-Scripting-Using-Archetypal.ipynb)\n",
    "- [Getting and Setting Model Attibutes](02.02-Getting-And-Setting-Model-Attibutes.ipynb)\n",
    "- [Parsing an Existing Model](02.03-Parsing-an-Existing-Model.ipynb)\n",
    "- [Geometry Functions](02.04-Geometry-Functions.ipynb)\n",
    "- [Simulating a Model](02.05-Simulating-a-Model.ipynb)\n",
    "- [Retrieving Simulation Results](02.06-Retrieving-Simulation-Results.ipynb)\n",
    "- [Plotting Simulation Results](02.07-Plotting-Simulation-Results.ipynb)\n",
    "\n",
    "### [3. Emission Factors](03.00-Emission-Factors.ipynb)"
   ]
  }
 ],
 "metadata": {
  "kernelspec": {
   "display_name": "Python 3 (ipykernel)",
   "language": "python",
   "name": "python3"
  },
  "language_info": {
   "codemirror_mode": {
    "name": "ipython",
    "version": 3
   },
   "file_extension": ".py",
   "mimetype": "text/x-python",
   "name": "python",
   "nbconvert_exporter": "python",
   "pygments_lexer": "ipython3",
   "version": "3.9.6"
  },
  "toc": {
   "base_numbering": 1,
   "nav_menu": {},
   "number_sections": false,
   "sideBar": false,
   "skip_h1_title": true,
   "title_cell": "Table of Contents",
   "title_sidebar": "Contents",
   "toc_cell": false,
   "toc_position": {},
   "toc_section_display": true,
   "toc_window_display": false
  }
 },
 "nbformat": 4,
 "nbformat_minor": 1
}
