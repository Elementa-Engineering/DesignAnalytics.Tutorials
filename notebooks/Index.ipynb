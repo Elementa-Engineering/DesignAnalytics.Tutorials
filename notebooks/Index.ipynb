{
 "cells": [
  {
   "cell_type": "markdown",
   "source": [
    "# Design Analytics Handbook"
   ],
   "metadata": {
    "collapsed": false,
    "pycharm": {
     "name": "#%% md\n"
    }
   }
  },
  {
   "cell_type": "markdown",
   "source": [
    "### [Preface](00.00-Preface.ipynb)\n",
    "\n",
    "### [1. Introduction to Building Data Analytics](01.00-Introduction-to-Building-Data-Analytics.ipynb)\n",
    "- [Design Spaces](01.01-Design-Space-Basics.ipynb)\n",
    "- [Making a Sensitivity Analysis](01.02-Sensitivity-Analysis.ipynb)\n",
    "- [Results From Parametric Analysis](01.03-Results-From-Parametric-Analysis.ipynb)\n",
    "- [Results From Sensitivity Analysis](01.04-Results-From-Sensitivity-Analysis.ipynb)\n",
    "\n",
    "### [2. Introduction to EnergyPlus Models Scripting](02.00-Introduction-to-EnergyPlus-Models-Scripting.ipynb)\n",
    "- [EnergyPlus Scripting Using Archetypal](02.01-EnergyPlus-Scripting-Using-Archetypal.ipynb)"
   ],
   "metadata": {
    "collapsed": false,
    "pycharm": {
     "name": "#%% md\n"
    }
   }
  }
 ],
 "metadata": {
  "kernelspec": {
   "display_name": "Python 3 (ipykernel)",
   "language": "python",
   "name": "python3"
  },
  "language_info": {
   "codemirror_mode": {
    "name": "ipython",
    "version": 3
   },
   "file_extension": ".py",
   "mimetype": "text/x-python",
   "name": "python",
   "nbconvert_exporter": "python",
   "pygments_lexer": "ipython3",
   "version": "3.9.7"
  },
  "toc": {
   "base_numbering": 1,
   "nav_menu": {},
   "number_sections": true,
   "sideBar": true,
   "skip_h1_title": true,
   "title_cell": "Table of Contents",
   "title_sidebar": "Contents",
   "toc_cell": true,
   "toc_position": {},
   "toc_section_display": true,
   "toc_window_display": false
  }
 },
 "nbformat": 4,
 "nbformat_minor": 1
}