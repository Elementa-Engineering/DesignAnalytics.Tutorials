{
 "cells": [
  {
   "cell_type": "markdown",
   "metadata": {},
   "source": [
    "# Design Analytics Handbook\n",
    "\n",
    "*Samuel Letellier-Duchesne*"
   ]
  },
  {
   "cell_type": "markdown",
   "metadata": {
    "collapsed": true,
    "pycharm": {
     "name": "#%%\n"
    }
   },
   "source": [
    "### [1. Introduction to Building Data Analytics](01.00-Introduction-to-Building-Data-Analytics.ipynb)\n",
    "- [Design Spaces](01.01-Design-Space-Basics.ipynb)\n",
    "- [Making a Sensitivity Analysis](01.02-Sensitivity-Analysis.ipynb)\n",
    "- [Results From Parametric Analysis](01.03-Results-From-Parametric-Analysis.ipynb)\n",
    "- [Results From Sensitivity Analysis](01.03-Results-From-Sensitivity-Analysis.ipynb)\n",
    "\n",
    "### [3. Introduction to EnergyPlus Models Scripting](03.00-Introduction-to-EnergyPlus-Models-Scripting.ipynb)\n",
    "- [EnergyPlus Scripting Using Archetypal](03.01-EnergyPlus-Scripting-Using-Archetypal.ipynb)"
   ]
  }
 ],
 "metadata": {
  "kernelspec": {
   "display_name": "Python 3 (ipykernel)",
   "language": "python",
   "name": "python3"
  },
  "language_info": {
   "codemirror_mode": {
    "name": "ipython",
    "version": 3
   },
   "file_extension": ".py",
   "mimetype": "text/x-python",
   "name": "python",
   "nbconvert_exporter": "python",
   "pygments_lexer": "ipython3",
   "version": "3.9.7"
  },
  "toc": {
   "base_numbering": 1,
   "nav_menu": {},
   "number_sections": false,
   "sideBar": false,
   "skip_h1_title": true,
   "title_cell": "Table of Contents",
   "title_sidebar": "Contents",
   "toc_cell": false,
   "toc_position": {},
   "toc_section_display": false,
   "toc_window_display": false
  }
 },
 "nbformat": 4,
 "nbformat_minor": 1
}
