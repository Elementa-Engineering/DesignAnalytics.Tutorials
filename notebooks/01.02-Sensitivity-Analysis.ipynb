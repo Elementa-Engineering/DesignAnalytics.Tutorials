{
 "cells": [
  {
   "cell_type": "markdown",
   "id": "9e6e334d",
   "metadata": {},
   "source": [
    "<!--NAVIGATION-->\n",
    "< [Design Spaces](01.01-Design-Space-Basics.ipynb) | [Contents](Index.ipynb) | [Results From Parametric Analysis](01.03-Results-From-Parametric-Analysis.ipynb) >"
   ]
  },
  {
   "cell_type": "markdown",
   "id": "320ed265",
   "metadata": {},
   "source": [
    "# Making a Sensitivity Analysis\n",
    "\n",
    "In this chapter, we are taking what we learned about design spaces in the previous chapter, and are going to create a sensitivity analysis for an EnergyPlus model. This process is as follows: first, we take a building energy model, second we prepare a design space which will modify parameters of the model, third we prepare a Job to be run on Amazon Web Services.\n",
    "\n",
    "Users of this library must be authenticated to use the APIClient. This way, communications with AWS services can only be done by authorized personel and costs can be tracked to users and projects. Authentication is done through an api_key that will be assigned to you.\n",
    "\n",
    "The standard way to authenticate yourself for the duration of your session in a Jupyter Notebook is to add a block of code as follows. The call to `whoami` returns the username if the authentication is successfull."
   ]
  },
  {
   "cell_type": "code",
   "execution_count": 1,
   "id": "3a4d8613",
   "metadata": {
    "ExecuteTime": {
     "end_time": "2024-06-12T07:38:44.108134Z",
     "start_time": "2024-06-12T07:38:40.248831Z"
    },
    "pycharm": {
     "name": "#%%\n"
    }
   },
   "outputs": [
    {
     "data": {
      "text/plain": [
       "User(username='sam@carbonsignal.com', email='sam@carbonsignal.com', full_name='Samuel Letellier-Duchesne', disabled=None, valid_until=datetime.datetime(2025, 6, 11, 15, 44, 24))"
      ]
     },
     "execution_count": 1,
     "metadata": {},
     "output_type": "execute_result"
    }
   ],
   "source": [
    "%load_ext dotenv\n",
    "%dotenv\n",
    "\n",
    "import warnings\n",
    "\n",
    "warnings.simplefilter(action=\"ignore\", category=FutureWarning)\n",
    "\n",
    "from surrogate_schema import APIClient\n",
    "\n",
    "# typical block to authenticate to the API\n",
    "client = APIClient()\n",
    "client.whoami()  # shows that you are properly authenticated"
   ]
  },
  {
   "cell_type": "code",
   "execution_count": 2,
   "id": "3c878405",
   "metadata": {
    "ExecuteTime": {
     "end_time": "2024-06-12T07:38:44.358823Z",
     "start_time": "2024-06-12T07:38:44.109718Z"
    },
    "pycharm": {
     "name": "#%%\n"
    }
   },
   "outputs": [
    {
     "ename": "ModuleNotFoundError",
     "evalue": "No module named 'archetypal'",
     "output_type": "error",
     "traceback": [
      "\u001b[0;31m---------------------------------------------------------------------------\u001b[0m",
      "\u001b[0;31mModuleNotFoundError\u001b[0m                       Traceback (most recent call last)",
      "Cell \u001b[0;32mIn[2], line 1\u001b[0m\n\u001b[0;32m----> 1\u001b[0m \u001b[38;5;28;01mfrom\u001b[39;00m \u001b[38;5;21;01marchetypal\u001b[39;00m \u001b[38;5;28;01mimport\u001b[39;00m IDF\n\u001b[1;32m      3\u001b[0m idf \u001b[38;5;241m=\u001b[39m IDF(\u001b[38;5;124m\"\u001b[39m\u001b[38;5;124mdata/seed_file_V960.idf\u001b[39m\u001b[38;5;124m\"\u001b[39m)\n",
      "\u001b[0;31mModuleNotFoundError\u001b[0m: No module named 'archetypal'"
     ]
    }
   ],
   "source": [
    "from archetypal import IDF\n",
    "\n",
    "idf = IDF(\"data/seed_file_V960.idf\")"
   ]
  },
  {
   "cell_type": "markdown",
   "id": "7b3b6fcf",
   "metadata": {},
   "source": [
    "## Making sure the model is compatible with the workflow\n",
    "\n",
    "There are a couple things to check to make sure that the model you are working with is compatible with the workflow. First of all, the geometry definition of each thermal zone must be in \"World Coordinates\". Sometimes, models produced by OpenStudio will generate an IDF model with Zones that are defined in \"Relative Coordinates\". This means that the vertices defining the walls, windows, overhangs, etc. are defined relative to the Zone origin. The Zone itself can then have X Orgin, Y Origin and Z Origin values that place it in 3D space:"
   ]
  },
  {
   "cell_type": "code",
   "execution_count": null,
   "id": "f74405e5",
   "metadata": {},
   "outputs": [],
   "source": [
    "idf.idfobjects[\"ZONE\"][0]"
   ]
  },
  {
   "cell_type": "markdown",
   "id": "c73ee9c6",
   "metadata": {},
   "source": [
    "When that is the case, the model needs to be \"translated\" to \"World Coordinates\" such that each vertices is relative to the origin (0,0,0). Fortunately, `archetypal` has a function that can do that automatically: the `IDF.to_world()` method."
   ]
  },
  {
   "cell_type": "code",
   "execution_count": null,
   "id": "eaca8fb7",
   "metadata": {},
   "outputs": [],
   "source": [
    "idf.to_world()"
   ]
  },
  {
   "cell_type": "code",
   "execution_count": null,
   "id": "d6c6c75c",
   "metadata": {
    "pycharm": {
     "name": "#%%\n"
    }
   },
   "outputs": [],
   "source": [
    "idf.view_model()"
   ]
  },
  {
   "cell_type": "code",
   "execution_count": null,
   "id": "584f3e02",
   "metadata": {
    "pycharm": {
     "name": "#%%\n"
    }
   },
   "outputs": [],
   "source": [
    "from surrogate_schema import BuildingAnalysis"
   ]
  },
  {
   "cell_type": "markdown",
   "id": "5de9a237",
   "metadata": {},
   "source": [
    "A BuildingAnalysis class holds all the relevant information regarding a sensitivity analyis (as well as a parametric analysis, but that will come next)"
   ]
  },
  {
   "cell_type": "code",
   "execution_count": null,
   "id": "f16c895d",
   "metadata": {
    "pycharm": {
     "name": "#%%\n"
    }
   },
   "outputs": [],
   "source": [
    "from surrogate_schema import Space\n",
    "from surrogate_schema.space.design_space import Dimension"
   ]
  },
  {
   "cell_type": "code",
   "execution_count": null,
   "id": "8c29296a",
   "metadata": {
    "pycharm": {
     "name": "#%%\n"
    }
   },
   "outputs": [],
   "source": [
    "space = Space(\n",
    "    dimensions=[\n",
    "        Dimension(name=\"WINU\", categories=[0.14, 0.3, 0.4, 0.5, 0.8]),\n",
    "        Dimension(name=\"WWR\", categories=[0.1, 0.3, 0.5, 0.7, 0.9]),\n",
    "    ],\n",
    ")"
   ]
  },
  {
   "cell_type": "code",
   "execution_count": null,
   "id": "cf4874b7",
   "metadata": {
    "pycharm": {
     "name": "#%%\n"
    }
   },
   "outputs": [],
   "source": [
    "analysis = BuildingAnalysis(\n",
    "    company=\"Elementa\",\n",
    "    project=\"Tutorial\",\n",
    "    local_epw=\"data/USA_CA_Chino.AP.722899_TMYx.epw\",\n",
    "    local_seed_model=\"data/seed_file_V960.idf\",\n",
    "    design_space=space,\n",
    "    baseline={\"WINU\": 0.4, \"WWR\": 0.5},\n",
    ")\n",
    "\n",
    "analysis"
   ]
  },
  {
   "cell_type": "code",
   "execution_count": null,
   "id": "1c1c25f5",
   "metadata": {
    "pycharm": {
     "name": "#%%\n"
    }
   },
   "outputs": [],
   "source": [
    "analysis.create_space().to_df()"
   ]
  },
  {
   "cell_type": "code",
   "execution_count": null,
   "id": "9acb0678",
   "metadata": {
    "pycharm": {
     "name": "#%%\n"
    }
   },
   "outputs": [],
   "source": [
    "fig, ax = analysis.sampled_space.pretty_bubble_chart()"
   ]
  },
  {
   "cell_type": "code",
   "execution_count": null,
   "id": "c8ae3447",
   "metadata": {},
   "outputs": [],
   "source": [
    "analysis.local_epw"
   ]
  },
  {
   "cell_type": "code",
   "execution_count": null,
   "id": "906bbf36",
   "metadata": {},
   "outputs": [],
   "source": [
    "str(analysis.epw_s3_path)"
   ]
  },
  {
   "cell_type": "code",
   "execution_count": null,
   "id": "dafe2f59",
   "metadata": {},
   "outputs": [],
   "source": [
    "analysis.seed_model_s3_path"
   ]
  },
  {
   "cell_type": "code",
   "execution_count": null,
   "id": "f1f69778",
   "metadata": {},
   "outputs": [],
   "source": [
    "analysis.seed_model_s3_path = None"
   ]
  },
  {
   "cell_type": "code",
   "execution_count": null,
   "id": "5b638b4d",
   "metadata": {
    "pycharm": {
     "name": "#%%\n"
    }
   },
   "outputs": [],
   "source": [
    "analysis.prepare_job()"
   ]
  },
  {
   "cell_type": "code",
   "execution_count": null,
   "id": "991a90af",
   "metadata": {
    "pycharm": {
     "name": "#%%\n"
    }
   },
   "outputs": [],
   "source": [
    "analysis.submit_job()"
   ]
  },
  {
   "cell_type": "code",
   "execution_count": null,
   "id": "fa757e93",
   "metadata": {
    "pycharm": {
     "name": "#%%\n"
    }
   },
   "outputs": [],
   "source": [
    "analysis.track_status()"
   ]
  },
  {
   "cell_type": "code",
   "execution_count": null,
   "id": "c22e736a",
   "metadata": {},
   "outputs": [],
   "source": [
    "with open(\"data/analysis.json\", \"w\") as f:\n",
    "    f.write(analysis.model_dump_json())"
   ]
  },
  {
   "cell_type": "markdown",
   "id": "8b7c8ef4",
   "metadata": {},
   "source": [
    "<!--NAVIGATION-->\n",
    "< [Design Spaces](01.01-Design-Space-Basics.ipynb) | [Contents](Index.ipynb) | [Results From Parametric Analysis](01.03-Results-From-Parametric-Analysis.ipynb) >"
   ]
  }
 ],
 "metadata": {
  "kernelspec": {
   "display_name": "Python 3 (ipykernel)",
   "language": "python",
   "name": "python3"
  },
  "language_info": {
   "codemirror_mode": {
    "name": "ipython",
    "version": 3
   },
   "file_extension": ".py",
   "mimetype": "text/x-python",
   "name": "python",
   "nbconvert_exporter": "python",
   "pygments_lexer": "ipython3",
   "version": "3.9.7"
  },
  "toc": {
   "base_numbering": 1,
   "nav_menu": {},
   "number_sections": true,
   "sideBar": true,
   "skip_h1_title": true,
   "title_cell": "Table of Contents",
   "title_sidebar": "Contents",
   "toc_cell": false,
   "toc_position": {},
   "toc_section_display": true,
   "toc_window_display": false
  }
 },
 "nbformat": 4,
 "nbformat_minor": 5
}
