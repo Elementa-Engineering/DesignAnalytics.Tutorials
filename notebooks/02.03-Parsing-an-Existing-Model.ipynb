{
 "cells": [
  {
   "cell_type": "markdown",
   "id": "8f77433c",
   "metadata": {},
   "source": [
    "<!--NAVIGATION-->\n",
    "< [Getting and Setting Model Attibutes](02.02-Getting-And-Setting-Model-Attibutes.ipynb) | [Contents](Index.ipynb) | [Geometry Functions](02.04-Geometry-Functions.ipynb) >"
   ]
  },
  {
   "cell_type": "markdown",
   "id": "aa3a6222",
   "metadata": {
    "pycharm": {
     "name": "#%% md\n"
    }
   },
   "source": [
    "# Parsing an Existing Model"
   ]
  },
  {
   "cell_type": "code",
   "execution_count": 1,
   "id": "a827339a",
   "metadata": {},
   "outputs": [],
   "source": [
    "from archetypal import IDF"
   ]
  },
  {
   "cell_type": "code",
   "execution_count": 4,
   "id": "47d86312",
   "metadata": {
    "pycharm": {
     "name": "#%%\n"
    }
   },
   "outputs": [],
   "source": [
    "idf = IDF(\"data/seed_file_V960.idf\")"
   ]
  },
  {
   "cell_type": "code",
   "execution_count": 7,
   "id": "616ac479",
   "metadata": {},
   "outputs": [
    {
     "data": {
      "text/plain": [
       "'MATERIAL'"
      ]
     },
     "execution_count": 7,
     "metadata": {},
     "output_type": "execute_result"
    }
   ],
   "source": [
    "\"Material\".upper()"
   ]
  },
  {
   "cell_type": "code",
   "execution_count": 13,
   "id": "73768862",
   "metadata": {
    "pycharm": {
     "name": "#%%\n"
    }
   },
   "outputs": [
    {
     "data": {
      "text/plain": [
       "[\n",
       "Material,\n",
       "    8IN CONCRETE HW,          !- Name\n",
       "    MediumRough,              !- Roughness\n",
       "    0.2033,                   !- Thickness\n",
       "    1.72959999999999,         !- Conductivity\n",
       "    2242.99999999999,         !- Density\n",
       "    836.999999999999,         !- Specific Heat\n",
       "    0.91,                     !- Thermal Absorptance\n",
       "    0.65,                     !- Solar Absorptance\n",
       "    0.7;                      !- Visible Absorptance\n",
       ", \n",
       "Material,\n",
       "    ATTICFLOOR INSULATION R-45.65 IP,    !- Name\n",
       "    MediumRough,              !- Roughness\n",
       "    0.393911555076,           !- Thickness\n",
       "    0.049,                    !- Conductivity\n",
       "    265,                      !- Density\n",
       "    836.800000000001,         !- Specific Heat\n",
       "    0.9,                      !- Thermal Absorptance\n",
       "    0.7,                      !- Solar Absorptance\n",
       "    0.7;                      !- Visible Absorptance\n",
       ", \n",
       "Material,\n",
       "    G01a 19mm gypsum board,    !- Name\n",
       "    MediumSmooth,             !- Roughness\n",
       "    0.019,                    !- Thickness\n",
       "    0.16,                     !- Conductivity\n",
       "    800,                      !- Density\n",
       "    1090,                     !- Specific Heat\n",
       "    0.9,                      !- Thermal Absorptance\n",
       "    0.7,                      !- Solar Absorptance\n",
       "    0.7;                      !- Visible Absorptance\n",
       "]"
      ]
     },
     "execution_count": 13,
     "metadata": {},
     "output_type": "execute_result"
    }
   ],
   "source": [
    "idf.idfobjects[\"Material\".upper()]"
   ]
  },
  {
   "cell_type": "markdown",
   "id": "b761f35b",
   "metadata": {
    "pycharm": {
     "name": "#%% md\n"
    }
   },
   "source": [
    "### Edit a specific object"
   ]
  },
  {
   "cell_type": "code",
   "execution_count": 8,
   "id": "3e611dec",
   "metadata": {
    "pycharm": {
     "name": "#%%\n"
    }
   },
   "outputs": [
    {
     "data": {
      "text/plain": [
       "\n",
       "Material,\n",
       "    8IN CONCRETE HW,          !- Name\n",
       "    MediumRough,              !- Roughness\n",
       "    0.2033,                   !- Thickness\n",
       "    1.72959999999999,         !- Conductivity\n",
       "    2242.99999999999,         !- Density\n",
       "    836.999999999999,         !- Specific Heat\n",
       "    0.87,                     !- Thermal Absorptance\n",
       "    0.65,                     !- Solar Absorptance\n",
       "    0.7;                      !- Visible Absorptance"
      ]
     },
     "execution_count": 8,
     "metadata": {},
     "output_type": "execute_result"
    }
   ],
   "source": [
    "mat_concrete = idf.getobject(\"MATERIAL\", \"8IN CONCRETE HW\")\n",
    "mat_concrete"
   ]
  },
  {
   "cell_type": "code",
   "execution_count": 9,
   "id": "b42e8466",
   "metadata": {
    "pycharm": {
     "name": "#%%\n"
    }
   },
   "outputs": [
    {
     "data": {
      "text/plain": [
       "0.87"
      ]
     },
     "execution_count": 9,
     "metadata": {},
     "output_type": "execute_result"
    }
   ],
   "source": [
    "mat_concrete.Thermal_Absorptance"
   ]
  },
  {
   "cell_type": "code",
   "execution_count": 10,
   "id": "30765dbe",
   "metadata": {
    "pycharm": {
     "name": "#%%\n"
    }
   },
   "outputs": [],
   "source": [
    "mat_concrete.Thermal_Absorptance = 0.91"
   ]
  },
  {
   "cell_type": "code",
   "execution_count": 11,
   "id": "91cf828f",
   "metadata": {
    "pycharm": {
     "name": "#%%\n"
    }
   },
   "outputs": [
    {
     "data": {
      "text/plain": [
       "\n",
       "Material,\n",
       "    8IN CONCRETE HW,          !- Name\n",
       "    MediumRough,              !- Roughness\n",
       "    0.2033,                   !- Thickness\n",
       "    1.72959999999999,         !- Conductivity\n",
       "    2242.99999999999,         !- Density\n",
       "    836.999999999999,         !- Specific Heat\n",
       "    0.91,                     !- Thermal Absorptance\n",
       "    0.65,                     !- Solar Absorptance\n",
       "    0.7;                      !- Visible Absorptance"
      ]
     },
     "execution_count": 11,
     "metadata": {},
     "output_type": "execute_result"
    }
   ],
   "source": [
    "mat_concrete"
   ]
  },
  {
   "cell_type": "markdown",
   "id": "f97bb57f",
   "metadata": {
    "pycharm": {
     "name": "#%% md\n"
    }
   },
   "source": [
    "### Saving edits\n",
    "\n",
    "The IDF object has a property called `filename`. This is used to point to a filepath on the system where the object will be written."
   ]
  },
  {
   "cell_type": "code",
   "execution_count": 8,
   "id": "42184419",
   "metadata": {
    "pycharm": {
     "name": "#%%\n"
    }
   },
   "outputs": [
    {
     "data": {
      "text/plain": [
       "Path('data/seed_file_V960.idf')"
      ]
     },
     "execution_count": 8,
     "metadata": {},
     "output_type": "execute_result"
    }
   ],
   "source": [
    "idf.idfname"
   ]
  },
  {
   "cell_type": "markdown",
   "id": "da4a7e9c",
   "metadata": {
    "pycharm": {
     "name": "#%% md\n"
    }
   },
   "source": [
    "This property has been set by the constructor `IDF()` used above with the value `seed_file_V960.idf`. If we call the IDF.save() method, this will overwrite the contents of the file:"
   ]
  },
  {
   "cell_type": "code",
   "execution_count": 9,
   "id": "9123a911",
   "metadata": {
    "pycharm": {
     "name": "#%%\n"
    }
   },
   "outputs": [
    {
     "data": {
      "text/plain": [
       "<IDF object seed_file_V960.idf\n",
       "at data/seed_file_V960.idf\n",
       "\tVersion 9.6\n",
       "Simulation Info:\n",
       "\tNot yet simulated>"
      ]
     },
     "execution_count": 9,
     "metadata": {},
     "output_type": "execute_result"
    }
   ],
   "source": [
    "idf.save()"
   ]
  },
  {
   "cell_type": "markdown",
   "id": "5a31d105",
   "metadata": {
    "pycharm": {
     "name": "#%% md\n"
    }
   },
   "source": [
    "If we made edits and would rather not overwrite the content of the file, but create a new file, then we would use the `IDF.saveas()` method and specify a different path to the file we would like to create."
   ]
  },
  {
   "cell_type": "code",
   "execution_count": 10,
   "id": "bb3f18d1",
   "metadata": {
    "pycharm": {
     "name": "#%%\n"
    }
   },
   "outputs": [
    {
     "data": {
      "text/plain": [
       "<IDF object seed_file_V960.idf\n",
       "at seed_file_V960_edited.idf\n",
       "\tVersion 9.6\n",
       "Simulation Info:\n",
       "\tNot yet simulated>"
      ]
     },
     "execution_count": 10,
     "metadata": {},
     "output_type": "execute_result"
    }
   ],
   "source": [
    "idf.saveas(\"seed_file_V960_edited.idf\")"
   ]
  },
  {
   "cell_type": "markdown",
   "id": "52a2d1ff",
   "metadata": {
    "pycharm": {
     "name": "#%% md\n"
    }
   },
   "source": [
    "<div class=\"alert alert-block alert-info\">\n",
    "<b>Important:</b> Note that IDF.saveas does not mutate (or modify) the object, meaning that `idf` still refers to the previous file location. With IDF.saveas(), a new IDF object is created (pointing to the new path) and it is returned; This is what we see in the output of the cell above. We can instead mutate the object by calling idf.saveas(\"seed_file_V960_edited.idf\", inplace=True), essentially replacing the reference to `seed_file_V960.idf` with `seed_file_V960_edited.idf` inplace.\n",
    "</div>\n",
    "\n",
    "saveas can be used to create a new object:"
   ]
  },
  {
   "cell_type": "code",
   "execution_count": 11,
   "id": "e5620ac8",
   "metadata": {
    "pycharm": {
     "name": "#%%\n"
    }
   },
   "outputs": [],
   "source": [
    "new_idf = idf.saveas(\"seed_file_V960_edited.idf\")"
   ]
  },
  {
   "cell_type": "code",
   "execution_count": 12,
   "id": "f1a0dce8",
   "metadata": {
    "pycharm": {
     "name": "#%%\n"
    }
   },
   "outputs": [
    {
     "data": {
      "text/plain": [
       "True"
      ]
     },
     "execution_count": 12,
     "metadata": {},
     "output_type": "execute_result"
    }
   ],
   "source": [
    "idf.idfname != new_idf.idfname"
   ]
  },
  {
   "cell_type": "markdown",
   "id": "ead5a98c",
   "metadata": {
    "pycharm": {
     "name": "#%% md\n"
    }
   },
   "source": [
    "Or to mutate the current object inplace:"
   ]
  },
  {
   "cell_type": "code",
   "execution_count": 13,
   "id": "c2ef6027",
   "metadata": {
    "pycharm": {
     "name": "#%%\n"
    }
   },
   "outputs": [],
   "source": [
    "idf.saveas(\"seed_file_V960_edited.idf\", inplace=True)"
   ]
  },
  {
   "cell_type": "code",
   "execution_count": 14,
   "id": "6734b316",
   "metadata": {
    "pycharm": {
     "name": "#%%\n"
    }
   },
   "outputs": [
    {
     "data": {
      "text/plain": [
       "True"
      ]
     },
     "execution_count": 14,
     "metadata": {},
     "output_type": "execute_result"
    }
   ],
   "source": [
    "idf.idfname == new_idf.idfname"
   ]
  },
  {
   "cell_type": "markdown",
   "id": "b3a480f6",
   "metadata": {},
   "source": [
    "<!--NAVIGATION-->\n",
    "< [Getting and Setting Model Attibutes](02.02-Getting-And-Setting-Model-Attibutes.ipynb) | [Contents](Index.ipynb) | [Geometry Functions](02.04-Geometry-Functions.ipynb) >"
   ]
  }
 ],
 "metadata": {
  "kernelspec": {
   "display_name": "Python 3 (ipykernel)",
   "language": "python",
   "name": "python3"
  },
  "language_info": {
   "codemirror_mode": {
    "name": "ipython",
    "version": 3
   },
   "file_extension": ".py",
   "mimetype": "text/x-python",
   "name": "python",
   "nbconvert_exporter": "python",
   "pygments_lexer": "ipython3",
   "version": "3.9.7"
  },
  "toc": {
   "base_numbering": 1,
   "nav_menu": {},
   "number_sections": true,
   "sideBar": true,
   "skip_h1_title": true,
   "title_cell": "Table of Contents",
   "title_sidebar": "Contents",
   "toc_cell": false,
   "toc_position": {
    "height": "calc(100% - 180px)",
    "left": "10px",
    "top": "150px",
    "width": "302px"
   },
   "toc_section_display": false,
   "toc_window_display": false
  }
 },
 "nbformat": 4,
 "nbformat_minor": 5
}
