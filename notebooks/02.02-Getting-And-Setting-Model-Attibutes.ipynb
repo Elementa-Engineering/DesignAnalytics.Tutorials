{
 "cells": [
  {
   "cell_type": "markdown",
   "id": "31506a6e",
   "metadata": {},
   "source": [
    "<!--NAVIGATION-->\n",
    "< [EnergyPlus Scripting Using Archetypal](02.01-EnergyPlus-Scripting-Using-Archetypal.ipynb) | [Contents](Index.ipynb) | [Parsing an Existing Model](02.03-Parsing-an-Existing-Model.ipynb) >"
   ]
  },
  {
   "cell_type": "markdown",
   "id": "7ae3c2e2",
   "metadata": {
    "pycharm": {
     "name": "#%% md\n"
    }
   },
   "source": [
    "# Getting and Setting Model Attibutes\n",
    "\n",
    "The main use case for archetypal is the ability to programatically modify component attributes."
   ]
  },
  {
   "cell_type": "code",
   "execution_count": 1,
   "id": "259efdae",
   "metadata": {
    "ExecuteTime": {
     "end_time": "2024-02-02T16:22:13.161964Z",
     "start_time": "2024-02-02T16:22:11.294744Z"
    },
    "execution": {
     "iopub.execute_input": "2025-07-15T18:57:33.831193Z",
     "iopub.status.busy": "2025-07-15T18:57:33.830653Z",
     "iopub.status.idle": "2025-07-15T18:57:41.487187Z",
     "shell.execute_reply": "2025-07-15T18:57:41.481728Z"
    },
    "pycharm": {
     "name": "#%%\n"
    }
   },
   "outputs": [
    {
     "name": "stderr",
     "output_type": "stream",
     "text": [
      "/Users/samueld/PycharmProjects/surrogate-api/.venv/lib/python3.9/site-packages/outdated/utils.py:14: OutdatedPackageWarning: The package energy-pandas is out of date. Your version is 0.3.5, the latest is 0.4.1.\n",
      "Set the environment variable OUTDATED_IGNORE=1 to disable these warnings.\n",
      "  return warn(\n"
     ]
    }
   ],
   "source": [
    "from archetypal import IDF\n",
    "\n",
    "idf = IDF()"
   ]
  },
  {
   "cell_type": "markdown",
   "id": "cc6885f1",
   "metadata": {
    "pycharm": {
     "name": "#%% md\n"
    }
   },
   "source": [
    "To access all of the Material objects in the IDF model:"
   ]
  },
  {
   "cell_type": "code",
   "execution_count": 2,
   "id": "11fcae31",
   "metadata": {
    "ExecuteTime": {
     "end_time": "2024-02-02T16:22:13.166087Z",
     "start_time": "2024-02-02T16:22:13.163797Z"
    },
    "execution": {
     "iopub.execute_input": "2025-07-15T18:57:41.501500Z",
     "iopub.status.busy": "2025-07-15T18:57:41.501013Z",
     "iopub.status.idle": "2025-07-15T18:57:41.524041Z",
     "shell.execute_reply": "2025-07-15T18:57:41.521007Z"
    },
    "pycharm": {
     "name": "#%%\n"
    }
   },
   "outputs": [
    {
     "data": {
      "text/plain": [
       "[]"
      ]
     },
     "execution_count": 2,
     "metadata": {},
     "output_type": "execute_result"
    }
   ],
   "source": [
    "idf.idfobjects[\"MATERIAL\"]"
   ]
  },
  {
   "cell_type": "markdown",
   "id": "9a1cb72f",
   "metadata": {
    "pycharm": {
     "name": "#%% md\n"
    }
   },
   "source": [
    "The output above shows that the returns list is empty, since our empty model does not have an materials in it. Let's create one.\n",
    "\n",
    "There are different ways of adding new objects to a model:\n",
    "\n",
    "- `IDF.newidfobject` [docs](https://archetypal.readthedocs.io/en/stable/reference/archetypal.idfclass.IDF.html#archetypal.idfclass.IDF.newidfobject) will create a new component and add it directly to the model.\n",
    "- `IDF.anidfobject` [docs](https://archetypal.readthedocs.io/en/stable/reference/archetypal.idfclass.IDF.html#archetypal.idfclass.IDF.anidfobject) in combination with `IDF.addidfobject` [docs](https://archetypal.readthedocs.io/en/stable/reference/archetypal.idfclass.IDF.html#archetypal.idfclass.IDF.addidfobject) and `IDF.addidfobjects` [docs](https://archetypal.readthedocs.io/en/stable/reference/archetypal.idfclass.IDF.html#archetypal.idfclass.IDF.addidfobjects) will create a new component but will not be added to the model `IDF.addidfobject` or `IDF.addidfobjects` must be called after the object creation.\n",
    "\n",
    "For example, we specify a new Material and its properties by passnig the `key` (or the objects Component type) as an All-Caps string \"MATERIAL\" and then the attributes as key-value pairs like in any python methods or functions:"
   ]
  },
  {
   "cell_type": "code",
   "execution_count": 3,
   "id": "87376c61",
   "metadata": {
    "ExecuteTime": {
     "end_time": "2024-02-02T16:22:13.168971Z",
     "start_time": "2024-02-02T16:22:13.166619Z"
    },
    "execution": {
     "iopub.execute_input": "2025-07-15T18:57:41.531137Z",
     "iopub.status.busy": "2025-07-15T18:57:41.530708Z",
     "iopub.status.idle": "2025-07-15T18:57:41.545312Z",
     "shell.execute_reply": "2025-07-15T18:57:41.542661Z"
    },
    "pycharm": {
     "name": "#%%\n"
    }
   },
   "outputs": [
    {
     "data": {
      "text/plain": [
       "\n",
       "MATERIAL,\n",
       "    My New Material,          !- Name\n",
       "    ,                         !- Roughness\n",
       "    0.05,                     !- Thickness\n",
       "    ,                         !- Conductivity\n",
       "    ,                         !- Density\n",
       "    ,                         !- Specific Heat\n",
       "    0.9,                      !- Thermal Absorptance\n",
       "    0.7,                      !- Solar Absorptance\n",
       "    0.7;                      !- Visible Absorptance"
      ]
     },
     "execution_count": 3,
     "metadata": {},
     "output_type": "execute_result"
    }
   ],
   "source": [
    "idf.newidfobject(\"MATERIAL\", Name=\"My New Material\", Thickness=0.05)"
   ]
  },
  {
   "cell_type": "markdown",
   "id": "680b93f7",
   "metadata": {
    "pycharm": {
     "name": "#%% md\n"
    }
   },
   "source": [
    "We can verify that this object has been added by looking at the dictionary repository of objects defined in the model using the `IDF.idfobjects` property:"
   ]
  },
  {
   "cell_type": "code",
   "execution_count": 4,
   "id": "503088fa",
   "metadata": {
    "ExecuteTime": {
     "end_time": "2024-02-02T16:22:13.171670Z",
     "start_time": "2024-02-02T16:22:13.169263Z"
    },
    "execution": {
     "iopub.execute_input": "2025-07-15T18:57:41.559972Z",
     "iopub.status.busy": "2025-07-15T18:57:41.559430Z",
     "iopub.status.idle": "2025-07-15T18:57:41.578821Z",
     "shell.execute_reply": "2025-07-15T18:57:41.575957Z"
    },
    "pycharm": {
     "name": "#%%\n"
    }
   },
   "outputs": [
    {
     "data": {
      "text/plain": [
       "[\n",
       "MATERIAL,\n",
       "    My New Material,          !- Name\n",
       "    ,                         !- Roughness\n",
       "    0.05,                     !- Thickness\n",
       "    ,                         !- Conductivity\n",
       "    ,                         !- Density\n",
       "    ,                         !- Specific Heat\n",
       "    0.9,                      !- Thermal Absorptance\n",
       "    0.7,                      !- Solar Absorptance\n",
       "    0.7;                      !- Visible Absorptance\n",
       "]"
      ]
     },
     "execution_count": 4,
     "metadata": {},
     "output_type": "execute_result"
    }
   ],
   "source": [
    "idf.idfobjects[\"MATERIAL\"]"
   ]
  },
  {
   "cell_type": "markdown",
   "id": "ed4fabe8",
   "metadata": {
    "pycharm": {
     "name": "#%% md\n"
    }
   },
   "source": [
    "Similarly, we can delay the craetion of an object by calling `IDF.anidfobject` instead:"
   ]
  },
  {
   "cell_type": "code",
   "execution_count": 5,
   "id": "e0e6dd30",
   "metadata": {
    "ExecuteTime": {
     "end_time": "2024-02-02T16:22:13.174876Z",
     "start_time": "2024-02-02T16:22:13.173077Z"
    },
    "execution": {
     "iopub.execute_input": "2025-07-15T18:57:41.588372Z",
     "iopub.status.busy": "2025-07-15T18:57:41.587554Z",
     "iopub.status.idle": "2025-07-15T18:57:41.595267Z",
     "shell.execute_reply": "2025-07-15T18:57:41.594498Z"
    },
    "pycharm": {
     "name": "#%%\n"
    }
   },
   "outputs": [
    {
     "data": {
      "text/plain": [
       "\n",
       "MATERIAL,\n",
       "    My New Material 2,        !- Name\n",
       "    ,                         !- Roughness\n",
       "    0.05,                     !- Thickness\n",
       "    ,                         !- Conductivity\n",
       "    ,                         !- Density\n",
       "    ,                         !- Specific Heat\n",
       "    0.89,                     !- Thermal Absorptance\n",
       "    0.7,                      !- Solar Absorptance\n",
       "    0.7;                      !- Visible Absorptance"
      ]
     },
     "execution_count": 5,
     "metadata": {},
     "output_type": "execute_result"
    }
   ],
   "source": [
    "mat = idf.anidfobject(\n",
    "    \"MATERIAL\", Name=\"My New Material 2\", Thickness=0.05, Thermal_Absorptance=0.89\n",
    ")\n",
    "mat  # object has been assigned to variable `mat`"
   ]
  },
  {
   "cell_type": "markdown",
   "id": "41bac33f",
   "metadata": {
    "pycharm": {
     "name": "#%% md\n"
    }
   },
   "source": [
    "And then the object can be added to the model with:"
   ]
  },
  {
   "cell_type": "code",
   "execution_count": 6,
   "id": "5329751c",
   "metadata": {
    "ExecuteTime": {
     "end_time": "2024-02-02T16:22:13.178069Z",
     "start_time": "2024-02-02T16:22:13.175938Z"
    },
    "execution": {
     "iopub.execute_input": "2025-07-15T18:57:41.605855Z",
     "iopub.status.busy": "2025-07-15T18:57:41.604742Z",
     "iopub.status.idle": "2025-07-15T18:57:41.620688Z",
     "shell.execute_reply": "2025-07-15T18:57:41.614338Z"
    },
    "pycharm": {
     "name": "#%%\n"
    }
   },
   "outputs": [
    {
     "data": {
      "text/plain": [
       "\n",
       "MATERIAL,\n",
       "    My New Material 2,        !- Name\n",
       "    ,                         !- Roughness\n",
       "    0.05,                     !- Thickness\n",
       "    ,                         !- Conductivity\n",
       "    ,                         !- Density\n",
       "    ,                         !- Specific Heat\n",
       "    0.89,                     !- Thermal Absorptance\n",
       "    0.7,                      !- Solar Absorptance\n",
       "    0.7;                      !- Visible Absorptance"
      ]
     },
     "execution_count": 6,
     "metadata": {},
     "output_type": "execute_result"
    }
   ],
   "source": [
    "idf.addidfobject(mat)"
   ]
  },
  {
   "cell_type": "markdown",
   "id": "92c1f17c",
   "metadata": {
    "pycharm": {
     "name": "#%% md\n"
    }
   },
   "source": [
    "Calling again `IDF.idfobjects`, we have 2 materials in the model:"
   ]
  },
  {
   "cell_type": "code",
   "execution_count": 7,
   "id": "d6a090bc",
   "metadata": {
    "ExecuteTime": {
     "end_time": "2024-02-02T16:22:13.180846Z",
     "start_time": "2024-02-02T16:22:13.178719Z"
    },
    "execution": {
     "iopub.execute_input": "2025-07-15T18:57:41.638861Z",
     "iopub.status.busy": "2025-07-15T18:57:41.633031Z",
     "iopub.status.idle": "2025-07-15T18:57:41.646695Z",
     "shell.execute_reply": "2025-07-15T18:57:41.645917Z"
    },
    "pycharm": {
     "name": "#%%\n"
    }
   },
   "outputs": [
    {
     "data": {
      "text/plain": [
       "[\n",
       "MATERIAL,\n",
       "    My New Material,          !- Name\n",
       "    ,                         !- Roughness\n",
       "    0.05,                     !- Thickness\n",
       "    ,                         !- Conductivity\n",
       "    ,                         !- Density\n",
       "    ,                         !- Specific Heat\n",
       "    0.9,                      !- Thermal Absorptance\n",
       "    0.7,                      !- Solar Absorptance\n",
       "    0.7;                      !- Visible Absorptance\n",
       ", \n",
       "MATERIAL,\n",
       "    My New Material 2,        !- Name\n",
       "    ,                         !- Roughness\n",
       "    0.05,                     !- Thickness\n",
       "    ,                         !- Conductivity\n",
       "    ,                         !- Density\n",
       "    ,                         !- Specific Heat\n",
       "    0.89,                     !- Thermal Absorptance\n",
       "    0.7,                      !- Solar Absorptance\n",
       "    0.7;                      !- Visible Absorptance\n",
       "]"
      ]
     },
     "execution_count": 7,
     "metadata": {},
     "output_type": "execute_result"
    }
   ],
   "source": [
    "idf.idfobjects[\"MATERIAL\"]"
   ]
  },
  {
   "cell_type": "markdown",
   "id": "025ffffb",
   "metadata": {
    "pycharm": {
     "name": "#%% md\n"
    }
   },
   "source": [
    "### Tips and tricks\n",
    "\n",
    "Granted it can be hard to know what are the attribute names of a component especially since EnergyPlus has a huge list of components to choose from.\n",
    "\n",
    "One trick is to call the creation of an object with it's default value and to call the `dict` methdod to return the atribute names:"
   ]
  },
  {
   "cell_type": "code",
   "execution_count": 8,
   "id": "bb963338",
   "metadata": {
    "ExecuteTime": {
     "end_time": "2024-02-02T16:22:13.210360Z",
     "start_time": "2024-02-02T16:22:13.181574Z"
    },
    "execution": {
     "iopub.execute_input": "2025-07-15T18:57:41.661895Z",
     "iopub.status.busy": "2025-07-15T18:57:41.660879Z",
     "iopub.status.idle": "2025-07-15T18:57:41.672775Z",
     "shell.execute_reply": "2025-07-15T18:57:41.670078Z"
    },
    "pycharm": {
     "name": "#%%\n"
    }
   },
   "outputs": [
    {
     "data": {
      "text/plain": [
       "{'key': 'MATERIAL:NOMASS',\n",
       " 'Name': '',\n",
       " 'Roughness': '',\n",
       " 'Thermal_Resistance': '',\n",
       " 'Thermal_Absorptance': 0.9,\n",
       " 'Solar_Absorptance': 0.7,\n",
       " 'Visible_Absorptance': 0.7}"
      ]
     },
     "execution_count": 8,
     "metadata": {},
     "output_type": "execute_result"
    }
   ],
   "source": [
    "idf.anidfobject(\"MATERIAL:NOMASS\").to_dict()"
   ]
  },
  {
   "cell_type": "markdown",
   "id": "f2f990d9",
   "metadata": {
    "pycharm": {
     "name": "#%% md\n"
    }
   },
   "source": [
    "You would then copy the dictionary above in a cell and make changes to the attribute values as such:"
   ]
  },
  {
   "cell_type": "code",
   "execution_count": 9,
   "id": "4bb8b31c",
   "metadata": {
    "ExecuteTime": {
     "end_time": "2024-02-02T16:22:13.210706Z",
     "start_time": "2024-02-02T16:22:13.184482Z"
    },
    "execution": {
     "iopub.execute_input": "2025-07-15T18:57:41.686461Z",
     "iopub.status.busy": "2025-07-15T18:57:41.686105Z",
     "iopub.status.idle": "2025-07-15T18:57:41.692556Z",
     "shell.execute_reply": "2025-07-15T18:57:41.691179Z"
    },
    "pycharm": {
     "name": "#%%\n"
    }
   },
   "outputs": [
    {
     "data": {
      "text/plain": [
       "{'field': ['Roughness'],\n",
       " 'required-field': [''],\n",
       " 'type': ['choice'],\n",
       " 'key': ['VeryRough',\n",
       "  'Rough',\n",
       "  'MediumRough',\n",
       "  'MediumSmooth',\n",
       "  'Smooth',\n",
       "  'VerySmooth']}"
      ]
     },
     "execution_count": 9,
     "metadata": {},
     "output_type": "execute_result"
    }
   ],
   "source": [
    "idf.anidfobject(\"MATERIAL:NOMASS\").getfieldidd(\"Roughness\")"
   ]
  },
  {
   "cell_type": "code",
   "execution_count": 10,
   "id": "42d71d3a",
   "metadata": {
    "ExecuteTime": {
     "end_time": "2024-02-02T16:22:13.210963Z",
     "start_time": "2024-02-02T16:22:13.186848Z"
    },
    "execution": {
     "iopub.execute_input": "2025-07-15T18:57:41.696493Z",
     "iopub.status.busy": "2025-07-15T18:57:41.696195Z",
     "iopub.status.idle": "2025-07-15T18:57:41.702630Z",
     "shell.execute_reply": "2025-07-15T18:57:41.701136Z"
    },
    "pycharm": {
     "name": "#%%\n"
    }
   },
   "outputs": [],
   "source": [
    "mat_dict = {\n",
    "    \"key\": \"MATERIAL:NOMASS\",\n",
    "    \"Name\": \"My NoMass material\",\n",
    "    \"Roughness\": \"\",\n",
    "    \"Thermal_Resistance\": \"\",\n",
    "    \"Thermal_Absorptance\": 0.9,\n",
    "    \"Solar_Absorptance\": 0.7,\n",
    "    \"Visible_Absorptance\": 0.7,\n",
    "}"
   ]
  },
  {
   "cell_type": "markdown",
   "id": "1623ba7d",
   "metadata": {
    "pycharm": {
     "name": "#%% md\n"
    }
   },
   "source": [
    "But what is \"**Roughness**\"! And what are the valid values that EnergyPlus will accept? We could go to the EnergyPlus online documentation for the Material:NoMass class and fetch the info there, but there is an easier option:\n",
    "\n",
    "Thankfully, `eppy` has done some heavylifting behind the scene and has parsed all of the content of the EnergyPlus IDD file which holds the recipy book for all the EnergyPlus component in a specific EnergyPlus version.\n",
    "\n",
    "One can retrieve this IDD information for any fieldname by calling `EPBunch.getfield(<fieldname>)`.\n",
    "\n",
    "<div class=\"alert alert-block alert-info\">\n",
    "<b>Sidenote:</b> the components in an IDF model are of a special type of class called an `EPBunch`.\n",
    "</div>"
   ]
  },
  {
   "cell_type": "code",
   "execution_count": 11,
   "id": "5770dc5e",
   "metadata": {
    "ExecuteTime": {
     "end_time": "2024-02-02T16:22:13.211200Z",
     "start_time": "2024-02-02T16:22:13.189351Z"
    },
    "execution": {
     "iopub.execute_input": "2025-07-15T18:57:41.706371Z",
     "iopub.status.busy": "2025-07-15T18:57:41.706067Z",
     "iopub.status.idle": "2025-07-15T18:57:41.712213Z",
     "shell.execute_reply": "2025-07-15T18:57:41.711546Z"
    },
    "pycharm": {
     "name": "#%%\n"
    }
   },
   "outputs": [
    {
     "data": {
      "text/plain": [
       "{'field': ['Roughness'],\n",
       " 'required-field': [''],\n",
       " 'type': ['choice'],\n",
       " 'key': ['VeryRough',\n",
       "  'Rough',\n",
       "  'MediumRough',\n",
       "  'MediumSmooth',\n",
       "  'Smooth',\n",
       "  'VerySmooth']}"
      ]
     },
     "execution_count": 11,
     "metadata": {},
     "output_type": "execute_result"
    }
   ],
   "source": [
    "idf.anidfobject(\"MATERIAL:NOMASS\").getfieldidd(\"Roughness\")"
   ]
  },
  {
   "cell_type": "markdown",
   "id": "7e9ab90c",
   "metadata": {
    "pycharm": {
     "name": "#%% md\n"
    }
   },
   "source": [
    "The information above tells me that the field \"Roughness\" is not a \"required-field\" (it can be left empty), and that the choices are on off ['VeryRough',  'Rough',  'MediumRough',  'MediumSmooth',  'Smooth',  'VerySmooth']:\n",
    "\n",
    "So I can continue edition my dictionary with the required Roughness:"
   ]
  },
  {
   "cell_type": "code",
   "execution_count": 12,
   "id": "d484bfb9",
   "metadata": {
    "ExecuteTime": {
     "end_time": "2024-02-02T16:22:13.211421Z",
     "start_time": "2024-02-02T16:22:13.191872Z"
    },
    "execution": {
     "iopub.execute_input": "2025-07-15T18:57:41.719588Z",
     "iopub.status.busy": "2025-07-15T18:57:41.719204Z",
     "iopub.status.idle": "2025-07-15T18:57:41.723584Z",
     "shell.execute_reply": "2025-07-15T18:57:41.722507Z"
    },
    "pycharm": {
     "name": "#%%\n"
    }
   },
   "outputs": [],
   "source": [
    "mat_dict = {\n",
    "    \"key\": \"MATERIAL:NOMASS\",\n",
    "    \"Name\": \"My NoMass material\",\n",
    "    \"Roughness\": \"Smooth\",\n",
    "    \"Thermal_Resistance\": \"\",\n",
    "    \"Thermal_Absorptance\": 0.9,\n",
    "    \"Solar_Absorptance\": 0.7,\n",
    "    \"Visible_Absorptance\": 0.7,\n",
    "}"
   ]
  },
  {
   "cell_type": "markdown",
   "id": "65ffab85",
   "metadata": {
    "pycharm": {
     "name": "#%% md\n"
    }
   },
   "source": [
    "Finally, I can create the new material object using the dictionary and python's special double-star (**) syntax which will unpack the key-values of the dictionary as paramters of the `newidfobject` method: "
   ]
  },
  {
   "cell_type": "code",
   "execution_count": 13,
   "id": "d1ffa93a",
   "metadata": {
    "ExecuteTime": {
     "end_time": "2024-02-02T16:22:13.211687Z",
     "start_time": "2024-02-02T16:22:13.194420Z"
    },
    "execution": {
     "iopub.execute_input": "2025-07-15T18:57:41.733927Z",
     "iopub.status.busy": "2025-07-15T18:57:41.732842Z",
     "iopub.status.idle": "2025-07-15T18:57:41.740328Z",
     "shell.execute_reply": "2025-07-15T18:57:41.739339Z"
    },
    "pycharm": {
     "name": "#%%\n"
    }
   },
   "outputs": [
    {
     "data": {
      "text/plain": [
       "\n",
       "MATERIAL:NOMASS,\n",
       "    My NoMass material,       !- Name\n",
       "    Smooth,                   !- Roughness\n",
       "    ,                         !- Thermal Resistance\n",
       "    0.9,                      !- Thermal Absorptance\n",
       "    0.7,                      !- Solar Absorptance\n",
       "    0.7;                      !- Visible Absorptance"
      ]
     },
     "execution_count": 13,
     "metadata": {},
     "output_type": "execute_result"
    }
   ],
   "source": [
    "idf.newidfobject(**mat_dict)"
   ]
  },
  {
   "cell_type": "markdown",
   "id": "05350cb8",
   "metadata": {},
   "source": [
    "<!--NAVIGATION-->\n",
    "< [EnergyPlus Scripting Using Archetypal](02.01-EnergyPlus-Scripting-Using-Archetypal.ipynb) | [Contents](Index.ipynb) | [Parsing an Existing Model](02.03-Parsing-an-Existing-Model.ipynb) >"
   ]
  }
 ],
 "metadata": {
  "kernelspec": {
   "display_name": "Python 3 (ipykernel)",
   "language": "python",
   "name": "python3"
  },
  "language_info": {
   "codemirror_mode": {
    "name": "ipython",
    "version": 3
   },
   "file_extension": ".py",
   "mimetype": "text/x-python",
   "name": "python",
   "nbconvert_exporter": "python",
   "pygments_lexer": "ipython3",
   "version": "3.9.6"
  },
  "toc": {
   "base_numbering": 1,
   "nav_menu": {},
   "number_sections": true,
   "sideBar": true,
   "skip_h1_title": true,
   "title_cell": "Table of Contents",
   "title_sidebar": "Contents",
   "toc_cell": false,
   "toc_position": {
    "height": "calc(100% - 180px)",
    "left": "10px",
    "top": "150px",
    "width": "302px"
   },
   "toc_section_display": false,
   "toc_window_display": true
  }
 },
 "nbformat": 4,
 "nbformat_minor": 5
}
