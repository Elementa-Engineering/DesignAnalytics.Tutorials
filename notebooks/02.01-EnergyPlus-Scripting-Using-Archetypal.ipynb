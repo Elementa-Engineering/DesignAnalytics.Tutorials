{
 "cells": [
  {
   "cell_type": "markdown",
   "id": "28155115",
   "metadata": {},
   "source": [
    "<!--NAVIGATION-->\n",
    "< [Introduction to EnergyPlus Models Scripting](02.00-Introduction-to-EnergyPlus-Models-Scripting.ipynb) | [Contents](Index.ipynb) | [Getting and Setting Model Attibutes](02.02-Getting-And-Setting-Model-Attibutes.ipynb) >"
   ]
  },
  {
   "cell_type": "markdown",
   "id": "ebc3c238",
   "metadata": {
    "pycharm": {
     "name": "#%% md\n"
    }
   },
   "source": [
    "# EnergyPlus Scripting Using Archetypal\n",
    "\n",
    "Archetypal is a scripting package that holistically approaches the creation, simulation and analysis of EnergyPlus models. It draws design concepts from other open source libraries surch as eppy and geomeppy, yet it fixes many pitfalls in an attempt to make the workflow easier and more robust.\n",
    "\n",
    "In this Notebook, you will learn how to use `archetypal` to create new EnergyPlus models, to edit existing ones, to run a simulation and to retrieve results."
   ]
  },
  {
   "cell_type": "markdown",
   "id": "eb131591",
   "metadata": {
    "pycharm": {
     "name": "#%% md\n"
    }
   },
   "source": [
    "## Model Basics\n",
    "\n",
    "In its simplest expression, archetypal defines an `IDF` class which holds all of functionality required to run an EnergyPlus model.\n",
    "\n",
    "One simply imports the IDF class:"
   ]
  },
  {
   "cell_type": "code",
   "execution_count": 1,
   "id": "e8186639",
   "metadata": {
    "ExecuteTime": {
     "end_time": "2024-02-02T16:21:42.652045Z",
     "start_time": "2024-02-02T16:21:41.287441Z"
    },
    "execution": {
     "iopub.execute_input": "2024-09-12T16:11:55.013055Z",
     "iopub.status.busy": "2024-09-12T16:11:55.012426Z",
     "iopub.status.idle": "2024-09-12T16:11:59.907233Z",
     "shell.execute_reply": "2024-09-12T16:11:59.905500Z"
    },
    "pycharm": {
     "name": "#%%\n"
    }
   },
   "outputs": [],
   "source": [
    "from archetypal import IDF"
   ]
  },
  {
   "cell_type": "markdown",
   "id": "dad7249a",
   "metadata": {
    "pycharm": {
     "name": "#%% md\n"
    }
   },
   "source": [
    "And can initialize an empty IDF object:"
   ]
  },
  {
   "cell_type": "code",
   "execution_count": 2,
   "id": "56274d44",
   "metadata": {
    "ExecuteTime": {
     "end_time": "2024-02-02T16:21:43.294396Z",
     "start_time": "2024-02-02T16:21:42.652954Z"
    },
    "execution": {
     "iopub.execute_input": "2024-09-12T16:11:59.914193Z",
     "iopub.status.busy": "2024-09-12T16:11:59.913784Z",
     "iopub.status.idle": "2024-09-12T16:12:01.434079Z",
     "shell.execute_reply": "2024-09-12T16:12:01.433187Z"
    },
    "pycharm": {
     "name": "#%%\n"
    }
   },
   "outputs": [
    {
     "data": {
      "text/plain": [
       "<IDF object bd8532a2-7121-11ef-9c29-3e76f855e01d.idf\n",
       "at <_io.StringIO object at 0x10649c8b0>\n",
       "\tVersion 9.2.0\n",
       "Simulation Info:\n",
       "\tNot yet simulated>"
      ]
     },
     "execution_count": 2,
     "metadata": {},
     "output_type": "execute_result"
    }
   ],
   "source": [
    "IDF()"
   ]
  },
  {
   "cell_type": "markdown",
   "id": "22c74193",
   "metadata": {
    "pycharm": {
     "name": "#%% md\n"
    }
   },
   "source": [
    "Looking at the string representation of the model, we can see that we created an in-memory object (identified by its location at an io.StringIO memory address. We can also see that the EnergyPlus version 9.2.0 has been used by default. This is the default value used by archetypal. One can specify a different EnergyPlus version to be used in 3 ways:\n",
    "\n",
    "1. Specify the version as environement variable.\n",
    "2. Edit the settings.ep_version module variable.\n",
    "2. Specify the `as_version` attribute in the IDF constructor.\n",
    "\n",
    "Let's go over the 3 methods.\n",
    "    \n",
    "To change environment variables:\n",
    "\n",
    "(Note: For this method to work in this Notebook, one would need first to restart the Kernel and then run the following 3 cells)"
   ]
  },
  {
   "cell_type": "code",
   "execution_count": 3,
   "id": "ca58b333",
   "metadata": {
    "ExecuteTime": {
     "end_time": "2024-02-02T16:21:43.296637Z",
     "start_time": "2024-02-02T16:21:43.294794Z"
    },
    "execution": {
     "iopub.execute_input": "2024-09-12T16:12:01.440046Z",
     "iopub.status.busy": "2024-09-12T16:12:01.439250Z",
     "iopub.status.idle": "2024-09-12T16:12:01.443525Z",
     "shell.execute_reply": "2024-09-12T16:12:01.442313Z"
    },
    "pycharm": {
     "name": "#%%\n"
    }
   },
   "outputs": [],
   "source": [
    "import os\n",
    "\n",
    "os.environ[\"ENERGYPLUS_VERSION\"] = \"9.6\""
   ]
  },
  {
   "cell_type": "code",
   "execution_count": 4,
   "id": "94c80d0c",
   "metadata": {
    "ExecuteTime": {
     "end_time": "2024-02-02T16:21:43.299162Z",
     "start_time": "2024-02-02T16:21:43.297247Z"
    },
    "execution": {
     "iopub.execute_input": "2024-09-12T16:12:01.449945Z",
     "iopub.status.busy": "2024-09-12T16:12:01.449361Z",
     "iopub.status.idle": "2024-09-12T16:12:01.456258Z",
     "shell.execute_reply": "2024-09-12T16:12:01.455176Z"
    },
    "pycharm": {
     "name": "#%%\n"
    }
   },
   "outputs": [],
   "source": [
    "from archetypal import IDF"
   ]
  },
  {
   "cell_type": "code",
   "execution_count": 5,
   "id": "17cc223e",
   "metadata": {
    "ExecuteTime": {
     "end_time": "2024-02-02T16:21:43.360190Z",
     "start_time": "2024-02-02T16:21:43.300227Z"
    },
    "execution": {
     "iopub.execute_input": "2024-09-12T16:12:01.462043Z",
     "iopub.status.busy": "2024-09-12T16:12:01.461411Z",
     "iopub.status.idle": "2024-09-12T16:12:01.653916Z",
     "shell.execute_reply": "2024-09-12T16:12:01.652800Z"
    },
    "pycharm": {
     "name": "#%%\n"
    }
   },
   "outputs": [
    {
     "data": {
      "text/plain": [
       "<IDF object be7282a0-7121-11ef-9c29-3e76f855e01d.idf\n",
       "at <_io.StringIO object at 0x338c16f70>\n",
       "\tVersion 9.2.0\n",
       "Simulation Info:\n",
       "\tNot yet simulated>"
      ]
     },
     "execution_count": 5,
     "metadata": {},
     "output_type": "execute_result"
    }
   ],
   "source": [
    "IDF()"
   ]
  },
  {
   "cell_type": "markdown",
   "id": "e2e8d9d2",
   "metadata": {
    "pycharm": {
     "name": "#%% md\n"
    }
   },
   "source": [
    "The second option is to change the default value in the archetypal.settings module:"
   ]
  },
  {
   "cell_type": "code",
   "execution_count": 6,
   "id": "9b8d309a",
   "metadata": {
    "ExecuteTime": {
     "end_time": "2024-02-02T16:21:43.361839Z",
     "start_time": "2024-02-02T16:21:43.360286Z"
    },
    "execution": {
     "iopub.execute_input": "2024-09-12T16:12:01.659833Z",
     "iopub.status.busy": "2024-09-12T16:12:01.659265Z",
     "iopub.status.idle": "2024-09-12T16:12:01.663497Z",
     "shell.execute_reply": "2024-09-12T16:12:01.662342Z"
    },
    "pycharm": {
     "name": "#%%\n"
    }
   },
   "outputs": [],
   "source": [
    "from archetypal import settings\n",
    "\n",
    "settings.ep_version = \"9.6\""
   ]
  },
  {
   "cell_type": "code",
   "execution_count": 7,
   "id": "5e3934b7",
   "metadata": {
    "ExecuteTime": {
     "end_time": "2024-02-02T16:21:43.977153Z",
     "start_time": "2024-02-02T16:21:43.362635Z"
    },
    "execution": {
     "iopub.execute_input": "2024-09-12T16:12:01.667746Z",
     "iopub.status.busy": "2024-09-12T16:12:01.667203Z",
     "iopub.status.idle": "2024-09-12T16:12:03.394884Z",
     "shell.execute_reply": "2024-09-12T16:12:03.392242Z"
    },
    "pycharm": {
     "name": "#%%\n"
    }
   },
   "outputs": [
    {
     "data": {
      "text/plain": [
       "<IDF object be917f16-7121-11ef-9c29-3e76f855e01d.idf\n",
       "at <_io.StringIO object at 0x31c224e50>\n",
       "\tVersion 9.6.0\n",
       "Simulation Info:\n",
       "\tNot yet simulated>"
      ]
     },
     "execution_count": 7,
     "metadata": {},
     "output_type": "execute_result"
    }
   ],
   "source": [
    "IDF()"
   ]
  },
  {
   "cell_type": "markdown",
   "id": "84e1f0c2",
   "metadata": {
    "pycharm": {
     "name": "#%% md\n"
    }
   },
   "source": [
    "The third options, and probably the best, is to simply specify the version of energyplus to be used in the constructor of the class:"
   ]
  },
  {
   "cell_type": "code",
   "execution_count": 8,
   "id": "30d90a40",
   "metadata": {
    "ExecuteTime": {
     "end_time": "2024-02-02T16:21:44.037967Z",
     "start_time": "2024-02-02T16:21:43.977556Z"
    },
    "execution": {
     "iopub.execute_input": "2024-09-12T16:12:03.401607Z",
     "iopub.status.busy": "2024-09-12T16:12:03.400732Z",
     "iopub.status.idle": "2024-09-12T16:12:03.571081Z",
     "shell.execute_reply": "2024-09-12T16:12:03.570211Z"
    },
    "pycharm": {
     "name": "#%%\n"
    }
   },
   "outputs": [
    {
     "data": {
      "text/plain": [
       "<IDF object bf9c3d06-7121-11ef-9c29-3e76f855e01d.idf\n",
       "at <_io.StringIO object at 0x30ec200d0>\n",
       "\tVersion 9.6.0\n",
       "Simulation Info:\n",
       "\tNot yet simulated>"
      ]
     },
     "execution_count": 8,
     "metadata": {},
     "output_type": "execute_result"
    }
   ],
   "source": [
    "IDF(as_version=\"9.6\")"
   ]
  },
  {
   "cell_type": "markdown",
   "id": "b3a480f6",
   "metadata": {},
   "source": [
    "<!--NAVIGATION-->\n",
    "< [Introduction to EnergyPlus Models Scripting](02.00-Introduction-to-EnergyPlus-Models-Scripting.ipynb) | [Contents](Index.ipynb) | [Getting and Setting Model Attibutes](02.02-Getting-And-Setting-Model-Attibutes.ipynb) >"
   ]
  }
 ],
 "metadata": {
  "kernelspec": {
   "display_name": "Python 3 (ipykernel)",
   "language": "python",
   "name": "python3"
  },
  "language_info": {
   "codemirror_mode": {
    "name": "ipython",
    "version": 3
   },
   "file_extension": ".py",
   "mimetype": "text/x-python",
   "name": "python",
   "nbconvert_exporter": "python",
   "pygments_lexer": "ipython3",
   "version": "3.9.6"
  },
  "toc": {
   "base_numbering": 1,
   "nav_menu": {},
   "number_sections": true,
   "sideBar": true,
   "skip_h1_title": true,
   "title_cell": "Table of Contents",
   "title_sidebar": "Contents",
   "toc_cell": false,
   "toc_position": {
    "height": "calc(100% - 180px)",
    "left": "10px",
    "top": "150px",
    "width": "302px"
   },
   "toc_section_display": false,
   "toc_window_display": true
  }
 },
 "nbformat": 4,
 "nbformat_minor": 5
}
