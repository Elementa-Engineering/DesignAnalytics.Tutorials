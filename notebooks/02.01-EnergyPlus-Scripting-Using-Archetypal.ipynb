{
 "cells": [
  {
   "cell_type": "markdown",
   "id": "da5f6098",
   "metadata": {
    "pycharm": {
     "name": "#%% md\n"
    },
    "toc": true
   },
   "source": [
    "<h1>Table of Contents<span class=\"tocSkip\"></span></h1>\n",
    "<div class=\"toc\"><ul class=\"toc-item\"><li><span><a href=\"#Model-Basics\" data-toc-modified-id=\"Model-Basics-1\"><span class=\"toc-item-num\">1&nbsp;&nbsp;</span>Model Basics</a></span></li><li><span><a href=\"#Accessing-components-and-reading/setting-their-attributes\" data-toc-modified-id=\"Accessing-components-and-reading/setting-their-attributes-2\"><span class=\"toc-item-num\">2&nbsp;&nbsp;</span>Accessing components and reading/setting their attributes</a></span><ul class=\"toc-item\"><li><span><a href=\"#Tips-and-tricks\" data-toc-modified-id=\"Tips-and-tricks-2.1\"><span class=\"toc-item-num\">2.1&nbsp;&nbsp;</span>Tips and tricks</a></span></li></ul></li><li><span><a href=\"#How-to-parse-an-existing-model\" data-toc-modified-id=\"How-to-parse-an-existing-model-3\"><span class=\"toc-item-num\">3&nbsp;&nbsp;</span>How to parse an existing model</a></span><ul class=\"toc-item\"><li><span><a href=\"#Edit-a-specific-object\" data-toc-modified-id=\"Edit-a-specific-object-3.1\"><span class=\"toc-item-num\">3.1&nbsp;&nbsp;</span>Edit a specific object</a></span></li><li><span><a href=\"#Saving-edits\" data-toc-modified-id=\"Saving-edits-3.2\"><span class=\"toc-item-num\">3.2&nbsp;&nbsp;</span>Saving edits</a></span></li></ul></li><li><span><a href=\"#Accessing-geometry-functions\" data-toc-modified-id=\"Accessing-geometry-functions-4\"><span class=\"toc-item-num\">4&nbsp;&nbsp;</span>Accessing geometry functions</a></span><ul class=\"toc-item\"><li><span><a href=\"#view_model\" data-toc-modified-id=\"view_model-4.1\"><span class=\"toc-item-num\">4.1&nbsp;&nbsp;</span><code>view_model</code></a></span></li><li><span><a href=\"#rotate\" data-toc-modified-id=\"rotate-4.2\"><span class=\"toc-item-num\">4.2&nbsp;&nbsp;</span><code>rotate</code></a></span></li><li><span><a href=\"#translate_to_origin\" data-toc-modified-id=\"translate_to_origin-4.3\"><span class=\"toc-item-num\">4.3&nbsp;&nbsp;</span><code>translate_to_origin</code></a></span></li><li><span><a href=\"#getsurfaces\" data-toc-modified-id=\"getsurfaces-4.4\"><span class=\"toc-item-num\">4.4&nbsp;&nbsp;</span><code>getsurfaces</code></a></span></li></ul></li><li><span><a href=\"#Simulating-a-model\" data-toc-modified-id=\"Simulating-a-model-5\"><span class=\"toc-item-num\">5&nbsp;&nbsp;</span>Simulating a model</a></span><ul class=\"toc-item\"><li><span><a href=\"#Model-changes-and-repeated-simulations\" data-toc-modified-id=\"Model-changes-and-repeated-simulations-5.1\"><span class=\"toc-item-num\">5.1&nbsp;&nbsp;</span>Model changes and repeated simulations</a></span></li></ul></li><li><span><a href=\"#Retrieving-Results\" data-toc-modified-id=\"Retrieving-Results-6\"><span class=\"toc-item-num\">6&nbsp;&nbsp;</span>Retrieving Results</a></span></li></ul></div>"
   ]
  },
  {
   "cell_type": "markdown",
   "id": "0e0b859c",
   "metadata": {},
   "source": [
    "<!--NAVIGATION-->\n",
    "< [Introduction to EnergyPlus Models Scripting](03.00-Introduction-to-EnergyPlus-Models-Scripting.ipynb) | [Contents](Index.ipynb) |"
   ]
  },
  {
   "cell_type": "markdown",
   "id": "ebc3c238",
   "metadata": {
    "pycharm": {
     "name": "#%% md\n"
    }
   },
   "source": [
    "# EnergyPlus Scripting Using Archetypal\n",
    "\n",
    "Archetypal is a scripting package that holistically approaches the creation, simulation and analysis of EnergyPlus models. It draws design concepts from other open source libraries surch as eppy and geomeppy, yet it fixes many pitfalls in an attempt to make the workflow easier and more robust.\n",
    "\n",
    "In this Notebook, you will learn how to use `archetypal` to create new EnergyPlus models, to edit existing ones, to run a simulation and to retrieve results."
   ]
  },
  {
   "cell_type": "markdown",
   "id": "eb131591",
   "metadata": {
    "pycharm": {
     "name": "#%% md\n"
    }
   },
   "source": [
    "## Model Basics\n",
    "\n",
    "In its simplest expression, archetypal defines an `IDF` class which holds all of functionality required to run an EnergyPlus model.\n",
    "\n",
    "One simply imports the IDF class:"
   ]
  },
  {
   "cell_type": "code",
   "execution_count": 1,
   "id": "e8186639",
   "metadata": {
    "pycharm": {
     "name": "#%%\n"
    }
   },
   "outputs": [],
   "source": [
    "from archetypal import IDF"
   ]
  },
  {
   "cell_type": "markdown",
   "id": "dad7249a",
   "metadata": {
    "pycharm": {
     "name": "#%% md\n"
    }
   },
   "source": [
    "And can initialize an empty IDF object:"
   ]
  },
  {
   "cell_type": "code",
   "execution_count": 2,
   "id": "56274d44",
   "metadata": {
    "pycharm": {
     "name": "#%%\n"
    }
   },
   "outputs": [
    {
     "data": {
      "text/plain": [
       "<IDF object 1678cb3e-1fc8-11ed-8872-0a5c624f9c12.idf\n",
       "at <_io.StringIO object at 0x7f4ed9084b80>\n",
       "\tVersion 9.2.0\n",
       "Simulation Info:\n",
       "\tNot yet simulated>"
      ]
     },
     "execution_count": 2,
     "metadata": {},
     "output_type": "execute_result"
    }
   ],
   "source": [
    "IDF()"
   ]
  },
  {
   "cell_type": "markdown",
   "id": "22c74193",
   "metadata": {
    "pycharm": {
     "name": "#%% md\n"
    }
   },
   "source": [
    "Looking at the string representation of the model, we can see that we created an in-memory object (identified by its location at an io.StringIO memory address. We can also see that the EnergyPlus version 9.2.0 has been used by default. This is the default value used by archetypal. One can specify a different EnergyPlus version to be used in 3 ways:\n",
    "\n",
    "1. Specify the version as environement variable.\n",
    "2. Edit the settings.ep_version module variable.\n",
    "2. Specify the `as_version` attribute in the IDF constructor.\n",
    "\n",
    "Let's go over the 3 methods.\n",
    "    \n",
    "To change environment variables:\n",
    "\n",
    "(Note: For this method to work in this Notebook, one would need first to restart the Kernel and then run the following 3 cells)"
   ]
  },
  {
   "cell_type": "code",
   "execution_count": 3,
   "id": "ca58b333",
   "metadata": {
    "pycharm": {
     "name": "#%%\n"
    }
   },
   "outputs": [],
   "source": [
    "import os\n",
    "\n",
    "os.environ[\"ENERGYPLUS_VERSION\"] = \"9.6\""
   ]
  },
  {
   "cell_type": "code",
   "execution_count": 4,
   "id": "94c80d0c",
   "metadata": {
    "pycharm": {
     "name": "#%%\n"
    }
   },
   "outputs": [],
   "source": [
    "from archetypal import IDF"
   ]
  },
  {
   "cell_type": "code",
   "execution_count": 5,
   "id": "17cc223e",
   "metadata": {
    "pycharm": {
     "name": "#%%\n"
    }
   },
   "outputs": [
    {
     "data": {
      "text/plain": [
       "<IDF object 173e8aee-1fc8-11ed-af04-0a5c624f9c12.idf\n",
       "at <_io.StringIO object at 0x7f4ed32a8b80>\n",
       "\tVersion 9.2.0\n",
       "Simulation Info:\n",
       "\tNot yet simulated>"
      ]
     },
     "execution_count": 5,
     "metadata": {},
     "output_type": "execute_result"
    }
   ],
   "source": [
    "IDF()"
   ]
  },
  {
   "cell_type": "markdown",
   "id": "e2e8d9d2",
   "metadata": {
    "pycharm": {
     "name": "#%% md\n"
    }
   },
   "source": [
    "The second option is to change the default value in the archetypal.settings module:"
   ]
  },
  {
   "cell_type": "code",
   "execution_count": 6,
   "id": "9b8d309a",
   "metadata": {
    "pycharm": {
     "name": "#%%\n"
    }
   },
   "outputs": [],
   "source": [
    "from archetypal import settings\n",
    "\n",
    "settings.ep_version = \"9.6\""
   ]
  },
  {
   "cell_type": "code",
   "execution_count": 7,
   "id": "5e3934b7",
   "metadata": {
    "pycharm": {
     "name": "#%%\n"
    }
   },
   "outputs": [
    {
     "data": {
      "text/plain": [
       "<IDF object 1749abe4-1fc8-11ed-80ce-0a5c624f9c12.idf\n",
       "at <_io.StringIO object at 0x7f4ed522af70>\n",
       "\tVersion 9.6\n",
       "Simulation Info:\n",
       "\tNot yet simulated>"
      ]
     },
     "execution_count": 7,
     "metadata": {},
     "output_type": "execute_result"
    }
   ],
   "source": [
    "IDF()"
   ]
  },
  {
   "cell_type": "markdown",
   "id": "84e1f0c2",
   "metadata": {
    "pycharm": {
     "name": "#%% md\n"
    }
   },
   "source": [
    "The third options, and probably the best, is to simply specify the version of energyplus to be used in the constructor of the class:"
   ]
  },
  {
   "cell_type": "code",
   "execution_count": 8,
   "id": "30d90a40",
   "metadata": {
    "pycharm": {
     "name": "#%%\n"
    }
   },
   "outputs": [
    {
     "data": {
      "text/plain": [
       "<IDF object 1805f5a4-1fc8-11ed-a810-0a5c624f9c12.idf\n",
       "at <_io.StringIO object at 0x7f4ed297b700>\n",
       "\tVersion 9.6\n",
       "Simulation Info:\n",
       "\tNot yet simulated>"
      ]
     },
     "execution_count": 8,
     "metadata": {},
     "output_type": "execute_result"
    }
   ],
   "source": [
    "IDF(as_version=\"9.6\")"
   ]
  },
  {
   "cell_type": "markdown",
   "id": "7ae3c2e2",
   "metadata": {
    "pycharm": {
     "name": "#%% md\n"
    }
   },
   "source": [
    "## Accessing components and reading/setting their attributes\n",
    "\n",
    "The main use case for archetypal is the ability to programatically modify component attributes."
   ]
  },
  {
   "cell_type": "code",
   "execution_count": 9,
   "id": "259efdae",
   "metadata": {
    "pycharm": {
     "name": "#%%\n"
    }
   },
   "outputs": [],
   "source": [
    "idf = IDF()"
   ]
  },
  {
   "cell_type": "markdown",
   "id": "cc6885f1",
   "metadata": {
    "pycharm": {
     "name": "#%% md\n"
    }
   },
   "source": [
    "To access all of the Material objects in the IDF model:"
   ]
  },
  {
   "cell_type": "code",
   "execution_count": 10,
   "id": "11fcae31",
   "metadata": {
    "pycharm": {
     "name": "#%%\n"
    }
   },
   "outputs": [
    {
     "data": {
      "text/plain": [
       "[]"
      ]
     },
     "execution_count": 10,
     "metadata": {},
     "output_type": "execute_result"
    }
   ],
   "source": [
    "idf.idfobjects[\"MATERIAL\"]"
   ]
  },
  {
   "cell_type": "markdown",
   "id": "9a1cb72f",
   "metadata": {
    "pycharm": {
     "name": "#%% md\n"
    }
   },
   "source": [
    "The output above shows that the returns list is empty, since our empty model does not have an materials in it. Let's create one.\n",
    "\n",
    "There are different ways of adding new objects to a model:\n",
    "\n",
    "- `IDF.newidfobject` [docs](https://archetypal.readthedocs.io/en/stable/reference/archetypal.idfclass.IDF.html#archetypal.idfclass.IDF.newidfobject) will create a new component and add it directly to the model.\n",
    "- `IDF.anidfobject` [docs](https://archetypal.readthedocs.io/en/stable/reference/archetypal.idfclass.IDF.html#archetypal.idfclass.IDF.anidfobject) in combination with `IDF.addidfobject` [docs](https://archetypal.readthedocs.io/en/stable/reference/archetypal.idfclass.IDF.html#archetypal.idfclass.IDF.addidfobject) and `IDF.addidfobjects` [docs](https://archetypal.readthedocs.io/en/stable/reference/archetypal.idfclass.IDF.html#archetypal.idfclass.IDF.addidfobjects) will create a new component but will not be added to the model `IDF.addidfobject` or `IDF.addidfobjects` must be called after the object creation.\n",
    "\n",
    "For example, we specify a new Material and its properties by passnig the `key` (or the objects Component type) as an All-Caps string \"MATERIAL\" and then the attributes as key-value pairs like in any python methods or functions:"
   ]
  },
  {
   "cell_type": "code",
   "execution_count": 11,
   "id": "87376c61",
   "metadata": {
    "pycharm": {
     "name": "#%%\n"
    }
   },
   "outputs": [
    {
     "data": {
      "text/plain": [
       "\n",
       "MATERIAL,\n",
       "    My New Material,          !- Name\n",
       "    ,                         !- Roughness\n",
       "    0.05,                     !- Thickness\n",
       "    ,                         !- Conductivity\n",
       "    ,                         !- Density\n",
       "    ,                         !- Specific Heat\n",
       "    0.9,                      !- Thermal Absorptance\n",
       "    0.7,                      !- Solar Absorptance\n",
       "    0.7;                      !- Visible Absorptance"
      ]
     },
     "execution_count": 11,
     "metadata": {},
     "output_type": "execute_result"
    }
   ],
   "source": [
    "idf.newidfobject(\"MATERIAL\", Name=\"My New Material\", Thickness=0.05)"
   ]
  },
  {
   "cell_type": "markdown",
   "id": "680b93f7",
   "metadata": {
    "pycharm": {
     "name": "#%% md\n"
    }
   },
   "source": [
    "We can verify that this object has been added by looking at the dictionary repository of objects defined in the model using the `IDF.idfobjects` property:"
   ]
  },
  {
   "cell_type": "code",
   "execution_count": 12,
   "id": "503088fa",
   "metadata": {
    "pycharm": {
     "name": "#%%\n"
    }
   },
   "outputs": [
    {
     "data": {
      "text/plain": [
       "[\n",
       "MATERIAL,\n",
       "    My New Material,          !- Name\n",
       "    ,                         !- Roughness\n",
       "    0.05,                     !- Thickness\n",
       "    ,                         !- Conductivity\n",
       "    ,                         !- Density\n",
       "    ,                         !- Specific Heat\n",
       "    0.9,                      !- Thermal Absorptance\n",
       "    0.7,                      !- Solar Absorptance\n",
       "    0.7;                      !- Visible Absorptance\n",
       "]"
      ]
     },
     "execution_count": 12,
     "metadata": {},
     "output_type": "execute_result"
    }
   ],
   "source": [
    "idf.idfobjects[\"MATERIAL\"]"
   ]
  },
  {
   "cell_type": "markdown",
   "id": "ed4fabe8",
   "metadata": {
    "pycharm": {
     "name": "#%% md\n"
    }
   },
   "source": [
    "Similarly, we can delay the craetion of an object by calling `IDF.anidfobject` instead:"
   ]
  },
  {
   "cell_type": "code",
   "execution_count": 13,
   "id": "e0e6dd30",
   "metadata": {
    "pycharm": {
     "name": "#%%\n"
    }
   },
   "outputs": [
    {
     "data": {
      "text/plain": [
       "\n",
       "MATERIAL,\n",
       "    My New Material 2,        !- Name\n",
       "    ,                         !- Roughness\n",
       "    0.05,                     !- Thickness\n",
       "    ,                         !- Conductivity\n",
       "    ,                         !- Density\n",
       "    ,                         !- Specific Heat\n",
       "    0.89,                     !- Thermal Absorptance\n",
       "    0.7,                      !- Solar Absorptance\n",
       "    0.7;                      !- Visible Absorptance"
      ]
     },
     "execution_count": 13,
     "metadata": {},
     "output_type": "execute_result"
    }
   ],
   "source": [
    "mat = idf.anidfobject(\n",
    "    \"MATERIAL\", Name=\"My New Material 2\", Thickness=0.05, Thermal_Absorptance=0.89\n",
    ")\n",
    "mat  # object has been assigned to variable `mat`"
   ]
  },
  {
   "cell_type": "markdown",
   "id": "41bac33f",
   "metadata": {
    "pycharm": {
     "name": "#%% md\n"
    }
   },
   "source": [
    "And then the object can be added to the model with:"
   ]
  },
  {
   "cell_type": "code",
   "execution_count": 14,
   "id": "5329751c",
   "metadata": {
    "pycharm": {
     "name": "#%%\n"
    }
   },
   "outputs": [
    {
     "data": {
      "text/plain": [
       "\n",
       "MATERIAL,\n",
       "    My New Material 2,        !- Name\n",
       "    ,                         !- Roughness\n",
       "    0.05,                     !- Thickness\n",
       "    ,                         !- Conductivity\n",
       "    ,                         !- Density\n",
       "    ,                         !- Specific Heat\n",
       "    0.89,                     !- Thermal Absorptance\n",
       "    0.7,                      !- Solar Absorptance\n",
       "    0.7;                      !- Visible Absorptance"
      ]
     },
     "execution_count": 14,
     "metadata": {},
     "output_type": "execute_result"
    }
   ],
   "source": [
    "idf.addidfobject(mat)"
   ]
  },
  {
   "cell_type": "markdown",
   "id": "92c1f17c",
   "metadata": {
    "pycharm": {
     "name": "#%% md\n"
    }
   },
   "source": [
    "Calling again `IDF.idfobjects`, we have 2 materials in the model:"
   ]
  },
  {
   "cell_type": "code",
   "execution_count": 15,
   "id": "d6a090bc",
   "metadata": {
    "pycharm": {
     "name": "#%%\n"
    }
   },
   "outputs": [
    {
     "data": {
      "text/plain": [
       "[\n",
       "MATERIAL,\n",
       "    My New Material,          !- Name\n",
       "    ,                         !- Roughness\n",
       "    0.05,                     !- Thickness\n",
       "    ,                         !- Conductivity\n",
       "    ,                         !- Density\n",
       "    ,                         !- Specific Heat\n",
       "    0.9,                      !- Thermal Absorptance\n",
       "    0.7,                      !- Solar Absorptance\n",
       "    0.7;                      !- Visible Absorptance\n",
       ", \n",
       "MATERIAL,\n",
       "    My New Material 2,        !- Name\n",
       "    ,                         !- Roughness\n",
       "    0.05,                     !- Thickness\n",
       "    ,                         !- Conductivity\n",
       "    ,                         !- Density\n",
       "    ,                         !- Specific Heat\n",
       "    0.89,                     !- Thermal Absorptance\n",
       "    0.7,                      !- Solar Absorptance\n",
       "    0.7;                      !- Visible Absorptance\n",
       "]"
      ]
     },
     "execution_count": 15,
     "metadata": {},
     "output_type": "execute_result"
    }
   ],
   "source": [
    "idf.idfobjects[\"MATERIAL\"]"
   ]
  },
  {
   "cell_type": "markdown",
   "id": "025ffffb",
   "metadata": {
    "pycharm": {
     "name": "#%% md\n"
    }
   },
   "source": [
    "### Tips and tricks\n",
    "\n",
    "Granted it can be hard to know what are the attribute names of a component especially since EnergyPlus has a huge list of components to choose from.\n",
    "\n",
    "One trick is to call the creation of an object with it's default value and to call the `dict` methdod to return the atribute names:"
   ]
  },
  {
   "cell_type": "code",
   "execution_count": 16,
   "id": "bb963338",
   "metadata": {
    "pycharm": {
     "name": "#%%\n"
    }
   },
   "outputs": [
    {
     "data": {
      "text/plain": [
       "{'key': 'MATERIAL:NOMASS',\n",
       " 'Name': '',\n",
       " 'Roughness': '',\n",
       " 'Thermal_Resistance': '',\n",
       " 'Thermal_Absorptance': 0.9,\n",
       " 'Solar_Absorptance': 0.7,\n",
       " 'Visible_Absorptance': 0.7}"
      ]
     },
     "execution_count": 16,
     "metadata": {},
     "output_type": "execute_result"
    }
   ],
   "source": [
    "idf.anidfobject(\"MATERIAL:NOMASS\").to_dict()"
   ]
  },
  {
   "cell_type": "markdown",
   "id": "f2f990d9",
   "metadata": {
    "pycharm": {
     "name": "#%% md\n"
    }
   },
   "source": [
    "You would then copy the dictionary above in a cell and make changes to the attribute values as such:"
   ]
  },
  {
   "cell_type": "code",
   "execution_count": 17,
   "id": "4bb8b31c",
   "metadata": {
    "pycharm": {
     "name": "#%%\n"
    }
   },
   "outputs": [
    {
     "data": {
      "text/plain": [
       "{'field': ['Roughness'],\n",
       " 'required-field': [''],\n",
       " 'type': ['choice'],\n",
       " 'key': ['VeryRough',\n",
       "  'Rough',\n",
       "  'MediumRough',\n",
       "  'MediumSmooth',\n",
       "  'Smooth',\n",
       "  'VerySmooth']}"
      ]
     },
     "execution_count": 17,
     "metadata": {},
     "output_type": "execute_result"
    }
   ],
   "source": [
    "idf.anidfobject(\"MATERIAL:NOMASS\").getfieldidd(\"Roughness\")"
   ]
  },
  {
   "cell_type": "code",
   "execution_count": 18,
   "id": "42d71d3a",
   "metadata": {
    "pycharm": {
     "name": "#%%\n"
    }
   },
   "outputs": [],
   "source": [
    "mat_dict = {\n",
    "    \"key\": \"MATERIAL:NOMASS\",\n",
    "    \"Name\": \"My NoMass material\",\n",
    "    \"Roughness\": \"\",\n",
    "    \"Thermal_Resistance\": \"\",\n",
    "    \"Thermal_Absorptance\": 0.9,\n",
    "    \"Solar_Absorptance\": 0.7,\n",
    "    \"Visible_Absorptance\": 0.7,\n",
    "}"
   ]
  },
  {
   "cell_type": "markdown",
   "id": "1623ba7d",
   "metadata": {
    "pycharm": {
     "name": "#%% md\n"
    }
   },
   "source": [
    "But what is \"**Roughness**\"! And what are the valid values that EnergyPlus will accept? We could go to the EnergyPlus online documentation for the Material:NoMass class and fetch the info there, but there is an easier option:\n",
    "\n",
    "Thankfully, `eppy` has done some heavylifting behind the scene and has parsed all of the content of the EnergyPlus IDD file which holds the recipy book for all the EnergyPlus component in a specific EnergyPlus version.\n",
    "\n",
    "One can retrieve this IDD information for any fieldname by calling `EPBunch.getfield(<fieldname>)`.\n",
    "\n",
    "<div class=\"alert alert-block alert-info\">\n",
    "<b>Sidenote:</b> the components in an IDF model are of a special type of class called an `EPBunch`.\n",
    "</div>"
   ]
  },
  {
   "cell_type": "code",
   "execution_count": 19,
   "id": "5770dc5e",
   "metadata": {
    "pycharm": {
     "name": "#%%\n"
    }
   },
   "outputs": [
    {
     "data": {
      "text/plain": [
       "{'field': ['Roughness'],\n",
       " 'required-field': [''],\n",
       " 'type': ['choice'],\n",
       " 'key': ['VeryRough',\n",
       "  'Rough',\n",
       "  'MediumRough',\n",
       "  'MediumSmooth',\n",
       "  'Smooth',\n",
       "  'VerySmooth']}"
      ]
     },
     "execution_count": 19,
     "metadata": {},
     "output_type": "execute_result"
    }
   ],
   "source": [
    "idf.anidfobject(\"MATERIAL:NOMASS\").getfieldidd(\"Roughness\")"
   ]
  },
  {
   "cell_type": "markdown",
   "id": "7e9ab90c",
   "metadata": {
    "pycharm": {
     "name": "#%% md\n"
    }
   },
   "source": [
    "The information above tells me that the field \"Roughness\" is not a \"required-field\" (it can be left empty), and that the choices are on off ['VeryRough',  'Rough',  'MediumRough',  'MediumSmooth',  'Smooth',  'VerySmooth']:\n",
    "\n",
    "So I can continue edition my dictionary with the required Roughness:"
   ]
  },
  {
   "cell_type": "code",
   "execution_count": 20,
   "id": "d484bfb9",
   "metadata": {
    "pycharm": {
     "name": "#%%\n"
    }
   },
   "outputs": [],
   "source": [
    "mat_dict = {\n",
    "    \"key\": \"MATERIAL:NOMASS\",\n",
    "    \"Name\": \"My NoMass material\",\n",
    "    \"Roughness\": \"Smooth\",\n",
    "    \"Thermal_Resistance\": \"\",\n",
    "    \"Thermal_Absorptance\": 0.9,\n",
    "    \"Solar_Absorptance\": 0.7,\n",
    "    \"Visible_Absorptance\": 0.7,\n",
    "}"
   ]
  },
  {
   "cell_type": "markdown",
   "id": "65ffab85",
   "metadata": {
    "pycharm": {
     "name": "#%% md\n"
    }
   },
   "source": [
    "Finally, I can create the new material object using the dictionary and python's special double-star (**) syntax which will unpack the key-values of the dictionary as paramters of the `newidfobject` method: "
   ]
  },
  {
   "cell_type": "code",
   "execution_count": 21,
   "id": "d1ffa93a",
   "metadata": {
    "pycharm": {
     "name": "#%%\n"
    }
   },
   "outputs": [
    {
     "data": {
      "text/plain": [
       "\n",
       "MATERIAL:NOMASS,\n",
       "    My NoMass material,       !- Name\n",
       "    Smooth,                   !- Roughness\n",
       "    ,                         !- Thermal Resistance\n",
       "    0.9,                      !- Thermal Absorptance\n",
       "    0.7,                      !- Solar Absorptance\n",
       "    0.7;                      !- Visible Absorptance"
      ]
     },
     "execution_count": 21,
     "metadata": {},
     "output_type": "execute_result"
    }
   ],
   "source": [
    "idf.newidfobject(**mat_dict)"
   ]
  },
  {
   "cell_type": "markdown",
   "id": "aa3a6222",
   "metadata": {
    "pycharm": {
     "name": "#%% md\n"
    }
   },
   "source": [
    "## How to parse an existing model"
   ]
  },
  {
   "cell_type": "code",
   "execution_count": 22,
   "id": "47d86312",
   "metadata": {
    "pycharm": {
     "name": "#%%\n"
    }
   },
   "outputs": [],
   "source": [
    "idf = IDF(\"seed_file_V960.idf\")"
   ]
  },
  {
   "cell_type": "code",
   "execution_count": 23,
   "id": "73768862",
   "metadata": {
    "pycharm": {
     "name": "#%%\n"
    }
   },
   "outputs": [
    {
     "data": {
      "text/plain": [
       "[\n",
       "Material,\n",
       "    8IN CONCRETE HW,          !- Name\n",
       "    MediumRough,              !- Roughness\n",
       "    0.2033,                   !- Thickness\n",
       "    1.72959999999999,         !- Conductivity\n",
       "    2242.99999999999,         !- Density\n",
       "    836.999999999999,         !- Specific Heat\n",
       "    0.87,                     !- Thermal Absorptance\n",
       "    0.65,                     !- Solar Absorptance\n",
       "    0.7;                      !- Visible Absorptance\n",
       ", \n",
       "Material,\n",
       "    ATTICFLOOR INSULATION R-45.65 IP,    !- Name\n",
       "    MediumRough,              !- Roughness\n",
       "    0.393911555076,           !- Thickness\n",
       "    0.049,                    !- Conductivity\n",
       "    265,                      !- Density\n",
       "    836.800000000001,         !- Specific Heat\n",
       "    0.9,                      !- Thermal Absorptance\n",
       "    0.7,                      !- Solar Absorptance\n",
       "    0.7;                      !- Visible Absorptance\n",
       ", \n",
       "Material,\n",
       "    G01a 19mm gypsum board,    !- Name\n",
       "    MediumSmooth,             !- Roughness\n",
       "    0.019,                    !- Thickness\n",
       "    0.16,                     !- Conductivity\n",
       "    800,                      !- Density\n",
       "    1090,                     !- Specific Heat\n",
       "    0.9,                      !- Thermal Absorptance\n",
       "    0.7,                      !- Solar Absorptance\n",
       "    0.7;                      !- Visible Absorptance\n",
       "]"
      ]
     },
     "execution_count": 23,
     "metadata": {},
     "output_type": "execute_result"
    }
   ],
   "source": [
    "idf.idfobjects[\"MATERIAL\"]"
   ]
  },
  {
   "cell_type": "markdown",
   "id": "b761f35b",
   "metadata": {
    "pycharm": {
     "name": "#%% md\n"
    }
   },
   "source": [
    "### Edit a specific object"
   ]
  },
  {
   "cell_type": "code",
   "execution_count": 24,
   "id": "3e611dec",
   "metadata": {
    "pycharm": {
     "name": "#%%\n"
    }
   },
   "outputs": [
    {
     "data": {
      "text/plain": [
       "\n",
       "Material,\n",
       "    8IN CONCRETE HW,          !- Name\n",
       "    MediumRough,              !- Roughness\n",
       "    0.2033,                   !- Thickness\n",
       "    1.72959999999999,         !- Conductivity\n",
       "    2242.99999999999,         !- Density\n",
       "    836.999999999999,         !- Specific Heat\n",
       "    0.87,                     !- Thermal Absorptance\n",
       "    0.65,                     !- Solar Absorptance\n",
       "    0.7;                      !- Visible Absorptance"
      ]
     },
     "execution_count": 24,
     "metadata": {},
     "output_type": "execute_result"
    }
   ],
   "source": [
    "mat_concrete = idf.getobject(\"MATERIAL\", \"8IN CONCRETE HW\")\n",
    "mat_concrete"
   ]
  },
  {
   "cell_type": "code",
   "execution_count": 25,
   "id": "b42e8466",
   "metadata": {
    "pycharm": {
     "name": "#%%\n"
    }
   },
   "outputs": [
    {
     "data": {
      "text/plain": [
       "0.87"
      ]
     },
     "execution_count": 25,
     "metadata": {},
     "output_type": "execute_result"
    }
   ],
   "source": [
    "mat_concrete.Thermal_Absorptance"
   ]
  },
  {
   "cell_type": "code",
   "execution_count": 26,
   "id": "30765dbe",
   "metadata": {
    "pycharm": {
     "name": "#%%\n"
    }
   },
   "outputs": [],
   "source": [
    "mat_concrete.Thermal_Absorptance = 0.87"
   ]
  },
  {
   "cell_type": "code",
   "execution_count": 27,
   "id": "91cf828f",
   "metadata": {
    "pycharm": {
     "name": "#%%\n"
    }
   },
   "outputs": [
    {
     "data": {
      "text/plain": [
       "\n",
       "Material,\n",
       "    8IN CONCRETE HW,          !- Name\n",
       "    MediumRough,              !- Roughness\n",
       "    0.2033,                   !- Thickness\n",
       "    1.72959999999999,         !- Conductivity\n",
       "    2242.99999999999,         !- Density\n",
       "    836.999999999999,         !- Specific Heat\n",
       "    0.87,                     !- Thermal Absorptance\n",
       "    0.65,                     !- Solar Absorptance\n",
       "    0.7;                      !- Visible Absorptance"
      ]
     },
     "execution_count": 27,
     "metadata": {},
     "output_type": "execute_result"
    }
   ],
   "source": [
    "mat_concrete"
   ]
  },
  {
   "cell_type": "markdown",
   "id": "f97bb57f",
   "metadata": {
    "pycharm": {
     "name": "#%% md\n"
    }
   },
   "source": [
    "### Saving edits\n",
    "\n",
    "The IDF object has a property called `filename`. This is used to point to a filepath on the system where the object will be written."
   ]
  },
  {
   "cell_type": "code",
   "execution_count": 28,
   "id": "42184419",
   "metadata": {
    "pycharm": {
     "name": "#%%\n"
    }
   },
   "outputs": [
    {
     "data": {
      "text/plain": [
       "Path('seed_file_V960.idf')"
      ]
     },
     "execution_count": 28,
     "metadata": {},
     "output_type": "execute_result"
    }
   ],
   "source": [
    "idf.idfname"
   ]
  },
  {
   "cell_type": "markdown",
   "id": "da4a7e9c",
   "metadata": {
    "pycharm": {
     "name": "#%% md\n"
    }
   },
   "source": [
    "This property has been set by the constructor `IDF()` used above with the value `seed_file_V960.idf`. If we call the IDF.save() method, this will overwrite the contents of the file:"
   ]
  },
  {
   "cell_type": "code",
   "execution_count": 29,
   "id": "9123a911",
   "metadata": {
    "pycharm": {
     "name": "#%%\n"
    }
   },
   "outputs": [
    {
     "data": {
      "text/plain": [
       "<IDF object seed_file_V960.idf\n",
       "at seed_file_V960.idf\n",
       "\tVersion 9.6\n",
       "Simulation Info:\n",
       "\tNot yet simulated>"
      ]
     },
     "execution_count": 29,
     "metadata": {},
     "output_type": "execute_result"
    }
   ],
   "source": [
    "idf.save()"
   ]
  },
  {
   "cell_type": "markdown",
   "id": "5a31d105",
   "metadata": {
    "pycharm": {
     "name": "#%% md\n"
    }
   },
   "source": [
    "If we made edits and would rather not overwrite the content of the file, but create a new file, then we would use the `IDF.saveas()` method and specify a different path to the file we would like to create."
   ]
  },
  {
   "cell_type": "code",
   "execution_count": 30,
   "id": "bb3f18d1",
   "metadata": {
    "pycharm": {
     "name": "#%%\n"
    }
   },
   "outputs": [
    {
     "data": {
      "text/plain": [
       "<IDF object seed_file_V960.idf\n",
       "at seed_file_V960_edited.idf\n",
       "\tVersion 9.6\n",
       "Simulation Info:\n",
       "\tNot yet simulated>"
      ]
     },
     "execution_count": 30,
     "metadata": {},
     "output_type": "execute_result"
    }
   ],
   "source": [
    "idf.saveas(\"seed_file_V960_edited.idf\")"
   ]
  },
  {
   "cell_type": "markdown",
   "id": "52a2d1ff",
   "metadata": {
    "pycharm": {
     "name": "#%% md\n"
    }
   },
   "source": [
    "<div class=\"alert alert-block alert-info\">\n",
    "<b>Important:</b> Note that IDF.saveas does not mutate (or modify) the object, meaning that `idf` still refers to the previous file location. With IDF.saveas(), a new IDF object is created (pointing to the new path) and it is returned; This is what we see in the output of the cell above. We can instead mutate the object by calling idf.saveas(\"seed_file_V960_edited.idf\", inplace=True), essentially replacing the reference to `seed_file_V960.idf` with `seed_file_V960_edited.idf` inplace.\n",
    "</div>\n",
    "\n",
    "saveas can be used to create a new object:"
   ]
  },
  {
   "cell_type": "code",
   "execution_count": 31,
   "id": "e5620ac8",
   "metadata": {
    "pycharm": {
     "name": "#%%\n"
    }
   },
   "outputs": [],
   "source": [
    "new_idf = idf.saveas(\"seed_file_V960_edited.idf\")"
   ]
  },
  {
   "cell_type": "code",
   "execution_count": 32,
   "id": "f1a0dce8",
   "metadata": {
    "pycharm": {
     "name": "#%%\n"
    }
   },
   "outputs": [
    {
     "data": {
      "text/plain": [
       "True"
      ]
     },
     "execution_count": 32,
     "metadata": {},
     "output_type": "execute_result"
    }
   ],
   "source": [
    "idf.idfname != new_idf.idfname"
   ]
  },
  {
   "cell_type": "markdown",
   "id": "ead5a98c",
   "metadata": {
    "pycharm": {
     "name": "#%% md\n"
    }
   },
   "source": [
    "Or to mutate the current object inplace:"
   ]
  },
  {
   "cell_type": "code",
   "execution_count": 33,
   "id": "c2ef6027",
   "metadata": {
    "pycharm": {
     "name": "#%%\n"
    }
   },
   "outputs": [],
   "source": [
    "idf.saveas(\"seed_file_V960_edited.idf\", inplace=True)"
   ]
  },
  {
   "cell_type": "code",
   "execution_count": 34,
   "id": "6734b316",
   "metadata": {
    "pycharm": {
     "name": "#%%\n"
    }
   },
   "outputs": [
    {
     "data": {
      "text/plain": [
       "True"
      ]
     },
     "execution_count": 34,
     "metadata": {},
     "output_type": "execute_result"
    }
   ],
   "source": [
    "idf.idfname == new_idf.idfname"
   ]
  },
  {
   "cell_type": "markdown",
   "id": "899ca019",
   "metadata": {
    "pycharm": {
     "name": "#%% md\n"
    }
   },
   "source": [
    "## Accessing geometry functions\n",
    "\n",
    "The IDF class exposes methods regarding the geometry of the file thanks to the `geomeppy` package.\n",
    "\n",
    "Here are some common methods worth knowing:\n",
    "\n",
    "\n",
    "- [IDF.view_model()](https://archetypal.readthedocs.io/en/stable/reference/archetypal.idfclass.IDF.html#archetypal.idfclass.IDF.view_model)\n",
    "- [IDF.rotate()](https://archetypal.readthedocs.io/en/stable/reference/archetypal.idfclass.IDF.html#archetypal.idfclass.IDF.rotate)\n",
    "- [IDF.translate()](https://archetypal.readthedocs.io/en/stable/reference/archetypal.idfclass.IDF.html#archetypal.idfclass.IDF.translate)\n",
    "- [IDF.translate_to_origin()](https://archetypal.readthedocs.io/en/stable/reference/archetypal.idfclass.IDF.html#archetypal.idfclass.IDF.translate_to_origin)\n",
    "- [IDF.getsurfaces()](https://archetypal.readthedocs.io/en/stable/reference/archetypal.idfclass.IDF.html#archetypal.idfclass.IDF.getsurfaces)"
   ]
  },
  {
   "cell_type": "markdown",
   "id": "fce9ae5f",
   "metadata": {
    "pycharm": {
     "name": "#%% md\n"
    }
   },
   "source": [
    "### `view_model`"
   ]
  },
  {
   "cell_type": "code",
   "execution_count": 35,
   "id": "d5374c07",
   "metadata": {
    "pycharm": {
     "name": "#%%\n"
    }
   },
   "outputs": [
    {
     "data": {
      "image/png": "[encoded data removed]",
      "text/plain": [
       "<Figure size 432x288 with 1 Axes>"
      ]
     },
     "metadata": {
      "needs_background": "light"
     },
     "output_type": "display_data"
    }
   ],
   "source": [
    "idf.view_model()"
   ]
  },
  {
   "cell_type": "markdown",
   "id": "cfbd16bb",
   "metadata": {
    "pycharm": {
     "name": "#%% md\n"
    }
   },
   "source": [
    "### `rotate`"
   ]
  },
  {
   "cell_type": "code",
   "execution_count": 36,
   "id": "fafb6cba",
   "metadata": {
    "pycharm": {
     "name": "#%%\n"
    }
   },
   "outputs": [
    {
     "data": {
      "image/png": "[encoded data removed]",
      "text/plain": [
       "<Figure size 432x288 with 1 Axes>"
      ]
     },
     "metadata": {
      "needs_background": "light"
     },
     "output_type": "display_data"
    }
   ],
   "source": [
    "idf.rotate(15)\n",
    "idf.view_model()"
   ]
  },
  {
   "cell_type": "code",
   "execution_count": 37,
   "id": "6457eae4",
   "metadata": {
    "pycharm": {
     "name": "#%%\n"
    }
   },
   "outputs": [
    {
     "data": {
      "image/png": "[encoded data removed]",
      "text/plain": [
       "<Figure size 432x288 with 1 Axes>"
      ]
     },
     "metadata": {
      "needs_background": "light"
     },
     "output_type": "display_data"
    }
   ],
   "source": [
    "idf.translate((50,50, 0))\n",
    "idf.view_model()"
   ]
  },
  {
   "cell_type": "markdown",
   "id": "d98f95e7",
   "metadata": {
    "pycharm": {
     "name": "#%% md\n"
    }
   },
   "source": [
    "### `translate_to_origin`"
   ]
  },
  {
   "cell_type": "code",
   "execution_count": 38,
   "id": "ad75502e",
   "metadata": {
    "pycharm": {
     "name": "#%%\n"
    }
   },
   "outputs": [
    {
     "data": {
      "image/png": "[encoded data removed]",
      "text/plain": [
       "<Figure size 432x288 with 1 Axes>"
      ]
     },
     "metadata": {
      "needs_background": "light"
     },
     "output_type": "display_data"
    }
   ],
   "source": [
    "idf.translate_to_origin()\n",
    "idf.view_model()"
   ]
  },
  {
   "cell_type": "markdown",
   "id": "9fbfffaf",
   "metadata": {
    "pycharm": {
     "name": "#%% md\n"
    }
   },
   "source": [
    "### `getsurfaces`\n",
    "\n",
    "Retrieves surfaces (walls, Floor, Roof, etc.) for all or a certain type:"
   ]
  },
  {
   "cell_type": "code",
   "execution_count": 39,
   "id": "a1d91576",
   "metadata": {
    "pycharm": {
     "name": "#%%\n"
    }
   },
   "outputs": [
    {
     "data": {
      "text/plain": [
       "[\n",
       " BuildingSurface:Detailed,\n",
       "     zone_5_Srf_0,             !- Name\n",
       "     Wall,                     !- Surface Type\n",
       "     Interior Wall,            !- Construction Name\n",
       "     zone_5,                   !- Zone Name\n",
       "     ,                         !- Space Name\n",
       "     Surface,                  !- Outside Boundary Condition\n",
       "     zone_7_Srf_2,             !- Outside Boundary Condition Object\n",
       "     NoSun,                    !- Sun Exposure\n",
       "     NoWind,                   !- Wind Exposure\n",
       "     ,                         !- View Factor to Ground\n",
       "     ,                         !- Number of Vertices\n",
       "     30.335646393834168,       !- Vertex 1 Xcoordinate\n",
       "     25.685963145907166,       !- Vertex 1 Ycoordinate\n",
       "     4.5,                      !- Vertex 1 Zcoordinate\n",
       "     30.335646393834168,       !- Vertex 2 Xcoordinate\n",
       "     25.685963145907166,       !- Vertex 2 Ycoordinate\n",
       "     0,                        !- Vertex 2 Zcoordinate\n",
       "     5.511351921262147,        !- Vertex 3 Xcoordinate\n",
       "     19.034313489309113,       !- Vertex 3 Ycoordinate\n",
       "     0,                        !- Vertex 3 Zcoordinate\n",
       "     5.511351921262147,        !- Vertex 4 Xcoordinate\n",
       "     19.034313489309113,       !- Vertex 4 Ycoordinate\n",
       "     4.5;                      !- Vertex 4 Zcoordinate,\n",
       " \n",
       " BuildingSurface:Detailed,\n",
       "     zone_5_Srf_1,             !- Name\n",
       "     Wall,                     !- Surface Type\n",
       "     Interior Wall,            !- Construction Name\n",
       "     zone_5,                   !- Zone Name\n",
       "     ,                         !- Space Name\n",
       "     Surface,                  !- Outside Boundary Condition\n",
       "     zone_8_Srf_2,             !- Outside Boundary Condition Object\n",
       "     NoSun,                    !- Sun Exposure\n",
       "     NoWind,                   !- Wind Exposure\n",
       "     ,                         !- View Factor to Ground\n",
       "     ,                         !- Number of Vertices\n",
       "     5.511351921262147,        !- Vertex 1 Xcoordinate\n",
       "     19.034313489309113,       !- Vertex 1 Ycoordinate\n",
       "     4.5,                      !- Vertex 1 Zcoordinate\n",
       "     5.511351921262147,        !- Vertex 2 Xcoordinate\n",
       "     19.034313489309113,       !- Vertex 2 Ycoordinate\n",
       "     0,                        !- Vertex 2 Zcoordinate\n",
       "     9.134818552697439,        !- Vertex 3 Xcoordinate\n",
       "     5.511351921262147,        !- Vertex 3 Ycoordinate\n",
       "     0,                        !- Vertex 3 Zcoordinate\n",
       "     9.134818552697439,        !- Vertex 4 Xcoordinate\n",
       "     5.511351921262147,        !- Vertex 4 Ycoordinate\n",
       "     4.5;                      !- Vertex 4 Zcoordinate,\n",
       " \n",
       " BuildingSurface:Detailed,\n",
       "     zone_5_Srf_2,             !- Name\n",
       "     Wall,                     !- Surface Type\n",
       "     Interior Wall,            !- Construction Name\n",
       "     zone_5,                   !- Zone Name\n",
       "     ,                         !- Space Name\n",
       "     Surface,                  !- Outside Boundary Condition\n",
       "     zone_9_Srf_2,             !- Outside Boundary Condition Object\n",
       "     NoSun,                    !- Sun Exposure\n",
       "     NoWind,                   !- Wind Exposure\n",
       "     ,                         !- View Factor to Ground\n",
       "     ,                         !- Number of Vertices\n",
       "     9.134818552697439,        !- Vertex 1 Xcoordinate\n",
       "     5.511351921262147,        !- Vertex 1 Ycoordinate\n",
       "     4.5,                      !- Vertex 1 Zcoordinate\n",
       "     9.134818552697439,        !- Vertex 2 Xcoordinate\n",
       "     5.511351921262147,        !- Vertex 2 Ycoordinate\n",
       "     0,                        !- Vertex 2 Zcoordinate\n",
       "     33.95911302526946,        !- Vertex 3 Xcoordinate\n",
       "     12.163001577860207,       !- Vertex 3 Ycoordinate\n",
       "     0,                        !- Vertex 3 Zcoordinate\n",
       "     33.95911302526946,        !- Vertex 4 Xcoordinate\n",
       "     12.163001577860207,       !- Vertex 4 Ycoordinate\n",
       "     4.5;                      !- Vertex 4 Zcoordinate,\n",
       " \n",
       " BuildingSurface:Detailed,\n",
       "     zone_5_Srf_3,             !- Name\n",
       "     Wall,                     !- Surface Type\n",
       "     Interior Wall,            !- Construction Name\n",
       "     zone_5,                   !- Zone Name\n",
       "     ,                         !- Space Name\n",
       "     Surface,                  !- Outside Boundary Condition\n",
       "     zone_6_Srf_2,             !- Outside Boundary Condition Object\n",
       "     NoSun,                    !- Sun Exposure\n",
       "     NoWind,                   !- Wind Exposure\n",
       "     ,                         !- View Factor to Ground\n",
       "     ,                         !- Number of Vertices\n",
       "     33.95911302526946,        !- Vertex 1 Xcoordinate\n",
       "     12.163001577860207,       !- Vertex 1 Ycoordinate\n",
       "     4.5,                      !- Vertex 1 Zcoordinate\n",
       "     33.95911302526946,        !- Vertex 2 Xcoordinate\n",
       "     12.163001577860207,       !- Vertex 2 Ycoordinate\n",
       "     0,                        !- Vertex 2 Zcoordinate\n",
       "     30.335646393834168,       !- Vertex 3 Xcoordinate\n",
       "     25.685963145907166,       !- Vertex 3 Ycoordinate\n",
       "     0,                        !- Vertex 3 Zcoordinate\n",
       "     30.335646393834168,       !- Vertex 4 Xcoordinate\n",
       "     25.685963145907166,       !- Vertex 4 Ycoordinate\n",
       "     4.5;                      !- Vertex 4 Zcoordinate,\n",
       " \n",
       " BuildingSurface:Detailed,\n",
       "     zone_5_Srf_4,             !- Name\n",
       "     Floor,                    !- Surface Type\n",
       "     CONCRETESLAB,             !- Construction Name\n",
       "     zone_5,                   !- Zone Name\n",
       "     ,                         !- Space Name\n",
       "     Adiabatic,                !- Outside Boundary Condition\n",
       "     ,                         !- Outside Boundary Condition Object\n",
       "     Nosun,                    !- Sun Exposure\n",
       "     Nowind,                   !- Wind Exposure\n",
       "     ,                         !- View Factor to Ground\n",
       "     ,                         !- Number of Vertices\n",
       "     30.335646393834168,       !- Vertex 1 Xcoordinate\n",
       "     25.685963145907166,       !- Vertex 1 Ycoordinate\n",
       "     0,                        !- Vertex 1 Zcoordinate\n",
       "     33.95911302526946,        !- Vertex 2 Xcoordinate\n",
       "     12.163001577860207,       !- Vertex 2 Ycoordinate\n",
       "     0,                        !- Vertex 2 Zcoordinate\n",
       "     9.134818552697439,        !- Vertex 3 Xcoordinate\n",
       "     5.511351921262147,        !- Vertex 3 Ycoordinate\n",
       "     0,                        !- Vertex 3 Zcoordinate\n",
       "     5.511351921262147,        !- Vertex 4 Xcoordinate\n",
       "     19.034313489309113,       !- Vertex 4 Ycoordinate\n",
       "     0;                        !- Vertex 4 Zcoordinate,\n",
       " \n",
       " BuildingSurface:Detailed,\n",
       "     zone_5_Srf_5,             !- Name\n",
       "     Roof,                     !- Surface Type\n",
       "     ROOF R-:3.522204,         !- Construction Name\n",
       "     zone_5,                   !- Zone Name\n",
       "     ,                         !- Space Name\n",
       "     Outdoors,                 !- Outside Boundary Condition\n",
       "     ,                         !- Outside Boundary Condition Object\n",
       "     Sunexposed,               !- Sun Exposure\n",
       "     Windexposed,              !- Wind Exposure\n",
       "     ,                         !- View Factor to Ground\n",
       "     ,                         !- Number of Vertices\n",
       "     33.95911302526946,        !- Vertex 1 Xcoordinate\n",
       "     12.163001577860207,       !- Vertex 1 Ycoordinate\n",
       "     4.5,                      !- Vertex 1 Zcoordinate\n",
       "     30.335646393834168,       !- Vertex 2 Xcoordinate\n",
       "     25.685963145907166,       !- Vertex 2 Ycoordinate\n",
       "     4.5,                      !- Vertex 2 Zcoordinate\n",
       "     5.511351921262147,        !- Vertex 3 Xcoordinate\n",
       "     19.034313489309113,       !- Vertex 3 Ycoordinate\n",
       "     4.5,                      !- Vertex 3 Zcoordinate\n",
       "     9.134818552697439,        !- Vertex 4 Xcoordinate\n",
       "     5.511351921262147,        !- Vertex 4 Ycoordinate\n",
       "     4.5;                      !- Vertex 4 Zcoordinate,\n",
       " \n",
       " BuildingSurface:Detailed,\n",
       "     zone_6_Srf_0,             !- Name\n",
       "     Wall,                     !- Surface Type\n",
       "     WALL R-:0.880551,         !- Construction Name\n",
       "     zone_6,                   !- Zone Name\n",
       "     ,                         !- Space Name\n",
       "     Outdoors,                 !- Outside Boundary Condition\n",
       "     ,                         !- Outside Boundary Condition Object\n",
       "     Sunexposed,               !- Sun Exposure\n",
       "     Windexposed,              !- Wind Exposure\n",
       "     ,                         !- View Factor to Ground\n",
       "     ,                         !- Number of Vertices\n",
       "     39.47046494653162,        !- Vertex 1 Xcoordinate\n",
       "     8.981021062520739,        !- Vertex 1 Ycoordinate\n",
       "     4.5,                      !- Vertex 1 Zcoordinate\n",
       "     39.47046494653162,        !- Vertex 2 Xcoordinate\n",
       "     8.981021062520739,        !- Vertex 2 Ycoordinate\n",
       "     0,                        !- Vertex 2 Zcoordinate\n",
       "     33.51762690917364,        !- Vertex 3 Xcoordinate\n",
       "     31.197315067169313,       !- Vertex 3 Ycoordinate\n",
       "     0,                        !- Vertex 3 Zcoordinate\n",
       "     33.51762690917364,        !- Vertex 4 Xcoordinate\n",
       "     31.197315067169313,       !- Vertex 4 Ycoordinate\n",
       "     4.5;                      !- Vertex 4 Zcoordinate,\n",
       " \n",
       " BuildingSurface:Detailed,\n",
       "     zone_6_Srf_1,             !- Name\n",
       "     Wall,                     !- Surface Type\n",
       "     Interior Wall,            !- Construction Name\n",
       "     zone_6,                   !- Zone Name\n",
       "     ,                         !- Space Name\n",
       "     Surface,                  !- Outside Boundary Condition\n",
       "     zone_7_Srf_3,             !- Outside Boundary Condition Object\n",
       "     NoSun,                    !- Sun Exposure\n",
       "     NoWind,                   !- Wind Exposure\n",
       "     ,                         !- View Factor to Ground\n",
       "     ,                         !- Number of Vertices\n",
       "     33.51762690917364,        !- Vertex 1 Xcoordinate\n",
       "     31.197315067169313,       !- Vertex 1 Ycoordinate\n",
       "     4.5,                      !- Vertex 1 Zcoordinate\n",
       "     33.51762690917364,        !- Vertex 2 Xcoordinate\n",
       "     31.197315067169313,       !- Vertex 2 Ycoordinate\n",
       "     0,                        !- Vertex 2 Zcoordinate\n",
       "     30.335646393834168,       !- Vertex 3 Xcoordinate\n",
       "     25.685963145907166,       !- Vertex 3 Ycoordinate\n",
       "     0,                        !- Vertex 3 Zcoordinate\n",
       "     30.335646393834168,       !- Vertex 4 Xcoordinate\n",
       "     25.685963145907166,       !- Vertex 4 Ycoordinate\n",
       "     4.5;                      !- Vertex 4 Zcoordinate,\n",
       " \n",
       " BuildingSurface:Detailed,\n",
       "     zone_6_Srf_2,             !- Name\n",
       "     Wall,                     !- Surface Type\n",
       "     Interior Wall,            !- Construction Name\n",
       "     zone_6,                   !- Zone Name\n",
       "     ,                         !- Space Name\n",
       "     Surface,                  !- Outside Boundary Condition\n",
       "     zone_5_Srf_3,             !- Outside Boundary Condition Object\n",
       "     NoSun,                    !- Sun Exposure\n",
       "     NoWind,                   !- Wind Exposure\n",
       "     ,                         !- View Factor to Ground\n",
       "     ,                         !- Number of Vertices\n",
       "     30.335646393834168,       !- Vertex 1 Xcoordinate\n",
       "     25.685963145907166,       !- Vertex 1 Ycoordinate\n",
       "     4.5,                      !- Vertex 1 Zcoordinate\n",
       "     30.335646393834168,       !- Vertex 2 Xcoordinate\n",
       "     25.685963145907166,       !- Vertex 2 Ycoordinate\n",
       "     0,                        !- Vertex 2 Zcoordinate\n",
       "     33.95911302526946,        !- Vertex 3 Xcoordinate\n",
       "     12.163001577860207,       !- Vertex 3 Ycoordinate\n",
       "     0,                        !- Vertex 3 Zcoordinate\n",
       "     33.95911302526946,        !- Vertex 4 Xcoordinate\n",
       "     12.163001577860207,       !- Vertex 4 Ycoordinate\n",
       "     4.5;                      !- Vertex 4 Zcoordinate,\n",
       " \n",
       " BuildingSurface:Detailed,\n",
       "     zone_6_Srf_3,             !- Name\n",
       "     Wall,                     !- Surface Type\n",
       "     Interior Wall,            !- Construction Name\n",
       "     zone_6,                   !- Zone Name\n",
       "     ,                         !- Space Name\n",
       "     Surface,                  !- Outside Boundary Condition\n",
       "     zone_9_Srf_1,             !- Outside Boundary Condition Object\n",
       "     NoSun,                    !- Sun Exposure\n",
       "     NoWind,                   !- Wind Exposure\n",
       "     ,                         !- View Factor to Ground\n",
       "     ,                         !- Number of Vertices\n",
       "     33.95911302526946,        !- Vertex 1 Xcoordinate\n",
       "     12.163001577860207,       !- Vertex 1 Ycoordinate\n",
       "     4.5,                      !- Vertex 1 Zcoordinate\n",
       "     33.95911302526946,        !- Vertex 2 Xcoordinate\n",
       "     12.163001577860207,       !- Vertex 2 Ycoordinate\n",
       "     0,                        !- Vertex 2 Zcoordinate\n",
       "     39.47046494653162,        !- Vertex 3 Xcoordinate\n",
       "     8.981021062520739,        !- Vertex 3 Ycoordinate\n",
       "     0,                        !- Vertex 3 Zcoordinate\n",
       "     39.47046494653162,        !- Vertex 4 Xcoordinate\n",
       "     8.981021062520739,        !- Vertex 4 Ycoordinate\n",
       "     4.5;                      !- Vertex 4 Zcoordinate,\n",
       " \n",
       " BuildingSurface:Detailed,\n",
       "     zone_6_Srf_4,             !- Name\n",
       "     Floor,                    !- Surface Type\n",
       "     CONCRETESLAB,             !- Construction Name\n",
       "     zone_6,                   !- Zone Name\n",
       "     ,                         !- Space Name\n",
       "     Adiabatic,                !- Outside Boundary Condition\n",
       "     ,                         !- Outside Boundary Condition Object\n",
       "     Nosun,                    !- Sun Exposure\n",
       "     Nowind,                   !- Wind Exposure\n",
       "     ,                         !- View Factor to Ground\n",
       "     ,                         !- Number of Vertices\n",
       "     33.51762690917364,        !- Vertex 1 Xcoordinate\n",
       "     31.197315067169313,       !- Vertex 1 Ycoordinate\n",
       "     0,                        !- Vertex 1 Zcoordinate\n",
       "     39.47046494653162,        !- Vertex 2 Xcoordinate\n",
       "     8.981021062520739,        !- Vertex 2 Ycoordinate\n",
       "     0,                        !- Vertex 2 Zcoordinate\n",
       "     33.95911302526946,        !- Vertex 3 Xcoordinate\n",
       "     12.163001577860207,       !- Vertex 3 Ycoordinate\n",
       "     0,                        !- Vertex 3 Zcoordinate\n",
       "     30.335646393834168,       !- Vertex 4 Xcoordinate\n",
       "     25.685963145907166,       !- Vertex 4 Ycoordinate\n",
       "     0;                        !- Vertex 4 Zcoordinate,\n",
       " \n",
       " BuildingSurface:Detailed,\n",
       "     zone_6_Srf_5,             !- Name\n",
       "     Roof,                     !- Surface Type\n",
       "     ROOF R-:3.522204,         !- Construction Name\n",
       "     zone_6,                   !- Zone Name\n",
       "     ,                         !- Space Name\n",
       "     Outdoors,                 !- Outside Boundary Condition\n",
       "     ,                         !- Outside Boundary Condition Object\n",
       "     Sunexposed,               !- Sun Exposure\n",
       "     Windexposed,              !- Wind Exposure\n",
       "     ,                         !- View Factor to Ground\n",
       "     ,                         !- Number of Vertices\n",
       "     39.47046494653162,        !- Vertex 1 Xcoordinate\n",
       "     8.981021062520739,        !- Vertex 1 Ycoordinate\n",
       "     4.5,                      !- Vertex 1 Zcoordinate\n",
       "     33.51762690917364,        !- Vertex 2 Xcoordinate\n",
       "     31.197315067169313,       !- Vertex 2 Ycoordinate\n",
       "     4.5,                      !- Vertex 2 Zcoordinate\n",
       "     30.335646393834168,       !- Vertex 3 Xcoordinate\n",
       "     25.685963145907166,       !- Vertex 3 Ycoordinate\n",
       "     4.5,                      !- Vertex 3 Zcoordinate\n",
       "     33.95911302526946,        !- Vertex 4 Xcoordinate\n",
       "     12.163001577860207,       !- Vertex 4 Ycoordinate\n",
       "     4.5;                      !- Vertex 4 Zcoordinate,\n",
       " \n",
       " BuildingSurface:Detailed,\n",
       "     zone_7_Srf_0,             !- Name\n",
       "     Wall,                     !- Surface Type\n",
       "     WALL R-:0.880551,         !- Construction Name\n",
       "     zone_7,                   !- Zone Name\n",
       "     ,                         !- Space Name\n",
       "     Outdoors,                 !- Outside Boundary Condition\n",
       "     ,                         !- Outside Boundary Condition Object\n",
       "     Sunexposed,               !- Sun Exposure\n",
       "     Windexposed,              !- Wind Exposure\n",
       "     ,                         !- View Factor to Ground\n",
       "     ,                         !- Number of Vertices\n",
       "     33.51762690917364,        !- Vertex 1 Xcoordinate\n",
       "     31.197315067169313,       !- Vertex 1 Ycoordinate\n",
       "     4.5,                      !- Vertex 1 Zcoordinate\n",
       "     33.51762690917364,        !- Vertex 2 Xcoordinate\n",
       "     31.197315067169313,       !- Vertex 2 Ycoordinate\n",
       "     0,                        !- Vertex 2 Zcoordinate\n",
       "     0,                        !- Vertex 3 Xcoordinate\n",
       "     22.216294004648574,       !- Vertex 3 Ycoordinate\n",
       "     0,                        !- Vertex 3 Zcoordinate\n",
       "     0,                        !- Vertex 4 Xcoordinate\n",
       "     22.216294004648574,       !- Vertex 4 Ycoordinate\n",
       "     4.5;                      !- Vertex 4 Zcoordinate,\n",
       " \n",
       " BuildingSurface:Detailed,\n",
       "     zone_7_Srf_1,             !- Name\n",
       "     Wall,                     !- Surface Type\n",
       "     Interior Wall,            !- Construction Name\n",
       "     zone_7,                   !- Zone Name\n",
       "     ,                         !- Space Name\n",
       "     Surface,                  !- Outside Boundary Condition\n",
       "     zone_8_Srf_3,             !- Outside Boundary Condition Object\n",
       "     NoSun,                    !- Sun Exposure\n",
       "     NoWind,                   !- Wind Exposure\n",
       "     ,                         !- View Factor to Ground\n",
       "     ,                         !- Number of Vertices\n",
       "     0,                        !- Vertex 1 Xcoordinate\n",
       "     22.216294004648574,       !- Vertex 1 Ycoordinate\n",
       "     4.5,                      !- Vertex 1 Zcoordinate\n",
       "     0,                        !- Vertex 2 Xcoordinate\n",
       "     22.216294004648574,       !- Vertex 2 Ycoordinate\n",
       "     0,                        !- Vertex 2 Zcoordinate\n",
       "     5.511351921262147,        !- Vertex 3 Xcoordinate\n",
       "     19.034313489309113,       !- Vertex 3 Ycoordinate\n",
       "     0,                        !- Vertex 3 Zcoordinate\n",
       "     5.511351921262147,        !- Vertex 4 Xcoordinate\n",
       "     19.034313489309113,       !- Vertex 4 Ycoordinate\n",
       "     4.5;                      !- Vertex 4 Zcoordinate,\n",
       " \n",
       " BuildingSurface:Detailed,\n",
       "     zone_7_Srf_2,             !- Name\n",
       "     Wall,                     !- Surface Type\n",
       "     Interior Wall,            !- Construction Name\n",
       "     zone_7,                   !- Zone Name\n",
       "     ,                         !- Space Name\n",
       "     Surface,                  !- Outside Boundary Condition\n",
       "     zone_5_Srf_0,             !- Outside Boundary Condition Object\n",
       "     NoSun,                    !- Sun Exposure\n",
       "     NoWind,                   !- Wind Exposure\n",
       "     ,                         !- View Factor to Ground\n",
       "     ,                         !- Number of Vertices\n",
       "     5.511351921262147,        !- Vertex 1 Xcoordinate\n",
       "     19.034313489309113,       !- Vertex 1 Ycoordinate\n",
       "     4.5,                      !- Vertex 1 Zcoordinate\n",
       "     5.511351921262147,        !- Vertex 2 Xcoordinate\n",
       "     19.034313489309113,       !- Vertex 2 Ycoordinate\n",
       "     0,                        !- Vertex 2 Zcoordinate\n",
       "     30.335646393834168,       !- Vertex 3 Xcoordinate\n",
       "     25.685963145907166,       !- Vertex 3 Ycoordinate\n",
       "     0,                        !- Vertex 3 Zcoordinate\n",
       "     30.335646393834168,       !- Vertex 4 Xcoordinate\n",
       "     25.685963145907166,       !- Vertex 4 Ycoordinate\n",
       "     4.5;                      !- Vertex 4 Zcoordinate,\n",
       " \n",
       " BuildingSurface:Detailed,\n",
       "     zone_7_Srf_3,             !- Name\n",
       "     Wall,                     !- Surface Type\n",
       "     Interior Wall,            !- Construction Name\n",
       "     zone_7,                   !- Zone Name\n",
       "     ,                         !- Space Name\n",
       "     Surface,                  !- Outside Boundary Condition\n",
       "     zone_6_Srf_1,             !- Outside Boundary Condition Object\n",
       "     NoSun,                    !- Sun Exposure\n",
       "     NoWind,                   !- Wind Exposure\n",
       "     ,                         !- View Factor to Ground\n",
       "     ,                         !- Number of Vertices\n",
       "     30.335646393834168,       !- Vertex 1 Xcoordinate\n",
       "     25.685963145907166,       !- Vertex 1 Ycoordinate\n",
       "     4.5,                      !- Vertex 1 Zcoordinate\n",
       "     30.335646393834168,       !- Vertex 2 Xcoordinate\n",
       "     25.685963145907166,       !- Vertex 2 Ycoordinate\n",
       "     0,                        !- Vertex 2 Zcoordinate\n",
       "     33.51762690917364,        !- Vertex 3 Xcoordinate\n",
       "     31.197315067169313,       !- Vertex 3 Ycoordinate\n",
       "     0,                        !- Vertex 3 Zcoordinate\n",
       "     33.51762690917364,        !- Vertex 4 Xcoordinate\n",
       "     31.197315067169313,       !- Vertex 4 Ycoordinate\n",
       "     4.5;                      !- Vertex 4 Zcoordinate,\n",
       " \n",
       " BuildingSurface:Detailed,\n",
       "     zone_7_Srf_4,             !- Name\n",
       "     Floor,                    !- Surface Type\n",
       "     CONCRETESLAB,             !- Construction Name\n",
       "     zone_7,                   !- Zone Name\n",
       "     ,                         !- Space Name\n",
       "     Adiabatic,                !- Outside Boundary Condition\n",
       "     ,                         !- Outside Boundary Condition Object\n",
       "     Nosun,                    !- Sun Exposure\n",
       "     Nowind,                   !- Wind Exposure\n",
       "     ,                         !- View Factor to Ground\n",
       "     ,                         !- Number of Vertices\n",
       "     33.51762690917364,        !- Vertex 1 Xcoordinate\n",
       "     31.197315067169313,       !- Vertex 1 Ycoordinate\n",
       "     0,                        !- Vertex 1 Zcoordinate\n",
       "     30.335646393834168,       !- Vertex 2 Xcoordinate\n",
       "     25.685963145907166,       !- Vertex 2 Ycoordinate\n",
       "     0,                        !- Vertex 2 Zcoordinate\n",
       "     5.511351921262147,        !- Vertex 3 Xcoordinate\n",
       "     19.034313489309113,       !- Vertex 3 Ycoordinate\n",
       "     0,                        !- Vertex 3 Zcoordinate\n",
       "     0,                        !- Vertex 4 Xcoordinate\n",
       "     22.216294004648574,       !- Vertex 4 Ycoordinate\n",
       "     0;                        !- Vertex 4 Zcoordinate,\n",
       " \n",
       " BuildingSurface:Detailed,\n",
       "     zone_7_Srf_5,             !- Name\n",
       "     Roof,                     !- Surface Type\n",
       "     ROOF R-:3.522204,         !- Construction Name\n",
       "     zone_7,                   !- Zone Name\n",
       "     ,                         !- Space Name\n",
       "     Outdoors,                 !- Outside Boundary Condition\n",
       "     ,                         !- Outside Boundary Condition Object\n",
       "     Sunexposed,               !- Sun Exposure\n",
       "     Windexposed,              !- Wind Exposure\n",
       "     ,                         !- View Factor to Ground\n",
       "     ,                         !- Number of Vertices\n",
       "     30.335646393834168,       !- Vertex 1 Xcoordinate\n",
       "     25.685963145907166,       !- Vertex 1 Ycoordinate\n",
       "     4.5,                      !- Vertex 1 Zcoordinate\n",
       "     33.51762690917364,        !- Vertex 2 Xcoordinate\n",
       "     31.197315067169313,       !- Vertex 2 Ycoordinate\n",
       "     4.5,                      !- Vertex 2 Zcoordinate\n",
       "     0,                        !- Vertex 3 Xcoordinate\n",
       "     22.216294004648574,       !- Vertex 3 Ycoordinate\n",
       "     4.5,                      !- Vertex 3 Zcoordinate\n",
       "     5.511351921262147,        !- Vertex 4 Xcoordinate\n",
       "     19.034313489309113,       !- Vertex 4 Ycoordinate\n",
       "     4.5;                      !- Vertex 4 Zcoordinate,\n",
       " \n",
       " BuildingSurface:Detailed,\n",
       "     zone_8_Srf_0,             !- Name\n",
       "     Wall,                     !- Surface Type\n",
       "     WALL R-:0.880551,         !- Construction Name\n",
       "     zone_8,                   !- Zone Name\n",
       "     ,                         !- Space Name\n",
       "     Outdoors,                 !- Outside Boundary Condition\n",
       "     ,                         !- Outside Boundary Condition Object\n",
       "     Sunexposed,               !- Sun Exposure\n",
       "     Windexposed,              !- Wind Exposure\n",
       "     ,                         !- View Factor to Ground\n",
       "     ,                         !- Number of Vertices\n",
       "     0,                        !- Vertex 1 Xcoordinate\n",
       "     22.216294004648574,       !- Vertex 1 Ycoordinate\n",
       "     4.5,                      !- Vertex 1 Zcoordinate\n",
       "     0,                        !- Vertex 2 Xcoordinate\n",
       "     22.216294004648574,       !- Vertex 2 Ycoordinate\n",
       "     0,                        !- Vertex 2 Zcoordinate\n",
       "     5.952838037357978,        !- Vertex 3 Xcoordinate\n",
       "     0,                        !- Vertex 3 Ycoordinate\n",
       "     0,                        !- Vertex 3 Zcoordinate\n",
       "     5.952838037357978,        !- Vertex 4 Xcoordinate\n",
       "     0,                        !- Vertex 4 Ycoordinate\n",
       "     4.5;                      !- Vertex 4 Zcoordinate,\n",
       " \n",
       " BuildingSurface:Detailed,\n",
       "     zone_8_Srf_1,             !- Name\n",
       "     Wall,                     !- Surface Type\n",
       "     Interior Wall,            !- Construction Name\n",
       "     zone_8,                   !- Zone Name\n",
       "     ,                         !- Space Name\n",
       "     Surface,                  !- Outside Boundary Condition\n",
       "     zone_9_Srf_3,             !- Outside Boundary Condition Object\n",
       "     NoSun,                    !- Sun Exposure\n",
       "     NoWind,                   !- Wind Exposure\n",
       "     ,                         !- View Factor to Ground\n",
       "     ,                         !- Number of Vertices\n",
       "     5.952838037357978,        !- Vertex 1 Xcoordinate\n",
       "     0,                        !- Vertex 1 Ycoordinate\n",
       "     4.5,                      !- Vertex 1 Zcoordinate\n",
       "     5.952838037357978,        !- Vertex 2 Xcoordinate\n",
       "     0,                        !- Vertex 2 Ycoordinate\n",
       "     0,                        !- Vertex 2 Zcoordinate\n",
       "     9.134818552697439,        !- Vertex 3 Xcoordinate\n",
       "     5.511351921262147,        !- Vertex 3 Ycoordinate\n",
       "     0,                        !- Vertex 3 Zcoordinate\n",
       "     9.134818552697439,        !- Vertex 4 Xcoordinate\n",
       "     5.511351921262147,        !- Vertex 4 Ycoordinate\n",
       "     4.5;                      !- Vertex 4 Zcoordinate,\n",
       " \n",
       " BuildingSurface:Detailed,\n",
       "     zone_8_Srf_2,             !- Name\n",
       "     Wall,                     !- Surface Type\n",
       "     Interior Wall,            !- Construction Name\n",
       "     zone_8,                   !- Zone Name\n",
       "     ,                         !- Space Name\n",
       "     Surface,                  !- Outside Boundary Condition\n",
       "     zone_5_Srf_1,             !- Outside Boundary Condition Object\n",
       "     NoSun,                    !- Sun Exposure\n",
       "     NoWind,                   !- Wind Exposure\n",
       "     ,                         !- View Factor to Ground\n",
       "     ,                         !- Number of Vertices\n",
       "     9.134818552697439,        !- Vertex 1 Xcoordinate\n",
       "     5.511351921262147,        !- Vertex 1 Ycoordinate\n",
       "     4.5,                      !- Vertex 1 Zcoordinate\n",
       "     9.134818552697439,        !- Vertex 2 Xcoordinate\n",
       "     5.511351921262147,        !- Vertex 2 Ycoordinate\n",
       "     0,                        !- Vertex 2 Zcoordinate\n",
       "     5.511351921262147,        !- Vertex 3 Xcoordinate\n",
       "     19.034313489309113,       !- Vertex 3 Ycoordinate\n",
       "     0,                        !- Vertex 3 Zcoordinate\n",
       "     5.511351921262147,        !- Vertex 4 Xcoordinate\n",
       "     19.034313489309113,       !- Vertex 4 Ycoordinate\n",
       "     4.5;                      !- Vertex 4 Zcoordinate,\n",
       " \n",
       " BuildingSurface:Detailed,\n",
       "     zone_8_Srf_3,             !- Name\n",
       "     Wall,                     !- Surface Type\n",
       "     Interior Wall,            !- Construction Name\n",
       "     zone_8,                   !- Zone Name\n",
       "     ,                         !- Space Name\n",
       "     Surface,                  !- Outside Boundary Condition\n",
       "     zone_7_Srf_1,             !- Outside Boundary Condition Object\n",
       "     NoSun,                    !- Sun Exposure\n",
       "     NoWind,                   !- Wind Exposure\n",
       "     ,                         !- View Factor to Ground\n",
       "     ,                         !- Number of Vertices\n",
       "     5.511351921262147,        !- Vertex 1 Xcoordinate\n",
       "     19.034313489309113,       !- Vertex 1 Ycoordinate\n",
       "     4.5,                      !- Vertex 1 Zcoordinate\n",
       "     5.511351921262147,        !- Vertex 2 Xcoordinate\n",
       "     19.034313489309113,       !- Vertex 2 Ycoordinate\n",
       "     0,                        !- Vertex 2 Zcoordinate\n",
       "     0,                        !- Vertex 3 Xcoordinate\n",
       "     22.216294004648574,       !- Vertex 3 Ycoordinate\n",
       "     0,                        !- Vertex 3 Zcoordinate\n",
       "     0,                        !- Vertex 4 Xcoordinate\n",
       "     22.216294004648574,       !- Vertex 4 Ycoordinate\n",
       "     4.5;                      !- Vertex 4 Zcoordinate,\n",
       " \n",
       " BuildingSurface:Detailed,\n",
       "     zone_8_Srf_4,             !- Name\n",
       "     Floor,                    !- Surface Type\n",
       "     CONCRETESLAB,             !- Construction Name\n",
       "     zone_8,                   !- Zone Name\n",
       "     ,                         !- Space Name\n",
       "     Adiabatic,                !- Outside Boundary Condition\n",
       "     ,                         !- Outside Boundary Condition Object\n",
       "     Nosun,                    !- Sun Exposure\n",
       "     Nowind,                   !- Wind Exposure\n",
       "     ,                         !- View Factor to Ground\n",
       "     ,                         !- Number of Vertices\n",
       "     5.511351921262147,        !- Vertex 1 Xcoordinate\n",
       "     19.034313489309113,       !- Vertex 1 Ycoordinate\n",
       "     0,                        !- Vertex 1 Zcoordinate\n",
       "     9.134818552697439,        !- Vertex 2 Xcoordinate\n",
       "     5.511351921262147,        !- Vertex 2 Ycoordinate\n",
       "     0,                        !- Vertex 2 Zcoordinate\n",
       "     5.952838037357978,        !- Vertex 3 Xcoordinate\n",
       "     0,                        !- Vertex 3 Ycoordinate\n",
       "     0,                        !- Vertex 3 Zcoordinate\n",
       "     0,                        !- Vertex 4 Xcoordinate\n",
       "     22.216294004648574,       !- Vertex 4 Ycoordinate\n",
       "     0;                        !- Vertex 4 Zcoordinate,\n",
       " \n",
       " BuildingSurface:Detailed,\n",
       "     zone_8_Srf_5,             !- Name\n",
       "     Roof,                     !- Surface Type\n",
       "     ROOF R-:3.522204,         !- Construction Name\n",
       "     zone_8,                   !- Zone Name\n",
       "     ,                         !- Space Name\n",
       "     Outdoors,                 !- Outside Boundary Condition\n",
       "     ,                         !- Outside Boundary Condition Object\n",
       "     Sunexposed,               !- Sun Exposure\n",
       "     Windexposed,              !- Wind Exposure\n",
       "     ,                         !- View Factor to Ground\n",
       "     ,                         !- Number of Vertices\n",
       "     5.952838037357978,        !- Vertex 1 Xcoordinate\n",
       "     0,                        !- Vertex 1 Ycoordinate\n",
       "     4.5,                      !- Vertex 1 Zcoordinate\n",
       "     9.134818552697439,        !- Vertex 2 Xcoordinate\n",
       "     5.511351921262147,        !- Vertex 2 Ycoordinate\n",
       "     4.5,                      !- Vertex 2 Zcoordinate\n",
       "     5.511351921262147,        !- Vertex 3 Xcoordinate\n",
       "     19.034313489309113,       !- Vertex 3 Ycoordinate\n",
       "     4.5,                      !- Vertex 3 Zcoordinate\n",
       "     0,                        !- Vertex 4 Xcoordinate\n",
       "     22.216294004648574,       !- Vertex 4 Ycoordinate\n",
       "     4.5;                      !- Vertex 4 Zcoordinate,\n",
       " \n",
       " BuildingSurface:Detailed,\n",
       "     zone_9_Srf_0,             !- Name\n",
       "     Wall,                     !- Surface Type\n",
       "     WALL R-:0.880551,         !- Construction Name\n",
       "     zone_9,                   !- Zone Name\n",
       "     ,                         !- Space Name\n",
       "     Outdoors,                 !- Outside Boundary Condition\n",
       "     ,                         !- Outside Boundary Condition Object\n",
       "     Sunexposed,               !- Sun Exposure\n",
       "     Windexposed,              !- Wind Exposure\n",
       "     ,                         !- View Factor to Ground\n",
       "     ,                         !- Number of Vertices\n",
       "     5.952838037357978,        !- Vertex 1 Xcoordinate\n",
       "     0,                        !- Vertex 1 Ycoordinate\n",
       "     4.5,                      !- Vertex 1 Zcoordinate\n",
       "     5.952838037357978,        !- Vertex 2 Xcoordinate\n",
       "     0,                        !- Vertex 2 Ycoordinate\n",
       "     0,                        !- Vertex 2 Zcoordinate\n",
       "     39.47046494653162,        !- Vertex 3 Xcoordinate\n",
       "     8.981021062520739,        !- Vertex 3 Ycoordinate\n",
       "     0,                        !- Vertex 3 Zcoordinate\n",
       "     39.47046494653162,        !- Vertex 4 Xcoordinate\n",
       "     8.981021062520739,        !- Vertex 4 Ycoordinate\n",
       "     4.5;                      !- Vertex 4 Zcoordinate,\n",
       " \n",
       " BuildingSurface:Detailed,\n",
       "     zone_9_Srf_1,             !- Name\n",
       "     Wall,                     !- Surface Type\n",
       "     Interior Wall,            !- Construction Name\n",
       "     zone_9,                   !- Zone Name\n",
       "     ,                         !- Space Name\n",
       "     Surface,                  !- Outside Boundary Condition\n",
       "     zone_6_Srf_3,             !- Outside Boundary Condition Object\n",
       "     NoSun,                    !- Sun Exposure\n",
       "     NoWind,                   !- Wind Exposure\n",
       "     ,                         !- View Factor to Ground\n",
       "     ,                         !- Number of Vertices\n",
       "     39.47046494653162,        !- Vertex 1 Xcoordinate\n",
       "     8.981021062520739,        !- Vertex 1 Ycoordinate\n",
       "     4.5,                      !- Vertex 1 Zcoordinate\n",
       "     39.47046494653162,        !- Vertex 2 Xcoordinate\n",
       "     8.981021062520739,        !- Vertex 2 Ycoordinate\n",
       "     0,                        !- Vertex 2 Zcoordinate\n",
       "     33.95911302526946,        !- Vertex 3 Xcoordinate\n",
       "     12.163001577860207,       !- Vertex 3 Ycoordinate\n",
       "     0,                        !- Vertex 3 Zcoordinate\n",
       "     33.95911302526946,        !- Vertex 4 Xcoordinate\n",
       "     12.163001577860207,       !- Vertex 4 Ycoordinate\n",
       "     4.5;                      !- Vertex 4 Zcoordinate,\n",
       " \n",
       " BuildingSurface:Detailed,\n",
       "     zone_9_Srf_2,             !- Name\n",
       "     Wall,                     !- Surface Type\n",
       "     Interior Wall,            !- Construction Name\n",
       "     zone_9,                   !- Zone Name\n",
       "     ,                         !- Space Name\n",
       "     Surface,                  !- Outside Boundary Condition\n",
       "     zone_5_Srf_2,             !- Outside Boundary Condition Object\n",
       "     NoSun,                    !- Sun Exposure\n",
       "     NoWind,                   !- Wind Exposure\n",
       "     ,                         !- View Factor to Ground\n",
       "     ,                         !- Number of Vertices\n",
       "     33.95911302526946,        !- Vertex 1 Xcoordinate\n",
       "     12.163001577860207,       !- Vertex 1 Ycoordinate\n",
       "     4.5,                      !- Vertex 1 Zcoordinate\n",
       "     33.95911302526946,        !- Vertex 2 Xcoordinate\n",
       "     12.163001577860207,       !- Vertex 2 Ycoordinate\n",
       "     0,                        !- Vertex 2 Zcoordinate\n",
       "     9.134818552697439,        !- Vertex 3 Xcoordinate\n",
       "     5.511351921262147,        !- Vertex 3 Ycoordinate\n",
       "     0,                        !- Vertex 3 Zcoordinate\n",
       "     9.134818552697439,        !- Vertex 4 Xcoordinate\n",
       "     5.511351921262147,        !- Vertex 4 Ycoordinate\n",
       "     4.5;                      !- Vertex 4 Zcoordinate,\n",
       " \n",
       " BuildingSurface:Detailed,\n",
       "     zone_9_Srf_3,             !- Name\n",
       "     Wall,                     !- Surface Type\n",
       "     Interior Wall,            !- Construction Name\n",
       "     zone_9,                   !- Zone Name\n",
       "     ,                         !- Space Name\n",
       "     Surface,                  !- Outside Boundary Condition\n",
       "     zone_8_Srf_1,             !- Outside Boundary Condition Object\n",
       "     NoSun,                    !- Sun Exposure\n",
       "     NoWind,                   !- Wind Exposure\n",
       "     ,                         !- View Factor to Ground\n",
       "     ,                         !- Number of Vertices\n",
       "     9.134818552697439,        !- Vertex 1 Xcoordinate\n",
       "     5.511351921262147,        !- Vertex 1 Ycoordinate\n",
       "     4.5,                      !- Vertex 1 Zcoordinate\n",
       "     9.134818552697439,        !- Vertex 2 Xcoordinate\n",
       "     5.511351921262147,        !- Vertex 2 Ycoordinate\n",
       "     0,                        !- Vertex 2 Zcoordinate\n",
       "     5.952838037357978,        !- Vertex 3 Xcoordinate\n",
       "     0,                        !- Vertex 3 Ycoordinate\n",
       "     0,                        !- Vertex 3 Zcoordinate\n",
       "     5.952838037357978,        !- Vertex 4 Xcoordinate\n",
       "     0,                        !- Vertex 4 Ycoordinate\n",
       "     4.5;                      !- Vertex 4 Zcoordinate,\n",
       " \n",
       " BuildingSurface:Detailed,\n",
       "     zone_9_Srf_4,             !- Name\n",
       "     Floor,                    !- Surface Type\n",
       "     CONCRETESLAB,             !- Construction Name\n",
       "     zone_9,                   !- Zone Name\n",
       "     ,                         !- Space Name\n",
       "     Adiabatic,                !- Outside Boundary Condition\n",
       "     ,                         !- Outside Boundary Condition Object\n",
       "     Nosun,                    !- Sun Exposure\n",
       "     Nowind,                   !- Wind Exposure\n",
       "     ,                         !- View Factor to Ground\n",
       "     ,                         !- Number of Vertices\n",
       "     39.47046494653162,        !- Vertex 1 Xcoordinate\n",
       "     8.981021062520739,        !- Vertex 1 Ycoordinate\n",
       "     0,                        !- Vertex 1 Zcoordinate\n",
       "     5.952838037357978,        !- Vertex 2 Xcoordinate\n",
       "     0,                        !- Vertex 2 Ycoordinate\n",
       "     0,                        !- Vertex 2 Zcoordinate\n",
       "     9.134818552697439,        !- Vertex 3 Xcoordinate\n",
       "     5.511351921262147,        !- Vertex 3 Ycoordinate\n",
       "     0,                        !- Vertex 3 Zcoordinate\n",
       "     33.95911302526946,        !- Vertex 4 Xcoordinate\n",
       "     12.163001577860207,       !- Vertex 4 Ycoordinate\n",
       "     0;                        !- Vertex 4 Zcoordinate,\n",
       " \n",
       " BuildingSurface:Detailed,\n",
       "     zone_9_Srf_5,             !- Name\n",
       "     Roof,                     !- Surface Type\n",
       "     ROOF R-:3.522204,         !- Construction Name\n",
       "     zone_9,                   !- Zone Name\n",
       "     ,                         !- Space Name\n",
       "     Outdoors,                 !- Outside Boundary Condition\n",
       "     ,                         !- Outside Boundary Condition Object\n",
       "     Sunexposed,               !- Sun Exposure\n",
       "     Windexposed,              !- Wind Exposure\n",
       "     ,                         !- View Factor to Ground\n",
       "     ,                         !- Number of Vertices\n",
       "     39.47046494653162,        !- Vertex 1 Xcoordinate\n",
       "     8.981021062520739,        !- Vertex 1 Ycoordinate\n",
       "     4.5,                      !- Vertex 1 Zcoordinate\n",
       "     33.95911302526946,        !- Vertex 2 Xcoordinate\n",
       "     12.163001577860207,       !- Vertex 2 Ycoordinate\n",
       "     4.5,                      !- Vertex 2 Zcoordinate\n",
       "     9.134818552697439,        !- Vertex 3 Xcoordinate\n",
       "     5.511351921262147,        !- Vertex 3 Ycoordinate\n",
       "     4.5,                      !- Vertex 3 Zcoordinate\n",
       "     5.952838037357978,        !- Vertex 4 Xcoordinate\n",
       "     0,                        !- Vertex 4 Ycoordinate\n",
       "     4.5;                      !- Vertex 4 Zcoordinate]"
      ]
     },
     "execution_count": 39,
     "metadata": {},
     "output_type": "execute_result"
    }
   ],
   "source": [
    "idf.getsurfaces()"
   ]
  },
  {
   "cell_type": "code",
   "execution_count": 40,
   "id": "ad4424fb",
   "metadata": {
    "pycharm": {
     "name": "#%%\n"
    }
   },
   "outputs": [
    {
     "data": {
      "text/plain": [
       "[\n",
       " BuildingSurface:Detailed,\n",
       "     zone_5_Srf_0,             !- Name\n",
       "     Wall,                     !- Surface Type\n",
       "     Interior Wall,            !- Construction Name\n",
       "     zone_5,                   !- Zone Name\n",
       "     ,                         !- Space Name\n",
       "     Surface,                  !- Outside Boundary Condition\n",
       "     zone_7_Srf_2,             !- Outside Boundary Condition Object\n",
       "     NoSun,                    !- Sun Exposure\n",
       "     NoWind,                   !- Wind Exposure\n",
       "     ,                         !- View Factor to Ground\n",
       "     ,                         !- Number of Vertices\n",
       "     30.335646393834168,       !- Vertex 1 Xcoordinate\n",
       "     25.685963145907166,       !- Vertex 1 Ycoordinate\n",
       "     4.5,                      !- Vertex 1 Zcoordinate\n",
       "     30.335646393834168,       !- Vertex 2 Xcoordinate\n",
       "     25.685963145907166,       !- Vertex 2 Ycoordinate\n",
       "     0,                        !- Vertex 2 Zcoordinate\n",
       "     5.511351921262147,        !- Vertex 3 Xcoordinate\n",
       "     19.034313489309113,       !- Vertex 3 Ycoordinate\n",
       "     0,                        !- Vertex 3 Zcoordinate\n",
       "     5.511351921262147,        !- Vertex 4 Xcoordinate\n",
       "     19.034313489309113,       !- Vertex 4 Ycoordinate\n",
       "     4.5;                      !- Vertex 4 Zcoordinate,\n",
       " \n",
       " BuildingSurface:Detailed,\n",
       "     zone_5_Srf_1,             !- Name\n",
       "     Wall,                     !- Surface Type\n",
       "     Interior Wall,            !- Construction Name\n",
       "     zone_5,                   !- Zone Name\n",
       "     ,                         !- Space Name\n",
       "     Surface,                  !- Outside Boundary Condition\n",
       "     zone_8_Srf_2,             !- Outside Boundary Condition Object\n",
       "     NoSun,                    !- Sun Exposure\n",
       "     NoWind,                   !- Wind Exposure\n",
       "     ,                         !- View Factor to Ground\n",
       "     ,                         !- Number of Vertices\n",
       "     5.511351921262147,        !- Vertex 1 Xcoordinate\n",
       "     19.034313489309113,       !- Vertex 1 Ycoordinate\n",
       "     4.5,                      !- Vertex 1 Zcoordinate\n",
       "     5.511351921262147,        !- Vertex 2 Xcoordinate\n",
       "     19.034313489309113,       !- Vertex 2 Ycoordinate\n",
       "     0,                        !- Vertex 2 Zcoordinate\n",
       "     9.134818552697439,        !- Vertex 3 Xcoordinate\n",
       "     5.511351921262147,        !- Vertex 3 Ycoordinate\n",
       "     0,                        !- Vertex 3 Zcoordinate\n",
       "     9.134818552697439,        !- Vertex 4 Xcoordinate\n",
       "     5.511351921262147,        !- Vertex 4 Ycoordinate\n",
       "     4.5;                      !- Vertex 4 Zcoordinate,\n",
       " \n",
       " BuildingSurface:Detailed,\n",
       "     zone_5_Srf_2,             !- Name\n",
       "     Wall,                     !- Surface Type\n",
       "     Interior Wall,            !- Construction Name\n",
       "     zone_5,                   !- Zone Name\n",
       "     ,                         !- Space Name\n",
       "     Surface,                  !- Outside Boundary Condition\n",
       "     zone_9_Srf_2,             !- Outside Boundary Condition Object\n",
       "     NoSun,                    !- Sun Exposure\n",
       "     NoWind,                   !- Wind Exposure\n",
       "     ,                         !- View Factor to Ground\n",
       "     ,                         !- Number of Vertices\n",
       "     9.134818552697439,        !- Vertex 1 Xcoordinate\n",
       "     5.511351921262147,        !- Vertex 1 Ycoordinate\n",
       "     4.5,                      !- Vertex 1 Zcoordinate\n",
       "     9.134818552697439,        !- Vertex 2 Xcoordinate\n",
       "     5.511351921262147,        !- Vertex 2 Ycoordinate\n",
       "     0,                        !- Vertex 2 Zcoordinate\n",
       "     33.95911302526946,        !- Vertex 3 Xcoordinate\n",
       "     12.163001577860207,       !- Vertex 3 Ycoordinate\n",
       "     0,                        !- Vertex 3 Zcoordinate\n",
       "     33.95911302526946,        !- Vertex 4 Xcoordinate\n",
       "     12.163001577860207,       !- Vertex 4 Ycoordinate\n",
       "     4.5;                      !- Vertex 4 Zcoordinate,\n",
       " \n",
       " BuildingSurface:Detailed,\n",
       "     zone_5_Srf_3,             !- Name\n",
       "     Wall,                     !- Surface Type\n",
       "     Interior Wall,            !- Construction Name\n",
       "     zone_5,                   !- Zone Name\n",
       "     ,                         !- Space Name\n",
       "     Surface,                  !- Outside Boundary Condition\n",
       "     zone_6_Srf_2,             !- Outside Boundary Condition Object\n",
       "     NoSun,                    !- Sun Exposure\n",
       "     NoWind,                   !- Wind Exposure\n",
       "     ,                         !- View Factor to Ground\n",
       "     ,                         !- Number of Vertices\n",
       "     33.95911302526946,        !- Vertex 1 Xcoordinate\n",
       "     12.163001577860207,       !- Vertex 1 Ycoordinate\n",
       "     4.5,                      !- Vertex 1 Zcoordinate\n",
       "     33.95911302526946,        !- Vertex 2 Xcoordinate\n",
       "     12.163001577860207,       !- Vertex 2 Ycoordinate\n",
       "     0,                        !- Vertex 2 Zcoordinate\n",
       "     30.335646393834168,       !- Vertex 3 Xcoordinate\n",
       "     25.685963145907166,       !- Vertex 3 Ycoordinate\n",
       "     0,                        !- Vertex 3 Zcoordinate\n",
       "     30.335646393834168,       !- Vertex 4 Xcoordinate\n",
       "     25.685963145907166,       !- Vertex 4 Ycoordinate\n",
       "     4.5;                      !- Vertex 4 Zcoordinate,\n",
       " \n",
       " BuildingSurface:Detailed,\n",
       "     zone_6_Srf_0,             !- Name\n",
       "     Wall,                     !- Surface Type\n",
       "     WALL R-:0.880551,         !- Construction Name\n",
       "     zone_6,                   !- Zone Name\n",
       "     ,                         !- Space Name\n",
       "     Outdoors,                 !- Outside Boundary Condition\n",
       "     ,                         !- Outside Boundary Condition Object\n",
       "     Sunexposed,               !- Sun Exposure\n",
       "     Windexposed,              !- Wind Exposure\n",
       "     ,                         !- View Factor to Ground\n",
       "     ,                         !- Number of Vertices\n",
       "     39.47046494653162,        !- Vertex 1 Xcoordinate\n",
       "     8.981021062520739,        !- Vertex 1 Ycoordinate\n",
       "     4.5,                      !- Vertex 1 Zcoordinate\n",
       "     39.47046494653162,        !- Vertex 2 Xcoordinate\n",
       "     8.981021062520739,        !- Vertex 2 Ycoordinate\n",
       "     0,                        !- Vertex 2 Zcoordinate\n",
       "     33.51762690917364,        !- Vertex 3 Xcoordinate\n",
       "     31.197315067169313,       !- Vertex 3 Ycoordinate\n",
       "     0,                        !- Vertex 3 Zcoordinate\n",
       "     33.51762690917364,        !- Vertex 4 Xcoordinate\n",
       "     31.197315067169313,       !- Vertex 4 Ycoordinate\n",
       "     4.5;                      !- Vertex 4 Zcoordinate,\n",
       " \n",
       " BuildingSurface:Detailed,\n",
       "     zone_6_Srf_1,             !- Name\n",
       "     Wall,                     !- Surface Type\n",
       "     Interior Wall,            !- Construction Name\n",
       "     zone_6,                   !- Zone Name\n",
       "     ,                         !- Space Name\n",
       "     Surface,                  !- Outside Boundary Condition\n",
       "     zone_7_Srf_3,             !- Outside Boundary Condition Object\n",
       "     NoSun,                    !- Sun Exposure\n",
       "     NoWind,                   !- Wind Exposure\n",
       "     ,                         !- View Factor to Ground\n",
       "     ,                         !- Number of Vertices\n",
       "     33.51762690917364,        !- Vertex 1 Xcoordinate\n",
       "     31.197315067169313,       !- Vertex 1 Ycoordinate\n",
       "     4.5,                      !- Vertex 1 Zcoordinate\n",
       "     33.51762690917364,        !- Vertex 2 Xcoordinate\n",
       "     31.197315067169313,       !- Vertex 2 Ycoordinate\n",
       "     0,                        !- Vertex 2 Zcoordinate\n",
       "     30.335646393834168,       !- Vertex 3 Xcoordinate\n",
       "     25.685963145907166,       !- Vertex 3 Ycoordinate\n",
       "     0,                        !- Vertex 3 Zcoordinate\n",
       "     30.335646393834168,       !- Vertex 4 Xcoordinate\n",
       "     25.685963145907166,       !- Vertex 4 Ycoordinate\n",
       "     4.5;                      !- Vertex 4 Zcoordinate,\n",
       " \n",
       " BuildingSurface:Detailed,\n",
       "     zone_6_Srf_2,             !- Name\n",
       "     Wall,                     !- Surface Type\n",
       "     Interior Wall,            !- Construction Name\n",
       "     zone_6,                   !- Zone Name\n",
       "     ,                         !- Space Name\n",
       "     Surface,                  !- Outside Boundary Condition\n",
       "     zone_5_Srf_3,             !- Outside Boundary Condition Object\n",
       "     NoSun,                    !- Sun Exposure\n",
       "     NoWind,                   !- Wind Exposure\n",
       "     ,                         !- View Factor to Ground\n",
       "     ,                         !- Number of Vertices\n",
       "     30.335646393834168,       !- Vertex 1 Xcoordinate\n",
       "     25.685963145907166,       !- Vertex 1 Ycoordinate\n",
       "     4.5,                      !- Vertex 1 Zcoordinate\n",
       "     30.335646393834168,       !- Vertex 2 Xcoordinate\n",
       "     25.685963145907166,       !- Vertex 2 Ycoordinate\n",
       "     0,                        !- Vertex 2 Zcoordinate\n",
       "     33.95911302526946,        !- Vertex 3 Xcoordinate\n",
       "     12.163001577860207,       !- Vertex 3 Ycoordinate\n",
       "     0,                        !- Vertex 3 Zcoordinate\n",
       "     33.95911302526946,        !- Vertex 4 Xcoordinate\n",
       "     12.163001577860207,       !- Vertex 4 Ycoordinate\n",
       "     4.5;                      !- Vertex 4 Zcoordinate,\n",
       " \n",
       " BuildingSurface:Detailed,\n",
       "     zone_6_Srf_3,             !- Name\n",
       "     Wall,                     !- Surface Type\n",
       "     Interior Wall,            !- Construction Name\n",
       "     zone_6,                   !- Zone Name\n",
       "     ,                         !- Space Name\n",
       "     Surface,                  !- Outside Boundary Condition\n",
       "     zone_9_Srf_1,             !- Outside Boundary Condition Object\n",
       "     NoSun,                    !- Sun Exposure\n",
       "     NoWind,                   !- Wind Exposure\n",
       "     ,                         !- View Factor to Ground\n",
       "     ,                         !- Number of Vertices\n",
       "     33.95911302526946,        !- Vertex 1 Xcoordinate\n",
       "     12.163001577860207,       !- Vertex 1 Ycoordinate\n",
       "     4.5,                      !- Vertex 1 Zcoordinate\n",
       "     33.95911302526946,        !- Vertex 2 Xcoordinate\n",
       "     12.163001577860207,       !- Vertex 2 Ycoordinate\n",
       "     0,                        !- Vertex 2 Zcoordinate\n",
       "     39.47046494653162,        !- Vertex 3 Xcoordinate\n",
       "     8.981021062520739,        !- Vertex 3 Ycoordinate\n",
       "     0,                        !- Vertex 3 Zcoordinate\n",
       "     39.47046494653162,        !- Vertex 4 Xcoordinate\n",
       "     8.981021062520739,        !- Vertex 4 Ycoordinate\n",
       "     4.5;                      !- Vertex 4 Zcoordinate,\n",
       " \n",
       " BuildingSurface:Detailed,\n",
       "     zone_7_Srf_0,             !- Name\n",
       "     Wall,                     !- Surface Type\n",
       "     WALL R-:0.880551,         !- Construction Name\n",
       "     zone_7,                   !- Zone Name\n",
       "     ,                         !- Space Name\n",
       "     Outdoors,                 !- Outside Boundary Condition\n",
       "     ,                         !- Outside Boundary Condition Object\n",
       "     Sunexposed,               !- Sun Exposure\n",
       "     Windexposed,              !- Wind Exposure\n",
       "     ,                         !- View Factor to Ground\n",
       "     ,                         !- Number of Vertices\n",
       "     33.51762690917364,        !- Vertex 1 Xcoordinate\n",
       "     31.197315067169313,       !- Vertex 1 Ycoordinate\n",
       "     4.5,                      !- Vertex 1 Zcoordinate\n",
       "     33.51762690917364,        !- Vertex 2 Xcoordinate\n",
       "     31.197315067169313,       !- Vertex 2 Ycoordinate\n",
       "     0,                        !- Vertex 2 Zcoordinate\n",
       "     0,                        !- Vertex 3 Xcoordinate\n",
       "     22.216294004648574,       !- Vertex 3 Ycoordinate\n",
       "     0,                        !- Vertex 3 Zcoordinate\n",
       "     0,                        !- Vertex 4 Xcoordinate\n",
       "     22.216294004648574,       !- Vertex 4 Ycoordinate\n",
       "     4.5;                      !- Vertex 4 Zcoordinate,\n",
       " \n",
       " BuildingSurface:Detailed,\n",
       "     zone_7_Srf_1,             !- Name\n",
       "     Wall,                     !- Surface Type\n",
       "     Interior Wall,            !- Construction Name\n",
       "     zone_7,                   !- Zone Name\n",
       "     ,                         !- Space Name\n",
       "     Surface,                  !- Outside Boundary Condition\n",
       "     zone_8_Srf_3,             !- Outside Boundary Condition Object\n",
       "     NoSun,                    !- Sun Exposure\n",
       "     NoWind,                   !- Wind Exposure\n",
       "     ,                         !- View Factor to Ground\n",
       "     ,                         !- Number of Vertices\n",
       "     0,                        !- Vertex 1 Xcoordinate\n",
       "     22.216294004648574,       !- Vertex 1 Ycoordinate\n",
       "     4.5,                      !- Vertex 1 Zcoordinate\n",
       "     0,                        !- Vertex 2 Xcoordinate\n",
       "     22.216294004648574,       !- Vertex 2 Ycoordinate\n",
       "     0,                        !- Vertex 2 Zcoordinate\n",
       "     5.511351921262147,        !- Vertex 3 Xcoordinate\n",
       "     19.034313489309113,       !- Vertex 3 Ycoordinate\n",
       "     0,                        !- Vertex 3 Zcoordinate\n",
       "     5.511351921262147,        !- Vertex 4 Xcoordinate\n",
       "     19.034313489309113,       !- Vertex 4 Ycoordinate\n",
       "     4.5;                      !- Vertex 4 Zcoordinate,\n",
       " \n",
       " BuildingSurface:Detailed,\n",
       "     zone_7_Srf_2,             !- Name\n",
       "     Wall,                     !- Surface Type\n",
       "     Interior Wall,            !- Construction Name\n",
       "     zone_7,                   !- Zone Name\n",
       "     ,                         !- Space Name\n",
       "     Surface,                  !- Outside Boundary Condition\n",
       "     zone_5_Srf_0,             !- Outside Boundary Condition Object\n",
       "     NoSun,                    !- Sun Exposure\n",
       "     NoWind,                   !- Wind Exposure\n",
       "     ,                         !- View Factor to Ground\n",
       "     ,                         !- Number of Vertices\n",
       "     5.511351921262147,        !- Vertex 1 Xcoordinate\n",
       "     19.034313489309113,       !- Vertex 1 Ycoordinate\n",
       "     4.5,                      !- Vertex 1 Zcoordinate\n",
       "     5.511351921262147,        !- Vertex 2 Xcoordinate\n",
       "     19.034313489309113,       !- Vertex 2 Ycoordinate\n",
       "     0,                        !- Vertex 2 Zcoordinate\n",
       "     30.335646393834168,       !- Vertex 3 Xcoordinate\n",
       "     25.685963145907166,       !- Vertex 3 Ycoordinate\n",
       "     0,                        !- Vertex 3 Zcoordinate\n",
       "     30.335646393834168,       !- Vertex 4 Xcoordinate\n",
       "     25.685963145907166,       !- Vertex 4 Ycoordinate\n",
       "     4.5;                      !- Vertex 4 Zcoordinate,\n",
       " \n",
       " BuildingSurface:Detailed,\n",
       "     zone_7_Srf_3,             !- Name\n",
       "     Wall,                     !- Surface Type\n",
       "     Interior Wall,            !- Construction Name\n",
       "     zone_7,                   !- Zone Name\n",
       "     ,                         !- Space Name\n",
       "     Surface,                  !- Outside Boundary Condition\n",
       "     zone_6_Srf_1,             !- Outside Boundary Condition Object\n",
       "     NoSun,                    !- Sun Exposure\n",
       "     NoWind,                   !- Wind Exposure\n",
       "     ,                         !- View Factor to Ground\n",
       "     ,                         !- Number of Vertices\n",
       "     30.335646393834168,       !- Vertex 1 Xcoordinate\n",
       "     25.685963145907166,       !- Vertex 1 Ycoordinate\n",
       "     4.5,                      !- Vertex 1 Zcoordinate\n",
       "     30.335646393834168,       !- Vertex 2 Xcoordinate\n",
       "     25.685963145907166,       !- Vertex 2 Ycoordinate\n",
       "     0,                        !- Vertex 2 Zcoordinate\n",
       "     33.51762690917364,        !- Vertex 3 Xcoordinate\n",
       "     31.197315067169313,       !- Vertex 3 Ycoordinate\n",
       "     0,                        !- Vertex 3 Zcoordinate\n",
       "     33.51762690917364,        !- Vertex 4 Xcoordinate\n",
       "     31.197315067169313,       !- Vertex 4 Ycoordinate\n",
       "     4.5;                      !- Vertex 4 Zcoordinate,\n",
       " \n",
       " BuildingSurface:Detailed,\n",
       "     zone_8_Srf_0,             !- Name\n",
       "     Wall,                     !- Surface Type\n",
       "     WALL R-:0.880551,         !- Construction Name\n",
       "     zone_8,                   !- Zone Name\n",
       "     ,                         !- Space Name\n",
       "     Outdoors,                 !- Outside Boundary Condition\n",
       "     ,                         !- Outside Boundary Condition Object\n",
       "     Sunexposed,               !- Sun Exposure\n",
       "     Windexposed,              !- Wind Exposure\n",
       "     ,                         !- View Factor to Ground\n",
       "     ,                         !- Number of Vertices\n",
       "     0,                        !- Vertex 1 Xcoordinate\n",
       "     22.216294004648574,       !- Vertex 1 Ycoordinate\n",
       "     4.5,                      !- Vertex 1 Zcoordinate\n",
       "     0,                        !- Vertex 2 Xcoordinate\n",
       "     22.216294004648574,       !- Vertex 2 Ycoordinate\n",
       "     0,                        !- Vertex 2 Zcoordinate\n",
       "     5.952838037357978,        !- Vertex 3 Xcoordinate\n",
       "     0,                        !- Vertex 3 Ycoordinate\n",
       "     0,                        !- Vertex 3 Zcoordinate\n",
       "     5.952838037357978,        !- Vertex 4 Xcoordinate\n",
       "     0,                        !- Vertex 4 Ycoordinate\n",
       "     4.5;                      !- Vertex 4 Zcoordinate,\n",
       " \n",
       " BuildingSurface:Detailed,\n",
       "     zone_8_Srf_1,             !- Name\n",
       "     Wall,                     !- Surface Type\n",
       "     Interior Wall,            !- Construction Name\n",
       "     zone_8,                   !- Zone Name\n",
       "     ,                         !- Space Name\n",
       "     Surface,                  !- Outside Boundary Condition\n",
       "     zone_9_Srf_3,             !- Outside Boundary Condition Object\n",
       "     NoSun,                    !- Sun Exposure\n",
       "     NoWind,                   !- Wind Exposure\n",
       "     ,                         !- View Factor to Ground\n",
       "     ,                         !- Number of Vertices\n",
       "     5.952838037357978,        !- Vertex 1 Xcoordinate\n",
       "     0,                        !- Vertex 1 Ycoordinate\n",
       "     4.5,                      !- Vertex 1 Zcoordinate\n",
       "     5.952838037357978,        !- Vertex 2 Xcoordinate\n",
       "     0,                        !- Vertex 2 Ycoordinate\n",
       "     0,                        !- Vertex 2 Zcoordinate\n",
       "     9.134818552697439,        !- Vertex 3 Xcoordinate\n",
       "     5.511351921262147,        !- Vertex 3 Ycoordinate\n",
       "     0,                        !- Vertex 3 Zcoordinate\n",
       "     9.134818552697439,        !- Vertex 4 Xcoordinate\n",
       "     5.511351921262147,        !- Vertex 4 Ycoordinate\n",
       "     4.5;                      !- Vertex 4 Zcoordinate,\n",
       " \n",
       " BuildingSurface:Detailed,\n",
       "     zone_8_Srf_2,             !- Name\n",
       "     Wall,                     !- Surface Type\n",
       "     Interior Wall,            !- Construction Name\n",
       "     zone_8,                   !- Zone Name\n",
       "     ,                         !- Space Name\n",
       "     Surface,                  !- Outside Boundary Condition\n",
       "     zone_5_Srf_1,             !- Outside Boundary Condition Object\n",
       "     NoSun,                    !- Sun Exposure\n",
       "     NoWind,                   !- Wind Exposure\n",
       "     ,                         !- View Factor to Ground\n",
       "     ,                         !- Number of Vertices\n",
       "     9.134818552697439,        !- Vertex 1 Xcoordinate\n",
       "     5.511351921262147,        !- Vertex 1 Ycoordinate\n",
       "     4.5,                      !- Vertex 1 Zcoordinate\n",
       "     9.134818552697439,        !- Vertex 2 Xcoordinate\n",
       "     5.511351921262147,        !- Vertex 2 Ycoordinate\n",
       "     0,                        !- Vertex 2 Zcoordinate\n",
       "     5.511351921262147,        !- Vertex 3 Xcoordinate\n",
       "     19.034313489309113,       !- Vertex 3 Ycoordinate\n",
       "     0,                        !- Vertex 3 Zcoordinate\n",
       "     5.511351921262147,        !- Vertex 4 Xcoordinate\n",
       "     19.034313489309113,       !- Vertex 4 Ycoordinate\n",
       "     4.5;                      !- Vertex 4 Zcoordinate,\n",
       " \n",
       " BuildingSurface:Detailed,\n",
       "     zone_8_Srf_3,             !- Name\n",
       "     Wall,                     !- Surface Type\n",
       "     Interior Wall,            !- Construction Name\n",
       "     zone_8,                   !- Zone Name\n",
       "     ,                         !- Space Name\n",
       "     Surface,                  !- Outside Boundary Condition\n",
       "     zone_7_Srf_1,             !- Outside Boundary Condition Object\n",
       "     NoSun,                    !- Sun Exposure\n",
       "     NoWind,                   !- Wind Exposure\n",
       "     ,                         !- View Factor to Ground\n",
       "     ,                         !- Number of Vertices\n",
       "     5.511351921262147,        !- Vertex 1 Xcoordinate\n",
       "     19.034313489309113,       !- Vertex 1 Ycoordinate\n",
       "     4.5,                      !- Vertex 1 Zcoordinate\n",
       "     5.511351921262147,        !- Vertex 2 Xcoordinate\n",
       "     19.034313489309113,       !- Vertex 2 Ycoordinate\n",
       "     0,                        !- Vertex 2 Zcoordinate\n",
       "     0,                        !- Vertex 3 Xcoordinate\n",
       "     22.216294004648574,       !- Vertex 3 Ycoordinate\n",
       "     0,                        !- Vertex 3 Zcoordinate\n",
       "     0,                        !- Vertex 4 Xcoordinate\n",
       "     22.216294004648574,       !- Vertex 4 Ycoordinate\n",
       "     4.5;                      !- Vertex 4 Zcoordinate,\n",
       " \n",
       " BuildingSurface:Detailed,\n",
       "     zone_9_Srf_0,             !- Name\n",
       "     Wall,                     !- Surface Type\n",
       "     WALL R-:0.880551,         !- Construction Name\n",
       "     zone_9,                   !- Zone Name\n",
       "     ,                         !- Space Name\n",
       "     Outdoors,                 !- Outside Boundary Condition\n",
       "     ,                         !- Outside Boundary Condition Object\n",
       "     Sunexposed,               !- Sun Exposure\n",
       "     Windexposed,              !- Wind Exposure\n",
       "     ,                         !- View Factor to Ground\n",
       "     ,                         !- Number of Vertices\n",
       "     5.952838037357978,        !- Vertex 1 Xcoordinate\n",
       "     0,                        !- Vertex 1 Ycoordinate\n",
       "     4.5,                      !- Vertex 1 Zcoordinate\n",
       "     5.952838037357978,        !- Vertex 2 Xcoordinate\n",
       "     0,                        !- Vertex 2 Ycoordinate\n",
       "     0,                        !- Vertex 2 Zcoordinate\n",
       "     39.47046494653162,        !- Vertex 3 Xcoordinate\n",
       "     8.981021062520739,        !- Vertex 3 Ycoordinate\n",
       "     0,                        !- Vertex 3 Zcoordinate\n",
       "     39.47046494653162,        !- Vertex 4 Xcoordinate\n",
       "     8.981021062520739,        !- Vertex 4 Ycoordinate\n",
       "     4.5;                      !- Vertex 4 Zcoordinate,\n",
       " \n",
       " BuildingSurface:Detailed,\n",
       "     zone_9_Srf_1,             !- Name\n",
       "     Wall,                     !- Surface Type\n",
       "     Interior Wall,            !- Construction Name\n",
       "     zone_9,                   !- Zone Name\n",
       "     ,                         !- Space Name\n",
       "     Surface,                  !- Outside Boundary Condition\n",
       "     zone_6_Srf_3,             !- Outside Boundary Condition Object\n",
       "     NoSun,                    !- Sun Exposure\n",
       "     NoWind,                   !- Wind Exposure\n",
       "     ,                         !- View Factor to Ground\n",
       "     ,                         !- Number of Vertices\n",
       "     39.47046494653162,        !- Vertex 1 Xcoordinate\n",
       "     8.981021062520739,        !- Vertex 1 Ycoordinate\n",
       "     4.5,                      !- Vertex 1 Zcoordinate\n",
       "     39.47046494653162,        !- Vertex 2 Xcoordinate\n",
       "     8.981021062520739,        !- Vertex 2 Ycoordinate\n",
       "     0,                        !- Vertex 2 Zcoordinate\n",
       "     33.95911302526946,        !- Vertex 3 Xcoordinate\n",
       "     12.163001577860207,       !- Vertex 3 Ycoordinate\n",
       "     0,                        !- Vertex 3 Zcoordinate\n",
       "     33.95911302526946,        !- Vertex 4 Xcoordinate\n",
       "     12.163001577860207,       !- Vertex 4 Ycoordinate\n",
       "     4.5;                      !- Vertex 4 Zcoordinate,\n",
       " \n",
       " BuildingSurface:Detailed,\n",
       "     zone_9_Srf_2,             !- Name\n",
       "     Wall,                     !- Surface Type\n",
       "     Interior Wall,            !- Construction Name\n",
       "     zone_9,                   !- Zone Name\n",
       "     ,                         !- Space Name\n",
       "     Surface,                  !- Outside Boundary Condition\n",
       "     zone_5_Srf_2,             !- Outside Boundary Condition Object\n",
       "     NoSun,                    !- Sun Exposure\n",
       "     NoWind,                   !- Wind Exposure\n",
       "     ,                         !- View Factor to Ground\n",
       "     ,                         !- Number of Vertices\n",
       "     33.95911302526946,        !- Vertex 1 Xcoordinate\n",
       "     12.163001577860207,       !- Vertex 1 Ycoordinate\n",
       "     4.5,                      !- Vertex 1 Zcoordinate\n",
       "     33.95911302526946,        !- Vertex 2 Xcoordinate\n",
       "     12.163001577860207,       !- Vertex 2 Ycoordinate\n",
       "     0,                        !- Vertex 2 Zcoordinate\n",
       "     9.134818552697439,        !- Vertex 3 Xcoordinate\n",
       "     5.511351921262147,        !- Vertex 3 Ycoordinate\n",
       "     0,                        !- Vertex 3 Zcoordinate\n",
       "     9.134818552697439,        !- Vertex 4 Xcoordinate\n",
       "     5.511351921262147,        !- Vertex 4 Ycoordinate\n",
       "     4.5;                      !- Vertex 4 Zcoordinate,\n",
       " \n",
       " BuildingSurface:Detailed,\n",
       "     zone_9_Srf_3,             !- Name\n",
       "     Wall,                     !- Surface Type\n",
       "     Interior Wall,            !- Construction Name\n",
       "     zone_9,                   !- Zone Name\n",
       "     ,                         !- Space Name\n",
       "     Surface,                  !- Outside Boundary Condition\n",
       "     zone_8_Srf_1,             !- Outside Boundary Condition Object\n",
       "     NoSun,                    !- Sun Exposure\n",
       "     NoWind,                   !- Wind Exposure\n",
       "     ,                         !- View Factor to Ground\n",
       "     ,                         !- Number of Vertices\n",
       "     9.134818552697439,        !- Vertex 1 Xcoordinate\n",
       "     5.511351921262147,        !- Vertex 1 Ycoordinate\n",
       "     4.5,                      !- Vertex 1 Zcoordinate\n",
       "     9.134818552697439,        !- Vertex 2 Xcoordinate\n",
       "     5.511351921262147,        !- Vertex 2 Ycoordinate\n",
       "     0,                        !- Vertex 2 Zcoordinate\n",
       "     5.952838037357978,        !- Vertex 3 Xcoordinate\n",
       "     0,                        !- Vertex 3 Ycoordinate\n",
       "     0,                        !- Vertex 3 Zcoordinate\n",
       "     5.952838037357978,        !- Vertex 4 Xcoordinate\n",
       "     0,                        !- Vertex 4 Ycoordinate\n",
       "     4.5;                      !- Vertex 4 Zcoordinate]"
      ]
     },
     "execution_count": 40,
     "metadata": {},
     "output_type": "execute_result"
    }
   ],
   "source": [
    "idf.getsurfaces(\"Wall\")"
   ]
  },
  {
   "cell_type": "markdown",
   "id": "e7b2830d",
   "metadata": {
    "pycharm": {
     "name": "#%% md\n"
    }
   },
   "source": [
    "Here is how we could get all the Surface Types used in the model:"
   ]
  },
  {
   "cell_type": "code",
   "execution_count": 41,
   "id": "8450f875",
   "metadata": {
    "pycharm": {
     "name": "#%%\n"
    }
   },
   "outputs": [
    {
     "data": {
      "text/plain": [
       "{'Floor', 'Roof', 'Wall'}"
      ]
     },
     "execution_count": 41,
     "metadata": {},
     "output_type": "execute_result"
    }
   ],
   "source": [
    "list_of_surfaces = []\n",
    "for surface in idf.getsurfaces():\n",
    "    list_of_surfaces.append(surface.Surface_Type)\n",
    "\n",
    "set(list_of_surfaces)"
   ]
  },
  {
   "cell_type": "code",
   "execution_count": 42,
   "id": "19cd1d2d",
   "metadata": {
    "pycharm": {
     "name": "#%%\n"
    }
   },
   "outputs": [],
   "source": [
    "roofs = idf.getsurfaces(\"Roof\")\n",
    "\n",
    "floors = idf.getsurfaces(\"Floor\")\n",
    "\n",
    "walls = idf.getsurfaces(\"Wall\")"
   ]
  },
  {
   "cell_type": "markdown",
   "id": "1759c892",
   "metadata": {
    "pycharm": {
     "name": "#%% md\n"
    }
   },
   "source": [
    "For each surface, other methods area available:\n",
    "\n",
    "- coords\n",
    "- area\n",
    "- azimuth\n",
    "- height\n",
    "- tilt"
   ]
  },
  {
   "cell_type": "code",
   "execution_count": 43,
   "id": "2d3203fa",
   "metadata": {
    "pycharm": {
     "name": "#%%\n"
    }
   },
   "outputs": [
    {
     "data": {
      "text/plain": [
       "[(33.95911302526946, 12.163001577860207, 4.5),\n",
       " (30.335646393834168, 25.685963145907166, 4.5),\n",
       " (5.511351921262147, 19.034313489309113, 4.5),\n",
       " (9.134818552697439, 5.511351921262147, 4.5)]"
      ]
     },
     "execution_count": 43,
     "metadata": {},
     "output_type": "execute_result"
    }
   ],
   "source": [
    "roofs[0].coords"
   ]
  },
  {
   "cell_type": "code",
   "execution_count": 44,
   "id": "6c0a8e29",
   "metadata": {
    "pycharm": {
     "name": "#%%\n"
    }
   },
   "outputs": [
    {
     "data": {
      "text/plain": [
       "359.80001068115314"
      ]
     },
     "execution_count": 44,
     "metadata": {},
     "output_type": "execute_result"
    }
   ],
   "source": [
    "roofs[0].area"
   ]
  },
  {
   "cell_type": "code",
   "execution_count": 45,
   "id": "ea0510d2",
   "metadata": {
    "pycharm": {
     "name": "#%%\n"
    }
   },
   "outputs": [
    {
     "data": {
      "text/plain": [
       "0.0"
      ]
     },
     "execution_count": 45,
     "metadata": {},
     "output_type": "execute_result"
    }
   ],
   "source": [
    "roofs[0].azimuth"
   ]
  },
  {
   "cell_type": "code",
   "execution_count": 46,
   "id": "55b7d957",
   "metadata": {
    "pycharm": {
     "name": "#%%\n"
    }
   },
   "outputs": [
    {
     "data": {
      "text/plain": [
       "14.000000000000004"
      ]
     },
     "execution_count": 46,
     "metadata": {},
     "output_type": "execute_result"
    }
   ],
   "source": [
    "roofs[0].height"
   ]
  },
  {
   "cell_type": "code",
   "execution_count": 47,
   "id": "9f771ff8",
   "metadata": {
    "pycharm": {
     "name": "#%%\n"
    }
   },
   "outputs": [
    {
     "data": {
      "text/plain": [
       "0.0"
      ]
     },
     "execution_count": 47,
     "metadata": {},
     "output_type": "execute_result"
    }
   ],
   "source": [
    "roofs[0].tilt"
   ]
  },
  {
   "cell_type": "markdown",
   "id": "9a80c909",
   "metadata": {
    "pycharm": {
     "name": "#%% md\n"
    }
   },
   "source": [
    "For more information about geometry functions, visit [geomeppy](https://geomeppy.readthedocs.io/en/latest/?)"
   ]
  },
  {
   "cell_type": "code",
   "execution_count": 48,
   "id": "2e590726",
   "metadata": {
    "pycharm": {
     "name": "#%%\n"
    }
   },
   "outputs": [],
   "source": [
    "wall_1 = walls[0]"
   ]
  },
  {
   "cell_type": "code",
   "execution_count": 49,
   "id": "e3561211",
   "metadata": {
    "pycharm": {
     "name": "#%%\n"
    }
   },
   "outputs": [
    {
     "data": {
      "text/plain": [
       "\n",
       "BuildingSurface:Detailed,\n",
       "    zone_5_Srf_0,             !- Name\n",
       "    Wall,                     !- Surface Type\n",
       "    Interior Wall,            !- Construction Name\n",
       "    zone_5,                   !- Zone Name\n",
       "    ,                         !- Space Name\n",
       "    Surface,                  !- Outside Boundary Condition\n",
       "    zone_7_Srf_2,             !- Outside Boundary Condition Object\n",
       "    NoSun,                    !- Sun Exposure\n",
       "    NoWind,                   !- Wind Exposure\n",
       "    ,                         !- View Factor to Ground\n",
       "    ,                         !- Number of Vertices\n",
       "    30.335646393834168,       !- Vertex 1 Xcoordinate\n",
       "    25.685963145907166,       !- Vertex 1 Ycoordinate\n",
       "    4.5,                      !- Vertex 1 Zcoordinate\n",
       "    30.335646393834168,       !- Vertex 2 Xcoordinate\n",
       "    25.685963145907166,       !- Vertex 2 Ycoordinate\n",
       "    0,                        !- Vertex 2 Zcoordinate\n",
       "    5.511351921262147,        !- Vertex 3 Xcoordinate\n",
       "    19.034313489309113,       !- Vertex 3 Ycoordinate\n",
       "    0,                        !- Vertex 3 Zcoordinate\n",
       "    5.511351921262147,        !- Vertex 4 Xcoordinate\n",
       "    19.034313489309113,       !- Vertex 4 Ycoordinate\n",
       "    4.5;                      !- Vertex 4 Zcoordinate"
      ]
     },
     "execution_count": 49,
     "metadata": {},
     "output_type": "execute_result"
    }
   ],
   "source": [
    "wall_1"
   ]
  },
  {
   "cell_type": "code",
   "execution_count": 50,
   "id": "af0698df",
   "metadata": {
    "pycharm": {
     "name": "#%%\n"
    }
   },
   "outputs": [],
   "source": [
    "contruction = wall_1.get_referenced_object(\"Construction_Name\")"
   ]
  },
  {
   "cell_type": "code",
   "execution_count": 51,
   "id": "0397c10b",
   "metadata": {
    "pycharm": {
     "name": "#%%\n"
    }
   },
   "outputs": [
    {
     "data": {
      "text/plain": [
       "\n",
       "Construction,\n",
       "    Interior Wall,            !- Name\n",
       "    G01a 19mm gypsum board,    !- Outside Layer\n",
       "    Material Air Gap 1,       !- Layer 2\n",
       "    G01a 19mm gypsum board;    !- Layer 3"
      ]
     },
     "execution_count": 51,
     "metadata": {},
     "output_type": "execute_result"
    }
   ],
   "source": [
    "contruction"
   ]
  },
  {
   "cell_type": "code",
   "execution_count": 52,
   "id": "b57fb361",
   "metadata": {
    "pycharm": {
     "name": "#%%\n"
    }
   },
   "outputs": [
    {
     "data": {
      "text/plain": [
       "['key',\n",
       " 'Name',\n",
       " 'Outside_Layer',\n",
       " 'Layer_2',\n",
       " 'Layer_3',\n",
       " 'Layer_4',\n",
       " 'Layer_5',\n",
       " 'Layer_6',\n",
       " 'Layer_7',\n",
       " 'Layer_8',\n",
       " 'Layer_9',\n",
       " 'Layer_10']"
      ]
     },
     "execution_count": 52,
     "metadata": {},
     "output_type": "execute_result"
    }
   ],
   "source": [
    "contruction.fieldnames"
   ]
  },
  {
   "cell_type": "code",
   "execution_count": 53,
   "id": "88f7d033",
   "metadata": {
    "pycharm": {
     "name": "#%%\n"
    }
   },
   "outputs": [
    {
     "name": "stdout",
     "output_type": "stream",
     "text": [
      "Outside_Layer\n",
      "Layer_2\n",
      "Layer_3\n",
      "Layer_4\n",
      "Layer_5\n",
      "Layer_6\n",
      "Layer_7\n",
      "Layer_8\n",
      "Layer_9\n",
      "Layer_10\n"
     ]
    }
   ],
   "source": [
    "mat_of_construction = []\n",
    "for n in contruction.fieldnames:\n",
    "    if n == \"key\" or n == \"Name\":\n",
    "        pass\n",
    "    else:\n",
    "        print(n)\n",
    "        mat = contruction.get_referenced_object(n)\n",
    "        if mat is None:\n",
    "            continue\n",
    "        mat_of_construction.append(mat)"
   ]
  },
  {
   "cell_type": "code",
   "execution_count": 54,
   "id": "42599189",
   "metadata": {
    "pycharm": {
     "name": "#%%\n"
    }
   },
   "outputs": [
    {
     "data": {
      "text/plain": [
       "[\n",
       " Material,\n",
       "     G01a 19mm gypsum board,    !- Name\n",
       "     MediumSmooth,             !- Roughness\n",
       "     0.019,                    !- Thickness\n",
       "     0.16,                     !- Conductivity\n",
       "     800,                      !- Density\n",
       "     1090,                     !- Specific Heat\n",
       "     0.9,                      !- Thermal Absorptance\n",
       "     0.7,                      !- Solar Absorptance\n",
       "     0.7;                      !- Visible Absorptance,\n",
       " \n",
       " Material:AirGap,\n",
       "     Material Air Gap 1,       !- Name\n",
       "     0.15;                     !- Thermal Resistance,\n",
       " \n",
       " Material,\n",
       "     G01a 19mm gypsum board,    !- Name\n",
       "     MediumSmooth,             !- Roughness\n",
       "     0.019,                    !- Thickness\n",
       "     0.16,                     !- Conductivity\n",
       "     800,                      !- Density\n",
       "     1090,                     !- Specific Heat\n",
       "     0.9,                      !- Thermal Absorptance\n",
       "     0.7,                      !- Solar Absorptance\n",
       "     0.7;                      !- Visible Absorptance]"
      ]
     },
     "execution_count": 54,
     "metadata": {},
     "output_type": "execute_result"
    }
   ],
   "source": [
    "mat_of_construction"
   ]
  },
  {
   "cell_type": "code",
   "execution_count": 55,
   "id": "fdf73baa",
   "metadata": {
    "pycharm": {
     "name": "#%%\n"
    }
   },
   "outputs": [
    {
     "data": {
      "text/plain": [
       "0.038"
      ]
     },
     "execution_count": 55,
     "metadata": {},
     "output_type": "execute_result"
    }
   ],
   "source": [
    "sum(\n",
    "    list(\n",
    "        map(\n",
    "            lambda mat: mat.Thickness if mat.key.upper() == \"MATERIAL\" else 0,\n",
    "            mat_of_construction,\n",
    "        )\n",
    "    )\n",
    ")"
   ]
  },
  {
   "cell_type": "markdown",
   "id": "ee8d8030",
   "metadata": {
    "pycharm": {
     "name": "#%% md\n"
    }
   },
   "source": [
    "## Simulating a model"
   ]
  },
  {
   "cell_type": "markdown",
   "id": "4a1e8b34",
   "metadata": {
    "pycharm": {
     "name": "#%% md\n"
    }
   },
   "source": [
    "### Model changes and repeated simulations\n",
    "\n",
    "Describe how once a model has been simulated it will not simulate a again unless simulation parameters have changed or if the model content has changed"
   ]
  },
  {
   "cell_type": "markdown",
   "id": "9ff2286f",
   "metadata": {
    "pycharm": {
     "name": "#%% md\n"
    }
   },
   "source": [
    "## Retrieving Results"
   ]
  },
  {
   "cell_type": "code",
   "execution_count": null,
   "id": "27189d1f",
   "metadata": {
    "pycharm": {
     "name": "#%%\n"
    }
   },
   "outputs": [],
   "source": []
  },
  {
   "cell_type": "markdown",
   "id": "b3a480f6",
   "metadata": {},
   "source": [
    "<!--NAVIGATION-->\n",
    "< [Introduction to EnergyPlus Models Scripting](03.00-Introduction-to-EnergyPlus-Models-Scripting.ipynb) | [Contents](Index.ipynb) |"
   ]
  }
 ],
 "metadata": {
  "kernelspec": {
   "display_name": "Python 3 (ipykernel)",
   "language": "python",
   "name": "python3"
  },
  "language_info": {
   "codemirror_mode": {
    "name": "ipython",
    "version": 3
   },
   "file_extension": ".py",
   "mimetype": "text/x-python",
   "name": "python",
   "nbconvert_exporter": "python",
   "pygments_lexer": "ipython3",
   "version": "3.9.7"
  },
  "toc": {
   "base_numbering": 1,
   "nav_menu": {},
   "number_sections": true,
   "sideBar": true,
   "skip_h1_title": true,
   "title_cell": "Table of Contents",
   "title_sidebar": "Contents",
   "toc_cell": true,
   "toc_position": {
    "height": "calc(100% - 180px)",
    "left": "10px",
    "top": "150px",
    "width": "302px"
   },
   "toc_section_display": false,
   "toc_window_display": false
  }
 },
 "nbformat": 4,
 "nbformat_minor": 5
}
