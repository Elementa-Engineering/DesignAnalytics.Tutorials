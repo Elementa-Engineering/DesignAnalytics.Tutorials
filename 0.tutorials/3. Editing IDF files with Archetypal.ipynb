{
 "cells": [
  {
   "cell_type": "markdown",
   "id": "da5f6098",
   "metadata": {
    "toc": true
   },
   "source": [
    "<h1>Table of Contents<span class=\"tocSkip\"></span></h1>\n",
    "<div class=\"toc\"><ul class=\"toc-item\"><li><span><a href=\"#Model-Basics\" data-toc-modified-id=\"Model-Basics-1\"><span class=\"toc-item-num\">1&nbsp;&nbsp;</span>Model Basics</a></span></li><li><span><a href=\"#Accessing-components-and-reading/setting-their-attributes\" data-toc-modified-id=\"Accessing-components-and-reading/setting-their-attributes-2\"><span class=\"toc-item-num\">2&nbsp;&nbsp;</span>Accessing components and reading/setting their attributes</a></span><ul class=\"toc-item\"><li><span><a href=\"#Tips-and-tricks\" data-toc-modified-id=\"Tips-and-tricks-2.1\"><span class=\"toc-item-num\">2.1&nbsp;&nbsp;</span>Tips and tricks</a></span></li></ul></li><li><span><a href=\"#How-to-parse-an-existing-model\" data-toc-modified-id=\"How-to-parse-an-existing-model-3\"><span class=\"toc-item-num\">3&nbsp;&nbsp;</span>How to parse an existing model</a></span><ul class=\"toc-item\"><li><span><a href=\"#Edit-a-specific-object\" data-toc-modified-id=\"Edit-a-specific-object-3.1\"><span class=\"toc-item-num\">3.1&nbsp;&nbsp;</span>Edit a specific object</a></span></li><li><span><a href=\"#Saving-edits\" data-toc-modified-id=\"Saving-edits-3.2\"><span class=\"toc-item-num\">3.2&nbsp;&nbsp;</span>Saving edits</a></span></li></ul></li><li><span><a href=\"#Accessing-geometry-functions\" data-toc-modified-id=\"Accessing-geometry-functions-4\"><span class=\"toc-item-num\">4&nbsp;&nbsp;</span>Accessing geometry functions</a></span></li><li><span><a href=\"#Simulating-a-model\" data-toc-modified-id=\"Simulating-a-model-5\"><span class=\"toc-item-num\">5&nbsp;&nbsp;</span>Simulating a model</a></span><ul class=\"toc-item\"><li><span><a href=\"#Model-changes-and-repeated-simulations\" data-toc-modified-id=\"Model-changes-and-repeated-simulations-5.1\"><span class=\"toc-item-num\">5.1&nbsp;&nbsp;</span>Model changes and repeated simulations</a></span></li></ul></li><li><span><a href=\"#Retrieving-Results\" data-toc-modified-id=\"Retrieving-Results-6\"><span class=\"toc-item-num\">6&nbsp;&nbsp;</span>Retrieving Results</a></span></li></ul></div>"
   ]
  },
  {
   "cell_type": "markdown",
   "id": "ebc3c238",
   "metadata": {},
   "source": [
    "# EnergyPlus scripting using `archetypal`\n",
    "\n",
    "Archetypal is a scripting package that holistically approaches the creation, simulation and analysis of EnergyPlus models. It draws design concepts from other open source libraries surch as eppy and geomeppy, yet it fixes many pitfalls in an attempt to make the workflow easier and more robust.\n",
    "\n",
    "In this Notebook, you will learn how to use `archetypal` to create new EnergyPlus models, to edit existing ones, to run a simulation and to retrieve results."
   ]
  },
  {
   "cell_type": "markdown",
   "id": "eb131591",
   "metadata": {},
   "source": [
    "## Model Basics\n",
    "\n",
    "In its simplest expression, archetypal defines an `IDF` class which holds all of functionality required to run an EnergyPlus model.\n",
    "\n",
    "One simply imports the IDF class:"
   ]
  },
  {
   "cell_type": "code",
   "execution_count": 1,
   "id": "e8186639",
   "metadata": {},
   "outputs": [],
   "source": [
    "from archetypal import IDF"
   ]
  },
  {
   "cell_type": "markdown",
   "id": "dad7249a",
   "metadata": {},
   "source": [
    "And can initialize an empty IDF object:"
   ]
  },
  {
   "cell_type": "code",
   "execution_count": 2,
   "id": "56274d44",
   "metadata": {},
   "outputs": [
    {
     "data": {
      "text/plain": [
       "<IDF object 01f2e01c-fec9-11ec-9ebc-0a5c624f9c12.idf\n",
       "at <_io.StringIO object at 0x7f78d3eb7280>\n",
       "\tVersion 9.2.0\n",
       "Simulation Info:\n",
       "\tNot yet simulated>"
      ]
     },
     "execution_count": 2,
     "metadata": {},
     "output_type": "execute_result"
    }
   ],
   "source": [
    "IDF()"
   ]
  },
  {
   "cell_type": "markdown",
   "id": "22c74193",
   "metadata": {},
   "source": [
    "Looking at the string representation of the model, we can see that we created an in-memory object (identified by its location at an io.StringIO memory address. We can also see that the EnergyPlus version 9.2.0 has been used by default. This is the default value used by archetypal. One can specify a different EnergyPlus version to be used in 3 ways:\n",
    "\n",
    "1. Specify the version as environement variable.\n",
    "2. Edit the settings.ep_version module variable.\n",
    "2. Specify the `as_version` attribute in the IDF constructor.\n",
    "\n",
    "Let's go over the 3 methods.\n",
    "    \n",
    "To change environment variables:\n",
    "\n",
    "(Note: For this method to work in this Notebook, one would need first to restart the Kernel and then run the following 3 cells)"
   ]
  },
  {
   "cell_type": "code",
   "execution_count": 3,
   "id": "ca58b333",
   "metadata": {},
   "outputs": [],
   "source": [
    "import os\n",
    "\n",
    "os.environ[\"ENERGYPLUS_VERSION\"] = \"9.6\""
   ]
  },
  {
   "cell_type": "code",
   "execution_count": 4,
   "id": "94c80d0c",
   "metadata": {},
   "outputs": [],
   "source": [
    "from archetypal import IDF"
   ]
  },
  {
   "cell_type": "code",
   "execution_count": 5,
   "id": "17cc223e",
   "metadata": {},
   "outputs": [
    {
     "data": {
      "text/plain": [
       "<IDF object 02b9f92d-fec9-11ec-8531-0a5c624f9c12.idf\n",
       "at <_io.StringIO object at 0x7f78ce0580d0>\n",
       "\tVersion 9.2.0\n",
       "Simulation Info:\n",
       "\tNot yet simulated>"
      ]
     },
     "execution_count": 5,
     "metadata": {},
     "output_type": "execute_result"
    }
   ],
   "source": [
    "IDF()"
   ]
  },
  {
   "cell_type": "markdown",
   "id": "e2e8d9d2",
   "metadata": {},
   "source": [
    "The second option is to change the default value in the archetypal.settings module:"
   ]
  },
  {
   "cell_type": "code",
   "execution_count": 6,
   "id": "9b8d309a",
   "metadata": {},
   "outputs": [],
   "source": [
    "from archetypal import settings\n",
    "\n",
    "settings.ep_version = \"9.6\""
   ]
  },
  {
   "cell_type": "code",
   "execution_count": 7,
   "id": "5e3934b7",
   "metadata": {},
   "outputs": [
    {
     "data": {
      "text/plain": [
       "<IDF object 02c51c1c-fec9-11ec-a273-0a5c624f9c12.idf\n",
       "at <_io.StringIO object at 0x7f78cf4051f0>\n",
       "\tVersion 9.6\n",
       "Simulation Info:\n",
       "\tNot yet simulated>"
      ]
     },
     "execution_count": 7,
     "metadata": {},
     "output_type": "execute_result"
    }
   ],
   "source": [
    "IDF()"
   ]
  },
  {
   "cell_type": "markdown",
   "id": "84e1f0c2",
   "metadata": {},
   "source": [
    "The third options, and probably the best, is to simply specify the version of energyplus to be used in the constructor of the class:"
   ]
  },
  {
   "cell_type": "code",
   "execution_count": 8,
   "id": "30d90a40",
   "metadata": {},
   "outputs": [
    {
     "data": {
      "text/plain": [
       "<IDF object 0380f14c-fec9-11ec-acc1-0a5c624f9c12.idf\n",
       "at <_io.StringIO object at 0x7f78cd723af0>\n",
       "\tVersion 9.6\n",
       "Simulation Info:\n",
       "\tNot yet simulated>"
      ]
     },
     "execution_count": 8,
     "metadata": {},
     "output_type": "execute_result"
    }
   ],
   "source": [
    "IDF(as_version=\"9.6\")"
   ]
  },
  {
   "cell_type": "markdown",
   "id": "7ae3c2e2",
   "metadata": {},
   "source": [
    "## Accessing components and reading/setting their attributes\n",
    "\n",
    "The main use case for archetypal is the ability to programatically modify component attributes."
   ]
  },
  {
   "cell_type": "code",
   "execution_count": 9,
   "id": "259efdae",
   "metadata": {},
   "outputs": [],
   "source": [
    "idf = IDF()"
   ]
  },
  {
   "cell_type": "markdown",
   "id": "cc6885f1",
   "metadata": {},
   "source": [
    "To access all of the Material objects in the IDF model:"
   ]
  },
  {
   "cell_type": "code",
   "execution_count": 10,
   "id": "11fcae31",
   "metadata": {},
   "outputs": [
    {
     "data": {
      "text/plain": [
       "[]"
      ]
     },
     "execution_count": 10,
     "metadata": {},
     "output_type": "execute_result"
    }
   ],
   "source": [
    "idf.idfobjects[\"MATERIAL\"]"
   ]
  },
  {
   "cell_type": "markdown",
   "id": "9a1cb72f",
   "metadata": {},
   "source": [
    "The output above shows that the returns list is empty, since our empty model does not have an materials in it. Let's create one.\n",
    "\n",
    "There are different ways of adding new objects to a model:\n",
    "\n",
    "- `IDF.newidfobject` [docs](https://archetypal.readthedocs.io/en/stable/reference/archetypal.idfclass.IDF.html#archetypal.idfclass.IDF.newidfobject) will create a new component and add it directly to the model.\n",
    "- `IDF.anidfobject` [docs](https://archetypal.readthedocs.io/en/stable/reference/archetypal.idfclass.IDF.html#archetypal.idfclass.IDF.anidfobject) in combination with `IDF.addidfobject` [docs](https://archetypal.readthedocs.io/en/stable/reference/archetypal.idfclass.IDF.html#archetypal.idfclass.IDF.addidfobject) and `IDF.addidfobjects` [docs](https://archetypal.readthedocs.io/en/stable/reference/archetypal.idfclass.IDF.html#archetypal.idfclass.IDF.addidfobjects) will create a new component but will not be added to the model `IDF.addidfobject` or `IDF.addidfobjects` must be called after the object creation.\n",
    "\n",
    "For example, we specify a new Material and its properties by passnig the `key` (or the objects Component type) as an All-Caps string \"MATERIAL\" and then the attributes as key-value pairs like in any python methods or functions:"
   ]
  },
  {
   "cell_type": "code",
   "execution_count": 11,
   "id": "87376c61",
   "metadata": {},
   "outputs": [
    {
     "data": {
      "text/plain": [
       "\n",
       "MATERIAL,\n",
       "    My New Material,          !- Name\n",
       "    ,                         !- Roughness\n",
       "    0.05,                     !- Thickness\n",
       "    ,                         !- Conductivity\n",
       "    ,                         !- Density\n",
       "    ,                         !- Specific Heat\n",
       "    0.9,                      !- Thermal Absorptance\n",
       "    0.7,                      !- Solar Absorptance\n",
       "    0.7;                      !- Visible Absorptance"
      ]
     },
     "execution_count": 11,
     "metadata": {},
     "output_type": "execute_result"
    }
   ],
   "source": [
    "idf.newidfobject(\"MATERIAL\", Name=\"My New Material\", Thickness=0.05)"
   ]
  },
  {
   "cell_type": "markdown",
   "id": "680b93f7",
   "metadata": {},
   "source": [
    "We can verify that this object has been added by looking at the dictionary repository of objects defined in the model using the `IDF.idfobjects` property:"
   ]
  },
  {
   "cell_type": "code",
   "execution_count": 12,
   "id": "503088fa",
   "metadata": {},
   "outputs": [
    {
     "data": {
      "text/plain": [
       "[\n",
       "MATERIAL,\n",
       "    My New Material,          !- Name\n",
       "    ,                         !- Roughness\n",
       "    0.05,                     !- Thickness\n",
       "    ,                         !- Conductivity\n",
       "    ,                         !- Density\n",
       "    ,                         !- Specific Heat\n",
       "    0.9,                      !- Thermal Absorptance\n",
       "    0.7,                      !- Solar Absorptance\n",
       "    0.7;                      !- Visible Absorptance\n",
       "]"
      ]
     },
     "execution_count": 12,
     "metadata": {},
     "output_type": "execute_result"
    }
   ],
   "source": [
    "idf.idfobjects[\"MATERIAL\"]"
   ]
  },
  {
   "cell_type": "markdown",
   "id": "ed4fabe8",
   "metadata": {},
   "source": [
    "Similarly, we can delay the craetion of an object by calling `IDF.anidfobject` instead:"
   ]
  },
  {
   "cell_type": "code",
   "execution_count": 13,
   "id": "e0e6dd30",
   "metadata": {},
   "outputs": [
    {
     "data": {
      "text/plain": [
       "\n",
       "MATERIAL,\n",
       "    My New Material 2,        !- Name\n",
       "    ,                         !- Roughness\n",
       "    0.05,                     !- Thickness\n",
       "    ,                         !- Conductivity\n",
       "    ,                         !- Density\n",
       "    ,                         !- Specific Heat\n",
       "    0.89,                     !- Thermal Absorptance\n",
       "    0.7,                      !- Solar Absorptance\n",
       "    0.7;                      !- Visible Absorptance"
      ]
     },
     "execution_count": 13,
     "metadata": {},
     "output_type": "execute_result"
    }
   ],
   "source": [
    "mat = idf.anidfobject(\n",
    "    \"MATERIAL\", Name=\"My New Material 2\", Thickness=0.05, Thermal_Absorptance=0.89\n",
    ")\n",
    "mat  # object has been assigned to variable `mat`"
   ]
  },
  {
   "cell_type": "markdown",
   "id": "41bac33f",
   "metadata": {},
   "source": [
    "And then the object can be added to the model with:"
   ]
  },
  {
   "cell_type": "code",
   "execution_count": 14,
   "id": "5329751c",
   "metadata": {},
   "outputs": [
    {
     "data": {
      "text/plain": [
       "\n",
       "MATERIAL,\n",
       "    My New Material 2,        !- Name\n",
       "    ,                         !- Roughness\n",
       "    0.05,                     !- Thickness\n",
       "    ,                         !- Conductivity\n",
       "    ,                         !- Density\n",
       "    ,                         !- Specific Heat\n",
       "    0.89,                     !- Thermal Absorptance\n",
       "    0.7,                      !- Solar Absorptance\n",
       "    0.7;                      !- Visible Absorptance"
      ]
     },
     "execution_count": 14,
     "metadata": {},
     "output_type": "execute_result"
    }
   ],
   "source": [
    "idf.addidfobject(mat)"
   ]
  },
  {
   "cell_type": "markdown",
   "id": "92c1f17c",
   "metadata": {},
   "source": [
    "Calling again `IDF.idfobjects`, we have 2 materials in the model:"
   ]
  },
  {
   "cell_type": "code",
   "execution_count": 15,
   "id": "d6a090bc",
   "metadata": {},
   "outputs": [
    {
     "data": {
      "text/plain": [
       "[\n",
       "MATERIAL,\n",
       "    My New Material,          !- Name\n",
       "    ,                         !- Roughness\n",
       "    0.05,                     !- Thickness\n",
       "    ,                         !- Conductivity\n",
       "    ,                         !- Density\n",
       "    ,                         !- Specific Heat\n",
       "    0.9,                      !- Thermal Absorptance\n",
       "    0.7,                      !- Solar Absorptance\n",
       "    0.7;                      !- Visible Absorptance\n",
       ", \n",
       "MATERIAL,\n",
       "    My New Material 2,        !- Name\n",
       "    ,                         !- Roughness\n",
       "    0.05,                     !- Thickness\n",
       "    ,                         !- Conductivity\n",
       "    ,                         !- Density\n",
       "    ,                         !- Specific Heat\n",
       "    0.89,                     !- Thermal Absorptance\n",
       "    0.7,                      !- Solar Absorptance\n",
       "    0.7;                      !- Visible Absorptance\n",
       "]"
      ]
     },
     "execution_count": 15,
     "metadata": {},
     "output_type": "execute_result"
    }
   ],
   "source": [
    "idf.idfobjects[\"MATERIAL\"]"
   ]
  },
  {
   "cell_type": "markdown",
   "id": "025ffffb",
   "metadata": {},
   "source": [
    "### Tips and tricks\n",
    "\n",
    "Granted it can be hard to know what are the attribute names of a component especially since EnergyPlus has a huge list of components to choose from.\n",
    "\n",
    "One trick is to call the creation of an object with it's default value and to call the `dict` methdod to return the atribute names:"
   ]
  },
  {
   "cell_type": "code",
   "execution_count": 16,
   "id": "bb963338",
   "metadata": {},
   "outputs": [
    {
     "data": {
      "text/plain": [
       "{'key': 'MATERIAL:NOMASS',\n",
       " 'Name': '',\n",
       " 'Roughness': '',\n",
       " 'Thermal_Resistance': '',\n",
       " 'Thermal_Absorptance': 0.9,\n",
       " 'Solar_Absorptance': 0.7,\n",
       " 'Visible_Absorptance': 0.7}"
      ]
     },
     "execution_count": 16,
     "metadata": {},
     "output_type": "execute_result"
    }
   ],
   "source": [
    "idf.anidfobject(\"MATERIAL:NOMASS\").to_dict()"
   ]
  },
  {
   "cell_type": "markdown",
   "id": "f2f990d9",
   "metadata": {},
   "source": [
    "You would then copy the dictionary above in a cell and make changes to the attribute values as such:"
   ]
  },
  {
   "cell_type": "code",
   "execution_count": 17,
   "id": "4bb8b31c",
   "metadata": {},
   "outputs": [
    {
     "data": {
      "text/plain": [
       "{'field': ['Roughness'],\n",
       " 'required-field': [''],\n",
       " 'type': ['choice'],\n",
       " 'key': ['VeryRough',\n",
       "  'Rough',\n",
       "  'MediumRough',\n",
       "  'MediumSmooth',\n",
       "  'Smooth',\n",
       "  'VerySmooth']}"
      ]
     },
     "execution_count": 17,
     "metadata": {},
     "output_type": "execute_result"
    }
   ],
   "source": [
    "idf.anidfobject(\"MATERIAL:NOMASS\").getfieldidd(\"Roughness\")"
   ]
  },
  {
   "cell_type": "code",
   "execution_count": 18,
   "id": "42d71d3a",
   "metadata": {},
   "outputs": [],
   "source": [
    "mat_dict = {\n",
    "    \"key\": \"MATERIAL:NOMASS\",\n",
    "    \"Name\": \"My NoMass material\",\n",
    "    \"Roughness\": \"\",\n",
    "    \"Thermal_Resistance\": \"\",\n",
    "    \"Thermal_Absorptance\": 0.9,\n",
    "    \"Solar_Absorptance\": 0.7,\n",
    "    \"Visible_Absorptance\": 0.7,\n",
    "}"
   ]
  },
  {
   "cell_type": "markdown",
   "id": "1623ba7d",
   "metadata": {},
   "source": [
    "But what is \"**Roughness**\"! And what are the valid values that EnergyPlus will accept? We could go to the EnergyPlus online documentation for the Material:NoMass class and fetch the info there, but there is an easier option:\n",
    "\n",
    "Thankfully, `eppy` has done some heavylifting behind the scene and has parsed all of the content of the EnergyPlus IDD file which holds the recipy book for all the EnergyPlus component in a specific EnergyPlus version.\n",
    "\n",
    "One can retrieve this IDD information for any fieldname by calling `EPBunch.getfield(<fieldname>)`.\n",
    "\n",
    "<div class=\"alert alert-block alert-info\">\n",
    "<b>Sidenote:</b> the components in an IDF model are of a special type of class called an `EPBunch`.\n",
    "</div>"
   ]
  },
  {
   "cell_type": "code",
   "execution_count": 19,
   "id": "5770dc5e",
   "metadata": {},
   "outputs": [
    {
     "data": {
      "text/plain": [
       "{'field': ['Roughness'],\n",
       " 'required-field': [''],\n",
       " 'type': ['choice'],\n",
       " 'key': ['VeryRough',\n",
       "  'Rough',\n",
       "  'MediumRough',\n",
       "  'MediumSmooth',\n",
       "  'Smooth',\n",
       "  'VerySmooth']}"
      ]
     },
     "execution_count": 19,
     "metadata": {},
     "output_type": "execute_result"
    }
   ],
   "source": [
    "idf.anidfobject(\"MATERIAL:NOMASS\").getfieldidd(\"Roughness\")"
   ]
  },
  {
   "cell_type": "markdown",
   "id": "7e9ab90c",
   "metadata": {},
   "source": [
    "The information above tells me that the field \"Roughness\" is not a \"required-field\" (it can be left empty), and that the choices are on off ['VeryRough',  'Rough',  'MediumRough',  'MediumSmooth',  'Smooth',  'VerySmooth']:\n",
    "\n",
    "So I can continue edition my dictionary with the required Roughness:"
   ]
  },
  {
   "cell_type": "code",
   "execution_count": 23,
   "id": "d484bfb9",
   "metadata": {},
   "outputs": [],
   "source": [
    "mat_dict = {\n",
    "    \"key\": \"MATERIAL:NOMASS\",\n",
    "    \"Name\": \"My NoMass material\",\n",
    "    \"Roughness\": \"Smooth\",\n",
    "    \"Thermal_Resistance\": \"\",\n",
    "    \"Thermal_Absorptance\": 0.9,\n",
    "    \"Solar_Absorptance\": 0.7,\n",
    "    \"Visible_Absorptance\": 0.7,\n",
    "}"
   ]
  },
  {
   "cell_type": "markdown",
   "id": "65ffab85",
   "metadata": {},
   "source": [
    "Finally, I can create the new material object using the dictionary and python's special double-star (**) syntax which will unpack the key-values of the dictionary as paramters of the `newidfobject` method: "
   ]
  },
  {
   "cell_type": "code",
   "execution_count": 25,
   "id": "d1ffa93a",
   "metadata": {},
   "outputs": [
    {
     "data": {
      "text/plain": [
       "\n",
       "MATERIAL:NOMASS,\n",
       "    My NoMass material,       !- Name\n",
       "    Smooth,                   !- Roughness\n",
       "    ,                         !- Thermal Resistance\n",
       "    0.9,                      !- Thermal Absorptance\n",
       "    0.7,                      !- Solar Absorptance\n",
       "    0.7;                      !- Visible Absorptance"
      ]
     },
     "execution_count": 25,
     "metadata": {},
     "output_type": "execute_result"
    }
   ],
   "source": [
    "idf.newidfobject(**mat_dict)"
   ]
  },
  {
   "cell_type": "markdown",
   "id": "aa3a6222",
   "metadata": {},
   "source": [
    "## How to parse an existing model"
   ]
  },
  {
   "cell_type": "code",
   "execution_count": 26,
   "id": "47d86312",
   "metadata": {},
   "outputs": [],
   "source": [
    "idf = IDF(\"seed_file_V960.idf\")"
   ]
  },
  {
   "cell_type": "code",
   "execution_count": 27,
   "id": "73768862",
   "metadata": {},
   "outputs": [
    {
     "data": {
      "text/plain": [
       "[\n",
       "Material,\n",
       "    8IN CONCRETE HW,          !- Name\n",
       "    MediumRough,              !- Roughness\n",
       "    0.2033,                   !- Thickness\n",
       "    1.72959999999999,         !- Conductivity\n",
       "    2242.99999999999,         !- Density\n",
       "    836.999999999999,         !- Specific Heat\n",
       "    0.9,                      !- Thermal Absorptance\n",
       "    0.65,                     !- Solar Absorptance\n",
       "    0.7;                      !- Visible Absorptance\n",
       ", \n",
       "Material,\n",
       "    ATTICFLOOR INSULATION R-45.65 IP,    !- Name\n",
       "    MediumRough,              !- Roughness\n",
       "    0.393911555076,           !- Thickness\n",
       "    0.049,                    !- Conductivity\n",
       "    265,                      !- Density\n",
       "    836.800000000001,         !- Specific Heat\n",
       "    0.9,                      !- Thermal Absorptance\n",
       "    0.7,                      !- Solar Absorptance\n",
       "    0.7;                      !- Visible Absorptance\n",
       ", \n",
       "Material,\n",
       "    G01a 19mm gypsum board,    !- Name\n",
       "    MediumSmooth,             !- Roughness\n",
       "    0.019,                    !- Thickness\n",
       "    0.16,                     !- Conductivity\n",
       "    800,                      !- Density\n",
       "    1090,                     !- Specific Heat\n",
       "    0.9,                      !- Thermal Absorptance\n",
       "    0.7,                      !- Solar Absorptance\n",
       "    0.7;                      !- Visible Absorptance\n",
       "]"
      ]
     },
     "execution_count": 27,
     "metadata": {},
     "output_type": "execute_result"
    }
   ],
   "source": [
    "idf.idfobjects[\"MATERIAL\"]"
   ]
  },
  {
   "cell_type": "markdown",
   "id": "b761f35b",
   "metadata": {},
   "source": [
    "### Edit a specific object"
   ]
  },
  {
   "cell_type": "code",
   "execution_count": 28,
   "id": "3e611dec",
   "metadata": {},
   "outputs": [
    {
     "data": {
      "text/plain": [
       "\n",
       "Material,\n",
       "    8IN CONCRETE HW,          !- Name\n",
       "    MediumRough,              !- Roughness\n",
       "    0.2033,                   !- Thickness\n",
       "    1.72959999999999,         !- Conductivity\n",
       "    2242.99999999999,         !- Density\n",
       "    836.999999999999,         !- Specific Heat\n",
       "    0.9,                      !- Thermal Absorptance\n",
       "    0.65,                     !- Solar Absorptance\n",
       "    0.7;                      !- Visible Absorptance"
      ]
     },
     "execution_count": 28,
     "metadata": {},
     "output_type": "execute_result"
    }
   ],
   "source": [
    "mat_concrete = idf.getobject(\"MATERIAL\", \"8IN CONCRETE HW\")\n",
    "mat_concrete"
   ]
  },
  {
   "cell_type": "code",
   "execution_count": 29,
   "id": "b42e8466",
   "metadata": {},
   "outputs": [
    {
     "data": {
      "text/plain": [
       "0.9"
      ]
     },
     "execution_count": 29,
     "metadata": {},
     "output_type": "execute_result"
    }
   ],
   "source": [
    "mat_concrete.Thermal_Absorptance"
   ]
  },
  {
   "cell_type": "code",
   "execution_count": 30,
   "id": "30765dbe",
   "metadata": {},
   "outputs": [],
   "source": [
    "mat_concrete.Thermal_Absorptance = 0.87"
   ]
  },
  {
   "cell_type": "code",
   "execution_count": 31,
   "id": "91cf828f",
   "metadata": {},
   "outputs": [
    {
     "data": {
      "text/plain": [
       "\n",
       "Material,\n",
       "    8IN CONCRETE HW,          !- Name\n",
       "    MediumRough,              !- Roughness\n",
       "    0.2033,                   !- Thickness\n",
       "    1.72959999999999,         !- Conductivity\n",
       "    2242.99999999999,         !- Density\n",
       "    836.999999999999,         !- Specific Heat\n",
       "    0.87,                     !- Thermal Absorptance\n",
       "    0.65,                     !- Solar Absorptance\n",
       "    0.7;                      !- Visible Absorptance"
      ]
     },
     "execution_count": 31,
     "metadata": {},
     "output_type": "execute_result"
    }
   ],
   "source": [
    "mat_concrete"
   ]
  },
  {
   "cell_type": "markdown",
   "id": "f97bb57f",
   "metadata": {},
   "source": [
    "### Saving edits"
   ]
  },
  {
   "cell_type": "code",
   "execution_count": 33,
   "id": "42184419",
   "metadata": {},
   "outputs": [
    {
     "data": {
      "text/plain": [
       "Path('seed_file_V960.idf')"
      ]
     },
     "execution_count": 33,
     "metadata": {},
     "output_type": "execute_result"
    }
   ],
   "source": [
    "idf.idfname"
   ]
  },
  {
   "cell_type": "code",
   "execution_count": 34,
   "id": "9123a911",
   "metadata": {},
   "outputs": [
    {
     "data": {
      "text/plain": [
       "<IDF object seed_file_V960.idf\n",
       "at seed_file_V960.idf\n",
       "\tVersion 9.6\n",
       "Simulation Info:\n",
       "\tNot yet simulated>"
      ]
     },
     "execution_count": 34,
     "metadata": {},
     "output_type": "execute_result"
    }
   ],
   "source": [
    "idf.save()"
   ]
  },
  {
   "cell_type": "code",
   "execution_count": 35,
   "id": "bb3f18d1",
   "metadata": {},
   "outputs": [
    {
     "data": {
      "text/plain": [
       "<IDF object seed_file_V960.idf\n",
       "at seed_file_V960_edited.idf\n",
       "\tVersion 9.6\n",
       "Simulation Info:\n",
       "\tNot yet simulated>"
      ]
     },
     "execution_count": 35,
     "metadata": {},
     "output_type": "execute_result"
    }
   ],
   "source": [
    "idf.saveas(\"seed_file_V960_edited.idf\")"
   ]
  },
  {
   "cell_type": "markdown",
   "id": "899ca019",
   "metadata": {},
   "source": [
    "## Accessing geometry functions"
   ]
  },
  {
   "cell_type": "code",
   "execution_count": 36,
   "id": "fafb6cba",
   "metadata": {},
   "outputs": [
    {
     "data": {
      "text/plain": [
       "<IDF object seed_file_V960.idf\n",
       "at seed_file_V960.idf\n",
       "\tVersion 9.6\n",
       "Simulation Info:\n",
       "\tNot yet simulated>"
      ]
     },
     "execution_count": 36,
     "metadata": {},
     "output_type": "execute_result"
    }
   ],
   "source": [
    "idf"
   ]
  },
  {
   "cell_type": "code",
   "execution_count": 37,
   "id": "ad4424fb",
   "metadata": {},
   "outputs": [
    {
     "data": {
      "text/plain": [
       "[\n",
       " BuildingSurface:Detailed,\n",
       "     zone_5_Srf_0,             !- Name\n",
       "     Wall,                     !- Surface Type\n",
       "     Interior Wall,            !- Construction Name\n",
       "     zone_5,                   !- Zone Name\n",
       "     ,                         !- Space Name\n",
       "     Surface,                  !- Outside Boundary Condition\n",
       "     zone_7_Srf_2,             !- Outside Boundary Condition Object\n",
       "     NoSun,                    !- Sun Exposure\n",
       "     NoWind,                   !- Wind Exposure\n",
       "     ,                         !- View Factor to Ground\n",
       "     ,                         !- Number of Vertices\n",
       "     30.2000007629395,         !- Vertex 1 Xcoordinate\n",
       "     18.5,                     !- Vertex 1 Ycoordinate\n",
       "     4.5,                      !- Vertex 1 Zcoordinate\n",
       "     30.2000007629395,         !- Vertex 2 Xcoordinate\n",
       "     18.5,                     !- Vertex 2 Ycoordinate\n",
       "     0,                        !- Vertex 2 Zcoordinate\n",
       "     4.5,                      !- Vertex 3 Xcoordinate\n",
       "     18.5,                     !- Vertex 3 Ycoordinate\n",
       "     0,                        !- Vertex 3 Zcoordinate\n",
       "     4.5,                      !- Vertex 4 Xcoordinate\n",
       "     18.5,                     !- Vertex 4 Ycoordinate\n",
       "     4.5;                      !- Vertex 4 Zcoordinate,\n",
       " \n",
       " BuildingSurface:Detailed,\n",
       "     zone_5_Srf_1,             !- Name\n",
       "     Wall,                     !- Surface Type\n",
       "     Interior Wall,            !- Construction Name\n",
       "     zone_5,                   !- Zone Name\n",
       "     ,                         !- Space Name\n",
       "     Surface,                  !- Outside Boundary Condition\n",
       "     zone_8_Srf_2,             !- Outside Boundary Condition Object\n",
       "     NoSun,                    !- Sun Exposure\n",
       "     NoWind,                   !- Wind Exposure\n",
       "     ,                         !- View Factor to Ground\n",
       "     ,                         !- Number of Vertices\n",
       "     4.5,                      !- Vertex 1 Xcoordinate\n",
       "     18.5,                     !- Vertex 1 Ycoordinate\n",
       "     4.5,                      !- Vertex 1 Zcoordinate\n",
       "     4.5,                      !- Vertex 2 Xcoordinate\n",
       "     18.5,                     !- Vertex 2 Ycoordinate\n",
       "     0,                        !- Vertex 2 Zcoordinate\n",
       "     4.5,                      !- Vertex 3 Xcoordinate\n",
       "     4.5,                      !- Vertex 3 Ycoordinate\n",
       "     0,                        !- Vertex 3 Zcoordinate\n",
       "     4.5,                      !- Vertex 4 Xcoordinate\n",
       "     4.5,                      !- Vertex 4 Ycoordinate\n",
       "     4.5;                      !- Vertex 4 Zcoordinate,\n",
       " \n",
       " BuildingSurface:Detailed,\n",
       "     zone_5_Srf_2,             !- Name\n",
       "     Wall,                     !- Surface Type\n",
       "     Interior Wall,            !- Construction Name\n",
       "     zone_5,                   !- Zone Name\n",
       "     ,                         !- Space Name\n",
       "     Surface,                  !- Outside Boundary Condition\n",
       "     zone_9_Srf_2,             !- Outside Boundary Condition Object\n",
       "     NoSun,                    !- Sun Exposure\n",
       "     NoWind,                   !- Wind Exposure\n",
       "     ,                         !- View Factor to Ground\n",
       "     ,                         !- Number of Vertices\n",
       "     4.5,                      !- Vertex 1 Xcoordinate\n",
       "     4.5,                      !- Vertex 1 Ycoordinate\n",
       "     4.5,                      !- Vertex 1 Zcoordinate\n",
       "     4.5,                      !- Vertex 2 Xcoordinate\n",
       "     4.5,                      !- Vertex 2 Ycoordinate\n",
       "     0,                        !- Vertex 2 Zcoordinate\n",
       "     30.2000007629395,         !- Vertex 3 Xcoordinate\n",
       "     4.5,                      !- Vertex 3 Ycoordinate\n",
       "     0,                        !- Vertex 3 Zcoordinate\n",
       "     30.2000007629395,         !- Vertex 4 Xcoordinate\n",
       "     4.5,                      !- Vertex 4 Ycoordinate\n",
       "     4.5;                      !- Vertex 4 Zcoordinate,\n",
       " \n",
       " BuildingSurface:Detailed,\n",
       "     zone_5_Srf_3,             !- Name\n",
       "     Wall,                     !- Surface Type\n",
       "     Interior Wall,            !- Construction Name\n",
       "     zone_5,                   !- Zone Name\n",
       "     ,                         !- Space Name\n",
       "     Surface,                  !- Outside Boundary Condition\n",
       "     zone_6_Srf_2,             !- Outside Boundary Condition Object\n",
       "     NoSun,                    !- Sun Exposure\n",
       "     NoWind,                   !- Wind Exposure\n",
       "     ,                         !- View Factor to Ground\n",
       "     ,                         !- Number of Vertices\n",
       "     30.2000007629395,         !- Vertex 1 Xcoordinate\n",
       "     4.5,                      !- Vertex 1 Ycoordinate\n",
       "     4.5,                      !- Vertex 1 Zcoordinate\n",
       "     30.2000007629395,         !- Vertex 2 Xcoordinate\n",
       "     4.5,                      !- Vertex 2 Ycoordinate\n",
       "     0,                        !- Vertex 2 Zcoordinate\n",
       "     30.2000007629395,         !- Vertex 3 Xcoordinate\n",
       "     18.5,                     !- Vertex 3 Ycoordinate\n",
       "     0,                        !- Vertex 3 Zcoordinate\n",
       "     30.2000007629395,         !- Vertex 4 Xcoordinate\n",
       "     18.5,                     !- Vertex 4 Ycoordinate\n",
       "     4.5;                      !- Vertex 4 Zcoordinate,\n",
       " \n",
       " BuildingSurface:Detailed,\n",
       "     zone_6_Srf_0,             !- Name\n",
       "     Wall,                     !- Surface Type\n",
       "     WALL R-:0.880551,         !- Construction Name\n",
       "     zone_6,                   !- Zone Name\n",
       "     ,                         !- Space Name\n",
       "     Outdoors,                 !- Outside Boundary Condition\n",
       "     ,                         !- Outside Boundary Condition Object\n",
       "     Sunexposed,               !- Sun Exposure\n",
       "     Windexposed,              !- Wind Exposure\n",
       "     ,                         !- View Factor to Ground\n",
       "     ,                         !- Number of Vertices\n",
       "     34.7000007629395,         !- Vertex 1 Xcoordinate\n",
       "     -5.551115e-17,            !- Vertex 1 Ycoordinate\n",
       "     4.5,                      !- Vertex 1 Zcoordinate\n",
       "     34.7000007629395,         !- Vertex 2 Xcoordinate\n",
       "     -5.551115e-17,            !- Vertex 2 Ycoordinate\n",
       "     0,                        !- Vertex 2 Zcoordinate\n",
       "     34.7000007629395,         !- Vertex 3 Xcoordinate\n",
       "     23,                       !- Vertex 3 Ycoordinate\n",
       "     0,                        !- Vertex 3 Zcoordinate\n",
       "     34.7000007629395,         !- Vertex 4 Xcoordinate\n",
       "     23,                       !- Vertex 4 Ycoordinate\n",
       "     4.5;                      !- Vertex 4 Zcoordinate,\n",
       " \n",
       " BuildingSurface:Detailed,\n",
       "     zone_6_Srf_1,             !- Name\n",
       "     Wall,                     !- Surface Type\n",
       "     Interior Wall,            !- Construction Name\n",
       "     zone_6,                   !- Zone Name\n",
       "     ,                         !- Space Name\n",
       "     Surface,                  !- Outside Boundary Condition\n",
       "     zone_7_Srf_3,             !- Outside Boundary Condition Object\n",
       "     NoSun,                    !- Sun Exposure\n",
       "     NoWind,                   !- Wind Exposure\n",
       "     ,                         !- View Factor to Ground\n",
       "     ,                         !- Number of Vertices\n",
       "     34.7000007629395,         !- Vertex 1 Xcoordinate\n",
       "     23,                       !- Vertex 1 Ycoordinate\n",
       "     4.5,                      !- Vertex 1 Zcoordinate\n",
       "     34.7000007629395,         !- Vertex 2 Xcoordinate\n",
       "     23,                       !- Vertex 2 Ycoordinate\n",
       "     0,                        !- Vertex 2 Zcoordinate\n",
       "     30.2000007629395,         !- Vertex 3 Xcoordinate\n",
       "     18.5,                     !- Vertex 3 Ycoordinate\n",
       "     0,                        !- Vertex 3 Zcoordinate\n",
       "     30.2000007629395,         !- Vertex 4 Xcoordinate\n",
       "     18.5,                     !- Vertex 4 Ycoordinate\n",
       "     4.5;                      !- Vertex 4 Zcoordinate,\n",
       " \n",
       " BuildingSurface:Detailed,\n",
       "     zone_6_Srf_2,             !- Name\n",
       "     Wall,                     !- Surface Type\n",
       "     Interior Wall,            !- Construction Name\n",
       "     zone_6,                   !- Zone Name\n",
       "     ,                         !- Space Name\n",
       "     Surface,                  !- Outside Boundary Condition\n",
       "     zone_5_Srf_3,             !- Outside Boundary Condition Object\n",
       "     NoSun,                    !- Sun Exposure\n",
       "     NoWind,                   !- Wind Exposure\n",
       "     ,                         !- View Factor to Ground\n",
       "     ,                         !- Number of Vertices\n",
       "     30.2000007629395,         !- Vertex 1 Xcoordinate\n",
       "     18.5,                     !- Vertex 1 Ycoordinate\n",
       "     4.5,                      !- Vertex 1 Zcoordinate\n",
       "     30.2000007629395,         !- Vertex 2 Xcoordinate\n",
       "     18.5,                     !- Vertex 2 Ycoordinate\n",
       "     0,                        !- Vertex 2 Zcoordinate\n",
       "     30.2000007629395,         !- Vertex 3 Xcoordinate\n",
       "     4.5,                      !- Vertex 3 Ycoordinate\n",
       "     0,                        !- Vertex 3 Zcoordinate\n",
       "     30.2000007629395,         !- Vertex 4 Xcoordinate\n",
       "     4.5,                      !- Vertex 4 Ycoordinate\n",
       "     4.5;                      !- Vertex 4 Zcoordinate,\n",
       " \n",
       " BuildingSurface:Detailed,\n",
       "     zone_6_Srf_3,             !- Name\n",
       "     Wall,                     !- Surface Type\n",
       "     Interior Wall,            !- Construction Name\n",
       "     zone_6,                   !- Zone Name\n",
       "     ,                         !- Space Name\n",
       "     Surface,                  !- Outside Boundary Condition\n",
       "     zone_9_Srf_1,             !- Outside Boundary Condition Object\n",
       "     NoSun,                    !- Sun Exposure\n",
       "     NoWind,                   !- Wind Exposure\n",
       "     ,                         !- View Factor to Ground\n",
       "     ,                         !- Number of Vertices\n",
       "     30.2000007629395,         !- Vertex 1 Xcoordinate\n",
       "     4.5,                      !- Vertex 1 Ycoordinate\n",
       "     4.5,                      !- Vertex 1 Zcoordinate\n",
       "     30.2000007629395,         !- Vertex 2 Xcoordinate\n",
       "     4.5,                      !- Vertex 2 Ycoordinate\n",
       "     0,                        !- Vertex 2 Zcoordinate\n",
       "     34.7000007629395,         !- Vertex 3 Xcoordinate\n",
       "     -5.551115e-17,            !- Vertex 3 Ycoordinate\n",
       "     0,                        !- Vertex 3 Zcoordinate\n",
       "     34.7000007629395,         !- Vertex 4 Xcoordinate\n",
       "     -5.551115e-17,            !- Vertex 4 Ycoordinate\n",
       "     4.5;                      !- Vertex 4 Zcoordinate,\n",
       " \n",
       " BuildingSurface:Detailed,\n",
       "     zone_7_Srf_0,             !- Name\n",
       "     Wall,                     !- Surface Type\n",
       "     WALL R-:0.880551,         !- Construction Name\n",
       "     zone_7,                   !- Zone Name\n",
       "     ,                         !- Space Name\n",
       "     Outdoors,                 !- Outside Boundary Condition\n",
       "     ,                         !- Outside Boundary Condition Object\n",
       "     Sunexposed,               !- Sun Exposure\n",
       "     Windexposed,              !- Wind Exposure\n",
       "     ,                         !- View Factor to Ground\n",
       "     ,                         !- Number of Vertices\n",
       "     34.7000007629395,         !- Vertex 1 Xcoordinate\n",
       "     23,                       !- Vertex 1 Ycoordinate\n",
       "     4.5,                      !- Vertex 1 Zcoordinate\n",
       "     34.7000007629395,         !- Vertex 2 Xcoordinate\n",
       "     23,                       !- Vertex 2 Ycoordinate\n",
       "     0,                        !- Vertex 2 Zcoordinate\n",
       "     0,                        !- Vertex 3 Xcoordinate\n",
       "     23,                       !- Vertex 3 Ycoordinate\n",
       "     0,                        !- Vertex 3 Zcoordinate\n",
       "     0,                        !- Vertex 4 Xcoordinate\n",
       "     23,                       !- Vertex 4 Ycoordinate\n",
       "     4.5;                      !- Vertex 4 Zcoordinate,\n",
       " \n",
       " BuildingSurface:Detailed,\n",
       "     zone_7_Srf_1,             !- Name\n",
       "     Wall,                     !- Surface Type\n",
       "     Interior Wall,            !- Construction Name\n",
       "     zone_7,                   !- Zone Name\n",
       "     ,                         !- Space Name\n",
       "     Surface,                  !- Outside Boundary Condition\n",
       "     zone_8_Srf_3,             !- Outside Boundary Condition Object\n",
       "     NoSun,                    !- Sun Exposure\n",
       "     NoWind,                   !- Wind Exposure\n",
       "     ,                         !- View Factor to Ground\n",
       "     ,                         !- Number of Vertices\n",
       "     0,                        !- Vertex 1 Xcoordinate\n",
       "     23,                       !- Vertex 1 Ycoordinate\n",
       "     4.5,                      !- Vertex 1 Zcoordinate\n",
       "     0,                        !- Vertex 2 Xcoordinate\n",
       "     23,                       !- Vertex 2 Ycoordinate\n",
       "     0,                        !- Vertex 2 Zcoordinate\n",
       "     4.5,                      !- Vertex 3 Xcoordinate\n",
       "     18.5,                     !- Vertex 3 Ycoordinate\n",
       "     0,                        !- Vertex 3 Zcoordinate\n",
       "     4.5,                      !- Vertex 4 Xcoordinate\n",
       "     18.5,                     !- Vertex 4 Ycoordinate\n",
       "     4.5;                      !- Vertex 4 Zcoordinate,\n",
       " \n",
       " BuildingSurface:Detailed,\n",
       "     zone_7_Srf_2,             !- Name\n",
       "     Wall,                     !- Surface Type\n",
       "     Interior Wall,            !- Construction Name\n",
       "     zone_7,                   !- Zone Name\n",
       "     ,                         !- Space Name\n",
       "     Surface,                  !- Outside Boundary Condition\n",
       "     zone_5_Srf_0,             !- Outside Boundary Condition Object\n",
       "     NoSun,                    !- Sun Exposure\n",
       "     NoWind,                   !- Wind Exposure\n",
       "     ,                         !- View Factor to Ground\n",
       "     ,                         !- Number of Vertices\n",
       "     4.5,                      !- Vertex 1 Xcoordinate\n",
       "     18.5,                     !- Vertex 1 Ycoordinate\n",
       "     4.5,                      !- Vertex 1 Zcoordinate\n",
       "     4.5,                      !- Vertex 2 Xcoordinate\n",
       "     18.5,                     !- Vertex 2 Ycoordinate\n",
       "     0,                        !- Vertex 2 Zcoordinate\n",
       "     30.2000007629395,         !- Vertex 3 Xcoordinate\n",
       "     18.5,                     !- Vertex 3 Ycoordinate\n",
       "     0,                        !- Vertex 3 Zcoordinate\n",
       "     30.2000007629395,         !- Vertex 4 Xcoordinate\n",
       "     18.5,                     !- Vertex 4 Ycoordinate\n",
       "     4.5;                      !- Vertex 4 Zcoordinate,\n",
       " \n",
       " BuildingSurface:Detailed,\n",
       "     zone_7_Srf_3,             !- Name\n",
       "     Wall,                     !- Surface Type\n",
       "     Interior Wall,            !- Construction Name\n",
       "     zone_7,                   !- Zone Name\n",
       "     ,                         !- Space Name\n",
       "     Surface,                  !- Outside Boundary Condition\n",
       "     zone_6_Srf_1,             !- Outside Boundary Condition Object\n",
       "     NoSun,                    !- Sun Exposure\n",
       "     NoWind,                   !- Wind Exposure\n",
       "     ,                         !- View Factor to Ground\n",
       "     ,                         !- Number of Vertices\n",
       "     30.2000007629395,         !- Vertex 1 Xcoordinate\n",
       "     18.5,                     !- Vertex 1 Ycoordinate\n",
       "     4.5,                      !- Vertex 1 Zcoordinate\n",
       "     30.2000007629395,         !- Vertex 2 Xcoordinate\n",
       "     18.5,                     !- Vertex 2 Ycoordinate\n",
       "     0,                        !- Vertex 2 Zcoordinate\n",
       "     34.7000007629395,         !- Vertex 3 Xcoordinate\n",
       "     23,                       !- Vertex 3 Ycoordinate\n",
       "     0,                        !- Vertex 3 Zcoordinate\n",
       "     34.7000007629395,         !- Vertex 4 Xcoordinate\n",
       "     23,                       !- Vertex 4 Ycoordinate\n",
       "     4.5;                      !- Vertex 4 Zcoordinate,\n",
       " \n",
       " BuildingSurface:Detailed,\n",
       "     zone_8_Srf_0,             !- Name\n",
       "     Wall,                     !- Surface Type\n",
       "     WALL R-:0.880551,         !- Construction Name\n",
       "     zone_8,                   !- Zone Name\n",
       "     ,                         !- Space Name\n",
       "     Outdoors,                 !- Outside Boundary Condition\n",
       "     ,                         !- Outside Boundary Condition Object\n",
       "     Sunexposed,               !- Sun Exposure\n",
       "     Windexposed,              !- Wind Exposure\n",
       "     ,                         !- View Factor to Ground\n",
       "     ,                         !- Number of Vertices\n",
       "     -5.551115e-17,            !- Vertex 1 Xcoordinate\n",
       "     23,                       !- Vertex 1 Ycoordinate\n",
       "     4.5,                      !- Vertex 1 Zcoordinate\n",
       "     -5.551115e-17,            !- Vertex 2 Xcoordinate\n",
       "     23,                       !- Vertex 2 Ycoordinate\n",
       "     0,                        !- Vertex 2 Zcoordinate\n",
       "     -5.551115e-17,            !- Vertex 3 Xcoordinate\n",
       "     0,                        !- Vertex 3 Ycoordinate\n",
       "     0,                        !- Vertex 3 Zcoordinate\n",
       "     -5.551115e-17,            !- Vertex 4 Xcoordinate\n",
       "     0,                        !- Vertex 4 Ycoordinate\n",
       "     4.5;                      !- Vertex 4 Zcoordinate,\n",
       " \n",
       " BuildingSurface:Detailed,\n",
       "     zone_8_Srf_1,             !- Name\n",
       "     Wall,                     !- Surface Type\n",
       "     Interior Wall,            !- Construction Name\n",
       "     zone_8,                   !- Zone Name\n",
       "     ,                         !- Space Name\n",
       "     Surface,                  !- Outside Boundary Condition\n",
       "     zone_9_Srf_3,             !- Outside Boundary Condition Object\n",
       "     NoSun,                    !- Sun Exposure\n",
       "     NoWind,                   !- Wind Exposure\n",
       "     ,                         !- View Factor to Ground\n",
       "     ,                         !- Number of Vertices\n",
       "     -5.551115e-17,            !- Vertex 1 Xcoordinate\n",
       "     0,                        !- Vertex 1 Ycoordinate\n",
       "     4.5,                      !- Vertex 1 Zcoordinate\n",
       "     -5.551115e-17,            !- Vertex 2 Xcoordinate\n",
       "     0,                        !- Vertex 2 Ycoordinate\n",
       "     0,                        !- Vertex 2 Zcoordinate\n",
       "     4.5,                      !- Vertex 3 Xcoordinate\n",
       "     4.5,                      !- Vertex 3 Ycoordinate\n",
       "     0,                        !- Vertex 3 Zcoordinate\n",
       "     4.5,                      !- Vertex 4 Xcoordinate\n",
       "     4.5,                      !- Vertex 4 Ycoordinate\n",
       "     4.5;                      !- Vertex 4 Zcoordinate,\n",
       " \n",
       " BuildingSurface:Detailed,\n",
       "     zone_8_Srf_2,             !- Name\n",
       "     Wall,                     !- Surface Type\n",
       "     Interior Wall,            !- Construction Name\n",
       "     zone_8,                   !- Zone Name\n",
       "     ,                         !- Space Name\n",
       "     Surface,                  !- Outside Boundary Condition\n",
       "     zone_5_Srf_1,             !- Outside Boundary Condition Object\n",
       "     NoSun,                    !- Sun Exposure\n",
       "     NoWind,                   !- Wind Exposure\n",
       "     ,                         !- View Factor to Ground\n",
       "     ,                         !- Number of Vertices\n",
       "     4.5,                      !- Vertex 1 Xcoordinate\n",
       "     4.5,                      !- Vertex 1 Ycoordinate\n",
       "     4.5,                      !- Vertex 1 Zcoordinate\n",
       "     4.5,                      !- Vertex 2 Xcoordinate\n",
       "     4.5,                      !- Vertex 2 Ycoordinate\n",
       "     0,                        !- Vertex 2 Zcoordinate\n",
       "     4.5,                      !- Vertex 3 Xcoordinate\n",
       "     18.5,                     !- Vertex 3 Ycoordinate\n",
       "     0,                        !- Vertex 3 Zcoordinate\n",
       "     4.5,                      !- Vertex 4 Xcoordinate\n",
       "     18.5,                     !- Vertex 4 Ycoordinate\n",
       "     4.5;                      !- Vertex 4 Zcoordinate,\n",
       " \n",
       " BuildingSurface:Detailed,\n",
       "     zone_8_Srf_3,             !- Name\n",
       "     Wall,                     !- Surface Type\n",
       "     Interior Wall,            !- Construction Name\n",
       "     zone_8,                   !- Zone Name\n",
       "     ,                         !- Space Name\n",
       "     Surface,                  !- Outside Boundary Condition\n",
       "     zone_7_Srf_1,             !- Outside Boundary Condition Object\n",
       "     NoSun,                    !- Sun Exposure\n",
       "     NoWind,                   !- Wind Exposure\n",
       "     ,                         !- View Factor to Ground\n",
       "     ,                         !- Number of Vertices\n",
       "     4.5,                      !- Vertex 1 Xcoordinate\n",
       "     18.5,                     !- Vertex 1 Ycoordinate\n",
       "     4.5,                      !- Vertex 1 Zcoordinate\n",
       "     4.5,                      !- Vertex 2 Xcoordinate\n",
       "     18.5,                     !- Vertex 2 Ycoordinate\n",
       "     0,                        !- Vertex 2 Zcoordinate\n",
       "     -5.551115e-17,            !- Vertex 3 Xcoordinate\n",
       "     23,                       !- Vertex 3 Ycoordinate\n",
       "     0,                        !- Vertex 3 Zcoordinate\n",
       "     -5.551115e-17,            !- Vertex 4 Xcoordinate\n",
       "     23,                       !- Vertex 4 Ycoordinate\n",
       "     4.5;                      !- Vertex 4 Zcoordinate,\n",
       " \n",
       " BuildingSurface:Detailed,\n",
       "     zone_9_Srf_0,             !- Name\n",
       "     Wall,                     !- Surface Type\n",
       "     WALL R-:0.880551,         !- Construction Name\n",
       "     zone_9,                   !- Zone Name\n",
       "     ,                         !- Space Name\n",
       "     Outdoors,                 !- Outside Boundary Condition\n",
       "     ,                         !- Outside Boundary Condition Object\n",
       "     Sunexposed,               !- Sun Exposure\n",
       "     Windexposed,              !- Wind Exposure\n",
       "     ,                         !- View Factor to Ground\n",
       "     ,                         !- Number of Vertices\n",
       "     -5.551115e-17,            !- Vertex 1 Xcoordinate\n",
       "     -5.551115e-17,            !- Vertex 1 Ycoordinate\n",
       "     4.5,                      !- Vertex 1 Zcoordinate\n",
       "     -5.551115e-17,            !- Vertex 2 Xcoordinate\n",
       "     -5.551115e-17,            !- Vertex 2 Ycoordinate\n",
       "     0,                        !- Vertex 2 Zcoordinate\n",
       "     34.7000007629395,         !- Vertex 3 Xcoordinate\n",
       "     -5.551115e-17,            !- Vertex 3 Ycoordinate\n",
       "     0,                        !- Vertex 3 Zcoordinate\n",
       "     34.7000007629395,         !- Vertex 4 Xcoordinate\n",
       "     -5.551115e-17,            !- Vertex 4 Ycoordinate\n",
       "     4.5;                      !- Vertex 4 Zcoordinate,\n",
       " \n",
       " BuildingSurface:Detailed,\n",
       "     zone_9_Srf_1,             !- Name\n",
       "     Wall,                     !- Surface Type\n",
       "     Interior Wall,            !- Construction Name\n",
       "     zone_9,                   !- Zone Name\n",
       "     ,                         !- Space Name\n",
       "     Surface,                  !- Outside Boundary Condition\n",
       "     zone_6_Srf_3,             !- Outside Boundary Condition Object\n",
       "     NoSun,                    !- Sun Exposure\n",
       "     NoWind,                   !- Wind Exposure\n",
       "     ,                         !- View Factor to Ground\n",
       "     ,                         !- Number of Vertices\n",
       "     34.7000007629395,         !- Vertex 1 Xcoordinate\n",
       "     -5.551115e-17,            !- Vertex 1 Ycoordinate\n",
       "     4.5,                      !- Vertex 1 Zcoordinate\n",
       "     34.7000007629395,         !- Vertex 2 Xcoordinate\n",
       "     -5.551115e-17,            !- Vertex 2 Ycoordinate\n",
       "     0,                        !- Vertex 2 Zcoordinate\n",
       "     30.2000007629395,         !- Vertex 3 Xcoordinate\n",
       "     4.5,                      !- Vertex 3 Ycoordinate\n",
       "     0,                        !- Vertex 3 Zcoordinate\n",
       "     30.2000007629395,         !- Vertex 4 Xcoordinate\n",
       "     4.5,                      !- Vertex 4 Ycoordinate\n",
       "     4.5;                      !- Vertex 4 Zcoordinate,\n",
       " \n",
       " BuildingSurface:Detailed,\n",
       "     zone_9_Srf_2,             !- Name\n",
       "     Wall,                     !- Surface Type\n",
       "     Interior Wall,            !- Construction Name\n",
       "     zone_9,                   !- Zone Name\n",
       "     ,                         !- Space Name\n",
       "     Surface,                  !- Outside Boundary Condition\n",
       "     zone_5_Srf_2,             !- Outside Boundary Condition Object\n",
       "     NoSun,                    !- Sun Exposure\n",
       "     NoWind,                   !- Wind Exposure\n",
       "     ,                         !- View Factor to Ground\n",
       "     ,                         !- Number of Vertices\n",
       "     30.2000007629395,         !- Vertex 1 Xcoordinate\n",
       "     4.5,                      !- Vertex 1 Ycoordinate\n",
       "     4.5,                      !- Vertex 1 Zcoordinate\n",
       "     30.2000007629395,         !- Vertex 2 Xcoordinate\n",
       "     4.5,                      !- Vertex 2 Ycoordinate\n",
       "     0,                        !- Vertex 2 Zcoordinate\n",
       "     4.5,                      !- Vertex 3 Xcoordinate\n",
       "     4.5,                      !- Vertex 3 Ycoordinate\n",
       "     0,                        !- Vertex 3 Zcoordinate\n",
       "     4.5,                      !- Vertex 4 Xcoordinate\n",
       "     4.5,                      !- Vertex 4 Ycoordinate\n",
       "     4.5;                      !- Vertex 4 Zcoordinate,\n",
       " \n",
       " BuildingSurface:Detailed,\n",
       "     zone_9_Srf_3,             !- Name\n",
       "     Wall,                     !- Surface Type\n",
       "     Interior Wall,            !- Construction Name\n",
       "     zone_9,                   !- Zone Name\n",
       "     ,                         !- Space Name\n",
       "     Surface,                  !- Outside Boundary Condition\n",
       "     zone_8_Srf_1,             !- Outside Boundary Condition Object\n",
       "     NoSun,                    !- Sun Exposure\n",
       "     NoWind,                   !- Wind Exposure\n",
       "     ,                         !- View Factor to Ground\n",
       "     ,                         !- Number of Vertices\n",
       "     4.5,                      !- Vertex 1 Xcoordinate\n",
       "     4.5,                      !- Vertex 1 Ycoordinate\n",
       "     4.5,                      !- Vertex 1 Zcoordinate\n",
       "     4.5,                      !- Vertex 2 Xcoordinate\n",
       "     4.5,                      !- Vertex 2 Ycoordinate\n",
       "     0,                        !- Vertex 2 Zcoordinate\n",
       "     -5.551115e-17,            !- Vertex 3 Xcoordinate\n",
       "     -5.551115e-17,            !- Vertex 3 Ycoordinate\n",
       "     0,                        !- Vertex 3 Zcoordinate\n",
       "     -5.551115e-17,            !- Vertex 4 Xcoordinate\n",
       "     -5.551115e-17,            !- Vertex 4 Ycoordinate\n",
       "     4.5;                      !- Vertex 4 Zcoordinate]"
      ]
     },
     "execution_count": 37,
     "metadata": {},
     "output_type": "execute_result"
    }
   ],
   "source": [
    "idf.getsurfaces(\"Wall\")"
   ]
  },
  {
   "cell_type": "code",
   "execution_count": 38,
   "id": "8450f875",
   "metadata": {},
   "outputs": [
    {
     "data": {
      "text/plain": [
       "['Wall',\n",
       " 'Wall',\n",
       " 'Wall',\n",
       " 'Wall',\n",
       " 'Floor',\n",
       " 'Roof',\n",
       " 'Wall',\n",
       " 'Wall',\n",
       " 'Wall',\n",
       " 'Wall',\n",
       " 'Floor',\n",
       " 'Roof',\n",
       " 'Wall',\n",
       " 'Wall',\n",
       " 'Wall',\n",
       " 'Wall',\n",
       " 'Floor',\n",
       " 'Roof',\n",
       " 'Wall',\n",
       " 'Wall',\n",
       " 'Wall',\n",
       " 'Wall',\n",
       " 'Floor',\n",
       " 'Roof',\n",
       " 'Wall',\n",
       " 'Wall',\n",
       " 'Wall',\n",
       " 'Wall',\n",
       " 'Floor',\n",
       " 'Roof']"
      ]
     },
     "execution_count": 38,
     "metadata": {},
     "output_type": "execute_result"
    }
   ],
   "source": [
    "list_of_surfaces = []\n",
    "for surface in idf.getsurfaces():\n",
    "    list_of_surfaces.append(surface.Surface_Type)\n",
    "\n",
    "list_of_surfaces"
   ]
  },
  {
   "cell_type": "code",
   "execution_count": 39,
   "id": "73ca3efc",
   "metadata": {},
   "outputs": [],
   "source": [
    "list_of_surfaces = [surface.Surface_Type for surface in idf.getsurfaces()]"
   ]
  },
  {
   "cell_type": "code",
   "execution_count": 40,
   "id": "58d95701",
   "metadata": {},
   "outputs": [
    {
     "data": {
      "text/plain": [
       "{'Floor', 'Roof', 'Wall'}"
      ]
     },
     "execution_count": 40,
     "metadata": {},
     "output_type": "execute_result"
    }
   ],
   "source": [
    "set(list_of_surfaces)"
   ]
  },
  {
   "cell_type": "code",
   "execution_count": 41,
   "id": "0f57cac7",
   "metadata": {},
   "outputs": [],
   "source": [
    "roofs = idf.getsurfaces(\"Roof\")"
   ]
  },
  {
   "cell_type": "code",
   "execution_count": 42,
   "id": "61ad56e1",
   "metadata": {},
   "outputs": [],
   "source": [
    "floors = idf.getsurfaces(\"Floor\")"
   ]
  },
  {
   "cell_type": "code",
   "execution_count": 43,
   "id": "19cd1d2d",
   "metadata": {},
   "outputs": [],
   "source": [
    "walls = idf.getsurfaces(\"Wall\")"
   ]
  },
  {
   "cell_type": "code",
   "execution_count": 44,
   "id": "3e4db620",
   "metadata": {},
   "outputs": [
    {
     "data": {
      "text/plain": [
       "[\n",
       " BuildingSurface:Detailed,\n",
       "     zone_5_Srf_5,             !- Name\n",
       "     Roof,                     !- Surface Type\n",
       "     ROOF R-:3.522204,         !- Construction Name\n",
       "     zone_5,                   !- Zone Name\n",
       "     ,                         !- Space Name\n",
       "     Outdoors,                 !- Outside Boundary Condition\n",
       "     ,                         !- Outside Boundary Condition Object\n",
       "     Sunexposed,               !- Sun Exposure\n",
       "     Windexposed,              !- Wind Exposure\n",
       "     ,                         !- View Factor to Ground\n",
       "     ,                         !- Number of Vertices\n",
       "     4.5,                      !- Vertex 1 Xcoordinate\n",
       "     18.5,                     !- Vertex 1 Ycoordinate\n",
       "     4.5,                      !- Vertex 1 Zcoordinate\n",
       "     4.5,                      !- Vertex 2 Xcoordinate\n",
       "     4.5,                      !- Vertex 2 Ycoordinate\n",
       "     4.5,                      !- Vertex 2 Zcoordinate\n",
       "     30.2000007629395,         !- Vertex 3 Xcoordinate\n",
       "     4.5,                      !- Vertex 3 Ycoordinate\n",
       "     4.5,                      !- Vertex 3 Zcoordinate\n",
       "     30.2000007629395,         !- Vertex 4 Xcoordinate\n",
       "     18.5,                     !- Vertex 4 Ycoordinate\n",
       "     4.5;                      !- Vertex 4 Zcoordinate,\n",
       " \n",
       " BuildingSurface:Detailed,\n",
       "     zone_6_Srf_5,             !- Name\n",
       "     Roof,                     !- Surface Type\n",
       "     ROOF R-:3.522204,         !- Construction Name\n",
       "     zone_6,                   !- Zone Name\n",
       "     ,                         !- Space Name\n",
       "     Outdoors,                 !- Outside Boundary Condition\n",
       "     ,                         !- Outside Boundary Condition Object\n",
       "     Sunexposed,               !- Sun Exposure\n",
       "     Windexposed,              !- Wind Exposure\n",
       "     ,                         !- View Factor to Ground\n",
       "     ,                         !- Number of Vertices\n",
       "     30.2000007629395,         !- Vertex 1 Xcoordinate\n",
       "     18.5,                     !- Vertex 1 Ycoordinate\n",
       "     4.5,                      !- Vertex 1 Zcoordinate\n",
       "     30.2000007629395,         !- Vertex 2 Xcoordinate\n",
       "     4.5,                      !- Vertex 2 Ycoordinate\n",
       "     4.5,                      !- Vertex 2 Zcoordinate\n",
       "     34.7000007629395,         !- Vertex 3 Xcoordinate\n",
       "     -5.551115e-17,            !- Vertex 3 Ycoordinate\n",
       "     4.5,                      !- Vertex 3 Zcoordinate\n",
       "     34.7000007629395,         !- Vertex 4 Xcoordinate\n",
       "     23,                       !- Vertex 4 Ycoordinate\n",
       "     4.5;                      !- Vertex 4 Zcoordinate,\n",
       " \n",
       " BuildingSurface:Detailed,\n",
       "     zone_7_Srf_5,             !- Name\n",
       "     Roof,                     !- Surface Type\n",
       "     ROOF R-:3.522204,         !- Construction Name\n",
       "     zone_7,                   !- Zone Name\n",
       "     ,                         !- Space Name\n",
       "     Outdoors,                 !- Outside Boundary Condition\n",
       "     ,                         !- Outside Boundary Condition Object\n",
       "     Sunexposed,               !- Sun Exposure\n",
       "     Windexposed,              !- Wind Exposure\n",
       "     ,                         !- View Factor to Ground\n",
       "     ,                         !- Number of Vertices\n",
       "     0,                        !- Vertex 1 Xcoordinate\n",
       "     23,                       !- Vertex 1 Ycoordinate\n",
       "     4.5,                      !- Vertex 1 Zcoordinate\n",
       "     4.5,                      !- Vertex 2 Xcoordinate\n",
       "     18.5,                     !- Vertex 2 Ycoordinate\n",
       "     4.5,                      !- Vertex 2 Zcoordinate\n",
       "     30.2000007629395,         !- Vertex 3 Xcoordinate\n",
       "     18.5,                     !- Vertex 3 Ycoordinate\n",
       "     4.5,                      !- Vertex 3 Zcoordinate\n",
       "     34.7000007629395,         !- Vertex 4 Xcoordinate\n",
       "     23,                       !- Vertex 4 Ycoordinate\n",
       "     4.5;                      !- Vertex 4 Zcoordinate,\n",
       " \n",
       " BuildingSurface:Detailed,\n",
       "     zone_8_Srf_5,             !- Name\n",
       "     Roof,                     !- Surface Type\n",
       "     ROOF R-:3.522204,         !- Construction Name\n",
       "     zone_8,                   !- Zone Name\n",
       "     ,                         !- Space Name\n",
       "     Outdoors,                 !- Outside Boundary Condition\n",
       "     ,                         !- Outside Boundary Condition Object\n",
       "     Sunexposed,               !- Sun Exposure\n",
       "     Windexposed,              !- Wind Exposure\n",
       "     ,                         !- View Factor to Ground\n",
       "     ,                         !- Number of Vertices\n",
       "     -5.551115e-17,            !- Vertex 1 Xcoordinate\n",
       "     23,                       !- Vertex 1 Ycoordinate\n",
       "     4.5,                      !- Vertex 1 Zcoordinate\n",
       "     -5.551115e-17,            !- Vertex 2 Xcoordinate\n",
       "     0,                        !- Vertex 2 Ycoordinate\n",
       "     4.5,                      !- Vertex 2 Zcoordinate\n",
       "     4.5,                      !- Vertex 3 Xcoordinate\n",
       "     4.5,                      !- Vertex 3 Ycoordinate\n",
       "     4.5,                      !- Vertex 3 Zcoordinate\n",
       "     4.5,                      !- Vertex 4 Xcoordinate\n",
       "     18.5,                     !- Vertex 4 Ycoordinate\n",
       "     4.5;                      !- Vertex 4 Zcoordinate,\n",
       " \n",
       " BuildingSurface:Detailed,\n",
       "     zone_9_Srf_5,             !- Name\n",
       "     Roof,                     !- Surface Type\n",
       "     ROOF R-:3.522204,         !- Construction Name\n",
       "     zone_9,                   !- Zone Name\n",
       "     ,                         !- Space Name\n",
       "     Outdoors,                 !- Outside Boundary Condition\n",
       "     ,                         !- Outside Boundary Condition Object\n",
       "     Sunexposed,               !- Sun Exposure\n",
       "     Windexposed,              !- Wind Exposure\n",
       "     ,                         !- View Factor to Ground\n",
       "     ,                         !- Number of Vertices\n",
       "     4.5,                      !- Vertex 1 Xcoordinate\n",
       "     4.5,                      !- Vertex 1 Ycoordinate\n",
       "     4.5,                      !- Vertex 1 Zcoordinate\n",
       "     -5.551115e-17,            !- Vertex 2 Xcoordinate\n",
       "     -5.551115e-17,            !- Vertex 2 Ycoordinate\n",
       "     4.5,                      !- Vertex 2 Zcoordinate\n",
       "     34.7000007629395,         !- Vertex 3 Xcoordinate\n",
       "     -5.551115e-17,            !- Vertex 3 Ycoordinate\n",
       "     4.5,                      !- Vertex 3 Zcoordinate\n",
       "     30.2000007629395,         !- Vertex 4 Xcoordinate\n",
       "     4.5,                      !- Vertex 4 Ycoordinate\n",
       "     4.5;                      !- Vertex 4 Zcoordinate,\n",
       " \n",
       " BuildingSurface:Detailed,\n",
       "     zone_5_Srf_4,             !- Name\n",
       "     Floor,                    !- Surface Type\n",
       "     CONCRETESLAB,             !- Construction Name\n",
       "     zone_5,                   !- Zone Name\n",
       "     ,                         !- Space Name\n",
       "     Adiabatic,                !- Outside Boundary Condition\n",
       "     ,                         !- Outside Boundary Condition Object\n",
       "     Nosun,                    !- Sun Exposure\n",
       "     Nowind,                   !- Wind Exposure\n",
       "     ,                         !- View Factor to Ground\n",
       "     ,                         !- Number of Vertices\n",
       "     30.2000007629395,         !- Vertex 1 Xcoordinate\n",
       "     4.5,                      !- Vertex 1 Ycoordinate\n",
       "     0,                        !- Vertex 1 Zcoordinate\n",
       "     4.5,                      !- Vertex 2 Xcoordinate\n",
       "     4.5,                      !- Vertex 2 Ycoordinate\n",
       "     0,                        !- Vertex 2 Zcoordinate\n",
       "     4.5,                      !- Vertex 3 Xcoordinate\n",
       "     18.5,                     !- Vertex 3 Ycoordinate\n",
       "     0,                        !- Vertex 3 Zcoordinate\n",
       "     30.2000007629395,         !- Vertex 4 Xcoordinate\n",
       "     18.5,                     !- Vertex 4 Ycoordinate\n",
       "     0;                        !- Vertex 4 Zcoordinate,\n",
       " \n",
       " BuildingSurface:Detailed,\n",
       "     zone_6_Srf_4,             !- Name\n",
       "     Floor,                    !- Surface Type\n",
       "     CONCRETESLAB,             !- Construction Name\n",
       "     zone_6,                   !- Zone Name\n",
       "     ,                         !- Space Name\n",
       "     Adiabatic,                !- Outside Boundary Condition\n",
       "     ,                         !- Outside Boundary Condition Object\n",
       "     Nosun,                    !- Sun Exposure\n",
       "     Nowind,                   !- Wind Exposure\n",
       "     ,                         !- View Factor to Ground\n",
       "     ,                         !- Number of Vertices\n",
       "     34.7000007629395,         !- Vertex 1 Xcoordinate\n",
       "     -5.551115e-17,            !- Vertex 1 Ycoordinate\n",
       "     0,                        !- Vertex 1 Zcoordinate\n",
       "     30.2000007629395,         !- Vertex 2 Xcoordinate\n",
       "     4.5,                      !- Vertex 2 Ycoordinate\n",
       "     0,                        !- Vertex 2 Zcoordinate\n",
       "     30.2000007629395,         !- Vertex 3 Xcoordinate\n",
       "     18.5,                     !- Vertex 3 Ycoordinate\n",
       "     0,                        !- Vertex 3 Zcoordinate\n",
       "     34.7000007629395,         !- Vertex 4 Xcoordinate\n",
       "     23,                       !- Vertex 4 Ycoordinate\n",
       "     0;                        !- Vertex 4 Zcoordinate,\n",
       " \n",
       " BuildingSurface:Detailed,\n",
       "     zone_7_Srf_4,             !- Name\n",
       "     Floor,                    !- Surface Type\n",
       "     CONCRETESLAB,             !- Construction Name\n",
       "     zone_7,                   !- Zone Name\n",
       "     ,                         !- Space Name\n",
       "     Adiabatic,                !- Outside Boundary Condition\n",
       "     ,                         !- Outside Boundary Condition Object\n",
       "     Nosun,                    !- Sun Exposure\n",
       "     Nowind,                   !- Wind Exposure\n",
       "     ,                         !- View Factor to Ground\n",
       "     ,                         !- Number of Vertices\n",
       "     30.2000007629395,         !- Vertex 1 Xcoordinate\n",
       "     18.5,                     !- Vertex 1 Ycoordinate\n",
       "     0,                        !- Vertex 1 Zcoordinate\n",
       "     4.5,                      !- Vertex 2 Xcoordinate\n",
       "     18.5,                     !- Vertex 2 Ycoordinate\n",
       "     0,                        !- Vertex 2 Zcoordinate\n",
       "     0,                        !- Vertex 3 Xcoordinate\n",
       "     23,                       !- Vertex 3 Ycoordinate\n",
       "     0,                        !- Vertex 3 Zcoordinate\n",
       "     34.7000007629395,         !- Vertex 4 Xcoordinate\n",
       "     23,                       !- Vertex 4 Ycoordinate\n",
       "     0;                        !- Vertex 4 Zcoordinate,\n",
       " \n",
       " BuildingSurface:Detailed,\n",
       "     zone_8_Srf_4,             !- Name\n",
       "     Floor,                    !- Surface Type\n",
       "     CONCRETESLAB,             !- Construction Name\n",
       "     zone_8,                   !- Zone Name\n",
       "     ,                         !- Space Name\n",
       "     Adiabatic,                !- Outside Boundary Condition\n",
       "     ,                         !- Outside Boundary Condition Object\n",
       "     Nosun,                    !- Sun Exposure\n",
       "     Nowind,                   !- Wind Exposure\n",
       "     ,                         !- View Factor to Ground\n",
       "     ,                         !- Number of Vertices\n",
       "     4.5,                      !- Vertex 1 Xcoordinate\n",
       "     4.5,                      !- Vertex 1 Ycoordinate\n",
       "     0,                        !- Vertex 1 Zcoordinate\n",
       "     -5.551115e-17,            !- Vertex 2 Xcoordinate\n",
       "     0,                        !- Vertex 2 Ycoordinate\n",
       "     0,                        !- Vertex 2 Zcoordinate\n",
       "     -5.551115e-17,            !- Vertex 3 Xcoordinate\n",
       "     23,                       !- Vertex 3 Ycoordinate\n",
       "     0,                        !- Vertex 3 Zcoordinate\n",
       "     4.5,                      !- Vertex 4 Xcoordinate\n",
       "     18.5,                     !- Vertex 4 Ycoordinate\n",
       "     0;                        !- Vertex 4 Zcoordinate,\n",
       " \n",
       " BuildingSurface:Detailed,\n",
       "     zone_9_Srf_4,             !- Name\n",
       "     Floor,                    !- Surface Type\n",
       "     CONCRETESLAB,             !- Construction Name\n",
       "     zone_9,                   !- Zone Name\n",
       "     ,                         !- Space Name\n",
       "     Adiabatic,                !- Outside Boundary Condition\n",
       "     ,                         !- Outside Boundary Condition Object\n",
       "     Nosun,                    !- Sun Exposure\n",
       "     Nowind,                   !- Wind Exposure\n",
       "     ,                         !- View Factor to Ground\n",
       "     ,                         !- Number of Vertices\n",
       "     34.7000007629395,         !- Vertex 1 Xcoordinate\n",
       "     -5.551115e-17,            !- Vertex 1 Ycoordinate\n",
       "     0,                        !- Vertex 1 Zcoordinate\n",
       "     -5.551115e-17,            !- Vertex 2 Xcoordinate\n",
       "     -5.551115e-17,            !- Vertex 2 Ycoordinate\n",
       "     0,                        !- Vertex 2 Zcoordinate\n",
       "     4.5,                      !- Vertex 3 Xcoordinate\n",
       "     4.5,                      !- Vertex 3 Ycoordinate\n",
       "     0,                        !- Vertex 3 Zcoordinate\n",
       "     30.2000007629395,         !- Vertex 4 Xcoordinate\n",
       "     4.5,                      !- Vertex 4 Ycoordinate\n",
       "     0;                        !- Vertex 4 Zcoordinate,\n",
       " \n",
       " BuildingSurface:Detailed,\n",
       "     zone_5_Srf_0,             !- Name\n",
       "     Wall,                     !- Surface Type\n",
       "     Interior Wall,            !- Construction Name\n",
       "     zone_5,                   !- Zone Name\n",
       "     ,                         !- Space Name\n",
       "     Surface,                  !- Outside Boundary Condition\n",
       "     zone_7_Srf_2,             !- Outside Boundary Condition Object\n",
       "     NoSun,                    !- Sun Exposure\n",
       "     NoWind,                   !- Wind Exposure\n",
       "     ,                         !- View Factor to Ground\n",
       "     ,                         !- Number of Vertices\n",
       "     30.2000007629395,         !- Vertex 1 Xcoordinate\n",
       "     18.5,                     !- Vertex 1 Ycoordinate\n",
       "     4.5,                      !- Vertex 1 Zcoordinate\n",
       "     30.2000007629395,         !- Vertex 2 Xcoordinate\n",
       "     18.5,                     !- Vertex 2 Ycoordinate\n",
       "     0,                        !- Vertex 2 Zcoordinate\n",
       "     4.5,                      !- Vertex 3 Xcoordinate\n",
       "     18.5,                     !- Vertex 3 Ycoordinate\n",
       "     0,                        !- Vertex 3 Zcoordinate\n",
       "     4.5,                      !- Vertex 4 Xcoordinate\n",
       "     18.5,                     !- Vertex 4 Ycoordinate\n",
       "     4.5;                      !- Vertex 4 Zcoordinate,\n",
       " \n",
       " BuildingSurface:Detailed,\n",
       "     zone_5_Srf_1,             !- Name\n",
       "     Wall,                     !- Surface Type\n",
       "     Interior Wall,            !- Construction Name\n",
       "     zone_5,                   !- Zone Name\n",
       "     ,                         !- Space Name\n",
       "     Surface,                  !- Outside Boundary Condition\n",
       "     zone_8_Srf_2,             !- Outside Boundary Condition Object\n",
       "     NoSun,                    !- Sun Exposure\n",
       "     NoWind,                   !- Wind Exposure\n",
       "     ,                         !- View Factor to Ground\n",
       "     ,                         !- Number of Vertices\n",
       "     4.5,                      !- Vertex 1 Xcoordinate\n",
       "     18.5,                     !- Vertex 1 Ycoordinate\n",
       "     4.5,                      !- Vertex 1 Zcoordinate\n",
       "     4.5,                      !- Vertex 2 Xcoordinate\n",
       "     18.5,                     !- Vertex 2 Ycoordinate\n",
       "     0,                        !- Vertex 2 Zcoordinate\n",
       "     4.5,                      !- Vertex 3 Xcoordinate\n",
       "     4.5,                      !- Vertex 3 Ycoordinate\n",
       "     0,                        !- Vertex 3 Zcoordinate\n",
       "     4.5,                      !- Vertex 4 Xcoordinate\n",
       "     4.5,                      !- Vertex 4 Ycoordinate\n",
       "     4.5;                      !- Vertex 4 Zcoordinate,\n",
       " \n",
       " BuildingSurface:Detailed,\n",
       "     zone_5_Srf_2,             !- Name\n",
       "     Wall,                     !- Surface Type\n",
       "     Interior Wall,            !- Construction Name\n",
       "     zone_5,                   !- Zone Name\n",
       "     ,                         !- Space Name\n",
       "     Surface,                  !- Outside Boundary Condition\n",
       "     zone_9_Srf_2,             !- Outside Boundary Condition Object\n",
       "     NoSun,                    !- Sun Exposure\n",
       "     NoWind,                   !- Wind Exposure\n",
       "     ,                         !- View Factor to Ground\n",
       "     ,                         !- Number of Vertices\n",
       "     4.5,                      !- Vertex 1 Xcoordinate\n",
       "     4.5,                      !- Vertex 1 Ycoordinate\n",
       "     4.5,                      !- Vertex 1 Zcoordinate\n",
       "     4.5,                      !- Vertex 2 Xcoordinate\n",
       "     4.5,                      !- Vertex 2 Ycoordinate\n",
       "     0,                        !- Vertex 2 Zcoordinate\n",
       "     30.2000007629395,         !- Vertex 3 Xcoordinate\n",
       "     4.5,                      !- Vertex 3 Ycoordinate\n",
       "     0,                        !- Vertex 3 Zcoordinate\n",
       "     30.2000007629395,         !- Vertex 4 Xcoordinate\n",
       "     4.5,                      !- Vertex 4 Ycoordinate\n",
       "     4.5;                      !- Vertex 4 Zcoordinate,\n",
       " \n",
       " BuildingSurface:Detailed,\n",
       "     zone_5_Srf_3,             !- Name\n",
       "     Wall,                     !- Surface Type\n",
       "     Interior Wall,            !- Construction Name\n",
       "     zone_5,                   !- Zone Name\n",
       "     ,                         !- Space Name\n",
       "     Surface,                  !- Outside Boundary Condition\n",
       "     zone_6_Srf_2,             !- Outside Boundary Condition Object\n",
       "     NoSun,                    !- Sun Exposure\n",
       "     NoWind,                   !- Wind Exposure\n",
       "     ,                         !- View Factor to Ground\n",
       "     ,                         !- Number of Vertices\n",
       "     30.2000007629395,         !- Vertex 1 Xcoordinate\n",
       "     4.5,                      !- Vertex 1 Ycoordinate\n",
       "     4.5,                      !- Vertex 1 Zcoordinate\n",
       "     30.2000007629395,         !- Vertex 2 Xcoordinate\n",
       "     4.5,                      !- Vertex 2 Ycoordinate\n",
       "     0,                        !- Vertex 2 Zcoordinate\n",
       "     30.2000007629395,         !- Vertex 3 Xcoordinate\n",
       "     18.5,                     !- Vertex 3 Ycoordinate\n",
       "     0,                        !- Vertex 3 Zcoordinate\n",
       "     30.2000007629395,         !- Vertex 4 Xcoordinate\n",
       "     18.5,                     !- Vertex 4 Ycoordinate\n",
       "     4.5;                      !- Vertex 4 Zcoordinate,\n",
       " \n",
       " BuildingSurface:Detailed,\n",
       "     zone_6_Srf_0,             !- Name\n",
       "     Wall,                     !- Surface Type\n",
       "     WALL R-:0.880551,         !- Construction Name\n",
       "     zone_6,                   !- Zone Name\n",
       "     ,                         !- Space Name\n",
       "     Outdoors,                 !- Outside Boundary Condition\n",
       "     ,                         !- Outside Boundary Condition Object\n",
       "     Sunexposed,               !- Sun Exposure\n",
       "     Windexposed,              !- Wind Exposure\n",
       "     ,                         !- View Factor to Ground\n",
       "     ,                         !- Number of Vertices\n",
       "     34.7000007629395,         !- Vertex 1 Xcoordinate\n",
       "     -5.551115e-17,            !- Vertex 1 Ycoordinate\n",
       "     4.5,                      !- Vertex 1 Zcoordinate\n",
       "     34.7000007629395,         !- Vertex 2 Xcoordinate\n",
       "     -5.551115e-17,            !- Vertex 2 Ycoordinate\n",
       "     0,                        !- Vertex 2 Zcoordinate\n",
       "     34.7000007629395,         !- Vertex 3 Xcoordinate\n",
       "     23,                       !- Vertex 3 Ycoordinate\n",
       "     0,                        !- Vertex 3 Zcoordinate\n",
       "     34.7000007629395,         !- Vertex 4 Xcoordinate\n",
       "     23,                       !- Vertex 4 Ycoordinate\n",
       "     4.5;                      !- Vertex 4 Zcoordinate,\n",
       " \n",
       " BuildingSurface:Detailed,\n",
       "     zone_6_Srf_1,             !- Name\n",
       "     Wall,                     !- Surface Type\n",
       "     Interior Wall,            !- Construction Name\n",
       "     zone_6,                   !- Zone Name\n",
       "     ,                         !- Space Name\n",
       "     Surface,                  !- Outside Boundary Condition\n",
       "     zone_7_Srf_3,             !- Outside Boundary Condition Object\n",
       "     NoSun,                    !- Sun Exposure\n",
       "     NoWind,                   !- Wind Exposure\n",
       "     ,                         !- View Factor to Ground\n",
       "     ,                         !- Number of Vertices\n",
       "     34.7000007629395,         !- Vertex 1 Xcoordinate\n",
       "     23,                       !- Vertex 1 Ycoordinate\n",
       "     4.5,                      !- Vertex 1 Zcoordinate\n",
       "     34.7000007629395,         !- Vertex 2 Xcoordinate\n",
       "     23,                       !- Vertex 2 Ycoordinate\n",
       "     0,                        !- Vertex 2 Zcoordinate\n",
       "     30.2000007629395,         !- Vertex 3 Xcoordinate\n",
       "     18.5,                     !- Vertex 3 Ycoordinate\n",
       "     0,                        !- Vertex 3 Zcoordinate\n",
       "     30.2000007629395,         !- Vertex 4 Xcoordinate\n",
       "     18.5,                     !- Vertex 4 Ycoordinate\n",
       "     4.5;                      !- Vertex 4 Zcoordinate,\n",
       " \n",
       " BuildingSurface:Detailed,\n",
       "     zone_6_Srf_2,             !- Name\n",
       "     Wall,                     !- Surface Type\n",
       "     Interior Wall,            !- Construction Name\n",
       "     zone_6,                   !- Zone Name\n",
       "     ,                         !- Space Name\n",
       "     Surface,                  !- Outside Boundary Condition\n",
       "     zone_5_Srf_3,             !- Outside Boundary Condition Object\n",
       "     NoSun,                    !- Sun Exposure\n",
       "     NoWind,                   !- Wind Exposure\n",
       "     ,                         !- View Factor to Ground\n",
       "     ,                         !- Number of Vertices\n",
       "     30.2000007629395,         !- Vertex 1 Xcoordinate\n",
       "     18.5,                     !- Vertex 1 Ycoordinate\n",
       "     4.5,                      !- Vertex 1 Zcoordinate\n",
       "     30.2000007629395,         !- Vertex 2 Xcoordinate\n",
       "     18.5,                     !- Vertex 2 Ycoordinate\n",
       "     0,                        !- Vertex 2 Zcoordinate\n",
       "     30.2000007629395,         !- Vertex 3 Xcoordinate\n",
       "     4.5,                      !- Vertex 3 Ycoordinate\n",
       "     0,                        !- Vertex 3 Zcoordinate\n",
       "     30.2000007629395,         !- Vertex 4 Xcoordinate\n",
       "     4.5,                      !- Vertex 4 Ycoordinate\n",
       "     4.5;                      !- Vertex 4 Zcoordinate,\n",
       " \n",
       " BuildingSurface:Detailed,\n",
       "     zone_6_Srf_3,             !- Name\n",
       "     Wall,                     !- Surface Type\n",
       "     Interior Wall,            !- Construction Name\n",
       "     zone_6,                   !- Zone Name\n",
       "     ,                         !- Space Name\n",
       "     Surface,                  !- Outside Boundary Condition\n",
       "     zone_9_Srf_1,             !- Outside Boundary Condition Object\n",
       "     NoSun,                    !- Sun Exposure\n",
       "     NoWind,                   !- Wind Exposure\n",
       "     ,                         !- View Factor to Ground\n",
       "     ,                         !- Number of Vertices\n",
       "     30.2000007629395,         !- Vertex 1 Xcoordinate\n",
       "     4.5,                      !- Vertex 1 Ycoordinate\n",
       "     4.5,                      !- Vertex 1 Zcoordinate\n",
       "     30.2000007629395,         !- Vertex 2 Xcoordinate\n",
       "     4.5,                      !- Vertex 2 Ycoordinate\n",
       "     0,                        !- Vertex 2 Zcoordinate\n",
       "     34.7000007629395,         !- Vertex 3 Xcoordinate\n",
       "     -5.551115e-17,            !- Vertex 3 Ycoordinate\n",
       "     0,                        !- Vertex 3 Zcoordinate\n",
       "     34.7000007629395,         !- Vertex 4 Xcoordinate\n",
       "     -5.551115e-17,            !- Vertex 4 Ycoordinate\n",
       "     4.5;                      !- Vertex 4 Zcoordinate,\n",
       " \n",
       " BuildingSurface:Detailed,\n",
       "     zone_7_Srf_0,             !- Name\n",
       "     Wall,                     !- Surface Type\n",
       "     WALL R-:0.880551,         !- Construction Name\n",
       "     zone_7,                   !- Zone Name\n",
       "     ,                         !- Space Name\n",
       "     Outdoors,                 !- Outside Boundary Condition\n",
       "     ,                         !- Outside Boundary Condition Object\n",
       "     Sunexposed,               !- Sun Exposure\n",
       "     Windexposed,              !- Wind Exposure\n",
       "     ,                         !- View Factor to Ground\n",
       "     ,                         !- Number of Vertices\n",
       "     34.7000007629395,         !- Vertex 1 Xcoordinate\n",
       "     23,                       !- Vertex 1 Ycoordinate\n",
       "     4.5,                      !- Vertex 1 Zcoordinate\n",
       "     34.7000007629395,         !- Vertex 2 Xcoordinate\n",
       "     23,                       !- Vertex 2 Ycoordinate\n",
       "     0,                        !- Vertex 2 Zcoordinate\n",
       "     0,                        !- Vertex 3 Xcoordinate\n",
       "     23,                       !- Vertex 3 Ycoordinate\n",
       "     0,                        !- Vertex 3 Zcoordinate\n",
       "     0,                        !- Vertex 4 Xcoordinate\n",
       "     23,                       !- Vertex 4 Ycoordinate\n",
       "     4.5;                      !- Vertex 4 Zcoordinate,\n",
       " \n",
       " BuildingSurface:Detailed,\n",
       "     zone_7_Srf_1,             !- Name\n",
       "     Wall,                     !- Surface Type\n",
       "     Interior Wall,            !- Construction Name\n",
       "     zone_7,                   !- Zone Name\n",
       "     ,                         !- Space Name\n",
       "     Surface,                  !- Outside Boundary Condition\n",
       "     zone_8_Srf_3,             !- Outside Boundary Condition Object\n",
       "     NoSun,                    !- Sun Exposure\n",
       "     NoWind,                   !- Wind Exposure\n",
       "     ,                         !- View Factor to Ground\n",
       "     ,                         !- Number of Vertices\n",
       "     0,                        !- Vertex 1 Xcoordinate\n",
       "     23,                       !- Vertex 1 Ycoordinate\n",
       "     4.5,                      !- Vertex 1 Zcoordinate\n",
       "     0,                        !- Vertex 2 Xcoordinate\n",
       "     23,                       !- Vertex 2 Ycoordinate\n",
       "     0,                        !- Vertex 2 Zcoordinate\n",
       "     4.5,                      !- Vertex 3 Xcoordinate\n",
       "     18.5,                     !- Vertex 3 Ycoordinate\n",
       "     0,                        !- Vertex 3 Zcoordinate\n",
       "     4.5,                      !- Vertex 4 Xcoordinate\n",
       "     18.5,                     !- Vertex 4 Ycoordinate\n",
       "     4.5;                      !- Vertex 4 Zcoordinate,\n",
       " \n",
       " BuildingSurface:Detailed,\n",
       "     zone_7_Srf_2,             !- Name\n",
       "     Wall,                     !- Surface Type\n",
       "     Interior Wall,            !- Construction Name\n",
       "     zone_7,                   !- Zone Name\n",
       "     ,                         !- Space Name\n",
       "     Surface,                  !- Outside Boundary Condition\n",
       "     zone_5_Srf_0,             !- Outside Boundary Condition Object\n",
       "     NoSun,                    !- Sun Exposure\n",
       "     NoWind,                   !- Wind Exposure\n",
       "     ,                         !- View Factor to Ground\n",
       "     ,                         !- Number of Vertices\n",
       "     4.5,                      !- Vertex 1 Xcoordinate\n",
       "     18.5,                     !- Vertex 1 Ycoordinate\n",
       "     4.5,                      !- Vertex 1 Zcoordinate\n",
       "     4.5,                      !- Vertex 2 Xcoordinate\n",
       "     18.5,                     !- Vertex 2 Ycoordinate\n",
       "     0,                        !- Vertex 2 Zcoordinate\n",
       "     30.2000007629395,         !- Vertex 3 Xcoordinate\n",
       "     18.5,                     !- Vertex 3 Ycoordinate\n",
       "     0,                        !- Vertex 3 Zcoordinate\n",
       "     30.2000007629395,         !- Vertex 4 Xcoordinate\n",
       "     18.5,                     !- Vertex 4 Ycoordinate\n",
       "     4.5;                      !- Vertex 4 Zcoordinate,\n",
       " \n",
       " BuildingSurface:Detailed,\n",
       "     zone_7_Srf_3,             !- Name\n",
       "     Wall,                     !- Surface Type\n",
       "     Interior Wall,            !- Construction Name\n",
       "     zone_7,                   !- Zone Name\n",
       "     ,                         !- Space Name\n",
       "     Surface,                  !- Outside Boundary Condition\n",
       "     zone_6_Srf_1,             !- Outside Boundary Condition Object\n",
       "     NoSun,                    !- Sun Exposure\n",
       "     NoWind,                   !- Wind Exposure\n",
       "     ,                         !- View Factor to Ground\n",
       "     ,                         !- Number of Vertices\n",
       "     30.2000007629395,         !- Vertex 1 Xcoordinate\n",
       "     18.5,                     !- Vertex 1 Ycoordinate\n",
       "     4.5,                      !- Vertex 1 Zcoordinate\n",
       "     30.2000007629395,         !- Vertex 2 Xcoordinate\n",
       "     18.5,                     !- Vertex 2 Ycoordinate\n",
       "     0,                        !- Vertex 2 Zcoordinate\n",
       "     34.7000007629395,         !- Vertex 3 Xcoordinate\n",
       "     23,                       !- Vertex 3 Ycoordinate\n",
       "     0,                        !- Vertex 3 Zcoordinate\n",
       "     34.7000007629395,         !- Vertex 4 Xcoordinate\n",
       "     23,                       !- Vertex 4 Ycoordinate\n",
       "     4.5;                      !- Vertex 4 Zcoordinate,\n",
       " \n",
       " BuildingSurface:Detailed,\n",
       "     zone_8_Srf_0,             !- Name\n",
       "     Wall,                     !- Surface Type\n",
       "     WALL R-:0.880551,         !- Construction Name\n",
       "     zone_8,                   !- Zone Name\n",
       "     ,                         !- Space Name\n",
       "     Outdoors,                 !- Outside Boundary Condition\n",
       "     ,                         !- Outside Boundary Condition Object\n",
       "     Sunexposed,               !- Sun Exposure\n",
       "     Windexposed,              !- Wind Exposure\n",
       "     ,                         !- View Factor to Ground\n",
       "     ,                         !- Number of Vertices\n",
       "     -5.551115e-17,            !- Vertex 1 Xcoordinate\n",
       "     23,                       !- Vertex 1 Ycoordinate\n",
       "     4.5,                      !- Vertex 1 Zcoordinate\n",
       "     -5.551115e-17,            !- Vertex 2 Xcoordinate\n",
       "     23,                       !- Vertex 2 Ycoordinate\n",
       "     0,                        !- Vertex 2 Zcoordinate\n",
       "     -5.551115e-17,            !- Vertex 3 Xcoordinate\n",
       "     0,                        !- Vertex 3 Ycoordinate\n",
       "     0,                        !- Vertex 3 Zcoordinate\n",
       "     -5.551115e-17,            !- Vertex 4 Xcoordinate\n",
       "     0,                        !- Vertex 4 Ycoordinate\n",
       "     4.5;                      !- Vertex 4 Zcoordinate,\n",
       " \n",
       " BuildingSurface:Detailed,\n",
       "     zone_8_Srf_1,             !- Name\n",
       "     Wall,                     !- Surface Type\n",
       "     Interior Wall,            !- Construction Name\n",
       "     zone_8,                   !- Zone Name\n",
       "     ,                         !- Space Name\n",
       "     Surface,                  !- Outside Boundary Condition\n",
       "     zone_9_Srf_3,             !- Outside Boundary Condition Object\n",
       "     NoSun,                    !- Sun Exposure\n",
       "     NoWind,                   !- Wind Exposure\n",
       "     ,                         !- View Factor to Ground\n",
       "     ,                         !- Number of Vertices\n",
       "     -5.551115e-17,            !- Vertex 1 Xcoordinate\n",
       "     0,                        !- Vertex 1 Ycoordinate\n",
       "     4.5,                      !- Vertex 1 Zcoordinate\n",
       "     -5.551115e-17,            !- Vertex 2 Xcoordinate\n",
       "     0,                        !- Vertex 2 Ycoordinate\n",
       "     0,                        !- Vertex 2 Zcoordinate\n",
       "     4.5,                      !- Vertex 3 Xcoordinate\n",
       "     4.5,                      !- Vertex 3 Ycoordinate\n",
       "     0,                        !- Vertex 3 Zcoordinate\n",
       "     4.5,                      !- Vertex 4 Xcoordinate\n",
       "     4.5,                      !- Vertex 4 Ycoordinate\n",
       "     4.5;                      !- Vertex 4 Zcoordinate,\n",
       " \n",
       " BuildingSurface:Detailed,\n",
       "     zone_8_Srf_2,             !- Name\n",
       "     Wall,                     !- Surface Type\n",
       "     Interior Wall,            !- Construction Name\n",
       "     zone_8,                   !- Zone Name\n",
       "     ,                         !- Space Name\n",
       "     Surface,                  !- Outside Boundary Condition\n",
       "     zone_5_Srf_1,             !- Outside Boundary Condition Object\n",
       "     NoSun,                    !- Sun Exposure\n",
       "     NoWind,                   !- Wind Exposure\n",
       "     ,                         !- View Factor to Ground\n",
       "     ,                         !- Number of Vertices\n",
       "     4.5,                      !- Vertex 1 Xcoordinate\n",
       "     4.5,                      !- Vertex 1 Ycoordinate\n",
       "     4.5,                      !- Vertex 1 Zcoordinate\n",
       "     4.5,                      !- Vertex 2 Xcoordinate\n",
       "     4.5,                      !- Vertex 2 Ycoordinate\n",
       "     0,                        !- Vertex 2 Zcoordinate\n",
       "     4.5,                      !- Vertex 3 Xcoordinate\n",
       "     18.5,                     !- Vertex 3 Ycoordinate\n",
       "     0,                        !- Vertex 3 Zcoordinate\n",
       "     4.5,                      !- Vertex 4 Xcoordinate\n",
       "     18.5,                     !- Vertex 4 Ycoordinate\n",
       "     4.5;                      !- Vertex 4 Zcoordinate,\n",
       " \n",
       " BuildingSurface:Detailed,\n",
       "     zone_8_Srf_3,             !- Name\n",
       "     Wall,                     !- Surface Type\n",
       "     Interior Wall,            !- Construction Name\n",
       "     zone_8,                   !- Zone Name\n",
       "     ,                         !- Space Name\n",
       "     Surface,                  !- Outside Boundary Condition\n",
       "     zone_7_Srf_1,             !- Outside Boundary Condition Object\n",
       "     NoSun,                    !- Sun Exposure\n",
       "     NoWind,                   !- Wind Exposure\n",
       "     ,                         !- View Factor to Ground\n",
       "     ,                         !- Number of Vertices\n",
       "     4.5,                      !- Vertex 1 Xcoordinate\n",
       "     18.5,                     !- Vertex 1 Ycoordinate\n",
       "     4.5,                      !- Vertex 1 Zcoordinate\n",
       "     4.5,                      !- Vertex 2 Xcoordinate\n",
       "     18.5,                     !- Vertex 2 Ycoordinate\n",
       "     0,                        !- Vertex 2 Zcoordinate\n",
       "     -5.551115e-17,            !- Vertex 3 Xcoordinate\n",
       "     23,                       !- Vertex 3 Ycoordinate\n",
       "     0,                        !- Vertex 3 Zcoordinate\n",
       "     -5.551115e-17,            !- Vertex 4 Xcoordinate\n",
       "     23,                       !- Vertex 4 Ycoordinate\n",
       "     4.5;                      !- Vertex 4 Zcoordinate,\n",
       " \n",
       " BuildingSurface:Detailed,\n",
       "     zone_9_Srf_0,             !- Name\n",
       "     Wall,                     !- Surface Type\n",
       "     WALL R-:0.880551,         !- Construction Name\n",
       "     zone_9,                   !- Zone Name\n",
       "     ,                         !- Space Name\n",
       "     Outdoors,                 !- Outside Boundary Condition\n",
       "     ,                         !- Outside Boundary Condition Object\n",
       "     Sunexposed,               !- Sun Exposure\n",
       "     Windexposed,              !- Wind Exposure\n",
       "     ,                         !- View Factor to Ground\n",
       "     ,                         !- Number of Vertices\n",
       "     -5.551115e-17,            !- Vertex 1 Xcoordinate\n",
       "     -5.551115e-17,            !- Vertex 1 Ycoordinate\n",
       "     4.5,                      !- Vertex 1 Zcoordinate\n",
       "     -5.551115e-17,            !- Vertex 2 Xcoordinate\n",
       "     -5.551115e-17,            !- Vertex 2 Ycoordinate\n",
       "     0,                        !- Vertex 2 Zcoordinate\n",
       "     34.7000007629395,         !- Vertex 3 Xcoordinate\n",
       "     -5.551115e-17,            !- Vertex 3 Ycoordinate\n",
       "     0,                        !- Vertex 3 Zcoordinate\n",
       "     34.7000007629395,         !- Vertex 4 Xcoordinate\n",
       "     -5.551115e-17,            !- Vertex 4 Ycoordinate\n",
       "     4.5;                      !- Vertex 4 Zcoordinate,\n",
       " \n",
       " BuildingSurface:Detailed,\n",
       "     zone_9_Srf_1,             !- Name\n",
       "     Wall,                     !- Surface Type\n",
       "     Interior Wall,            !- Construction Name\n",
       "     zone_9,                   !- Zone Name\n",
       "     ,                         !- Space Name\n",
       "     Surface,                  !- Outside Boundary Condition\n",
       "     zone_6_Srf_3,             !- Outside Boundary Condition Object\n",
       "     NoSun,                    !- Sun Exposure\n",
       "     NoWind,                   !- Wind Exposure\n",
       "     ,                         !- View Factor to Ground\n",
       "     ,                         !- Number of Vertices\n",
       "     34.7000007629395,         !- Vertex 1 Xcoordinate\n",
       "     -5.551115e-17,            !- Vertex 1 Ycoordinate\n",
       "     4.5,                      !- Vertex 1 Zcoordinate\n",
       "     34.7000007629395,         !- Vertex 2 Xcoordinate\n",
       "     -5.551115e-17,            !- Vertex 2 Ycoordinate\n",
       "     0,                        !- Vertex 2 Zcoordinate\n",
       "     30.2000007629395,         !- Vertex 3 Xcoordinate\n",
       "     4.5,                      !- Vertex 3 Ycoordinate\n",
       "     0,                        !- Vertex 3 Zcoordinate\n",
       "     30.2000007629395,         !- Vertex 4 Xcoordinate\n",
       "     4.5,                      !- Vertex 4 Ycoordinate\n",
       "     4.5;                      !- Vertex 4 Zcoordinate,\n",
       " \n",
       " BuildingSurface:Detailed,\n",
       "     zone_9_Srf_2,             !- Name\n",
       "     Wall,                     !- Surface Type\n",
       "     Interior Wall,            !- Construction Name\n",
       "     zone_9,                   !- Zone Name\n",
       "     ,                         !- Space Name\n",
       "     Surface,                  !- Outside Boundary Condition\n",
       "     zone_5_Srf_2,             !- Outside Boundary Condition Object\n",
       "     NoSun,                    !- Sun Exposure\n",
       "     NoWind,                   !- Wind Exposure\n",
       "     ,                         !- View Factor to Ground\n",
       "     ,                         !- Number of Vertices\n",
       "     30.2000007629395,         !- Vertex 1 Xcoordinate\n",
       "     4.5,                      !- Vertex 1 Ycoordinate\n",
       "     4.5,                      !- Vertex 1 Zcoordinate\n",
       "     30.2000007629395,         !- Vertex 2 Xcoordinate\n",
       "     4.5,                      !- Vertex 2 Ycoordinate\n",
       "     0,                        !- Vertex 2 Zcoordinate\n",
       "     4.5,                      !- Vertex 3 Xcoordinate\n",
       "     4.5,                      !- Vertex 3 Ycoordinate\n",
       "     0,                        !- Vertex 3 Zcoordinate\n",
       "     4.5,                      !- Vertex 4 Xcoordinate\n",
       "     4.5,                      !- Vertex 4 Ycoordinate\n",
       "     4.5;                      !- Vertex 4 Zcoordinate,\n",
       " \n",
       " BuildingSurface:Detailed,\n",
       "     zone_9_Srf_3,             !- Name\n",
       "     Wall,                     !- Surface Type\n",
       "     Interior Wall,            !- Construction Name\n",
       "     zone_9,                   !- Zone Name\n",
       "     ,                         !- Space Name\n",
       "     Surface,                  !- Outside Boundary Condition\n",
       "     zone_8_Srf_1,             !- Outside Boundary Condition Object\n",
       "     NoSun,                    !- Sun Exposure\n",
       "     NoWind,                   !- Wind Exposure\n",
       "     ,                         !- View Factor to Ground\n",
       "     ,                         !- Number of Vertices\n",
       "     4.5,                      !- Vertex 1 Xcoordinate\n",
       "     4.5,                      !- Vertex 1 Ycoordinate\n",
       "     4.5,                      !- Vertex 1 Zcoordinate\n",
       "     4.5,                      !- Vertex 2 Xcoordinate\n",
       "     4.5,                      !- Vertex 2 Ycoordinate\n",
       "     0,                        !- Vertex 2 Zcoordinate\n",
       "     -5.551115e-17,            !- Vertex 3 Xcoordinate\n",
       "     -5.551115e-17,            !- Vertex 3 Ycoordinate\n",
       "     0,                        !- Vertex 3 Zcoordinate\n",
       "     -5.551115e-17,            !- Vertex 4 Xcoordinate\n",
       "     -5.551115e-17,            !- Vertex 4 Ycoordinate\n",
       "     4.5;                      !- Vertex 4 Zcoordinate]"
      ]
     },
     "execution_count": 44,
     "metadata": {},
     "output_type": "execute_result"
    }
   ],
   "source": [
    "roofs + floors + walls"
   ]
  },
  {
   "cell_type": "code",
   "execution_count": 45,
   "id": "2640bd73",
   "metadata": {},
   "outputs": [
    {
     "data": {
      "text/plain": [
       "'zone_5'"
      ]
     },
     "execution_count": 45,
     "metadata": {},
     "output_type": "execute_result"
    }
   ],
   "source": [
    "roofs[0].Zone_Name"
   ]
  },
  {
   "cell_type": "code",
   "execution_count": 46,
   "id": "2d3203fa",
   "metadata": {},
   "outputs": [
    {
     "data": {
      "text/plain": [
       "[(4.5, 18.5, 4.5),\n",
       " (4.5, 4.5, 4.5),\n",
       " (30.2000007629395, 4.5, 4.5),\n",
       " (30.2000007629395, 18.5, 4.5)]"
      ]
     },
     "execution_count": 46,
     "metadata": {},
     "output_type": "execute_result"
    }
   ],
   "source": [
    "roofs[0].coords"
   ]
  },
  {
   "cell_type": "code",
   "execution_count": 47,
   "id": "6c0a8e29",
   "metadata": {},
   "outputs": [
    {
     "data": {
      "text/plain": [
       "359.800010681153"
      ]
     },
     "execution_count": 47,
     "metadata": {},
     "output_type": "execute_result"
    }
   ],
   "source": [
    "roofs[0].area"
   ]
  },
  {
   "cell_type": "code",
   "execution_count": 48,
   "id": "ea0510d2",
   "metadata": {},
   "outputs": [
    {
     "data": {
      "text/plain": [
       "0.0"
      ]
     },
     "execution_count": 48,
     "metadata": {},
     "output_type": "execute_result"
    }
   ],
   "source": [
    "roofs[0].azimuth"
   ]
  },
  {
   "cell_type": "code",
   "execution_count": 49,
   "id": "55b7d957",
   "metadata": {},
   "outputs": [
    {
     "data": {
      "text/plain": [
       "14.0"
      ]
     },
     "execution_count": 49,
     "metadata": {},
     "output_type": "execute_result"
    }
   ],
   "source": [
    "roofs[0].height"
   ]
  },
  {
   "cell_type": "code",
   "execution_count": 50,
   "id": "9f771ff8",
   "metadata": {},
   "outputs": [
    {
     "data": {
      "text/plain": [
       "0.0"
      ]
     },
     "execution_count": 50,
     "metadata": {},
     "output_type": "execute_result"
    }
   ],
   "source": [
    "roofs[0].tilt"
   ]
  },
  {
   "cell_type": "code",
   "execution_count": 51,
   "id": "fae9df8e",
   "metadata": {},
   "outputs": [
    {
     "data": {
      "text/plain": [
       "[(4.5, 18.5, 4.5),\n",
       " (4.5, 4.5, 4.5),\n",
       " (30.2000007629395, 4.5, 4.5),\n",
       " (30.2000007629395, 18.5, 4.5)]"
      ]
     },
     "execution_count": 51,
     "metadata": {},
     "output_type": "execute_result"
    }
   ],
   "source": [
    "roofs[0].coords"
   ]
  },
  {
   "cell_type": "markdown",
   "id": "9a80c909",
   "metadata": {},
   "source": [
    "For more information about geometry functions, visit [geomeppy](https://geomeppy.readthedocs.io/en/latest/?)"
   ]
  },
  {
   "cell_type": "code",
   "execution_count": 52,
   "id": "2e590726",
   "metadata": {},
   "outputs": [],
   "source": [
    "wall_1 = walls[0]"
   ]
  },
  {
   "cell_type": "code",
   "execution_count": 53,
   "id": "e3561211",
   "metadata": {},
   "outputs": [
    {
     "data": {
      "text/plain": [
       "\n",
       "BuildingSurface:Detailed,\n",
       "    zone_5_Srf_0,             !- Name\n",
       "    Wall,                     !- Surface Type\n",
       "    Interior Wall,            !- Construction Name\n",
       "    zone_5,                   !- Zone Name\n",
       "    ,                         !- Space Name\n",
       "    Surface,                  !- Outside Boundary Condition\n",
       "    zone_7_Srf_2,             !- Outside Boundary Condition Object\n",
       "    NoSun,                    !- Sun Exposure\n",
       "    NoWind,                   !- Wind Exposure\n",
       "    ,                         !- View Factor to Ground\n",
       "    ,                         !- Number of Vertices\n",
       "    30.2000007629395,         !- Vertex 1 Xcoordinate\n",
       "    18.5,                     !- Vertex 1 Ycoordinate\n",
       "    4.5,                      !- Vertex 1 Zcoordinate\n",
       "    30.2000007629395,         !- Vertex 2 Xcoordinate\n",
       "    18.5,                     !- Vertex 2 Ycoordinate\n",
       "    0,                        !- Vertex 2 Zcoordinate\n",
       "    4.5,                      !- Vertex 3 Xcoordinate\n",
       "    18.5,                     !- Vertex 3 Ycoordinate\n",
       "    0,                        !- Vertex 3 Zcoordinate\n",
       "    4.5,                      !- Vertex 4 Xcoordinate\n",
       "    18.5,                     !- Vertex 4 Ycoordinate\n",
       "    4.5;                      !- Vertex 4 Zcoordinate"
      ]
     },
     "execution_count": 53,
     "metadata": {},
     "output_type": "execute_result"
    }
   ],
   "source": [
    "wall_1"
   ]
  },
  {
   "cell_type": "code",
   "execution_count": 54,
   "id": "af0698df",
   "metadata": {},
   "outputs": [],
   "source": [
    "contruction = wall_1.get_referenced_object(\"Construction_Name\")"
   ]
  },
  {
   "cell_type": "code",
   "execution_count": 55,
   "id": "0397c10b",
   "metadata": {},
   "outputs": [
    {
     "data": {
      "text/plain": [
       "\n",
       "Construction,\n",
       "    Interior Wall,            !- Name\n",
       "    G01a 19mm gypsum board,    !- Outside Layer\n",
       "    Material Air Gap 1,       !- Layer 2\n",
       "    G01a 19mm gypsum board;    !- Layer 3"
      ]
     },
     "execution_count": 55,
     "metadata": {},
     "output_type": "execute_result"
    }
   ],
   "source": [
    "contruction"
   ]
  },
  {
   "cell_type": "code",
   "execution_count": 56,
   "id": "b57fb361",
   "metadata": {},
   "outputs": [
    {
     "data": {
      "text/plain": [
       "['key',\n",
       " 'Name',\n",
       " 'Outside_Layer',\n",
       " 'Layer_2',\n",
       " 'Layer_3',\n",
       " 'Layer_4',\n",
       " 'Layer_5',\n",
       " 'Layer_6',\n",
       " 'Layer_7',\n",
       " 'Layer_8',\n",
       " 'Layer_9',\n",
       " 'Layer_10']"
      ]
     },
     "execution_count": 56,
     "metadata": {},
     "output_type": "execute_result"
    }
   ],
   "source": [
    "contruction.fieldnames"
   ]
  },
  {
   "cell_type": "code",
   "execution_count": 57,
   "id": "88f7d033",
   "metadata": {},
   "outputs": [
    {
     "name": "stdout",
     "output_type": "stream",
     "text": [
      "Outside_Layer\n",
      "Layer_2\n",
      "Layer_3\n",
      "Layer_4\n",
      "Layer_5\n",
      "Layer_6\n",
      "Layer_7\n",
      "Layer_8\n",
      "Layer_9\n",
      "Layer_10\n"
     ]
    }
   ],
   "source": [
    "mat_of_construction = []\n",
    "for n in contruction.fieldnames:\n",
    "    if n == \"key\" or n == \"Name\":\n",
    "        pass\n",
    "    else:\n",
    "        print(n)\n",
    "        mat = contruction.get_referenced_object(n)\n",
    "        if mat is None:\n",
    "            continue\n",
    "        mat_of_construction.append(mat)"
   ]
  },
  {
   "cell_type": "code",
   "execution_count": 58,
   "id": "42599189",
   "metadata": {},
   "outputs": [
    {
     "data": {
      "text/plain": [
       "[\n",
       " Material,\n",
       "     G01a 19mm gypsum board,    !- Name\n",
       "     MediumSmooth,             !- Roughness\n",
       "     0.019,                    !- Thickness\n",
       "     0.16,                     !- Conductivity\n",
       "     800,                      !- Density\n",
       "     1090,                     !- Specific Heat\n",
       "     0.9,                      !- Thermal Absorptance\n",
       "     0.7,                      !- Solar Absorptance\n",
       "     0.7;                      !- Visible Absorptance,\n",
       " \n",
       " Material:AirGap,\n",
       "     Material Air Gap 1,       !- Name\n",
       "     0.15;                     !- Thermal Resistance,\n",
       " \n",
       " Material,\n",
       "     G01a 19mm gypsum board,    !- Name\n",
       "     MediumSmooth,             !- Roughness\n",
       "     0.019,                    !- Thickness\n",
       "     0.16,                     !- Conductivity\n",
       "     800,                      !- Density\n",
       "     1090,                     !- Specific Heat\n",
       "     0.9,                      !- Thermal Absorptance\n",
       "     0.7,                      !- Solar Absorptance\n",
       "     0.7;                      !- Visible Absorptance]"
      ]
     },
     "execution_count": 58,
     "metadata": {},
     "output_type": "execute_result"
    }
   ],
   "source": [
    "mat_of_construction"
   ]
  },
  {
   "cell_type": "code",
   "execution_count": 59,
   "id": "fdf73baa",
   "metadata": {},
   "outputs": [
    {
     "data": {
      "text/plain": [
       "0.038"
      ]
     },
     "execution_count": 59,
     "metadata": {},
     "output_type": "execute_result"
    }
   ],
   "source": [
    "sum(\n",
    "    list(\n",
    "        map(\n",
    "            lambda mat: mat.Thickness if mat.key.upper() == \"MATERIAL\" else 0,\n",
    "            mat_of_construction,\n",
    "        )\n",
    "    )\n",
    ")"
   ]
  },
  {
   "cell_type": "markdown",
   "id": "ee8d8030",
   "metadata": {},
   "source": [
    "## Simulating a model"
   ]
  },
  {
   "cell_type": "markdown",
   "id": "4a1e8b34",
   "metadata": {},
   "source": [
    "### Model changes and repeated simulations\n",
    "\n",
    "Describe how once a model has been simulated it will not simulate a again unless simulation parameters have changed or if the model content has changed"
   ]
  },
  {
   "cell_type": "markdown",
   "id": "9ff2286f",
   "metadata": {},
   "source": [
    "## Retrieving Results"
   ]
  },
  {
   "cell_type": "code",
   "execution_count": null,
   "id": "27189d1f",
   "metadata": {},
   "outputs": [],
   "source": []
  },
  {
   "cell_type": "code",
   "execution_count": null,
   "id": "b92d815f",
   "metadata": {},
   "outputs": [],
   "source": []
  }
 ],
 "metadata": {
  "kernelspec": {
   "display_name": "Python 3 (ipykernel)",
   "language": "python",
   "name": "python3"
  },
  "language_info": {
   "codemirror_mode": {
    "name": "ipython",
    "version": 3
   },
   "file_extension": ".py",
   "mimetype": "text/x-python",
   "name": "python",
   "nbconvert_exporter": "python",
   "pygments_lexer": "ipython3",
   "version": "3.9.7"
  },
  "toc": {
   "base_numbering": 1,
   "nav_menu": {},
   "number_sections": true,
   "sideBar": true,
   "skip_h1_title": true,
   "title_cell": "Table of Contents",
   "title_sidebar": "Contents",
   "toc_cell": true,
   "toc_position": {
    "height": "calc(100% - 180px)",
    "left": "10px",
    "top": "150px",
    "width": "302px"
   },
   "toc_section_display": false,
   "toc_window_display": true
  }
 },
 "nbformat": 4,
 "nbformat_minor": 5
}
